{
 "cells": [
  {
   "cell_type": "code",
   "execution_count": 1,
   "id": "a46afa20",
   "metadata": {},
   "outputs": [],
   "source": [
    "import pandas as pd\n",
    "import numpy as np\n",
    "import glob\n",
    "from tqdm import tqdm, trange"
   ]
  },
  {
   "cell_type": "code",
   "execution_count": 2,
   "id": "8126913b",
   "metadata": {},
   "outputs": [],
   "source": [
    "# CO_IPRESS CODIGOS\n",
    "CO_IPRESS_df = pd.read_excel('src/CIE10-VOLUMEN-2018-EXCEL.xlsx', index_col=None, header=0) \n",
    "CO_IPRESS_df['DIAGNOSIS_ID'] = CO_IPRESS_df['CIE10_X'].apply(lambda x: x[:-1]+'.'+x[-1:])\n",
    "CO_IPRESS_df = CO_IPRESS_df[['DIAGNOSIS_ID','DESCRIPCION CIE']]\n",
    "CO_IPRESS_df = CO_IPRESS_df.rename(columns={'DESCRIPCION CIE': 'DISEASE'})\n",
    "\n",
    "# CO_IPRESS CODIGOS\n",
    "CO_IPRESS_df = pd.read_csv('src/diagnosis.csv', encoding='utf_8')\n",
    "CO_IPRESS_df['DISEASE'] = CO_IPRESS_df['ShortDescription'].apply(lambda x: x.upper())\n",
    "CO_IPRESS_df = CO_IPRESS_df[['CodeWithSeparator','DISEASE']]\n",
    "CO_IPRESS_df = CO_IPRESS_df.rename(columns={'CodeWithSeparator': 'DIAGNOSIS_ID'})"
   ]
  },
  {
   "cell_type": "code",
   "execution_count": 3,
   "id": "8572bdc9",
   "metadata": {},
   "outputs": [],
   "source": [
    "# CO_IPRESS CODIGOS\n",
    "CO_IPRESS_dict = pd.read_excel('src/CIE10-VOLUMEN-2018-EXCEL.xlsx', index_col=None, header=0) \n",
    "CO_IPRESS_dict['CO_IPRESS'] = CO_IPRESS_dict['CIE10_X'].apply(lambda x: x[:-1]+'.'+x[-1:])\n",
    "CO_IPRESS_dict = CO_IPRESS_dict.set_index('CO_IPRESS').T.to_dict('list')\n",
    "\n",
    "# CO_IPRESS CODIGOS\n",
    "CO_IPRESS_dict = pd.read_csv('src/diagnosis.csv', encoding='utf_8')\n",
    "CO_IPRESS_dict['DESCRIPCION'] = CO_IPRESS_dict['ShortDescription'].apply(lambda x: x.upper())\n",
    "CO_IPRESS_dict = CO_IPRESS_dict.set_index('CodeWithSeparator').T.to_dict('list')\n",
    "\n",
    "#CO_IPRESS_dict"
   ]
  },
  {
   "cell_type": "code",
   "execution_count": 4,
   "id": "4ffaf211",
   "metadata": {},
   "outputs": [],
   "source": [
    "def to_CO_IPRESS(val):\n",
    "    try:\n",
    "        val = CO_IPRESS_dict[val][6]\n",
    "    except:\n",
    "        val = 'NO IDENTIFICADO'\n",
    "    return val\n",
    "\n",
    "def to_number(val):\n",
    "    try:\n",
    "        val = int(val)\n",
    "    except:\n",
    "        val = 0\n",
    "    return val\n",
    "\n",
    "\n",
    "def to_correct_district(val):\n",
    "    if val == 'BREÃ\\x91A':\n",
    "        return 'BREÑA'\n",
    "    return val\n"
   ]
  },
  {
   "cell_type": "markdown",
   "id": "cd5c71a1",
   "metadata": {},
   "source": [
    "### Reading resources"
   ]
  },
  {
   "cell_type": "code",
   "execution_count": 5,
   "id": "b082d804",
   "metadata": {
    "scrolled": true
   },
   "outputs": [
    {
     "name": "stderr",
     "output_type": "stream",
     "text": [
      "100%|██████████| 45/45 [05:38<00:00,  7.52s/it]\n"
     ]
    },
    {
     "name": "stdout",
     "output_type": "stream",
     "text": [
      "Guardando archivo...\n"
     ]
    }
   ],
   "source": [
    "# Morbilidad B2\n",
    "files = glob.glob(\"src/morbilidad_b2/*\")\n",
    "\n",
    "object_df = pd.DataFrame()\n",
    "types = {'ANHO': int,\n",
    "         'MES': int,\n",
    "         'UBIGEO': int,\n",
    "         'DEPARTAMENTO': str,\n",
    "         'PROVINCIA': str,\n",
    "         'DISTRITO': str,\n",
    "         'SECTOR': str,\n",
    "         'CATEGORIA': str,\n",
    "         'CO_IPRESS': str,\n",
    "         'RAZON_SOC': str,\n",
    "         'SEXO': str,\n",
    "         'EDAD': str,\n",
    "         'DIAGNOSTICO': str,\n",
    "         'NU_TOTAL_ATENDIDOS': str,}\n",
    "\n",
    "for p in tqdm(files):\n",
    "    try:\n",
    "        data_temp = pd.read_csv(p, encoding='utf_8', dtype=types)\n",
    "        pass\n",
    "    except:\n",
    "        data_temp = pd.read_csv(p, encoding='latin', dtype=types)\n",
    "        \n",
    "    object_df = pd.concat([object_df,data_temp])\n",
    "\n",
    "\n",
    "object_df = object_df.rename(columns={'ANHO': 'YEAR',\n",
    "                                      'MES': 'MONTH',\n",
    "                                      'UBIGEO': 'UBIGEO',\n",
    "                                      'DEPARTAMENTO': 'STATE',\n",
    "                                      'PROVINCIA': 'PROVINCE',\n",
    "                                      'DISTRITO': 'DISTRICT',\n",
    "                                      'SECTOR': 'SECTOR',\n",
    "                                      'CATEGORIA': 'CATEGORY',\n",
    "                                      'CO_IPRESS': 'CO_IPRESS',\n",
    "                                      'RAZON_SOC': 'NAME',\n",
    "                                      'SEXO': 'SEX',\n",
    "                                      'EDAD': 'AGE',\n",
    "                                      'DIAGNOSTICO': 'DIAGNOSIS_ID',\n",
    "                                      'NU_TOTAL_ATENDIDOS': 'QTY_PEOPLE_SERVED'})\n",
    "\n",
    "\n",
    "object_df['QTY_PEOPLE_SERVED'] = object_df['QTY_PEOPLE_SERVED'].apply(lambda x : to_number(x))\n",
    "object_df['DISTRICT'] = object_df['DISTRICT'].apply(lambda x : to_correct_district(x))\n",
    "object_df = pd.merge(object_df, CO_IPRESS_df, how='left', on=('DIAGNOSIS_ID'))\n",
    "object_df['DATE'] = object_df['YEAR'].astype(str) +'-'+object_df['MONTH'].astype(str) \n",
    "object_df['DATE'] = pd.to_datetime(object_df['DATE'])\n",
    "print('Guardando archivo...')\n",
    "object_df.to_pickle('data/morbilidad_b2.csv')  "
   ]
  },
  {
   "cell_type": "code",
   "execution_count": 6,
   "id": "736cfc2c",
   "metadata": {},
   "outputs": [
    {
     "name": "stderr",
     "output_type": "stream",
     "text": [
      "100%|██████████| 49/49 [02:40<00:00,  3.28s/it]\n"
     ]
    },
    {
     "name": "stdout",
     "output_type": "stream",
     "text": [
      "Guardando archivo...\n"
     ]
    }
   ],
   "source": [
    "# Morbilidad C2\n",
    "files = glob.glob(\"src/morbilidad_c2/*\")\n",
    "\n",
    "object_df = pd.DataFrame()\n",
    "types = {'ANHO': int,\n",
    "         'MES': int,\n",
    "         'UBIGEO': int,\n",
    "         'DEPARTAMENTO': str,\n",
    "         'PROVINCIA': str,\n",
    "         'DISTRITO': str,\n",
    "         'SECTOR': str,\n",
    "         'CATEGORIA': str,\n",
    "         'CO_IPRESS': str,\n",
    "         'RAZON_SOC': str,\n",
    "         'SEXO': str,\n",
    "         'EDAD': str,\n",
    "         'ID_DIGNOSTICO': str,\n",
    "         'DIAGNOSTICO': str,\n",
    "         'NU_TOTAL_ATENDIDOS': str,}\n",
    "\n",
    "for p in tqdm(files):\n",
    "    try:\n",
    "        data_temp = pd.read_csv(p, encoding='utf_8', dtype=types)\n",
    "        pass\n",
    "    except:\n",
    "        data_temp = pd.read_csv(p, encoding='latin', dtype=types)\n",
    "        \n",
    "    object_df = pd.concat([object_df,data_temp])\n",
    "\n",
    "object_df = object_df.rename(columns={'ANHO': 'YEAR',\n",
    "                                      'MES': 'MONTH',\n",
    "                                      'UBIGEO': 'UBIGEO',\n",
    "                                      'DEPARTAMENTO': 'STATE',\n",
    "                                      'PROVINCIA': 'PROVINCE',\n",
    "                                      'DISTRITO': 'DISTRICT',\n",
    "                                      'SECTOR': 'SECTOR',\n",
    "                                      'CATEGORIA': 'CATEGORY',\n",
    "                                      'CO_IPRESS': 'CO_IPRESS',\n",
    "                                      'RAZON_SOC': 'NAME',\n",
    "                                      'SEXO': 'SEX',\n",
    "                                      'EDAD': 'AGE',\n",
    "                                      'ID_DIGNOSTICO': 'DIAGNOSIS_ID',\n",
    "                                      'DIAGNOSTICO': 'DIAGNOSIS',\n",
    "                                      'NU_TOTAL_ATENDIDOS': 'QTY_PEOPLE_SERVED'})\n",
    "\n",
    "object_df['QTY_PEOPLE_SERVED'] = object_df['QTY_PEOPLE_SERVED'].apply(lambda x : to_number(x))\n",
    "#object_df['DISEASE'] = object_df['CO_IPRESS'].apply(lambda x : to_CO_IPRESS(x))\n",
    "object_df['DISTRICT'] = object_df['DISTRICT'].apply(lambda x : to_correct_district(x))\n",
    "object_df = pd.merge(object_df, CO_IPRESS_df, how='left', on=('DIAGNOSIS_ID'))\n",
    "object_df['DATE'] = object_df['YEAR'].astype(str) +'-'+object_df['MONTH'].astype(str) \n",
    "object_df['DATE'] = pd.to_datetime(object_df['DATE'])\n",
    "print('Guardando archivo...')\n",
    "\n",
    "object_df.to_pickle('data/morbilidad_c2.csv')  "
   ]
  },
  {
   "cell_type": "code",
   "execution_count": 7,
   "id": "5394ed5c",
   "metadata": {},
   "outputs": [
    {
     "name": "stderr",
     "output_type": "stream",
     "text": [
      "100%|██████████| 8/8 [00:21<00:00,  2.74s/it]\n"
     ]
    },
    {
     "name": "stdout",
     "output_type": "stream",
     "text": [
      "Guardando archivo...\n"
     ]
    }
   ],
   "source": [
    "# Morbilidad D2\n",
    "files = glob.glob(\"src/morbilidad_d2/*\")\n",
    "\n",
    "object_df = pd.DataFrame()\n",
    "types = {'ANHO': int,\n",
    "         'MES': int,\n",
    "         'UBIGEO': int,\n",
    "         'DEPARTAMENTO': str,\n",
    "         'PROVINCIA': str,\n",
    "         'DISTRITO': str,\n",
    "         'SECTOR': str,\n",
    "         'CATEGORIA': str,\n",
    "         'CO_IPRESS': str,\n",
    "         'RAZON_SOC': str,\n",
    "         'SEXO': str,\n",
    "         'EDAD': str,\n",
    "         'ID_DIGNOSTICO': str,\n",
    "         'DIGNOSTICO': str,\n",
    "         'NU_TOTAL_ATENDIDOS': str,}\n",
    "\n",
    "for p in tqdm(files):\n",
    "    try:\n",
    "        data_temp = pd.read_csv(p, encoding='utf_8', dtype=types)\n",
    "        pass\n",
    "    except:\n",
    "        data_temp = pd.read_csv(p, encoding='latin', dtype=types)\n",
    "\n",
    "    object_df = pd.concat([object_df,data_temp])\n",
    "    \n",
    "object_df = object_df.rename(columns={'ANHO': 'YEAR',\n",
    "                                      'MES': 'MONTH',\n",
    "                                      'UBIGEO': 'UBIGEO',\n",
    "                                      'DEPARTAMENTO': 'STATE',\n",
    "                                      'PROVINCIA': 'PROVINCE',\n",
    "                                      'DISTRITO': 'DISTRICT',\n",
    "                                      'SECTOR': 'SECTOR',\n",
    "                                      'CATEGORIA': 'CATEGORY',\n",
    "                                      'CO_IPRESS': 'CO_IPRESS',\n",
    "                                      'RAZON_SOC': 'NAME',\n",
    "                                      'SEXO': 'SEX',\n",
    "                                      'EDAD': 'AGE',\n",
    "                                      'ID_DIGNOSTICO': 'DIAGNOSIS_ID',\n",
    "                                      'DIAGNOSTICO': 'DIAGNOSIS',\n",
    "                                      'NU_TOTAL_ATENDIDOS': 'QTY_PEOPLE_SERVED'})\n",
    "\n",
    "object_df['QTY_PEOPLE_SERVED'] = object_df['QTY_PEOPLE_SERVED'].apply(lambda x : to_number(x))\n",
    "#object_df['DISEASE'] = object_df['CO_IPRESS'].apply(lambda x : to_CO_IPRESS(x))\n",
    "object_df['DISTRICT'] = object_df['DISTRICT'].apply(lambda x : to_correct_district(x))\n",
    "object_df = pd.merge(object_df, CO_IPRESS_df, how='left', on=('DIAGNOSIS_ID'))\n",
    "object_df['DATE'] = object_df['YEAR'].astype(str) +'-'+object_df['MONTH'].astype(str) \n",
    "object_df['DATE'] = pd.to_datetime(object_df['DATE'])\n",
    "print('Guardando archivo...')\n",
    "\n",
    "object_df.to_pickle('data/morbilidad_d2.csv')  "
   ]
  },
  {
   "cell_type": "code",
   "execution_count": 8,
   "id": "1b0b837c",
   "metadata": {},
   "outputs": [
    {
     "name": "stderr",
     "output_type": "stream",
     "text": [
      " 42%|████▏     | 5/12 [00:16<00:28,  4.00s/it]C:\\Users\\johnk\\anaconda3\\lib\\site-packages\\IPython\\core\\interactiveshell.py:3165: DtypeWarning: Columns (16,17,18,19,20,21,22,23,24,25,26,27,28,29,30,31,32,33,34,35,36,37,38,39,40,41,42,43,44,45,46,47,48,49,50,51,52,53,54,55,56,57,58,59,60,61,62,63,64,65,66,67,68,69,70,71,72,73,74,75,76,77,78) have mixed types.Specify dtype option on import or set low_memory=False.\n",
      "  has_raised = await self.run_ast_nodes(code_ast.body, cell_name,\n",
      "100%|██████████| 12/12 [11:37<00:00, 58.11s/it] \n"
     ]
    },
    {
     "name": "stdout",
     "output_type": "stream",
     "text": [
      "Guardando archivo...\n"
     ]
    }
   ],
   "source": [
    "# Procedimientos\n",
    "files = glob.glob(\"src/procedimientos/*\")\n",
    "\n",
    "object_df = pd.DataFrame()\n",
    "types = {'ANHO': int,\n",
    "         'MES': int,\n",
    "         'UBIGEO': int,\n",
    "         'DEPARTAMENTO': str,\n",
    "         'PROVINCIA': str,\n",
    "         'DISTRITO': str,\n",
    "         'SECTOR': str,\n",
    "         'CATEGORIA': str,\n",
    "         'CO_IPRESS': int,\n",
    "         'RAZON_SOC': str,\n",
    "         'ID_PROCEDIMIENTO': str,\n",
    "         'PROCEDIMIENTO': str,\n",
    "         'TOTAL': str,\n",
    "         'ID_CODIGO': str,\n",
    "         'DES_DESCRIPCION': str,}\n",
    "\n",
    "for p in tqdm(files):\n",
    "    try:\n",
    "        data_temp = pd.read_csv(p, encoding='utf_8', dtype=types)\n",
    "        pass\n",
    "    except:\n",
    "        data_temp = pd.read_csv(p, encoding='latin', dtype=types)\n",
    "        \n",
    "    object_df = pd.concat([object_df,data_temp])\n",
    "    \n",
    "object_df = object_df.rename(columns={'ANHO': 'YEAR',\n",
    "                                      'MES': 'MONTH',\n",
    "                                      'UBIGEO': 'UBIGEO',\n",
    "                                      'DEPARTAMENTO': 'STATE',\n",
    "                                      'PROVINCIA': 'PROVINCE',\n",
    "                                      'DISTRITO': 'DISTRICT',\n",
    "                                      'SECTOR': 'SECTOR',\n",
    "                                      'CATEGORIA': 'CATEGORY',\n",
    "                                      'CO_IPRESS': 'CO_IPRESS',\n",
    "                                      'RAZON_SOC': 'NAME',\n",
    "                                      'ID_PROCEDIMIENTO': 'PROCEDURE_ID',\n",
    "                                      'PROCEDIMIENTO': 'PROCEDURE',\n",
    "                                      'TOTAL': 'TOTAL',\n",
    "                                      'ID_CODIGO': 'DESCRIPTION_ID',\n",
    "                                      'DES_DESCRIPCION': 'DESCRIPTION'})\n",
    "\n",
    "#object_df['DISEASE'] = object_df['CO_IPRESS'].apply(lambda x : to_CO_IPRESS(x))\n",
    "#object_df = pd.merge(object_df, CO_IPRESS_df, how='left', on=('DIAGNOSIS'))\n",
    "object_df['DISTRICT'] = object_df['DISTRICT'].apply(lambda x : to_correct_district(x))\n",
    "object_df['DATE'] = object_df['YEAR'].astype(str) +'-'+object_df['MONTH'].astype(str) \n",
    "object_df['DATE'] = pd.to_datetime(object_df['DATE'])\n",
    "print('Guardando archivo...')\n",
    "\n",
    "object_df.to_pickle('data/procedimientos.csv')  "
   ]
  },
  {
   "cell_type": "code",
   "execution_count": 9,
   "id": "8b11b4fa",
   "metadata": {},
   "outputs": [],
   "source": [
    "# Modificar nombres de columns y fechas como DT"
   ]
  },
  {
   "cell_type": "code",
   "execution_count": null,
   "id": "2cc921cb",
   "metadata": {},
   "outputs": [],
   "source": []
  }
 ],
 "metadata": {
  "kernelspec": {
   "display_name": "Python 3",
   "language": "python",
   "name": "python3"
  },
  "language_info": {
   "codemirror_mode": {
    "name": "ipython",
    "version": 3
   },
   "file_extension": ".py",
   "mimetype": "text/x-python",
   "name": "python",
   "nbconvert_exporter": "python",
   "pygments_lexer": "ipython3",
   "version": "3.8.8"
  }
 },
 "nbformat": 4,
 "nbformat_minor": 5
}

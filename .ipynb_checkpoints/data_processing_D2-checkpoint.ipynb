{
 "cells": [
  {
   "cell_type": "code",
   "execution_count": 1,
   "id": "d04f2a7c",
   "metadata": {},
   "outputs": [],
   "source": [
    "import pandas as pd\n",
    "import numpy as np\n",
    "import glob\n",
    "from tqdm import tqdm, trange\n",
    "\n",
    "import matplotlib.pyplot as plt\n",
    "import plotly.express as px\n",
    "from difflib import SequenceMatcher"
   ]
  },
  {
   "cell_type": "code",
   "execution_count": 2,
   "id": "482f2935",
   "metadata": {},
   "outputs": [],
   "source": [
    "def millions(x, pos):\n",
    "    \"\"\"The two args are the value and tick position.\"\"\"\n",
    "    return '{:1.1f}M'.format(x*1e-6)\n",
    "\n",
    "def category_label(val):\n",
    "    category_label = None\n",
    "    if val in ['I-3', 'I-4']:\n",
    "        category_label = 'I'\n",
    "    elif val in ['II-1', 'II-2', 'II-E']:\n",
    "        category_label = 'II'\n",
    "    elif val in ['III-1', 'III-2', 'III-E']:\n",
    "        category_label = 'III'\n",
    "    else:\n",
    "        pass\n",
    "        category_label = '0'\n",
    "    return category_label"
   ]
  },
  {
   "cell_type": "code",
   "execution_count": 3,
   "id": "2f968c40",
   "metadata": {},
   "outputs": [],
   "source": [
    "district_zone = pd.read_excel('data/district zone.xlsx', index_col=0) \n",
    "district_zone = district_zone[['DISCTRICT','ZONA']].set_index('DISCTRICT').T.to_dict('list')\n",
    "\n",
    "def to_district_zone(val):\n",
    "    try:\n",
    "        resp = district_zone[val][0]\n",
    "    except:\n",
    "        resp = val\n",
    "    return resp"
   ]
  },
  {
   "cell_type": "markdown",
   "id": "298880ee",
   "metadata": {},
   "source": [
    "## Morbilidad C2"
   ]
  },
  {
   "cell_type": "code",
   "execution_count": null,
   "id": "62995b83",
   "metadata": {
    "scrolled": false
   },
   "outputs": [],
   "source": [
    "# Morbilidad C2\n",
    "data = pd.read_pickle('data/morbilidad_c2.csv')\n",
    "\n",
    "\n",
    "data_lima_p = data[(data['STATE']=='LIMA')].reset_index(drop=True)\n",
    "data_lima_m = data[(data['PROVINCE']=='LIMA') & (data['STATE']=='LIMA')].reset_index(drop=True)\n",
    "del data\n",
    "\n",
    "data_lima_m['CATEGORY2'] = data_lima_m['CATEGORY'].apply(lambda x : category_label(x))"
   ]
  },
  {
   "cell_type": "code",
   "execution_count": null,
   "id": "d5218313",
   "metadata": {
    "scrolled": false
   },
   "outputs": [],
   "source": [
    "data_lima_m.head()"
   ]
  },
  {
   "cell_type": "code",
   "execution_count": null,
   "id": "7cf86cff",
   "metadata": {},
   "outputs": [],
   "source": [
    "diagnosis = len(data_lima_m['DIAGNOSIS_ID'].unique())\n",
    "print(\"Qty of unique diagnosis:\",diagnosis)"
   ]
  },
  {
   "cell_type": "markdown",
   "id": "17915a31",
   "metadata": {},
   "source": [
    "#### Qty of Unique diagnoses by disctrict"
   ]
  },
  {
   "cell_type": "code",
   "execution_count": null,
   "id": "7404d53f",
   "metadata": {
    "scrolled": true
   },
   "outputs": [],
   "source": [
    "DIAGNOSIS_PARAMETER = 'DIAGNOSIS_ID'\n",
    "\n",
    "data_temp = data_lima_m.groupby(['DISTRICT',DIAGNOSIS_PARAMETER]).agg({ 'QTY_PEOPLE_SERVED': \"sum\"})\n",
    "data_temp = data_temp.reset_index()\n",
    "data_temp = data_temp.groupby(['DISTRICT']).agg({ DIAGNOSIS_PARAMETER: \"count\"})\n",
    "data_temp = data_temp.reset_index()\n",
    "\n",
    "fig = px.treemap(data_temp,\n",
    "                 path=[px.Constant('DISTRICTS'),'DISTRICT'],\n",
    "                 values=DIAGNOSIS_PARAMETER,\n",
    "                 color=DIAGNOSIS_PARAMETER,\n",
    "                 hover_data=['DISTRICT'])\n",
    "fig.show()"
   ]
  },
  {
   "cell_type": "markdown",
   "id": "36dea530",
   "metadata": {},
   "source": [
    "#### Qty of hospitals by disctrict"
   ]
  },
  {
   "cell_type": "code",
   "execution_count": null,
   "id": "7bc280a1",
   "metadata": {
    "scrolled": true
   },
   "outputs": [],
   "source": [
    "HOSPITAL_PARAMETER = 'CO_IPRESS'\n",
    "\n",
    "data_temp = data_lima_m.groupby(['DISTRICT',HOSPITAL_PARAMETER]).agg({ 'QTY_PEOPLE_SERVED': \"sum\"})\n",
    "data_temp = data_temp.reset_index()\n",
    "data_temp = data_temp.groupby(['DISTRICT']).agg({ HOSPITAL_PARAMETER: \"count\"})\n",
    "data_temp = data_temp.reset_index()\n",
    "\n",
    "fig = px.treemap(data_temp,\n",
    "                 path=[px.Constant('DISTRICTS'), 'DISTRICT'],\n",
    "                 values=HOSPITAL_PARAMETER,\n",
    "                 color=HOSPITAL_PARAMETER,\n",
    "                 hover_data=['DISTRICT'])\n",
    "fig.show()"
   ]
  },
  {
   "cell_type": "markdown",
   "id": "c1197220",
   "metadata": {},
   "source": [
    "#### Evolution of the top 10 diagnoses"
   ]
  },
  {
   "cell_type": "code",
   "execution_count": null,
   "id": "85f2c896",
   "metadata": {},
   "outputs": [],
   "source": [
    "DIAGNOSIS_PARAMETER = 'DISEASE'\n",
    "\n",
    "data_temp = data_lima_m.groupby(['DATE', DIAGNOSIS_PARAMETER]).agg({ 'QTY_PEOPLE_SERVED': \"count\"})\n",
    "data_temp = data_temp.reset_index()\n",
    "\n",
    "top10_df = pd.DataFrame()\n",
    "date_uniques = np.sort(data_temp['DATE'].unique())\n",
    "\n",
    "for date in date_uniques:\n",
    "    temp_df = data_temp[data_temp['DATE']==date]\n",
    "    temp_df = temp_df.sort_values(by=['QTY_PEOPLE_SERVED'], ascending=False)\n",
    "    temp_df = temp_df.head(10).reset_index(drop=True)\n",
    "    top10_df = pd.concat([top10_df, temp_df])\n",
    "    \n",
    "diagnosis = top10_df[DIAGNOSIS_PARAMETER].unique()\n",
    "\n",
    "for date in date_uniques:\n",
    "    temp_df = top10_df[top10_df['DATE']==date]\n",
    "    diagnosis_temp = list(set(diagnosis) - set(temp_df[DIAGNOSIS_PARAMETER].values))\n",
    "    temp_df = pd.DataFrame(diagnosis_temp, columns =[DIAGNOSIS_PARAMETER])\n",
    "    temp_df['DATE']=date\n",
    "    temp_df['QTY_PEOPLE_SERVED']=0\n",
    "    top10_df = pd.concat([top10_df, temp_df])\n",
    "\n",
    "top10_df = top10_df.sort_values(by=['DATE',DIAGNOSIS_PARAMETER], ascending=True)"
   ]
  },
  {
   "cell_type": "code",
   "execution_count": null,
   "id": "4decc7ad",
   "metadata": {},
   "outputs": [],
   "source": [
    "x_element = [str(item)[:7] for item in np.unique(top10_df['DATE'])]\n",
    "N = len(x_element)\n",
    "ind = np.arange(N) \n",
    "width = 0.40\n",
    "\n",
    "fig = plt.figure(figsize=(10.5,5))\n",
    "ax = fig.add_axes([0,0,1,1])\n",
    "\n",
    "values_temp = 0\n",
    "for diag in diagnosis:\n",
    "    temp_df = top10_df[top10_df[DIAGNOSIS_PARAMETER]==diag]\n",
    "    values = temp_df['QTY_PEOPLE_SERVED'].values\n",
    "    ax.bar(ind, values, width, bottom=values_temp)\n",
    "    values_temp = values_temp + values\n",
    "\n",
    "ax.set_ylabel('People served')\n",
    "ax.set_title('People served by diagnosis')\n",
    "ax.set_xticks(ind)\n",
    "ax.set_xticklabels(x_element, rotation=45)\n",
    "\n",
    "ax.legend(labels=diagnosis, bbox_to_anchor = (1.15, 1))\n",
    "plt.show()"
   ]
  },
  {
   "cell_type": "markdown",
   "id": "19703813",
   "metadata": {},
   "source": [
    "numero de diagnosticos distintos por hospitales, un grafico por categoria\n",
    "#### Diagnoses qty by hospitals and hospital category"
   ]
  },
  {
   "cell_type": "code",
   "execution_count": null,
   "id": "d282bf9e",
   "metadata": {},
   "outputs": [],
   "source": [
    "HOSPITAL_PARAMETER = 'CO_IPRESS'\n",
    "\n",
    "data_temp = data_lima_m.groupby(['CATEGORY', HOSPITAL_PARAMETER,'DIAGNOSIS_ID']).agg({ 'QTY_PEOPLE_SERVED': \"sum\"})\n",
    "data_temp = data_temp.reset_index()\n",
    "data_temp = data_temp.groupby(['CATEGORY', HOSPITAL_PARAMETER]).agg({ 'DIAGNOSIS_ID': \"count\"})\n",
    "data_temp = data_temp.reset_index()\n",
    "data_temp['CATEGORY2'] = data_temp['CATEGORY'].apply(lambda x : category_label(x))\n",
    "\n",
    "fig = px.treemap(data_temp,\n",
    "                 path=[px.Constant('CATEGORY2'),'CATEGORY2', 'CO_IPRESS'],\n",
    "                 values='DIAGNOSIS_ID',\n",
    "                 color='DIAGNOSIS_ID',\n",
    "                 hover_data=['DIAGNOSIS_ID'])\n",
    "fig.show()"
   ]
  },
  {
   "cell_type": "code",
   "execution_count": null,
   "id": "2950ecc1",
   "metadata": {},
   "outputs": [],
   "source": [
    "#data_temp = data_lima_m[data_lima_m['CATEGORY2']!='0']\n",
    "data_temp = data_lima_m[data_lima_m['CATEGORY2']!='ABC']\n",
    "data_temp = data_temp.groupby(['DATE','CATEGORY2','DIAGNOSIS_ID']).agg({ 'QTY_PEOPLE_SERVED': \"sum\"})\n",
    "data_temp = data_temp.reset_index()\n",
    "data_temp = data_temp.groupby(['DATE','CATEGORY2']).agg({ 'QTY_PEOPLE_SERVED': \"count\"})\n",
    "data_temp = data_temp.reset_index()"
   ]
  },
  {
   "cell_type": "code",
   "execution_count": null,
   "id": "94bfff67",
   "metadata": {},
   "outputs": [],
   "source": [
    "PARAMETER_COL = 'CATEGORY2'\n",
    "\n",
    "category2 = data_temp[PARAMETER_COL].unique()\n",
    "x_element = [str(item)[:7] for item in np.unique(data_temp['DATE'])]\n",
    "N = len(x_element)\n",
    "ind = np.arange(N) \n",
    "width = 0.40\n",
    "\n",
    "fig = plt.figure(figsize=(10.5,5))\n",
    "ax = fig.add_axes([0,0,1,1])\n",
    "\n",
    "values_temp = 0\n",
    "for p in category2:\n",
    "    temp_df = data_temp[data_temp[PARAMETER_COL]==p]\n",
    "    values = temp_df['QTY_PEOPLE_SERVED'].values\n",
    "    ax.bar(ind, values, width, bottom=values_temp)\n",
    "    values_temp = values_temp + values\n",
    "\n",
    "ax.set_ylabel('Category qty')\n",
    "ax.set_title('People served by category hospital')\n",
    "ax.set_xticks(ind)\n",
    "ax.set_xticklabels(x_element, rotation=45)\n",
    "\n",
    "ax.legend(labels=category2, bbox_to_anchor = (1.15, 1))\n",
    "plt.show()"
   ]
  },
  {
   "cell_type": "code",
   "execution_count": null,
   "id": "f7d10000",
   "metadata": {},
   "outputs": [],
   "source": [
    "#data_temp = data_lima_m[data_lima_m['CATEGORY2']!='0']\n",
    "data_temp = data_lima_m[data_lima_m['DISTRICT']!='ABC']\n",
    "data_temp = data_temp.groupby(['DATE','DISTRICT','DIAGNOSIS_ID']).agg({ 'QTY_PEOPLE_SERVED': \"sum\"})\n",
    "data_temp = data_temp.reset_index()\n",
    "data_temp['DISTRICT_ZONE'] = data_temp['DISTRICT'].apply(lambda x : to_district_zone(x))\n",
    "data_temp = data_temp.groupby(['DATE','DISTRICT_ZONE']).agg({ 'QTY_PEOPLE_SERVED': \"count\"})\n",
    "data_temp = data_temp.reset_index()\n",
    "\n",
    "date_uniques = data_temp['DATE'].unique()\n",
    "lima_zone = data_temp['DISTRICT_ZONE'].unique()\n",
    "\n",
    "for date in date_uniques:\n",
    "    temp_df = data_temp[data_temp['DATE']==date]\n",
    "    lima_zone_temp = list(set(lima_zone) - set(temp_df['DISTRICT_ZONE'].values))\n",
    "    temp_df = pd.DataFrame(lima_zone_temp, columns =['DISTRICT_ZONE'])\n",
    "    temp_df['DATE']=date\n",
    "    temp_df['QTY_PEOPLE_SERVED']=0\n",
    "    data_temp = pd.concat([data_temp, temp_df])\n",
    "\n",
    "data_temp = data_temp.sort_values(by=['DATE','DISTRICT_ZONE'], ascending=True)"
   ]
  },
  {
   "cell_type": "code",
   "execution_count": null,
   "id": "69b1c0eb",
   "metadata": {},
   "outputs": [],
   "source": [
    "PARAMETER_COL = 'DISTRICT_ZONE'\n",
    "\n",
    "category2 = data_temp[PARAMETER_COL].unique()\n",
    "x_element = [str(item)[:7] for item in np.unique(data_temp['DATE'])]\n",
    "N = len(x_element)\n",
    "ind = np.arange(N) \n",
    "width = 0.40\n",
    "\n",
    "fig = plt.figure(figsize=(10.5,5))\n",
    "ax = fig.add_axes([0,0,1,1])\n",
    "\n",
    "values_temp = 0\n",
    "for p in category2:\n",
    "    temp_df = data_temp[data_temp[PARAMETER_COL]==p]\n",
    "    values = temp_df['QTY_PEOPLE_SERVED'].values\n",
    "    ax.bar(ind, values, width, bottom=values_temp)\n",
    "    values_temp = values_temp + values\n",
    "\n",
    "ax.set_ylabel('Category qty')\n",
    "ax.set_title('People served by category hospital')\n",
    "ax.set_xticks(ind)\n",
    "ax.set_xticklabels(x_element, rotation=45)\n",
    "\n",
    "ax.legend(labels=category2, bbox_to_anchor = (1.15, 1))\n",
    "plt.show()"
   ]
  },
  {
   "cell_type": "code",
   "execution_count": null,
   "id": "7f6a83ea",
   "metadata": {},
   "outputs": [],
   "source": [
    "# numero de diacnosticos unicos por distrito\n",
    "# numero de hospitales y clinicas por distrito\n",
    "# evolucion del top 10 de diagnosticos a traves del tiempo por años\n",
    "# numero dediagnosticos distintos por hospitales, un grafico por categoria\n",
    "# cateforia I-3, I-4\n",
    "# categira II y categoria II\n",
    "# c*III\n",
    "\n",
    "\n",
    "# Razon social y códigos"
   ]
  },
  {
   "cell_type": "code",
   "execution_count": null,
   "id": "fec133c5",
   "metadata": {},
   "outputs": [],
   "source": []
  },
  {
   "cell_type": "code",
   "execution_count": null,
   "id": "0f6caf7f",
   "metadata": {},
   "outputs": [],
   "source": []
  },
  {
   "cell_type": "code",
   "execution_count": null,
   "id": "5636cd77",
   "metadata": {},
   "outputs": [],
   "source": []
  }
 ],
 "metadata": {
  "kernelspec": {
   "display_name": "Python 3",
   "language": "python",
   "name": "python3"
  },
  "language_info": {
   "codemirror_mode": {
    "name": "ipython",
    "version": 3
   },
   "file_extension": ".py",
   "mimetype": "text/x-python",
   "name": "python",
   "nbconvert_exporter": "python",
   "pygments_lexer": "ipython3",
   "version": "3.8.8"
  }
 },
 "nbformat": 4,
 "nbformat_minor": 5
}

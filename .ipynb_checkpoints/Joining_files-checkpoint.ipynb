{
 "cells": [
  {
   "cell_type": "code",
   "execution_count": 1,
   "id": "a46afa20",
   "metadata": {},
   "outputs": [],
   "source": [
    "import pandas as pd\n",
    "import numpy as np\n",
    "import glob\n",
    "from tqdm import tqdm, trange"
   ]
  },
  {
   "cell_type": "code",
   "execution_count": 2,
   "id": "4ffaf211",
   "metadata": {},
   "outputs": [],
   "source": [
    "def to_number(val):\n",
    "    try:\n",
    "        val = int(val)\n",
    "    except:\n",
    "        val = 0\n",
    "    return val"
   ]
  },
  {
   "cell_type": "markdown",
   "id": "cd5c71a1",
   "metadata": {},
   "source": [
    "### Reading resources"
   ]
  },
  {
   "cell_type": "code",
   "execution_count": 3,
   "id": "b082d804",
   "metadata": {},
   "outputs": [
    {
     "name": "stderr",
     "output_type": "stream",
     "text": [
      "100%|██████████| 45/45 [05:10<00:00,  6.89s/it]\n"
     ]
    }
   ],
   "source": [
    "# Morbilidad B2\n",
    "files = glob.glob(\"src/morbilidad_b2/*\")\n",
    "\n",
    "object_df = pd.DataFrame()\n",
    "types = {'ANHO': int,\n",
    "         'MES': int,\n",
    "         'UBIGEO': int,\n",
    "         'DEPARTAMENTO': str,\n",
    "         'PROVINCIA': str,\n",
    "         'DISTRITO': str,\n",
    "         'SECTOR': str,\n",
    "         'CATEGORIA': str,\n",
    "         'CO_IPRESS': str,\n",
    "         'RAZON_SOC': str,\n",
    "         'SEXO': str,\n",
    "         'EDAD': str,\n",
    "         'DIAGNOSTICO': str,\n",
    "         'NU_TOTAL_ATENDIDOS': str,}\n",
    "\n",
    "for p in tqdm(files):\n",
    "    data_temp = pd.read_csv(p, encoding='latin1', dtype=types)\n",
    "    object_df = pd.concat([object_df,data_temp])\n",
    "\n",
    "\n",
    "object_df = object_df.rename(columns={'ANHO': 'YEAR',\n",
    "                                      'MES': 'MONTH',\n",
    "                                      'UBIGEO': 'UBIGEO',\n",
    "                                      'DEPARTAMENTO': 'STATE',\n",
    "                                      'PROVINCIA': 'PROVINCE',\n",
    "                                      'DISTRITO': 'DISTRICT',\n",
    "                                      'SECTOR': 'SECTOR',\n",
    "                                      'CATEGORIA': 'CATEGORY',\n",
    "                                      'CO_IPRESS': 'CO_IPRESS',\n",
    "                                      'RAZON_SOC': 'NAME',\n",
    "                                      'SEXO': 'SEX',\n",
    "                                      'EDAD': 'AGE',\n",
    "                                      'DIAGNOSTICO': 'DIAGNOSIS',\n",
    "                                      'NU_TOTAL_ATENDIDOS': 'QTY_PEOPLE_SERVED'})\n",
    "\n",
    "\n",
    "object_df['QTY_PEOPLE_SERVED'] = object_df['QTY_PEOPLE_SERVED'].apply(lambda x : to_number(x))\n",
    "object_df['DATE'] = object_df['YEAR'].astype(str) +'-'+object_df['MONTH'].astype(str) \n",
    "object_df['DATE'] = pd.to_datetime(object_df['DATE'])\n",
    "\n",
    "object_df.to_pickle('data/morbilidad_b2.csv')  "
   ]
  },
  {
   "cell_type": "code",
   "execution_count": 4,
   "id": "736cfc2c",
   "metadata": {},
   "outputs": [
    {
     "name": "stderr",
     "output_type": "stream",
     "text": [
      "100%|██████████| 49/49 [01:29<00:00,  1.83s/it]\n"
     ]
    }
   ],
   "source": [
    "# Morbilidad C2\n",
    "files = glob.glob(\"src/morbilidad_c2/*\")\n",
    "\n",
    "object_df = pd.DataFrame()\n",
    "types = {'ANHO': int,\n",
    "         'MES': int,\n",
    "         'UBIGEO': int,\n",
    "         'DEPARTAMENTO': str,\n",
    "         'PROVINCIA': str,\n",
    "         'DISTRITO': str,\n",
    "         'SECTOR': str,\n",
    "         'CATEGORIA': str,\n",
    "         'CO_IPRESS': str,\n",
    "         'RAZON_SOC': str,\n",
    "         'SEXO': str,\n",
    "         'EDAD': str,\n",
    "         'ID_DIGNOSTICO': str,\n",
    "         'DIAGNOSTICO': str,\n",
    "         'NU_TOTAL_ATENDIDOS': str,}\n",
    "\n",
    "for p in tqdm(files):\n",
    "    data_temp = pd.read_csv(p, encoding='latin1', dtype=types)\n",
    "    object_df = pd.concat([object_df,data_temp])\n",
    "\n",
    "object_df = object_df.rename(columns={'ANHO': 'YEAR',\n",
    "                                      'MES': 'MONTH',\n",
    "                                      'UBIGEO': 'UBIGEO',\n",
    "                                      'DEPARTAMENTO': 'STATE',\n",
    "                                      'PROVINCIA': 'PROVINCE',\n",
    "                                      'DISTRITO': 'DISTRICT',\n",
    "                                      'SECTOR': 'SECTOR',\n",
    "                                      'CATEGORIA': 'CATEGORY',\n",
    "                                      'CO_IPRESS': 'CO_IPRESS',\n",
    "                                      'RAZON_SOC': 'NAME',\n",
    "                                      'SEXO': 'SEX',\n",
    "                                      'EDAD': 'AGE',\n",
    "                                      'ID_DIGNOSTICO': 'DIAGNOSIS_ID',\n",
    "                                      'DIAGNOSTICO': 'DIAGNOSIS',\n",
    "                                      'NU_TOTAL_ATENDIDOS': 'QTY_PEOPLE_SERVED'})\n",
    "\n",
    "object_df['QTY_PEOPLE_SERVED'] = object_df['QTY_PEOPLE_SERVED'].apply(lambda x : to_number(x))\n",
    "object_df['DATE'] = object_df['YEAR'].astype(str) +'-'+object_df['MONTH'].astype(str) \n",
    "object_df['DATE'] = pd.to_datetime(object_df['DATE'])\n",
    "\n",
    "object_df.to_pickle('data/morbilidad_c2.csv')  "
   ]
  },
  {
   "cell_type": "code",
   "execution_count": 5,
   "id": "5394ed5c",
   "metadata": {},
   "outputs": [
    {
     "name": "stderr",
     "output_type": "stream",
     "text": [
      "100%|██████████| 8/8 [00:18<00:00,  2.37s/it]\n"
     ]
    }
   ],
   "source": [
    "# Morbilidad D2\n",
    "files = glob.glob(\"src/morbilidad_d2/*\")\n",
    "\n",
    "object_df = pd.DataFrame()\n",
    "types = {'ANHO': int,\n",
    "         'MES': int,\n",
    "         'UBIGEO': int,\n",
    "         'DEPARTAMENTO': str,\n",
    "         'PROVINCIA': str,\n",
    "         'DISTRITO': str,\n",
    "         'SECTOR': str,\n",
    "         'CATEGORIA': str,\n",
    "         'CO_IPRESS': str,\n",
    "         'RAZON_SOC': str,\n",
    "         'SEXO': str,\n",
    "         'EDAD': str,\n",
    "         'ID_DIGNOSTICO': str,\n",
    "         'DIGNOSTICO': str,\n",
    "         'NU_TOTAL_ATENDIDOS': str,}\n",
    "\n",
    "for p in tqdm(files):\n",
    "    data_temp = pd.read_csv(p, encoding='latin1', dtype=types)\n",
    "    object_df = pd.concat([object_df,data_temp])\n",
    "    \n",
    "object_df = object_df.rename(columns={'ANHO': 'YEAR',\n",
    "                                      'MES': 'MONTH',\n",
    "                                      'UBIGEO': 'UBIGEO',\n",
    "                                      'DEPARTAMENTO': 'STATE',\n",
    "                                      'PROVINCIA': 'PROVINCE',\n",
    "                                      'DISTRITO': 'DISTRICT',\n",
    "                                      'SECTOR': 'SECTOR',\n",
    "                                      'CATEGORIA': 'CATEGORY',\n",
    "                                      'CO_IPRESS': 'CO_IPRESS',\n",
    "                                      'RAZON_SOC': 'NAME',\n",
    "                                      'SEXO': 'SEX',\n",
    "                                      'EDAD': 'AGE',\n",
    "                                      'ID_DIGNOSTICO': 'DIAGNOSIS_ID',\n",
    "                                      'DIAGNOSTICO': 'DIAGNOSIS',\n",
    "                                      'NU_TOTAL_ATENDIDOS': 'QTY_PEOPLE_SERVED'})\n",
    "\n",
    "object_df['QTY_PEOPLE_SERVED'] = object_df['QTY_PEOPLE_SERVED'].apply(lambda x : to_number(x))\n",
    "object_df['DATE'] = object_df['YEAR'].astype(str) +'-'+object_df['MONTH'].astype(str) \n",
    "object_df['DATE'] = pd.to_datetime(object_df['DATE'])\n",
    "\n",
    "object_df.to_pickle('data/morbilidad_d2.csv')  "
   ]
  },
  {
   "cell_type": "code",
   "execution_count": 6,
   "id": "1b0b837c",
   "metadata": {},
   "outputs": [
    {
     "name": "stderr",
     "output_type": "stream",
     "text": [
      " 42%|████▏     | 5/12 [00:15<00:25,  3.66s/it]C:\\Users\\johnk\\anaconda3\\lib\\site-packages\\IPython\\core\\interactiveshell.py:3165: DtypeWarning: Columns (16,17,18,19,20,21,22,23,24,25,26,27,28,29,30,31,32,33,34,35,36,37,38,39,40,41,42,43,44,45,46,47,48,49,50,51,52,53,54,55,56,57,58,59,60,61,62,63,64,65,66,67,68,69,70,71,72,73,74,75,76,77,78) have mixed types.Specify dtype option on import or set low_memory=False.\n",
      "  has_raised = await self.run_ast_nodes(code_ast.body, cell_name,\n",
      "100%|██████████| 12/12 [10:34<00:00, 52.88s/it] \n"
     ]
    }
   ],
   "source": [
    "# Procedimientos\n",
    "files = glob.glob(\"src/procedimientos/*\")\n",
    "\n",
    "object_df = pd.DataFrame()\n",
    "types = {'ANHO': int,\n",
    "         'MES': int,\n",
    "         'UBIGEO': int,\n",
    "         'DEPARTAMENTO': str,\n",
    "         'PROVINCIA': str,\n",
    "         'DISTRITO': str,\n",
    "         'SECTOR': str,\n",
    "         'CATEGORIA': str,\n",
    "         'CO_IPRESS': int,\n",
    "         'RAZON_SOC': str,\n",
    "         'ID_PROCEDIMIENTO': str,\n",
    "         'PROCEDIMIENTO': str,\n",
    "         'TOTAL': str,\n",
    "         'ID_CODIGO': str,\n",
    "         'DES_DESCRIPCION': str,}\n",
    "\n",
    "for p in tqdm(files):\n",
    "    data_temp = pd.read_csv(p, encoding='latin1', dtype=types)\n",
    "    object_df = pd.concat([object_df,data_temp])\n",
    "    \n",
    "object_df = object_df.rename(columns={'ANHO': 'YEAR',\n",
    "                                      'MES': 'MONTH',\n",
    "                                      'UBIGEO': 'UBIGEO',\n",
    "                                      'DEPARTAMENTO': 'STATE',\n",
    "                                      'PROVINCIA': 'PROVINCE',\n",
    "                                      'DISTRITO': 'DISTRICT',\n",
    "                                      'SECTOR': 'SECTOR',\n",
    "                                      'CATEGORIA': 'CATEGORY',\n",
    "                                      'CO_IPRESS': 'CO_IPRESS',\n",
    "                                      'RAZON_SOC': 'NAME',\n",
    "                                      'ID_PROCEDIMIENTO': 'PROCEDURE_ID',\n",
    "                                      'PROCEDIMIENTO': 'PROCEDURE',\n",
    "                                      'TOTAL': 'TOTAL',\n",
    "                                      'ID_CODIGO': 'DESCRIPTION_ID',\n",
    "                                      'DES_DESCRIPCION': 'DESCRIPTION'})\n",
    "\n",
    "object_df['DATE'] = object_df['YEAR'].astype(str) +'-'+object_df['MONTH'].astype(str) \n",
    "object_df['DATE'] = pd.to_datetime(object_df['DATE'])\n",
    "\n",
    "object_df.to_pickle('data/procedimientos.csv')  "
   ]
  },
  {
   "cell_type": "code",
   "execution_count": 7,
   "id": "8b11b4fa",
   "metadata": {},
   "outputs": [],
   "source": [
    "# Modificar nombres de columns y fechas como DT"
   ]
  }
 ],
 "metadata": {
  "kernelspec": {
   "display_name": "Python 3",
   "language": "python",
   "name": "python3"
  },
  "language_info": {
   "codemirror_mode": {
    "name": "ipython",
    "version": 3
   },
   "file_extension": ".py",
   "mimetype": "text/x-python",
   "name": "python",
   "nbconvert_exporter": "python",
   "pygments_lexer": "ipython3",
   "version": "3.8.8"
  }
 },
 "nbformat": 4,
 "nbformat_minor": 5
}

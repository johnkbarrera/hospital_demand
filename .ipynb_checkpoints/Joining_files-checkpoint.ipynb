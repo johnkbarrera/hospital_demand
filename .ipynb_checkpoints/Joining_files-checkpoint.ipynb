{
 "cells": [
  {
   "cell_type": "code",
   "execution_count": 1,
   "id": "0d3a92f1",
   "metadata": {},
   "outputs": [],
   "source": [
    "import pandas as pd\n",
    "import glob\n",
    "from tqdm import tqdm, trange"
   ]
  },
  {
   "cell_type": "code",
   "execution_count": null,
   "id": "8b39c2d7",
   "metadata": {},
   "outputs": [],
   "source": []
  },
  {
   "cell_type": "markdown",
   "id": "929ea93c",
   "metadata": {},
   "source": [
    "### Reading resources"
   ]
  },
  {
   "cell_type": "code",
   "execution_count": 2,
   "id": "317e15cb",
   "metadata": {},
   "outputs": [
    {
     "name": "stderr",
     "output_type": "stream",
     "text": [
      "100%|██████████| 45/45 [04:11<00:00,  5.58s/it]\n"
     ]
    }
   ],
   "source": [
    "# Morbilidad B2\n",
    "files = glob.glob(\"src/morbilidad_b2/*\")\n",
    "\n",
    "object_df = pd.DataFrame()\n",
    "types = {'ANHO': int,\n",
    "         'MES': int,\n",
    "         'UBIGEO': int,\n",
    "         'DEPARTAMENTO': str,\n",
    "         'PROVINCIA': str,\n",
    "         'DISTRITO': str,\n",
    "         'SECTOR': str,\n",
    "         'CATEGORIA': str,\n",
    "         'CO_IPRESS': str,\n",
    "         'RAZON_SOC': str,\n",
    "         'SEXO': str,\n",
    "         'EDAD': str,\n",
    "         'DIAGNOSTICO': str,\n",
    "         'NU_TOTAL_ATENDIDOS': str,}\n",
    "\n",
    "for p in tqdm(files):\n",
    "    data_temp = pd.read_csv(p, encoding='latin1', dtype=types)\n",
    "    object_df = pd.concat([object_df,data_temp])\n",
    "\n",
    "object_df.to_csv('data/morbilidad_b2.csv', index=False)  "
   ]
  },
  {
   "cell_type": "code",
   "execution_count": 3,
   "id": "4812eaa3",
   "metadata": {},
   "outputs": [
    {
     "name": "stderr",
     "output_type": "stream",
     "text": [
      "100%|██████████| 49/49 [01:23<00:00,  1.70s/it]\n"
     ]
    }
   ],
   "source": [
    "# Morbilidad C2\n",
    "files = glob.glob(\"src/morbilidad_c2/*\")\n",
    "\n",
    "object_df = pd.DataFrame()\n",
    "types = {'ANHO': int,\n",
    "         'MES': int,\n",
    "         'UBIGEO': int,\n",
    "         'DEPARTAMENTO': str,\n",
    "         'PROVINCIA': str,\n",
    "         'DISTRITO': str,\n",
    "         'SECTOR': str,\n",
    "         'CATEGORIA': str,\n",
    "         'CO_IPRESS': str,\n",
    "         'RAZON_SOC': str,\n",
    "         'SEXO': str,\n",
    "         'EDAD': str,\n",
    "         'ID_DIGNOSTICO': str,\n",
    "         'DIAGNOSTICO': str,\n",
    "         'NU_TOTAL_ATENDIDOS': str,}\n",
    "\n",
    "for p in tqdm(files):\n",
    "    data_temp = pd.read_csv(p, encoding='latin1', dtype=types)\n",
    "    object_df = pd.concat([object_df,data_temp])\n",
    "\n",
    "object_df.to_csv('data/morbilidad_c2.csv', index=False)  "
   ]
  },
  {
   "cell_type": "code",
   "execution_count": 9,
   "id": "43f09ac5",
   "metadata": {},
   "outputs": [
    {
     "name": "stderr",
     "output_type": "stream",
     "text": [
      "100%|██████████| 8/8 [00:18<00:00,  2.33s/it]\n"
     ]
    }
   ],
   "source": [
    "# Morbilidad D2\n",
    "files = glob.glob(\"src/morbilidad_d2/*\")\n",
    "\n",
    "object_df = pd.DataFrame()\n",
    "types = {'ANHO': int,\n",
    "         'MES': int,\n",
    "         'UBIGEO': int,\n",
    "         'DEPARTAMENTO': str,\n",
    "         'PROVINCIA': str,\n",
    "         'DISTRITO': str,\n",
    "         'SECTOR': str,\n",
    "         'CATEGORIA': str,\n",
    "         'CO_IPRESS': str,\n",
    "         'RAZON_SOC': str,\n",
    "         'SEXO': str,\n",
    "         'EDAD': str,\n",
    "         'ID_DIGNOSTICO': str,\n",
    "         'DIGNOSTICO': str,\n",
    "         'NU_TOTAL_ATENDIDOS': str,}\n",
    "\n",
    "for p in tqdm(files):\n",
    "    data_temp = pd.read_csv(p, encoding='latin1', dtype=types)\n",
    "    object_df = pd.concat([object_df,data_temp])\n",
    "\n",
    "object_df.to_csv('data/morbilidad_d2.csv', index=False)  "
   ]
  },
  {
   "cell_type": "code",
   "execution_count": null,
   "id": "d9c9457f",
   "metadata": {},
   "outputs": [
    {
     "name": "stderr",
     "output_type": "stream",
     "text": [
      "\r",
      "  0%|          | 0/12 [00:00<?, ?it/s]"
     ]
    }
   ],
   "source": [
    "# Procedimientos\n",
    "files = glob.glob(\"src/procedimientos/*\")\n",
    "\n",
    "object_df = pd.DataFrame()\n",
    "types = {'ANHO': int,\n",
    "         'MES': int,\n",
    "         'UBIGEO': int,\n",
    "         'DEPARTAMENTO': str,\n",
    "         'PROVINCIA': str,\n",
    "         'DISTRITO': str,\n",
    "         'SECTOR': str,\n",
    "         'CATEGORIA': str,\n",
    "         'CO_IPRESS': int,\n",
    "         'RAZON_SOC': str,\n",
    "         'ID_PROCEDIMIENTO': str,\n",
    "         'PROCEDIMIENTO': str,\n",
    "         'TOTAL': str,\n",
    "         'ID_CODIGO': str,\n",
    "         'DES_DESCRIPCION': str,}\n",
    "\n",
    "for p in tqdm(files):\n",
    "    data_temp = pd.read_csv(p, encoding='latin1', dtype=types)\n",
    "    object_df = pd.concat([object_df,data_temp])\n",
    "\n",
    "object_df.to_csv('data/procedimientos.csv', index=False)  "
   ]
  },
  {
   "cell_type": "code",
   "execution_count": null,
   "id": "56ab64b4",
   "metadata": {},
   "outputs": [],
   "source": []
  }
 ],
 "metadata": {
  "kernelspec": {
   "display_name": "Python 3",
   "language": "python",
   "name": "python3"
  },
  "language_info": {
   "codemirror_mode": {
    "name": "ipython",
    "version": 3
   },
   "file_extension": ".py",
   "mimetype": "text/x-python",
   "name": "python",
   "nbconvert_exporter": "python",
   "pygments_lexer": "ipython3",
   "version": "3.8.8"
  }
 },
 "nbformat": 4,
 "nbformat_minor": 5
}

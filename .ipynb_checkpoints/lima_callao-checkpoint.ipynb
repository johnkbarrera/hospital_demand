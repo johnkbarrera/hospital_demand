{
 "cells": [
  {
   "cell_type": "code",
   "execution_count": 1,
   "id": "7ad83372",
   "metadata": {},
   "outputs": [],
   "source": [
    "import pandas as pd\n",
    "import numpy as np\n",
    "import glob\n",
    "from tqdm import tqdm, trange\n",
    "\n",
    "import matplotlib.pyplot as plt\n",
    "import plotly.express as px\n",
    "from difflib import SequenceMatcher"
   ]
  },
  {
   "cell_type": "code",
   "execution_count": 2,
   "id": "579edbe1",
   "metadata": {},
   "outputs": [],
   "source": [
    "def save_new_agg(data, name):\n",
    "    data_temp = data[((data['PROVINCE']=='LIMA') & (data['STATE']=='LIMA')) |\n",
    "                     (data['STATE']=='CALLAO')]\n",
    "    data_temp = data_temp[data_temp['YEAR']==2020].reset_index(drop=True)\n",
    "    data_temp['SECTOR'] = data_temp['SECTOR'].apply(lambda x: x if x == 'PRIVADO' else 'PUBLICO')\n",
    "    columns_ = data_temp['SECTOR'].unique()\n",
    "    data_temp = data_temp.groupby(['UBIGEO', 'DISTRICT','SECTOR','CO_IPRESS']).agg({ 'QTY_PEOPLE_SERVED': \"sum\"}).reset_index()\n",
    "    data_temp = data_temp.groupby(['UBIGEO', 'DISTRICT','SECTOR']).agg({ 'CO_IPRESS': \"count\"}).reset_index()\n",
    "    data_temp = data_temp.pivot(index =['UBIGEO', 'DISTRICT'], columns ='SECTOR')\n",
    "    data_temp.columns = data_temp.columns.droplevel()\n",
    "    data_temp = data_temp.reset_index()\n",
    "    data_temp.fillna(0, inplace = True)\n",
    "\n",
    "    data_temp['TOTAL'] = data_temp[columns_].sum(axis=1)\n",
    "    data_temp.to_csv(name, index = False)\n",
    "    return data_temp"
   ]
  },
  {
   "cell_type": "code",
   "execution_count": 3,
   "id": "feb4400d",
   "metadata": {},
   "outputs": [],
   "source": [
    "paths = [\n",
    "    'morbilidad_b2.csv',\n",
    "    'morbilidad_c2.csv',\n",
    "    'morbilidad_d2.csv']"
   ]
  },
  {
   "cell_type": "code",
   "execution_count": 4,
   "id": "a36d4aa0",
   "metadata": {},
   "outputs": [],
   "source": [
    "for file in paths:\n",
    "    data = pd.read_pickle('data/'+file)\n",
    "    save_new_agg(data, 'agg/'+file)"
   ]
  },
  {
   "cell_type": "code",
   "execution_count": null,
   "id": "4fbd728a",
   "metadata": {},
   "outputs": [],
   "source": []
  }
 ],
 "metadata": {
  "kernelspec": {
   "display_name": "Python 3",
   "language": "python",
   "name": "python3"
  },
  "language_info": {
   "codemirror_mode": {
    "name": "ipython",
    "version": 3
   },
   "file_extension": ".py",
   "mimetype": "text/x-python",
   "name": "python",
   "nbconvert_exporter": "python",
   "pygments_lexer": "ipython3",
   "version": "3.8.8"
  }
 },
 "nbformat": 4,
 "nbformat_minor": 5
}

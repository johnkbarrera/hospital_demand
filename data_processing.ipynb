{
 "cells": [
  {
   "cell_type": "code",
   "execution_count": 18,
   "id": "8c2a5765",
   "metadata": {},
   "outputs": [],
   "source": [
    "import pandas as pd\n",
    "import numpy as np\n",
    "import glob\n",
    "from tqdm import tqdm, trange\n",
    "\n",
    "import matplotlib.pyplot as plt\n",
    "import plotly.express as px\n",
    "from difflib import SequenceMatcher"
   ]
  },
  {
   "cell_type": "code",
   "execution_count": 33,
   "id": "5c3bb711",
   "metadata": {},
   "outputs": [],
   "source": [
    "def millions(x, pos):\n",
    "    \"\"\"The two args are the value and tick position.\"\"\"\n",
    "    return '{:1.1f}M'.format(x*1e-6)"
   ]
  },
  {
   "cell_type": "code",
   "execution_count": 2,
   "id": "97f678a8",
   "metadata": {
    "scrolled": true
   },
   "outputs": [
    {
     "name": "stderr",
     "output_type": "stream",
     "text": [
      "C:\\Users\\johnk\\anaconda3\\lib\\site-packages\\IPython\\core\\interactiveshell.py:3165: DtypeWarning: Columns (10,11) have mixed types.Specify dtype option on import or set low_memory=False.\n",
      "  has_raised = await self.run_ast_nodes(code_ast.body, cell_name,\n"
     ]
    }
   ],
   "source": [
    "# Morbilidad B2\n",
    "data = pd.read_csv('data/morbilidad_b2.csv')\n",
    "\n",
    "data['DATE'] = data['ANHO'].astype(str) +'-'+data_lima['MES'].astype(str) \n",
    "\n",
    "data_lima = data[(data['DEPARTAMENTO']=='LIMA')].reset_index(drop=True)\n",
    "data_lima_m = data_lima[(data_lima['PROVINCIA']=='LIMA')].reset_index(drop=True)\n",
    "del data"
   ]
  },
  {
   "cell_type": "code",
   "execution_count": 17,
   "id": "4f3ad4eb",
   "metadata": {
    "scrolled": false
   },
   "outputs": [
    {
     "data": {
      "text/html": [
       "<div>\n",
       "<style scoped>\n",
       "    .dataframe tbody tr th:only-of-type {\n",
       "        vertical-align: middle;\n",
       "    }\n",
       "\n",
       "    .dataframe tbody tr th {\n",
       "        vertical-align: top;\n",
       "    }\n",
       "\n",
       "    .dataframe thead th {\n",
       "        text-align: right;\n",
       "    }\n",
       "</style>\n",
       "<table border=\"1\" class=\"dataframe\">\n",
       "  <thead>\n",
       "    <tr style=\"text-align: right;\">\n",
       "      <th></th>\n",
       "      <th>ANHO</th>\n",
       "      <th>MES</th>\n",
       "      <th>UBIGEO</th>\n",
       "      <th>DEPARTAMENTO</th>\n",
       "      <th>PROVINCIA</th>\n",
       "      <th>DISTRITO</th>\n",
       "      <th>SECTOR</th>\n",
       "      <th>CATEGORIA</th>\n",
       "      <th>CO_IPRESS</th>\n",
       "      <th>RAZON_SOC</th>\n",
       "      <th>SEXO</th>\n",
       "      <th>EDAD</th>\n",
       "      <th>DIAGNOSTICO</th>\n",
       "      <th>NU_TOTAL_ATENDIDOS</th>\n",
       "      <th>DATE</th>\n",
       "    </tr>\n",
       "  </thead>\n",
       "  <tbody>\n",
       "    <tr>\n",
       "      <th>0</th>\n",
       "      <td>2018</td>\n",
       "      <td>1</td>\n",
       "      <td>150101</td>\n",
       "      <td>LIMA</td>\n",
       "      <td>LIMA</td>\n",
       "      <td>LIMA</td>\n",
       "      <td>PRIVADO</td>\n",
       "      <td>II-2</td>\n",
       "      <td>15610</td>\n",
       "      <td>CLÍNICA INTERNACIONAL</td>\n",
       "      <td>2</td>\n",
       "      <td>7</td>\n",
       "      <td>R10.2</td>\n",
       "      <td>10</td>\n",
       "      <td>2018-1</td>\n",
       "    </tr>\n",
       "    <tr>\n",
       "      <th>1</th>\n",
       "      <td>2018</td>\n",
       "      <td>1</td>\n",
       "      <td>150101</td>\n",
       "      <td>LIMA</td>\n",
       "      <td>LIMA</td>\n",
       "      <td>LIMA</td>\n",
       "      <td>PRIVADO</td>\n",
       "      <td>II-2</td>\n",
       "      <td>15610</td>\n",
       "      <td>CLÍNICA INTERNACIONAL</td>\n",
       "      <td>2</td>\n",
       "      <td>7</td>\n",
       "      <td>R10.4</td>\n",
       "      <td>11</td>\n",
       "      <td>2018-1</td>\n",
       "    </tr>\n",
       "    <tr>\n",
       "      <th>2</th>\n",
       "      <td>2018</td>\n",
       "      <td>1</td>\n",
       "      <td>150101</td>\n",
       "      <td>LIMA</td>\n",
       "      <td>LIMA</td>\n",
       "      <td>LIMA</td>\n",
       "      <td>PRIVADO</td>\n",
       "      <td>II-2</td>\n",
       "      <td>15610</td>\n",
       "      <td>CLÍNICA INTERNACIONAL</td>\n",
       "      <td>2</td>\n",
       "      <td>7</td>\n",
       "      <td>R11.X</td>\n",
       "      <td>3</td>\n",
       "      <td>2018-1</td>\n",
       "    </tr>\n",
       "    <tr>\n",
       "      <th>3</th>\n",
       "      <td>2018</td>\n",
       "      <td>1</td>\n",
       "      <td>150101</td>\n",
       "      <td>LIMA</td>\n",
       "      <td>LIMA</td>\n",
       "      <td>LIMA</td>\n",
       "      <td>PRIVADO</td>\n",
       "      <td>II-2</td>\n",
       "      <td>15610</td>\n",
       "      <td>CLÍNICA INTERNACIONAL</td>\n",
       "      <td>2</td>\n",
       "      <td>7</td>\n",
       "      <td>R16.0</td>\n",
       "      <td>1</td>\n",
       "      <td>2018-1</td>\n",
       "    </tr>\n",
       "    <tr>\n",
       "      <th>4</th>\n",
       "      <td>2018</td>\n",
       "      <td>1</td>\n",
       "      <td>150101</td>\n",
       "      <td>LIMA</td>\n",
       "      <td>LIMA</td>\n",
       "      <td>LIMA</td>\n",
       "      <td>PRIVADO</td>\n",
       "      <td>II-2</td>\n",
       "      <td>15610</td>\n",
       "      <td>CLÍNICA INTERNACIONAL</td>\n",
       "      <td>2</td>\n",
       "      <td>7</td>\n",
       "      <td>R42.X</td>\n",
       "      <td>1</td>\n",
       "      <td>2018-1</td>\n",
       "    </tr>\n",
       "  </tbody>\n",
       "</table>\n",
       "</div>"
      ],
      "text/plain": [
       "   ANHO  MES  UBIGEO DEPARTAMENTO PROVINCIA DISTRITO   SECTOR CATEGORIA  \\\n",
       "0  2018    1  150101         LIMA      LIMA     LIMA  PRIVADO      II-2   \n",
       "1  2018    1  150101         LIMA      LIMA     LIMA  PRIVADO      II-2   \n",
       "2  2018    1  150101         LIMA      LIMA     LIMA  PRIVADO      II-2   \n",
       "3  2018    1  150101         LIMA      LIMA     LIMA  PRIVADO      II-2   \n",
       "4  2018    1  150101         LIMA      LIMA     LIMA  PRIVADO      II-2   \n",
       "\n",
       "   CO_IPRESS              RAZON_SOC SEXO EDAD DIAGNOSTICO  NU_TOTAL_ATENDIDOS  \\\n",
       "0      15610  CLÍNICA INTERNACIONAL    2    7       R10.2                  10   \n",
       "1      15610  CLÍNICA INTERNACIONAL    2    7       R10.4                  11   \n",
       "2      15610  CLÍNICA INTERNACIONAL    2    7       R11.X                   3   \n",
       "3      15610  CLÍNICA INTERNACIONAL    2    7       R16.0                   1   \n",
       "4      15610  CLÍNICA INTERNACIONAL    2    7       R42.X                   1   \n",
       "\n",
       "     DATE  \n",
       "0  2018-1  \n",
       "1  2018-1  \n",
       "2  2018-1  \n",
       "3  2018-1  \n",
       "4  2018-1  "
      ]
     },
     "execution_count": 17,
     "metadata": {},
     "output_type": "execute_result"
    }
   ],
   "source": [
    "data_lima.head()"
   ]
  },
  {
   "cell_type": "code",
   "execution_count": 40,
   "id": "eaf1fc90",
   "metadata": {},
   "outputs": [
    {
     "name": "stderr",
     "output_type": "stream",
     "text": [
      "<ipython-input-40-f5b196f84d71>:13: UserWarning: FixedFormatter should only be used together with FixedLocator\n",
      "  ax.set_xticklabels(x, rotation = 45)\n"
     ]
    },
    {
     "data": {
      "image/png": "[encoded data removed]",
      "text/plain": [
       "<Figure size 1080x360 with 1 Axes>"
      ]
     },
     "metadata": {
      "needs_background": "light"
     },
     "output_type": "display_data"
    }
   ],
   "source": [
    "data_temp = data_lima.groupby(['DATE']).agg({ 'NU_TOTAL_ATENDIDOS': \"sum\"})\n",
    "data_temp = data_temp.sort_values(by=['DATE']).reset_index()\n",
    "\n",
    "x = data_temp['DATE']\n",
    "y = data_temp['NU_TOTAL_ATENDIDOS']\n",
    "\n",
    "fig = plt.figure(figsize = (15, 5))\n",
    "ax = fig.add_subplot(111)\n",
    "\n",
    "ax.plot(x, y, linestyle = 'dotted')\n",
    "\n",
    "ax.yaxis.set_major_formatter(millions)\n",
    "ax.set_xticklabels(x, rotation = 45)\n",
    "\n",
    "plt.show()"
   ]
  },
  {
   "cell_type": "code",
   "execution_count": 42,
   "id": "9319aa1e",
   "metadata": {},
   "outputs": [
    {
     "data": {
      "application/vnd.plotly.v1+json": {
       "config": {
        "plotlyServerURL": "https://plot.ly"
       },
       "data": [
        {
         "branchvalues": "total",
         "customdata": [
          [
           "ATE",
           1237108
          ],
          [
           "BARRANCO",
           376251
          ],
          [
           "BREÃA",
           154109
          ],
          [
           "BREÑA",
           757016
          ],
          [
           "CARABAYLLO",
           155904
          ],
          [
           "CHACLACAYO",
           4291
          ],
          [
           "CHORRILLOS",
           1077053
          ],
          [
           "COMAS",
           1061617
          ],
          [
           "EL AGUSTINO",
           230059
          ],
          [
           "INDEPENDENCIA",
           1254895
          ],
          [
           "JESUS MARIA",
           5459961
          ],
          [
           "LA MOLINA",
           940301
          ],
          [
           "LA VICTORIA",
           1454932
          ],
          [
           "LIMA",
           6015148
          ],
          [
           "LINCE",
           1127752
          ],
          [
           "LOS OLIVOS",
           1547065
          ],
          [
           "LURIGANCHO",
           378972
          ],
          [
           "LURIN",
           147004
          ],
          [
           "MAGDALENA DEL MAR",
           100052
          ],
          [
           "MIRAFLORES",
           3401174
          ],
          [
           "PUEBLO LIBRE",
           1919868
          ],
          [
           "PUENTE PIEDRA",
           402217
          ],
          [
           "RIMAC",
           478231
          ],
          [
           "SAN BARTOLO",
           10896
          ],
          [
           "SAN BORJA",
           3492492
          ],
          [
           "SAN ISIDRO",
           4586090
          ],
          [
           "SAN JUAN DE LURIGANCHO",
           2128508
          ],
          [
           "SAN JUAN DE MIRAFLORES",
           1377509
          ],
          [
           "SAN LUIS",
           882520
          ],
          [
           "SAN MARTIN DE PORRES",
           2323451
          ],
          [
           "SAN MIGUEL",
           2394611
          ],
          [
           "SANTA ANITA",
           666015
          ],
          [
           "SANTIAGO DE SURCO",
           1687939
          ],
          [
           "SURQUILLO",
           1297054
          ],
          [
           "VILLA EL SALVADOR",
           992327
          ],
          [
           "VILLA MARIA DEL TRIUNFO",
           856485
          ],
          [
           "(?)",
           2920174.259206004
          ]
         ],
         "domain": {
          "x": [
           0,
           1
          ],
          "y": [
           0,
           1
          ]
         },
         "hovertemplate": "labels=%{label}<br>NU_TOTAL_ATENDIDOS_sum=%{value}<br>parent=%{parent}<br>id=%{id}<br>DISTRITO=%{customdata[0]}<br>NU_TOTAL_ATENDIDOS=%{color}<extra></extra>",
         "ids": [
          "Codigo de distrito/ATE",
          "Codigo de distrito/BARRANCO",
          "Codigo de distrito/BREÃA",
          "Codigo de distrito/BREÑA",
          "Codigo de distrito/CARABAYLLO",
          "Codigo de distrito/CHACLACAYO",
          "Codigo de distrito/CHORRILLOS",
          "Codigo de distrito/COMAS",
          "Codigo de distrito/EL AGUSTINO",
          "Codigo de distrito/INDEPENDENCIA",
          "Codigo de distrito/JESUS MARIA",
          "Codigo de distrito/LA MOLINA",
          "Codigo de distrito/LA VICTORIA",
          "Codigo de distrito/LIMA",
          "Codigo de distrito/LINCE",
          "Codigo de distrito/LOS OLIVOS",
          "Codigo de distrito/LURIGANCHO",
          "Codigo de distrito/LURIN",
          "Codigo de distrito/MAGDALENA DEL MAR",
          "Codigo de distrito/MIRAFLORES",
          "Codigo de distrito/PUEBLO LIBRE",
          "Codigo de distrito/PUENTE PIEDRA",
          "Codigo de distrito/RIMAC",
          "Codigo de distrito/SAN BARTOLO",
          "Codigo de distrito/SAN BORJA",
          "Codigo de distrito/SAN ISIDRO",
          "Codigo de distrito/SAN JUAN DE LURIGANCHO",
          "Codigo de distrito/SAN JUAN DE MIRAFLORES",
          "Codigo de distrito/SAN LUIS",
          "Codigo de distrito/SAN MARTIN DE PORRES",
          "Codigo de distrito/SAN MIGUEL",
          "Codigo de distrito/SANTA ANITA",
          "Codigo de distrito/SANTIAGO DE SURCO",
          "Codigo de distrito/SURQUILLO",
          "Codigo de distrito/VILLA EL SALVADOR",
          "Codigo de distrito/VILLA MARIA DEL TRIUNFO",
          "Codigo de distrito"
         ],
         "labels": [
          "ATE",
          "BARRANCO",
          "BREÃA",
          "BREÑA",
          "CARABAYLLO",
          "CHACLACAYO",
          "CHORRILLOS",
          "COMAS",
          "EL AGUSTINO",
          "INDEPENDENCIA",
          "JESUS MARIA",
          "LA MOLINA",
          "LA VICTORIA",
          "LIMA",
          "LINCE",
          "LOS OLIVOS",
          "LURIGANCHO",
          "LURIN",
          "MAGDALENA DEL MAR",
          "MIRAFLORES",
          "PUEBLO LIBRE",
          "PUENTE PIEDRA",
          "RIMAC",
          "SAN BARTOLO",
          "SAN BORJA",
          "SAN ISIDRO",
          "SAN JUAN DE LURIGANCHO",
          "SAN JUAN DE MIRAFLORES",
          "SAN LUIS",
          "SAN MARTIN DE PORRES",
          "SAN MIGUEL",
          "SANTA ANITA",
          "SANTIAGO DE SURCO",
          "SURQUILLO",
          "VILLA EL SALVADOR",
          "VILLA MARIA DEL TRIUNFO",
          "Codigo de distrito"
         ],
         "marker": {
          "coloraxis": "coloraxis",
          "colors": [
           1237108,
           376251,
           154109,
           757016,
           155904,
           4291,
           1077053,
           1061617,
           230059,
           1254895,
           5459961,
           940301,
           1454932,
           6015148,
           1127752,
           1547065,
           378972,
           147004,
           100052,
           3401174,
           1919868,
           402217,
           478231,
           10896,
           3492492,
           4586090,
           2128508,
           1377509,
           882520,
           2323451,
           2394611,
           666015,
           1687939,
           1297054,
           992327,
           856485,
           2920174.259206004
          ]
         },
         "name": "",
         "parents": [
          "Codigo de distrito",
          "Codigo de distrito",
          "Codigo de distrito",
          "Codigo de distrito",
          "Codigo de distrito",
          "Codigo de distrito",
          "Codigo de distrito",
          "Codigo de distrito",
          "Codigo de distrito",
          "Codigo de distrito",
          "Codigo de distrito",
          "Codigo de distrito",
          "Codigo de distrito",
          "Codigo de distrito",
          "Codigo de distrito",
          "Codigo de distrito",
          "Codigo de distrito",
          "Codigo de distrito",
          "Codigo de distrito",
          "Codigo de distrito",
          "Codigo de distrito",
          "Codigo de distrito",
          "Codigo de distrito",
          "Codigo de distrito",
          "Codigo de distrito",
          "Codigo de distrito",
          "Codigo de distrito",
          "Codigo de distrito",
          "Codigo de distrito",
          "Codigo de distrito",
          "Codigo de distrito",
          "Codigo de distrito",
          "Codigo de distrito",
          "Codigo de distrito",
          "Codigo de distrito",
          "Codigo de distrito",
          ""
         ],
         "type": "treemap",
         "values": [
          1237108,
          376251,
          154109,
          757016,
          155904,
          4291,
          1077053,
          1061617,
          230059,
          1254895,
          5459961,
          940301,
          1454932,
          6015148,
          1127752,
          1547065,
          378972,
          147004,
          100052,
          3401174,
          1919868,
          402217,
          478231,
          10896,
          3492492,
          4586090,
          2128508,
          1377509,
          882520,
          2323451,
          2394611,
          666015,
          1687939,
          1297054,
          992327,
          856485,
          52376877
         ]
        }
       ],
       "layout": {
        "coloraxis": {
         "colorbar": {
          "title": {
           "text": "NU_TOTAL_ATENDIDOS"
          }
         },
         "colorscale": [
          [
           0,
           "#0d0887"
          ],
          [
           0.1111111111111111,
           "#46039f"
          ],
          [
           0.2222222222222222,
           "#7201a8"
          ],
          [
           0.3333333333333333,
           "#9c179e"
          ],
          [
           0.4444444444444444,
           "#bd3786"
          ],
          [
           0.5555555555555556,
           "#d8576b"
          ],
          [
           0.6666666666666666,
           "#ed7953"
          ],
          [
           0.7777777777777778,
           "#fb9f3a"
          ],
          [
           0.8888888888888888,
           "#fdca26"
          ],
          [
           1,
           "#f0f921"
          ]
         ]
        },
        "legend": {
         "tracegroupgap": 0
        },
        "margin": {
         "t": 60
        },
        "template": {
         "data": {
          "bar": [
           {
            "error_x": {
             "color": "#2a3f5f"
            },
            "error_y": {
             "color": "#2a3f5f"
            },
            "marker": {
             "line": {
              "color": "#E5ECF6",
              "width": 0.5
             },
             "pattern": {
              "fillmode": "overlay",
              "size": 10,
              "solidity": 0.2
             }
            },
            "type": "bar"
           }
          ],
          "barpolar": [
           {
            "marker": {
             "line": {
              "color": "#E5ECF6",
              "width": 0.5
             },
             "pattern": {
              "fillmode": "overlay",
              "size": 10,
              "solidity": 0.2
             }
            },
            "type": "barpolar"
           }
          ],
          "carpet": [
           {
            "aaxis": {
             "endlinecolor": "#2a3f5f",
             "gridcolor": "white",
             "linecolor": "white",
             "minorgridcolor": "white",
             "startlinecolor": "#2a3f5f"
            },
            "baxis": {
             "endlinecolor": "#2a3f5f",
             "gridcolor": "white",
             "linecolor": "white",
             "minorgridcolor": "white",
             "startlinecolor": "#2a3f5f"
            },
            "type": "carpet"
           }
          ],
          "choropleth": [
           {
            "colorbar": {
             "outlinewidth": 0,
             "ticks": ""
            },
            "type": "choropleth"
           }
          ],
          "contour": [
           {
            "colorbar": {
             "outlinewidth": 0,
             "ticks": ""
            },
            "colorscale": [
             [
              0,
              "#0d0887"
             ],
             [
              0.1111111111111111,
              "#46039f"
             ],
             [
              0.2222222222222222,
              "#7201a8"
             ],
             [
              0.3333333333333333,
              "#9c179e"
             ],
             [
              0.4444444444444444,
              "#bd3786"
             ],
             [
              0.5555555555555556,
              "#d8576b"
             ],
             [
              0.6666666666666666,
              "#ed7953"
             ],
             [
              0.7777777777777778,
              "#fb9f3a"
             ],
             [
              0.8888888888888888,
              "#fdca26"
             ],
             [
              1,
              "#f0f921"
             ]
            ],
            "type": "contour"
           }
          ],
          "contourcarpet": [
           {
            "colorbar": {
             "outlinewidth": 0,
             "ticks": ""
            },
            "type": "contourcarpet"
           }
          ],
          "heatmap": [
           {
            "colorbar": {
             "outlinewidth": 0,
             "ticks": ""
            },
            "colorscale": [
             [
              0,
              "#0d0887"
             ],
             [
              0.1111111111111111,
              "#46039f"
             ],
             [
              0.2222222222222222,
              "#7201a8"
             ],
             [
              0.3333333333333333,
              "#9c179e"
             ],
             [
              0.4444444444444444,
              "#bd3786"
             ],
             [
              0.5555555555555556,
              "#d8576b"
             ],
             [
              0.6666666666666666,
              "#ed7953"
             ],
             [
              0.7777777777777778,
              "#fb9f3a"
             ],
             [
              0.8888888888888888,
              "#fdca26"
             ],
             [
              1,
              "#f0f921"
             ]
            ],
            "type": "heatmap"
           }
          ],
          "heatmapgl": [
           {
            "colorbar": {
             "outlinewidth": 0,
             "ticks": ""
            },
            "colorscale": [
             [
              0,
              "#0d0887"
             ],
             [
              0.1111111111111111,
              "#46039f"
             ],
             [
              0.2222222222222222,
              "#7201a8"
             ],
             [
              0.3333333333333333,
              "#9c179e"
             ],
             [
              0.4444444444444444,
              "#bd3786"
             ],
             [
              0.5555555555555556,
              "#d8576b"
             ],
             [
              0.6666666666666666,
              "#ed7953"
             ],
             [
              0.7777777777777778,
              "#fb9f3a"
             ],
             [
              0.8888888888888888,
              "#fdca26"
             ],
             [
              1,
              "#f0f921"
             ]
            ],
            "type": "heatmapgl"
           }
          ],
          "histogram": [
           {
            "marker": {
             "pattern": {
              "fillmode": "overlay",
              "size": 10,
              "solidity": 0.2
             }
            },
            "type": "histogram"
           }
          ],
          "histogram2d": [
           {
            "colorbar": {
             "outlinewidth": 0,
             "ticks": ""
            },
            "colorscale": [
             [
              0,
              "#0d0887"
             ],
             [
              0.1111111111111111,
              "#46039f"
             ],
             [
              0.2222222222222222,
              "#7201a8"
             ],
             [
              0.3333333333333333,
              "#9c179e"
             ],
             [
              0.4444444444444444,
              "#bd3786"
             ],
             [
              0.5555555555555556,
              "#d8576b"
             ],
             [
              0.6666666666666666,
              "#ed7953"
             ],
             [
              0.7777777777777778,
              "#fb9f3a"
             ],
             [
              0.8888888888888888,
              "#fdca26"
             ],
             [
              1,
              "#f0f921"
             ]
            ],
            "type": "histogram2d"
           }
          ],
          "histogram2dcontour": [
           {
            "colorbar": {
             "outlinewidth": 0,
             "ticks": ""
            },
            "colorscale": [
             [
              0,
              "#0d0887"
             ],
             [
              0.1111111111111111,
              "#46039f"
             ],
             [
              0.2222222222222222,
              "#7201a8"
             ],
             [
              0.3333333333333333,
              "#9c179e"
             ],
             [
              0.4444444444444444,
              "#bd3786"
             ],
             [
              0.5555555555555556,
              "#d8576b"
             ],
             [
              0.6666666666666666,
              "#ed7953"
             ],
             [
              0.7777777777777778,
              "#fb9f3a"
             ],
             [
              0.8888888888888888,
              "#fdca26"
             ],
             [
              1,
              "#f0f921"
             ]
            ],
            "type": "histogram2dcontour"
           }
          ],
          "mesh3d": [
           {
            "colorbar": {
             "outlinewidth": 0,
             "ticks": ""
            },
            "type": "mesh3d"
           }
          ],
          "parcoords": [
           {
            "line": {
             "colorbar": {
              "outlinewidth": 0,
              "ticks": ""
             }
            },
            "type": "parcoords"
           }
          ],
          "pie": [
           {
            "automargin": true,
            "type": "pie"
           }
          ],
          "scatter": [
           {
            "marker": {
             "colorbar": {
              "outlinewidth": 0,
              "ticks": ""
             }
            },
            "type": "scatter"
           }
          ],
          "scatter3d": [
           {
            "line": {
             "colorbar": {
              "outlinewidth": 0,
              "ticks": ""
             }
            },
            "marker": {
             "colorbar": {
              "outlinewidth": 0,
              "ticks": ""
             }
            },
            "type": "scatter3d"
           }
          ],
          "scattercarpet": [
           {
            "marker": {
             "colorbar": {
              "outlinewidth": 0,
              "ticks": ""
             }
            },
            "type": "scattercarpet"
           }
          ],
          "scattergeo": [
           {
            "marker": {
             "colorbar": {
              "outlinewidth": 0,
              "ticks": ""
             }
            },
            "type": "scattergeo"
           }
          ],
          "scattergl": [
           {
            "marker": {
             "colorbar": {
              "outlinewidth": 0,
              "ticks": ""
             }
            },
            "type": "scattergl"
           }
          ],
          "scattermapbox": [
           {
            "marker": {
             "colorbar": {
              "outlinewidth": 0,
              "ticks": ""
             }
            },
            "type": "scattermapbox"
           }
          ],
          "scatterpolar": [
           {
            "marker": {
             "colorbar": {
              "outlinewidth": 0,
              "ticks": ""
             }
            },
            "type": "scatterpolar"
           }
          ],
          "scatterpolargl": [
           {
            "marker": {
             "colorbar": {
              "outlinewidth": 0,
              "ticks": ""
             }
            },
            "type": "scatterpolargl"
           }
          ],
          "scatterternary": [
           {
            "marker": {
             "colorbar": {
              "outlinewidth": 0,
              "ticks": ""
             }
            },
            "type": "scatterternary"
           }
          ],
          "surface": [
           {
            "colorbar": {
             "outlinewidth": 0,
             "ticks": ""
            },
            "colorscale": [
             [
              0,
              "#0d0887"
             ],
             [
              0.1111111111111111,
              "#46039f"
             ],
             [
              0.2222222222222222,
              "#7201a8"
             ],
             [
              0.3333333333333333,
              "#9c179e"
             ],
             [
              0.4444444444444444,
              "#bd3786"
             ],
             [
              0.5555555555555556,
              "#d8576b"
             ],
             [
              0.6666666666666666,
              "#ed7953"
             ],
             [
              0.7777777777777778,
              "#fb9f3a"
             ],
             [
              0.8888888888888888,
              "#fdca26"
             ],
             [
              1,
              "#f0f921"
             ]
            ],
            "type": "surface"
           }
          ],
          "table": [
           {
            "cells": {
             "fill": {
              "color": "#EBF0F8"
             },
             "line": {
              "color": "white"
             }
            },
            "header": {
             "fill": {
              "color": "#C8D4E3"
             },
             "line": {
              "color": "white"
             }
            },
            "type": "table"
           }
          ]
         },
         "layout": {
          "annotationdefaults": {
           "arrowcolor": "#2a3f5f",
           "arrowhead": 0,
           "arrowwidth": 1
          },
          "autotypenumbers": "strict",
          "coloraxis": {
           "colorbar": {
            "outlinewidth": 0,
            "ticks": ""
           }
          },
          "colorscale": {
           "diverging": [
            [
             0,
             "#8e0152"
            ],
            [
             0.1,
             "#c51b7d"
            ],
            [
             0.2,
             "#de77ae"
            ],
            [
             0.3,
             "#f1b6da"
            ],
            [
             0.4,
             "#fde0ef"
            ],
            [
             0.5,
             "#f7f7f7"
            ],
            [
             0.6,
             "#e6f5d0"
            ],
            [
             0.7,
             "#b8e186"
            ],
            [
             0.8,
             "#7fbc41"
            ],
            [
             0.9,
             "#4d9221"
            ],
            [
             1,
             "#276419"
            ]
           ],
           "sequential": [
            [
             0,
             "#0d0887"
            ],
            [
             0.1111111111111111,
             "#46039f"
            ],
            [
             0.2222222222222222,
             "#7201a8"
            ],
            [
             0.3333333333333333,
             "#9c179e"
            ],
            [
             0.4444444444444444,
             "#bd3786"
            ],
            [
             0.5555555555555556,
             "#d8576b"
            ],
            [
             0.6666666666666666,
             "#ed7953"
            ],
            [
             0.7777777777777778,
             "#fb9f3a"
            ],
            [
             0.8888888888888888,
             "#fdca26"
            ],
            [
             1,
             "#f0f921"
            ]
           ],
           "sequentialminus": [
            [
             0,
             "#0d0887"
            ],
            [
             0.1111111111111111,
             "#46039f"
            ],
            [
             0.2222222222222222,
             "#7201a8"
            ],
            [
             0.3333333333333333,
             "#9c179e"
            ],
            [
             0.4444444444444444,
             "#bd3786"
            ],
            [
             0.5555555555555556,
             "#d8576b"
            ],
            [
             0.6666666666666666,
             "#ed7953"
            ],
            [
             0.7777777777777778,
             "#fb9f3a"
            ],
            [
             0.8888888888888888,
             "#fdca26"
            ],
            [
             1,
             "#f0f921"
            ]
           ]
          },
          "colorway": [
           "#636efa",
           "#EF553B",
           "#00cc96",
           "#ab63fa",
           "#FFA15A",
           "#19d3f3",
           "#FF6692",
           "#B6E880",
           "#FF97FF",
           "#FECB52"
          ],
          "font": {
           "color": "#2a3f5f"
          },
          "geo": {
           "bgcolor": "white",
           "lakecolor": "white",
           "landcolor": "#E5ECF6",
           "showlakes": true,
           "showland": true,
           "subunitcolor": "white"
          },
          "hoverlabel": {
           "align": "left"
          },
          "hovermode": "closest",
          "mapbox": {
           "style": "light"
          },
          "paper_bgcolor": "white",
          "plot_bgcolor": "#E5ECF6",
          "polar": {
           "angularaxis": {
            "gridcolor": "white",
            "linecolor": "white",
            "ticks": ""
           },
           "bgcolor": "#E5ECF6",
           "radialaxis": {
            "gridcolor": "white",
            "linecolor": "white",
            "ticks": ""
           }
          },
          "scene": {
           "xaxis": {
            "backgroundcolor": "#E5ECF6",
            "gridcolor": "white",
            "gridwidth": 2,
            "linecolor": "white",
            "showbackground": true,
            "ticks": "",
            "zerolinecolor": "white"
           },
           "yaxis": {
            "backgroundcolor": "#E5ECF6",
            "gridcolor": "white",
            "gridwidth": 2,
            "linecolor": "white",
            "showbackground": true,
            "ticks": "",
            "zerolinecolor": "white"
           },
           "zaxis": {
            "backgroundcolor": "#E5ECF6",
            "gridcolor": "white",
            "gridwidth": 2,
            "linecolor": "white",
            "showbackground": true,
            "ticks": "",
            "zerolinecolor": "white"
           }
          },
          "shapedefaults": {
           "line": {
            "color": "#2a3f5f"
           }
          },
          "ternary": {
           "aaxis": {
            "gridcolor": "white",
            "linecolor": "white",
            "ticks": ""
           },
           "baxis": {
            "gridcolor": "white",
            "linecolor": "white",
            "ticks": ""
           },
           "bgcolor": "#E5ECF6",
           "caxis": {
            "gridcolor": "white",
            "linecolor": "white",
            "ticks": ""
           }
          },
          "title": {
           "x": 0.05
          },
          "xaxis": {
           "automargin": true,
           "gridcolor": "white",
           "linecolor": "white",
           "ticks": "",
           "title": {
            "standoff": 15
           },
           "zerolinecolor": "white",
           "zerolinewidth": 2
          },
          "yaxis": {
           "automargin": true,
           "gridcolor": "white",
           "linecolor": "white",
           "ticks": "",
           "title": {
            "standoff": 15
           },
           "zerolinecolor": "white",
           "zerolinewidth": 2
          }
         }
        }
       }
      },
      "text/html": [
       "<div>                            <div id=\"3ab9f974-5250-4f6b-b93d-5f81ae537bda\" class=\"plotly-graph-div\" style=\"height:525px; width:100%;\"></div>            <script type=\"text/javascript\">                require([\"plotly\"], function(Plotly) {                    window.PLOTLYENV=window.PLOTLYENV || {};                                    if (document.getElementById(\"3ab9f974-5250-4f6b-b93d-5f81ae537bda\")) {                    Plotly.newPlot(                        \"3ab9f974-5250-4f6b-b93d-5f81ae537bda\",                        [{\"branchvalues\":\"total\",\"customdata\":[[\"ATE\",1237108.0],[\"BARRANCO\",376251.0],[\"BRE\\u00c3\\u0091A\",154109.0],[\"BRE\\u00d1A\",757016.0],[\"CARABAYLLO\",155904.0],[\"CHACLACAYO\",4291.0],[\"CHORRILLOS\",1077053.0],[\"COMAS\",1061617.0],[\"EL AGUSTINO\",230059.0],[\"INDEPENDENCIA\",1254895.0],[\"JESUS MARIA\",5459961.0],[\"LA MOLINA\",940301.0],[\"LA VICTORIA\",1454932.0],[\"LIMA\",6015148.0],[\"LINCE\",1127752.0],[\"LOS OLIVOS\",1547065.0],[\"LURIGANCHO\",378972.0],[\"LURIN\",147004.0],[\"MAGDALENA DEL MAR\",100052.0],[\"MIRAFLORES\",3401174.0],[\"PUEBLO LIBRE\",1919868.0],[\"PUENTE PIEDRA\",402217.0],[\"RIMAC\",478231.0],[\"SAN BARTOLO\",10896.0],[\"SAN BORJA\",3492492.0],[\"SAN ISIDRO\",4586090.0],[\"SAN JUAN DE LURIGANCHO\",2128508.0],[\"SAN JUAN DE MIRAFLORES\",1377509.0],[\"SAN LUIS\",882520.0],[\"SAN MARTIN DE PORRES\",2323451.0],[\"SAN MIGUEL\",2394611.0],[\"SANTA ANITA\",666015.0],[\"SANTIAGO DE SURCO\",1687939.0],[\"SURQUILLO\",1297054.0],[\"VILLA EL SALVADOR\",992327.0],[\"VILLA MARIA DEL TRIUNFO\",856485.0],[\"(?)\",2920174.259206004]],\"domain\":{\"x\":[0.0,1.0],\"y\":[0.0,1.0]},\"hovertemplate\":\"labels=%{label}<br>NU_TOTAL_ATENDIDOS_sum=%{value}<br>parent=%{parent}<br>id=%{id}<br>DISTRITO=%{customdata[0]}<br>NU_TOTAL_ATENDIDOS=%{color}<extra></extra>\",\"ids\":[\"Codigo de distrito/ATE\",\"Codigo de distrito/BARRANCO\",\"Codigo de distrito/BRE\\u00c3\\u0091A\",\"Codigo de distrito/BRE\\u00d1A\",\"Codigo de distrito/CARABAYLLO\",\"Codigo de distrito/CHACLACAYO\",\"Codigo de distrito/CHORRILLOS\",\"Codigo de distrito/COMAS\",\"Codigo de distrito/EL AGUSTINO\",\"Codigo de distrito/INDEPENDENCIA\",\"Codigo de distrito/JESUS MARIA\",\"Codigo de distrito/LA MOLINA\",\"Codigo de distrito/LA VICTORIA\",\"Codigo de distrito/LIMA\",\"Codigo de distrito/LINCE\",\"Codigo de distrito/LOS OLIVOS\",\"Codigo de distrito/LURIGANCHO\",\"Codigo de distrito/LURIN\",\"Codigo de distrito/MAGDALENA DEL MAR\",\"Codigo de distrito/MIRAFLORES\",\"Codigo de distrito/PUEBLO LIBRE\",\"Codigo de distrito/PUENTE PIEDRA\",\"Codigo de distrito/RIMAC\",\"Codigo de distrito/SAN BARTOLO\",\"Codigo de distrito/SAN BORJA\",\"Codigo de distrito/SAN ISIDRO\",\"Codigo de distrito/SAN JUAN DE LURIGANCHO\",\"Codigo de distrito/SAN JUAN DE MIRAFLORES\",\"Codigo de distrito/SAN LUIS\",\"Codigo de distrito/SAN MARTIN DE PORRES\",\"Codigo de distrito/SAN MIGUEL\",\"Codigo de distrito/SANTA ANITA\",\"Codigo de distrito/SANTIAGO DE SURCO\",\"Codigo de distrito/SURQUILLO\",\"Codigo de distrito/VILLA EL SALVADOR\",\"Codigo de distrito/VILLA MARIA DEL TRIUNFO\",\"Codigo de distrito\"],\"labels\":[\"ATE\",\"BARRANCO\",\"BRE\\u00c3\\u0091A\",\"BRE\\u00d1A\",\"CARABAYLLO\",\"CHACLACAYO\",\"CHORRILLOS\",\"COMAS\",\"EL AGUSTINO\",\"INDEPENDENCIA\",\"JESUS MARIA\",\"LA MOLINA\",\"LA VICTORIA\",\"LIMA\",\"LINCE\",\"LOS OLIVOS\",\"LURIGANCHO\",\"LURIN\",\"MAGDALENA DEL MAR\",\"MIRAFLORES\",\"PUEBLO LIBRE\",\"PUENTE PIEDRA\",\"RIMAC\",\"SAN BARTOLO\",\"SAN BORJA\",\"SAN ISIDRO\",\"SAN JUAN DE LURIGANCHO\",\"SAN JUAN DE MIRAFLORES\",\"SAN LUIS\",\"SAN MARTIN DE PORRES\",\"SAN MIGUEL\",\"SANTA ANITA\",\"SANTIAGO DE SURCO\",\"SURQUILLO\",\"VILLA EL SALVADOR\",\"VILLA MARIA DEL TRIUNFO\",\"Codigo de distrito\"],\"marker\":{\"coloraxis\":\"coloraxis\",\"colors\":[1237108.0,376251.0,154109.0,757016.0,155904.0,4291.0,1077053.0,1061617.0,230059.0,1254895.0,5459961.0,940301.0,1454932.0,6015148.0,1127752.0,1547065.0,378972.0,147004.0,100052.0,3401174.0,1919868.0,402217.0,478231.0,10896.0,3492492.0,4586090.0,2128508.0,1377509.0,882520.0,2323451.0,2394611.0,666015.0,1687939.0,1297054.0,992327.0,856485.0,2920174.259206004]},\"name\":\"\",\"parents\":[\"Codigo de distrito\",\"Codigo de distrito\",\"Codigo de distrito\",\"Codigo de distrito\",\"Codigo de distrito\",\"Codigo de distrito\",\"Codigo de distrito\",\"Codigo de distrito\",\"Codigo de distrito\",\"Codigo de distrito\",\"Codigo de distrito\",\"Codigo de distrito\",\"Codigo de distrito\",\"Codigo de distrito\",\"Codigo de distrito\",\"Codigo de distrito\",\"Codigo de distrito\",\"Codigo de distrito\",\"Codigo de distrito\",\"Codigo de distrito\",\"Codigo de distrito\",\"Codigo de distrito\",\"Codigo de distrito\",\"Codigo de distrito\",\"Codigo de distrito\",\"Codigo de distrito\",\"Codigo de distrito\",\"Codigo de distrito\",\"Codigo de distrito\",\"Codigo de distrito\",\"Codigo de distrito\",\"Codigo de distrito\",\"Codigo de distrito\",\"Codigo de distrito\",\"Codigo de distrito\",\"Codigo de distrito\",\"\"],\"values\":[1237108,376251,154109,757016,155904,4291,1077053,1061617,230059,1254895,5459961,940301,1454932,6015148,1127752,1547065,378972,147004,100052,3401174,1919868,402217,478231,10896,3492492,4586090,2128508,1377509,882520,2323451,2394611,666015,1687939,1297054,992327,856485,52376877],\"type\":\"treemap\"}],                        {\"template\":{\"data\":{\"bar\":[{\"error_x\":{\"color\":\"#2a3f5f\"},\"error_y\":{\"color\":\"#2a3f5f\"},\"marker\":{\"line\":{\"color\":\"#E5ECF6\",\"width\":0.5},\"pattern\":{\"fillmode\":\"overlay\",\"size\":10,\"solidity\":0.2}},\"type\":\"bar\"}],\"barpolar\":[{\"marker\":{\"line\":{\"color\":\"#E5ECF6\",\"width\":0.5},\"pattern\":{\"fillmode\":\"overlay\",\"size\":10,\"solidity\":0.2}},\"type\":\"barpolar\"}],\"carpet\":[{\"aaxis\":{\"endlinecolor\":\"#2a3f5f\",\"gridcolor\":\"white\",\"linecolor\":\"white\",\"minorgridcolor\":\"white\",\"startlinecolor\":\"#2a3f5f\"},\"baxis\":{\"endlinecolor\":\"#2a3f5f\",\"gridcolor\":\"white\",\"linecolor\":\"white\",\"minorgridcolor\":\"white\",\"startlinecolor\":\"#2a3f5f\"},\"type\":\"carpet\"}],\"choropleth\":[{\"colorbar\":{\"outlinewidth\":0,\"ticks\":\"\"},\"type\":\"choropleth\"}],\"contour\":[{\"colorbar\":{\"outlinewidth\":0,\"ticks\":\"\"},\"colorscale\":[[0.0,\"#0d0887\"],[0.1111111111111111,\"#46039f\"],[0.2222222222222222,\"#7201a8\"],[0.3333333333333333,\"#9c179e\"],[0.4444444444444444,\"#bd3786\"],[0.5555555555555556,\"#d8576b\"],[0.6666666666666666,\"#ed7953\"],[0.7777777777777778,\"#fb9f3a\"],[0.8888888888888888,\"#fdca26\"],[1.0,\"#f0f921\"]],\"type\":\"contour\"}],\"contourcarpet\":[{\"colorbar\":{\"outlinewidth\":0,\"ticks\":\"\"},\"type\":\"contourcarpet\"}],\"heatmap\":[{\"colorbar\":{\"outlinewidth\":0,\"ticks\":\"\"},\"colorscale\":[[0.0,\"#0d0887\"],[0.1111111111111111,\"#46039f\"],[0.2222222222222222,\"#7201a8\"],[0.3333333333333333,\"#9c179e\"],[0.4444444444444444,\"#bd3786\"],[0.5555555555555556,\"#d8576b\"],[0.6666666666666666,\"#ed7953\"],[0.7777777777777778,\"#fb9f3a\"],[0.8888888888888888,\"#fdca26\"],[1.0,\"#f0f921\"]],\"type\":\"heatmap\"}],\"heatmapgl\":[{\"colorbar\":{\"outlinewidth\":0,\"ticks\":\"\"},\"colorscale\":[[0.0,\"#0d0887\"],[0.1111111111111111,\"#46039f\"],[0.2222222222222222,\"#7201a8\"],[0.3333333333333333,\"#9c179e\"],[0.4444444444444444,\"#bd3786\"],[0.5555555555555556,\"#d8576b\"],[0.6666666666666666,\"#ed7953\"],[0.7777777777777778,\"#fb9f3a\"],[0.8888888888888888,\"#fdca26\"],[1.0,\"#f0f921\"]],\"type\":\"heatmapgl\"}],\"histogram\":[{\"marker\":{\"pattern\":{\"fillmode\":\"overlay\",\"size\":10,\"solidity\":0.2}},\"type\":\"histogram\"}],\"histogram2d\":[{\"colorbar\":{\"outlinewidth\":0,\"ticks\":\"\"},\"colorscale\":[[0.0,\"#0d0887\"],[0.1111111111111111,\"#46039f\"],[0.2222222222222222,\"#7201a8\"],[0.3333333333333333,\"#9c179e\"],[0.4444444444444444,\"#bd3786\"],[0.5555555555555556,\"#d8576b\"],[0.6666666666666666,\"#ed7953\"],[0.7777777777777778,\"#fb9f3a\"],[0.8888888888888888,\"#fdca26\"],[1.0,\"#f0f921\"]],\"type\":\"histogram2d\"}],\"histogram2dcontour\":[{\"colorbar\":{\"outlinewidth\":0,\"ticks\":\"\"},\"colorscale\":[[0.0,\"#0d0887\"],[0.1111111111111111,\"#46039f\"],[0.2222222222222222,\"#7201a8\"],[0.3333333333333333,\"#9c179e\"],[0.4444444444444444,\"#bd3786\"],[0.5555555555555556,\"#d8576b\"],[0.6666666666666666,\"#ed7953\"],[0.7777777777777778,\"#fb9f3a\"],[0.8888888888888888,\"#fdca26\"],[1.0,\"#f0f921\"]],\"type\":\"histogram2dcontour\"}],\"mesh3d\":[{\"colorbar\":{\"outlinewidth\":0,\"ticks\":\"\"},\"type\":\"mesh3d\"}],\"parcoords\":[{\"line\":{\"colorbar\":{\"outlinewidth\":0,\"ticks\":\"\"}},\"type\":\"parcoords\"}],\"pie\":[{\"automargin\":true,\"type\":\"pie\"}],\"scatter\":[{\"marker\":{\"colorbar\":{\"outlinewidth\":0,\"ticks\":\"\"}},\"type\":\"scatter\"}],\"scatter3d\":[{\"line\":{\"colorbar\":{\"outlinewidth\":0,\"ticks\":\"\"}},\"marker\":{\"colorbar\":{\"outlinewidth\":0,\"ticks\":\"\"}},\"type\":\"scatter3d\"}],\"scattercarpet\":[{\"marker\":{\"colorbar\":{\"outlinewidth\":0,\"ticks\":\"\"}},\"type\":\"scattercarpet\"}],\"scattergeo\":[{\"marker\":{\"colorbar\":{\"outlinewidth\":0,\"ticks\":\"\"}},\"type\":\"scattergeo\"}],\"scattergl\":[{\"marker\":{\"colorbar\":{\"outlinewidth\":0,\"ticks\":\"\"}},\"type\":\"scattergl\"}],\"scattermapbox\":[{\"marker\":{\"colorbar\":{\"outlinewidth\":0,\"ticks\":\"\"}},\"type\":\"scattermapbox\"}],\"scatterpolar\":[{\"marker\":{\"colorbar\":{\"outlinewidth\":0,\"ticks\":\"\"}},\"type\":\"scatterpolar\"}],\"scatterpolargl\":[{\"marker\":{\"colorbar\":{\"outlinewidth\":0,\"ticks\":\"\"}},\"type\":\"scatterpolargl\"}],\"scatterternary\":[{\"marker\":{\"colorbar\":{\"outlinewidth\":0,\"ticks\":\"\"}},\"type\":\"scatterternary\"}],\"surface\":[{\"colorbar\":{\"outlinewidth\":0,\"ticks\":\"\"},\"colorscale\":[[0.0,\"#0d0887\"],[0.1111111111111111,\"#46039f\"],[0.2222222222222222,\"#7201a8\"],[0.3333333333333333,\"#9c179e\"],[0.4444444444444444,\"#bd3786\"],[0.5555555555555556,\"#d8576b\"],[0.6666666666666666,\"#ed7953\"],[0.7777777777777778,\"#fb9f3a\"],[0.8888888888888888,\"#fdca26\"],[1.0,\"#f0f921\"]],\"type\":\"surface\"}],\"table\":[{\"cells\":{\"fill\":{\"color\":\"#EBF0F8\"},\"line\":{\"color\":\"white\"}},\"header\":{\"fill\":{\"color\":\"#C8D4E3\"},\"line\":{\"color\":\"white\"}},\"type\":\"table\"}]},\"layout\":{\"annotationdefaults\":{\"arrowcolor\":\"#2a3f5f\",\"arrowhead\":0,\"arrowwidth\":1},\"autotypenumbers\":\"strict\",\"coloraxis\":{\"colorbar\":{\"outlinewidth\":0,\"ticks\":\"\"}},\"colorscale\":{\"diverging\":[[0,\"#8e0152\"],[0.1,\"#c51b7d\"],[0.2,\"#de77ae\"],[0.3,\"#f1b6da\"],[0.4,\"#fde0ef\"],[0.5,\"#f7f7f7\"],[0.6,\"#e6f5d0\"],[0.7,\"#b8e186\"],[0.8,\"#7fbc41\"],[0.9,\"#4d9221\"],[1,\"#276419\"]],\"sequential\":[[0.0,\"#0d0887\"],[0.1111111111111111,\"#46039f\"],[0.2222222222222222,\"#7201a8\"],[0.3333333333333333,\"#9c179e\"],[0.4444444444444444,\"#bd3786\"],[0.5555555555555556,\"#d8576b\"],[0.6666666666666666,\"#ed7953\"],[0.7777777777777778,\"#fb9f3a\"],[0.8888888888888888,\"#fdca26\"],[1.0,\"#f0f921\"]],\"sequentialminus\":[[0.0,\"#0d0887\"],[0.1111111111111111,\"#46039f\"],[0.2222222222222222,\"#7201a8\"],[0.3333333333333333,\"#9c179e\"],[0.4444444444444444,\"#bd3786\"],[0.5555555555555556,\"#d8576b\"],[0.6666666666666666,\"#ed7953\"],[0.7777777777777778,\"#fb9f3a\"],[0.8888888888888888,\"#fdca26\"],[1.0,\"#f0f921\"]]},\"colorway\":[\"#636efa\",\"#EF553B\",\"#00cc96\",\"#ab63fa\",\"#FFA15A\",\"#19d3f3\",\"#FF6692\",\"#B6E880\",\"#FF97FF\",\"#FECB52\"],\"font\":{\"color\":\"#2a3f5f\"},\"geo\":{\"bgcolor\":\"white\",\"lakecolor\":\"white\",\"landcolor\":\"#E5ECF6\",\"showlakes\":true,\"showland\":true,\"subunitcolor\":\"white\"},\"hoverlabel\":{\"align\":\"left\"},\"hovermode\":\"closest\",\"mapbox\":{\"style\":\"light\"},\"paper_bgcolor\":\"white\",\"plot_bgcolor\":\"#E5ECF6\",\"polar\":{\"angularaxis\":{\"gridcolor\":\"white\",\"linecolor\":\"white\",\"ticks\":\"\"},\"bgcolor\":\"#E5ECF6\",\"radialaxis\":{\"gridcolor\":\"white\",\"linecolor\":\"white\",\"ticks\":\"\"}},\"scene\":{\"xaxis\":{\"backgroundcolor\":\"#E5ECF6\",\"gridcolor\":\"white\",\"gridwidth\":2,\"linecolor\":\"white\",\"showbackground\":true,\"ticks\":\"\",\"zerolinecolor\":\"white\"},\"yaxis\":{\"backgroundcolor\":\"#E5ECF6\",\"gridcolor\":\"white\",\"gridwidth\":2,\"linecolor\":\"white\",\"showbackground\":true,\"ticks\":\"\",\"zerolinecolor\":\"white\"},\"zaxis\":{\"backgroundcolor\":\"#E5ECF6\",\"gridcolor\":\"white\",\"gridwidth\":2,\"linecolor\":\"white\",\"showbackground\":true,\"ticks\":\"\",\"zerolinecolor\":\"white\"}},\"shapedefaults\":{\"line\":{\"color\":\"#2a3f5f\"}},\"ternary\":{\"aaxis\":{\"gridcolor\":\"white\",\"linecolor\":\"white\",\"ticks\":\"\"},\"baxis\":{\"gridcolor\":\"white\",\"linecolor\":\"white\",\"ticks\":\"\"},\"bgcolor\":\"#E5ECF6\",\"caxis\":{\"gridcolor\":\"white\",\"linecolor\":\"white\",\"ticks\":\"\"}},\"title\":{\"x\":0.05},\"xaxis\":{\"automargin\":true,\"gridcolor\":\"white\",\"linecolor\":\"white\",\"ticks\":\"\",\"title\":{\"standoff\":15},\"zerolinecolor\":\"white\",\"zerolinewidth\":2},\"yaxis\":{\"automargin\":true,\"gridcolor\":\"white\",\"linecolor\":\"white\",\"ticks\":\"\",\"title\":{\"standoff\":15},\"zerolinecolor\":\"white\",\"zerolinewidth\":2}}},\"coloraxis\":{\"colorbar\":{\"title\":{\"text\":\"NU_TOTAL_ATENDIDOS\"}},\"colorscale\":[[0.0,\"#0d0887\"],[0.1111111111111111,\"#46039f\"],[0.2222222222222222,\"#7201a8\"],[0.3333333333333333,\"#9c179e\"],[0.4444444444444444,\"#bd3786\"],[0.5555555555555556,\"#d8576b\"],[0.6666666666666666,\"#ed7953\"],[0.7777777777777778,\"#fb9f3a\"],[0.8888888888888888,\"#fdca26\"],[1.0,\"#f0f921\"]]},\"legend\":{\"tracegroupgap\":0},\"margin\":{\"t\":60}},                        {\"responsive\": true}                    ).then(function(){\n",
       "                            \n",
       "var gd = document.getElementById('3ab9f974-5250-4f6b-b93d-5f81ae537bda');\n",
       "var x = new MutationObserver(function (mutations, observer) {{\n",
       "        var display = window.getComputedStyle(gd).display;\n",
       "        if (!display || display === 'none') {{\n",
       "            console.log([gd, 'removed!']);\n",
       "            Plotly.purge(gd);\n",
       "            observer.disconnect();\n",
       "        }}\n",
       "}});\n",
       "\n",
       "// Listen for the removal of the full notebook cells\n",
       "var notebookContainer = gd.closest('#notebook-container');\n",
       "if (notebookContainer) {{\n",
       "    x.observe(notebookContainer, {childList: true});\n",
       "}}\n",
       "\n",
       "// Listen for the clearing of the current output cell\n",
       "var outputEl = gd.closest('.output');\n",
       "if (outputEl) {{\n",
       "    x.observe(outputEl, {childList: true});\n",
       "}}\n",
       "\n",
       "                        })                };                });            </script>        </div>"
      ]
     },
     "metadata": {},
     "output_type": "display_data"
    }
   ],
   "source": [
    "data_temp = data_lima_m.groupby(['DISTRITO']).agg({ 'NU_TOTAL_ATENDIDOS': \"sum\"})\n",
    "data_temp = data_temp.sort_values(by=['DISTRITO']).reset_index()\n",
    "\n",
    "fig = px.treemap(data_temp, path=[px.Constant('Codigo de distrito'),'DISTRITO'], values='NU_TOTAL_ATENDIDOS',\n",
    "                  color='NU_TOTAL_ATENDIDOS', hover_data=['DISTRITO'])\n",
    "fig.show()"
   ]
  },
  {
   "cell_type": "code",
   "execution_count": null,
   "id": "32266c02",
   "metadata": {},
   "outputs": [],
   "source": []
  }
 ],
 "metadata": {
  "kernelspec": {
   "display_name": "Python 3",
   "language": "python",
   "name": "python3"
  },
  "language_info": {
   "codemirror_mode": {
    "name": "ipython",
    "version": 3
   },
   "file_extension": ".py",
   "mimetype": "text/x-python",
   "name": "python",
   "nbconvert_exporter": "python",
   "pygments_lexer": "ipython3",
   "version": "3.8.8"
  }
 },
 "nbformat": 4,
 "nbformat_minor": 5
}

{
 "cells": [
  {
   "cell_type": "code",
   "execution_count": 1,
   "id": "d04f2a7c",
   "metadata": {},
   "outputs": [],
   "source": [
    "import pandas as pd\n",
    "import numpy as np\n",
    "import glob\n",
    "from tqdm import tqdm, trange\n",
    "\n",
    "import matplotlib.pyplot as plt\n",
    "import plotly.express as px\n",
    "from difflib import SequenceMatcher"
   ]
  },
  {
   "cell_type": "code",
   "execution_count": 2,
   "id": "482f2935",
   "metadata": {},
   "outputs": [],
   "source": [
    "def millions(x, pos):\n",
    "    \"\"\"The two args are the value and tick position.\"\"\"\n",
    "    return '{:1.1f}M'.format(x*1e-6)"
   ]
  },
  {
   "cell_type": "markdown",
   "id": "298880ee",
   "metadata": {},
   "source": [
    "## Morbilidad B2"
   ]
  },
  {
   "cell_type": "code",
   "execution_count": 3,
   "id": "62995b83",
   "metadata": {
    "scrolled": false
   },
   "outputs": [],
   "source": [
    "# Morbilidad B2\n",
    "data = pd.read_pickle('data/morbilidad_b2.csv')\n",
    "\n",
    "data_lima_p = data[(data['STATE']=='LIMA')].reset_index(drop=True)\n",
    "data_lima_m = data[(data['PROVINCE']=='LIMA') & (data['STATE']=='LIMA')].reset_index(drop=True)\n",
    "del data"
   ]
  },
  {
   "cell_type": "code",
   "execution_count": 4,
   "id": "d5218313",
   "metadata": {
    "scrolled": false
   },
   "outputs": [
    {
     "data": {
      "text/html": [
       "<div>\n",
       "<style scoped>\n",
       "    .dataframe tbody tr th:only-of-type {\n",
       "        vertical-align: middle;\n",
       "    }\n",
       "\n",
       "    .dataframe tbody tr th {\n",
       "        vertical-align: top;\n",
       "    }\n",
       "\n",
       "    .dataframe thead th {\n",
       "        text-align: right;\n",
       "    }\n",
       "</style>\n",
       "<table border=\"1\" class=\"dataframe\">\n",
       "  <thead>\n",
       "    <tr style=\"text-align: right;\">\n",
       "      <th></th>\n",
       "      <th>YEAR</th>\n",
       "      <th>MONTH</th>\n",
       "      <th>UBIGEO</th>\n",
       "      <th>STATE</th>\n",
       "      <th>PROVINCE</th>\n",
       "      <th>DISTRICT</th>\n",
       "      <th>SECTOR</th>\n",
       "      <th>CATEGORY</th>\n",
       "      <th>CO_IPRESS</th>\n",
       "      <th>NAME</th>\n",
       "      <th>SEX</th>\n",
       "      <th>AGE</th>\n",
       "      <th>DIAGNOSIS</th>\n",
       "      <th>QTY_PEOPLE_SERVED</th>\n",
       "      <th>DATE</th>\n",
       "    </tr>\n",
       "  </thead>\n",
       "  <tbody>\n",
       "    <tr>\n",
       "      <th>0</th>\n",
       "      <td>2018</td>\n",
       "      <td>1</td>\n",
       "      <td>150101</td>\n",
       "      <td>LIMA</td>\n",
       "      <td>LIMA</td>\n",
       "      <td>LIMA</td>\n",
       "      <td>PRIVADO</td>\n",
       "      <td>II-2</td>\n",
       "      <td>00015610</td>\n",
       "      <td>CLÍNICA INTERNACIONAL</td>\n",
       "      <td>2</td>\n",
       "      <td>7</td>\n",
       "      <td>R10.2</td>\n",
       "      <td>10</td>\n",
       "      <td>2018-01-01</td>\n",
       "    </tr>\n",
       "    <tr>\n",
       "      <th>1</th>\n",
       "      <td>2018</td>\n",
       "      <td>1</td>\n",
       "      <td>150101</td>\n",
       "      <td>LIMA</td>\n",
       "      <td>LIMA</td>\n",
       "      <td>LIMA</td>\n",
       "      <td>PRIVADO</td>\n",
       "      <td>II-2</td>\n",
       "      <td>00015610</td>\n",
       "      <td>CLÍNICA INTERNACIONAL</td>\n",
       "      <td>2</td>\n",
       "      <td>7</td>\n",
       "      <td>R10.4</td>\n",
       "      <td>11</td>\n",
       "      <td>2018-01-01</td>\n",
       "    </tr>\n",
       "    <tr>\n",
       "      <th>2</th>\n",
       "      <td>2018</td>\n",
       "      <td>1</td>\n",
       "      <td>150101</td>\n",
       "      <td>LIMA</td>\n",
       "      <td>LIMA</td>\n",
       "      <td>LIMA</td>\n",
       "      <td>PRIVADO</td>\n",
       "      <td>II-2</td>\n",
       "      <td>00015610</td>\n",
       "      <td>CLÍNICA INTERNACIONAL</td>\n",
       "      <td>2</td>\n",
       "      <td>7</td>\n",
       "      <td>R11.X</td>\n",
       "      <td>3</td>\n",
       "      <td>2018-01-01</td>\n",
       "    </tr>\n",
       "    <tr>\n",
       "      <th>3</th>\n",
       "      <td>2018</td>\n",
       "      <td>1</td>\n",
       "      <td>150101</td>\n",
       "      <td>LIMA</td>\n",
       "      <td>LIMA</td>\n",
       "      <td>LIMA</td>\n",
       "      <td>PRIVADO</td>\n",
       "      <td>II-2</td>\n",
       "      <td>00015610</td>\n",
       "      <td>CLÍNICA INTERNACIONAL</td>\n",
       "      <td>2</td>\n",
       "      <td>7</td>\n",
       "      <td>R16.0</td>\n",
       "      <td>1</td>\n",
       "      <td>2018-01-01</td>\n",
       "    </tr>\n",
       "    <tr>\n",
       "      <th>4</th>\n",
       "      <td>2018</td>\n",
       "      <td>1</td>\n",
       "      <td>150101</td>\n",
       "      <td>LIMA</td>\n",
       "      <td>LIMA</td>\n",
       "      <td>LIMA</td>\n",
       "      <td>PRIVADO</td>\n",
       "      <td>II-2</td>\n",
       "      <td>00015610</td>\n",
       "      <td>CLÍNICA INTERNACIONAL</td>\n",
       "      <td>2</td>\n",
       "      <td>7</td>\n",
       "      <td>R42.X</td>\n",
       "      <td>1</td>\n",
       "      <td>2018-01-01</td>\n",
       "    </tr>\n",
       "  </tbody>\n",
       "</table>\n",
       "</div>"
      ],
      "text/plain": [
       "   YEAR  MONTH  UBIGEO STATE PROVINCE DISTRICT   SECTOR CATEGORY CO_IPRESS  \\\n",
       "0  2018      1  150101  LIMA     LIMA     LIMA  PRIVADO     II-2  00015610   \n",
       "1  2018      1  150101  LIMA     LIMA     LIMA  PRIVADO     II-2  00015610   \n",
       "2  2018      1  150101  LIMA     LIMA     LIMA  PRIVADO     II-2  00015610   \n",
       "3  2018      1  150101  LIMA     LIMA     LIMA  PRIVADO     II-2  00015610   \n",
       "4  2018      1  150101  LIMA     LIMA     LIMA  PRIVADO     II-2  00015610   \n",
       "\n",
       "                    NAME SEX AGE DIAGNOSIS  QTY_PEOPLE_SERVED       DATE  \n",
       "0  CLÍNICA INTERNACIONAL   2   7     R10.2                 10 2018-01-01  \n",
       "1  CLÍNICA INTERNACIONAL   2   7     R10.4                 11 2018-01-01  \n",
       "2  CLÍNICA INTERNACIONAL   2   7     R11.X                  3 2018-01-01  \n",
       "3  CLÍNICA INTERNACIONAL   2   7     R16.0                  1 2018-01-01  \n",
       "4  CLÍNICA INTERNACIONAL   2   7     R42.X                  1 2018-01-01  "
      ]
     },
     "execution_count": 4,
     "metadata": {},
     "output_type": "execute_result"
    }
   ],
   "source": [
    "data_lima_m.head()"
   ]
  },
  {
   "cell_type": "code",
   "execution_count": 20,
   "id": "f5f93b0a",
   "metadata": {},
   "outputs": [
    {
     "name": "stdout",
     "output_type": "stream",
     "text": [
      "Qty of unique diagnosis: 10504\n"
     ]
    }
   ],
   "source": [
    "diagnosis = len(data_lima_m['DIAGNOSIS'].unique())\n",
    "print(\"Qty of unique diagnosis:\",diagnosis)"
   ]
  },
  {
   "cell_type": "markdown",
   "id": "17915a31",
   "metadata": {},
   "source": [
    "#### Qty of Unique diagnoses by disctrict"
   ]
  },
  {
   "cell_type": "code",
   "execution_count": 286,
   "id": "7404d53f",
   "metadata": {
    "scrolled": true
   },
   "outputs": [
    {
     "data": {
      "application/vnd.plotly.v1+json": {
       "config": {
        "plotlyServerURL": "https://plot.ly"
       },
       "data": [
        {
         "branchvalues": "total",
         "customdata": [
          [
           "ATE",
           6036
          ],
          [
           "BARRANCO",
           2763
          ],
          [
           "BREÃA",
           2326
          ],
          [
           "BREÑA",
           5139
          ],
          [
           "CARABAYLLO",
           2287
          ],
          [
           "CHACLACAYO",
           438
          ],
          [
           "CHORRILLOS",
           5656
          ],
          [
           "COMAS",
           4291
          ],
          [
           "EL AGUSTINO",
           4528
          ],
          [
           "INDEPENDENCIA",
           5577
          ],
          [
           "JESUS MARIA",
           8496
          ],
          [
           "LA MOLINA",
           5157
          ],
          [
           "LA VICTORIA",
           6877
          ],
          [
           "LIMA",
           8563
          ],
          [
           "LINCE",
           5753
          ],
          [
           "LOS OLIVOS",
           5460
          ],
          [
           "LURIGANCHO",
           4527
          ],
          [
           "LURIN",
           1957
          ],
          [
           "MAGDALENA DEL MAR",
           1414
          ],
          [
           "MIRAFLORES",
           7500
          ],
          [
           "PUEBLO LIBRE",
           7239
          ],
          [
           "PUENTE PIEDRA",
           5223
          ],
          [
           "RIMAC",
           3805
          ],
          [
           "SAN BARTOLO",
           721
          ],
          [
           "SAN BORJA",
           7794
          ],
          [
           "SAN ISIDRO",
           7402
          ],
          [
           "SAN JUAN DE LURIGANCHO",
           7338
          ],
          [
           "SAN JUAN DE MIRAFLORES",
           7511
          ],
          [
           "SAN LUIS",
           4795
          ],
          [
           "SAN MARTIN DE PORRES",
           7429
          ],
          [
           "SAN MIGUEL",
           6969
          ],
          [
           "SANTA ANITA",
           3805
          ],
          [
           "SANTIAGO DE SURCO",
           6737
          ],
          [
           "SURQUILLO",
           3993
          ],
          [
           "VILLA EL SALVADOR",
           5429
          ],
          [
           "VILLA MARIA DEL TRIUNFO",
           4736
          ],
          [
           "(?)",
           6049.057090229492
          ]
         ],
         "domain": {
          "x": [
           0,
           1
          ],
          "y": [
           0,
           1
          ]
         },
         "hovertemplate": "labels=%{label}<br>DIAGNOSIS_sum=%{value}<br>parent=%{parent}<br>id=%{id}<br>DISTRICT=%{customdata[0]}<br>DIAGNOSIS=%{color}<extra></extra>",
         "ids": [
          "DISTRICTS/ATE",
          "DISTRICTS/BARRANCO",
          "DISTRICTS/BREÃA",
          "DISTRICTS/BREÑA",
          "DISTRICTS/CARABAYLLO",
          "DISTRICTS/CHACLACAYO",
          "DISTRICTS/CHORRILLOS",
          "DISTRICTS/COMAS",
          "DISTRICTS/EL AGUSTINO",
          "DISTRICTS/INDEPENDENCIA",
          "DISTRICTS/JESUS MARIA",
          "DISTRICTS/LA MOLINA",
          "DISTRICTS/LA VICTORIA",
          "DISTRICTS/LIMA",
          "DISTRICTS/LINCE",
          "DISTRICTS/LOS OLIVOS",
          "DISTRICTS/LURIGANCHO",
          "DISTRICTS/LURIN",
          "DISTRICTS/MAGDALENA DEL MAR",
          "DISTRICTS/MIRAFLORES",
          "DISTRICTS/PUEBLO LIBRE",
          "DISTRICTS/PUENTE PIEDRA",
          "DISTRICTS/RIMAC",
          "DISTRICTS/SAN BARTOLO",
          "DISTRICTS/SAN BORJA",
          "DISTRICTS/SAN ISIDRO",
          "DISTRICTS/SAN JUAN DE LURIGANCHO",
          "DISTRICTS/SAN JUAN DE MIRAFLORES",
          "DISTRICTS/SAN LUIS",
          "DISTRICTS/SAN MARTIN DE PORRES",
          "DISTRICTS/SAN MIGUEL",
          "DISTRICTS/SANTA ANITA",
          "DISTRICTS/SANTIAGO DE SURCO",
          "DISTRICTS/SURQUILLO",
          "DISTRICTS/VILLA EL SALVADOR",
          "DISTRICTS/VILLA MARIA DEL TRIUNFO",
          "DISTRICTS"
         ],
         "labels": [
          "ATE",
          "BARRANCO",
          "BREÃA",
          "BREÑA",
          "CARABAYLLO",
          "CHACLACAYO",
          "CHORRILLOS",
          "COMAS",
          "EL AGUSTINO",
          "INDEPENDENCIA",
          "JESUS MARIA",
          "LA MOLINA",
          "LA VICTORIA",
          "LIMA",
          "LINCE",
          "LOS OLIVOS",
          "LURIGANCHO",
          "LURIN",
          "MAGDALENA DEL MAR",
          "MIRAFLORES",
          "PUEBLO LIBRE",
          "PUENTE PIEDRA",
          "RIMAC",
          "SAN BARTOLO",
          "SAN BORJA",
          "SAN ISIDRO",
          "SAN JUAN DE LURIGANCHO",
          "SAN JUAN DE MIRAFLORES",
          "SAN LUIS",
          "SAN MARTIN DE PORRES",
          "SAN MIGUEL",
          "SANTA ANITA",
          "SANTIAGO DE SURCO",
          "SURQUILLO",
          "VILLA EL SALVADOR",
          "VILLA MARIA DEL TRIUNFO",
          "DISTRICTS"
         ],
         "marker": {
          "coloraxis": "coloraxis",
          "colors": [
           6036,
           2763,
           2326,
           5139,
           2287,
           438,
           5656,
           4291,
           4528,
           5577,
           8496,
           5157,
           6877,
           8563,
           5753,
           5460,
           4527,
           1957,
           1414,
           7500,
           7239,
           5223,
           3805,
           721,
           7794,
           7402,
           7338,
           7511,
           4795,
           7429,
           6969,
           3805,
           6737,
           3993,
           5429,
           4736,
           6049.057090229492
          ]
         },
         "name": "",
         "parents": [
          "DISTRICTS",
          "DISTRICTS",
          "DISTRICTS",
          "DISTRICTS",
          "DISTRICTS",
          "DISTRICTS",
          "DISTRICTS",
          "DISTRICTS",
          "DISTRICTS",
          "DISTRICTS",
          "DISTRICTS",
          "DISTRICTS",
          "DISTRICTS",
          "DISTRICTS",
          "DISTRICTS",
          "DISTRICTS",
          "DISTRICTS",
          "DISTRICTS",
          "DISTRICTS",
          "DISTRICTS",
          "DISTRICTS",
          "DISTRICTS",
          "DISTRICTS",
          "DISTRICTS",
          "DISTRICTS",
          "DISTRICTS",
          "DISTRICTS",
          "DISTRICTS",
          "DISTRICTS",
          "DISTRICTS",
          "DISTRICTS",
          "DISTRICTS",
          "DISTRICTS",
          "DISTRICTS",
          "DISTRICTS",
          "DISTRICTS",
          ""
         ],
         "type": "treemap",
         "values": [
          6036,
          2763,
          2326,
          5139,
          2287,
          438,
          5656,
          4291,
          4528,
          5577,
          8496,
          5157,
          6877,
          8563,
          5753,
          5460,
          4527,
          1957,
          1414,
          7500,
          7239,
          5223,
          3805,
          721,
          7794,
          7402,
          7338,
          7511,
          4795,
          7429,
          6969,
          3805,
          6737,
          3993,
          5429,
          4736,
          185671
         ]
        }
       ],
       "layout": {
        "coloraxis": {
         "colorbar": {
          "title": {
           "text": "DIAGNOSIS"
          }
         },
         "colorscale": [
          [
           0,
           "#0d0887"
          ],
          [
           0.1111111111111111,
           "#46039f"
          ],
          [
           0.2222222222222222,
           "#7201a8"
          ],
          [
           0.3333333333333333,
           "#9c179e"
          ],
          [
           0.4444444444444444,
           "#bd3786"
          ],
          [
           0.5555555555555556,
           "#d8576b"
          ],
          [
           0.6666666666666666,
           "#ed7953"
          ],
          [
           0.7777777777777778,
           "#fb9f3a"
          ],
          [
           0.8888888888888888,
           "#fdca26"
          ],
          [
           1,
           "#f0f921"
          ]
         ]
        },
        "legend": {
         "tracegroupgap": 0
        },
        "margin": {
         "t": 60
        },
        "template": {
         "data": {
          "bar": [
           {
            "error_x": {
             "color": "#2a3f5f"
            },
            "error_y": {
             "color": "#2a3f5f"
            },
            "marker": {
             "line": {
              "color": "#E5ECF6",
              "width": 0.5
             },
             "pattern": {
              "fillmode": "overlay",
              "size": 10,
              "solidity": 0.2
             }
            },
            "type": "bar"
           }
          ],
          "barpolar": [
           {
            "marker": {
             "line": {
              "color": "#E5ECF6",
              "width": 0.5
             },
             "pattern": {
              "fillmode": "overlay",
              "size": 10,
              "solidity": 0.2
             }
            },
            "type": "barpolar"
           }
          ],
          "carpet": [
           {
            "aaxis": {
             "endlinecolor": "#2a3f5f",
             "gridcolor": "white",
             "linecolor": "white",
             "minorgridcolor": "white",
             "startlinecolor": "#2a3f5f"
            },
            "baxis": {
             "endlinecolor": "#2a3f5f",
             "gridcolor": "white",
             "linecolor": "white",
             "minorgridcolor": "white",
             "startlinecolor": "#2a3f5f"
            },
            "type": "carpet"
           }
          ],
          "choropleth": [
           {
            "colorbar": {
             "outlinewidth": 0,
             "ticks": ""
            },
            "type": "choropleth"
           }
          ],
          "contour": [
           {
            "colorbar": {
             "outlinewidth": 0,
             "ticks": ""
            },
            "colorscale": [
             [
              0,
              "#0d0887"
             ],
             [
              0.1111111111111111,
              "#46039f"
             ],
             [
              0.2222222222222222,
              "#7201a8"
             ],
             [
              0.3333333333333333,
              "#9c179e"
             ],
             [
              0.4444444444444444,
              "#bd3786"
             ],
             [
              0.5555555555555556,
              "#d8576b"
             ],
             [
              0.6666666666666666,
              "#ed7953"
             ],
             [
              0.7777777777777778,
              "#fb9f3a"
             ],
             [
              0.8888888888888888,
              "#fdca26"
             ],
             [
              1,
              "#f0f921"
             ]
            ],
            "type": "contour"
           }
          ],
          "contourcarpet": [
           {
            "colorbar": {
             "outlinewidth": 0,
             "ticks": ""
            },
            "type": "contourcarpet"
           }
          ],
          "heatmap": [
           {
            "colorbar": {
             "outlinewidth": 0,
             "ticks": ""
            },
            "colorscale": [
             [
              0,
              "#0d0887"
             ],
             [
              0.1111111111111111,
              "#46039f"
             ],
             [
              0.2222222222222222,
              "#7201a8"
             ],
             [
              0.3333333333333333,
              "#9c179e"
             ],
             [
              0.4444444444444444,
              "#bd3786"
             ],
             [
              0.5555555555555556,
              "#d8576b"
             ],
             [
              0.6666666666666666,
              "#ed7953"
             ],
             [
              0.7777777777777778,
              "#fb9f3a"
             ],
             [
              0.8888888888888888,
              "#fdca26"
             ],
             [
              1,
              "#f0f921"
             ]
            ],
            "type": "heatmap"
           }
          ],
          "heatmapgl": [
           {
            "colorbar": {
             "outlinewidth": 0,
             "ticks": ""
            },
            "colorscale": [
             [
              0,
              "#0d0887"
             ],
             [
              0.1111111111111111,
              "#46039f"
             ],
             [
              0.2222222222222222,
              "#7201a8"
             ],
             [
              0.3333333333333333,
              "#9c179e"
             ],
             [
              0.4444444444444444,
              "#bd3786"
             ],
             [
              0.5555555555555556,
              "#d8576b"
             ],
             [
              0.6666666666666666,
              "#ed7953"
             ],
             [
              0.7777777777777778,
              "#fb9f3a"
             ],
             [
              0.8888888888888888,
              "#fdca26"
             ],
             [
              1,
              "#f0f921"
             ]
            ],
            "type": "heatmapgl"
           }
          ],
          "histogram": [
           {
            "marker": {
             "pattern": {
              "fillmode": "overlay",
              "size": 10,
              "solidity": 0.2
             }
            },
            "type": "histogram"
           }
          ],
          "histogram2d": [
           {
            "colorbar": {
             "outlinewidth": 0,
             "ticks": ""
            },
            "colorscale": [
             [
              0,
              "#0d0887"
             ],
             [
              0.1111111111111111,
              "#46039f"
             ],
             [
              0.2222222222222222,
              "#7201a8"
             ],
             [
              0.3333333333333333,
              "#9c179e"
             ],
             [
              0.4444444444444444,
              "#bd3786"
             ],
             [
              0.5555555555555556,
              "#d8576b"
             ],
             [
              0.6666666666666666,
              "#ed7953"
             ],
             [
              0.7777777777777778,
              "#fb9f3a"
             ],
             [
              0.8888888888888888,
              "#fdca26"
             ],
             [
              1,
              "#f0f921"
             ]
            ],
            "type": "histogram2d"
           }
          ],
          "histogram2dcontour": [
           {
            "colorbar": {
             "outlinewidth": 0,
             "ticks": ""
            },
            "colorscale": [
             [
              0,
              "#0d0887"
             ],
             [
              0.1111111111111111,
              "#46039f"
             ],
             [
              0.2222222222222222,
              "#7201a8"
             ],
             [
              0.3333333333333333,
              "#9c179e"
             ],
             [
              0.4444444444444444,
              "#bd3786"
             ],
             [
              0.5555555555555556,
              "#d8576b"
             ],
             [
              0.6666666666666666,
              "#ed7953"
             ],
             [
              0.7777777777777778,
              "#fb9f3a"
             ],
             [
              0.8888888888888888,
              "#fdca26"
             ],
             [
              1,
              "#f0f921"
             ]
            ],
            "type": "histogram2dcontour"
           }
          ],
          "mesh3d": [
           {
            "colorbar": {
             "outlinewidth": 0,
             "ticks": ""
            },
            "type": "mesh3d"
           }
          ],
          "parcoords": [
           {
            "line": {
             "colorbar": {
              "outlinewidth": 0,
              "ticks": ""
             }
            },
            "type": "parcoords"
           }
          ],
          "pie": [
           {
            "automargin": true,
            "type": "pie"
           }
          ],
          "scatter": [
           {
            "marker": {
             "colorbar": {
              "outlinewidth": 0,
              "ticks": ""
             }
            },
            "type": "scatter"
           }
          ],
          "scatter3d": [
           {
            "line": {
             "colorbar": {
              "outlinewidth": 0,
              "ticks": ""
             }
            },
            "marker": {
             "colorbar": {
              "outlinewidth": 0,
              "ticks": ""
             }
            },
            "type": "scatter3d"
           }
          ],
          "scattercarpet": [
           {
            "marker": {
             "colorbar": {
              "outlinewidth": 0,
              "ticks": ""
             }
            },
            "type": "scattercarpet"
           }
          ],
          "scattergeo": [
           {
            "marker": {
             "colorbar": {
              "outlinewidth": 0,
              "ticks": ""
             }
            },
            "type": "scattergeo"
           }
          ],
          "scattergl": [
           {
            "marker": {
             "colorbar": {
              "outlinewidth": 0,
              "ticks": ""
             }
            },
            "type": "scattergl"
           }
          ],
          "scattermapbox": [
           {
            "marker": {
             "colorbar": {
              "outlinewidth": 0,
              "ticks": ""
             }
            },
            "type": "scattermapbox"
           }
          ],
          "scatterpolar": [
           {
            "marker": {
             "colorbar": {
              "outlinewidth": 0,
              "ticks": ""
             }
            },
            "type": "scatterpolar"
           }
          ],
          "scatterpolargl": [
           {
            "marker": {
             "colorbar": {
              "outlinewidth": 0,
              "ticks": ""
             }
            },
            "type": "scatterpolargl"
           }
          ],
          "scatterternary": [
           {
            "marker": {
             "colorbar": {
              "outlinewidth": 0,
              "ticks": ""
             }
            },
            "type": "scatterternary"
           }
          ],
          "surface": [
           {
            "colorbar": {
             "outlinewidth": 0,
             "ticks": ""
            },
            "colorscale": [
             [
              0,
              "#0d0887"
             ],
             [
              0.1111111111111111,
              "#46039f"
             ],
             [
              0.2222222222222222,
              "#7201a8"
             ],
             [
              0.3333333333333333,
              "#9c179e"
             ],
             [
              0.4444444444444444,
              "#bd3786"
             ],
             [
              0.5555555555555556,
              "#d8576b"
             ],
             [
              0.6666666666666666,
              "#ed7953"
             ],
             [
              0.7777777777777778,
              "#fb9f3a"
             ],
             [
              0.8888888888888888,
              "#fdca26"
             ],
             [
              1,
              "#f0f921"
             ]
            ],
            "type": "surface"
           }
          ],
          "table": [
           {
            "cells": {
             "fill": {
              "color": "#EBF0F8"
             },
             "line": {
              "color": "white"
             }
            },
            "header": {
             "fill": {
              "color": "#C8D4E3"
             },
             "line": {
              "color": "white"
             }
            },
            "type": "table"
           }
          ]
         },
         "layout": {
          "annotationdefaults": {
           "arrowcolor": "#2a3f5f",
           "arrowhead": 0,
           "arrowwidth": 1
          },
          "autotypenumbers": "strict",
          "coloraxis": {
           "colorbar": {
            "outlinewidth": 0,
            "ticks": ""
           }
          },
          "colorscale": {
           "diverging": [
            [
             0,
             "#8e0152"
            ],
            [
             0.1,
             "#c51b7d"
            ],
            [
             0.2,
             "#de77ae"
            ],
            [
             0.3,
             "#f1b6da"
            ],
            [
             0.4,
             "#fde0ef"
            ],
            [
             0.5,
             "#f7f7f7"
            ],
            [
             0.6,
             "#e6f5d0"
            ],
            [
             0.7,
             "#b8e186"
            ],
            [
             0.8,
             "#7fbc41"
            ],
            [
             0.9,
             "#4d9221"
            ],
            [
             1,
             "#276419"
            ]
           ],
           "sequential": [
            [
             0,
             "#0d0887"
            ],
            [
             0.1111111111111111,
             "#46039f"
            ],
            [
             0.2222222222222222,
             "#7201a8"
            ],
            [
             0.3333333333333333,
             "#9c179e"
            ],
            [
             0.4444444444444444,
             "#bd3786"
            ],
            [
             0.5555555555555556,
             "#d8576b"
            ],
            [
             0.6666666666666666,
             "#ed7953"
            ],
            [
             0.7777777777777778,
             "#fb9f3a"
            ],
            [
             0.8888888888888888,
             "#fdca26"
            ],
            [
             1,
             "#f0f921"
            ]
           ],
           "sequentialminus": [
            [
             0,
             "#0d0887"
            ],
            [
             0.1111111111111111,
             "#46039f"
            ],
            [
             0.2222222222222222,
             "#7201a8"
            ],
            [
             0.3333333333333333,
             "#9c179e"
            ],
            [
             0.4444444444444444,
             "#bd3786"
            ],
            [
             0.5555555555555556,
             "#d8576b"
            ],
            [
             0.6666666666666666,
             "#ed7953"
            ],
            [
             0.7777777777777778,
             "#fb9f3a"
            ],
            [
             0.8888888888888888,
             "#fdca26"
            ],
            [
             1,
             "#f0f921"
            ]
           ]
          },
          "colorway": [
           "#636efa",
           "#EF553B",
           "#00cc96",
           "#ab63fa",
           "#FFA15A",
           "#19d3f3",
           "#FF6692",
           "#B6E880",
           "#FF97FF",
           "#FECB52"
          ],
          "font": {
           "color": "#2a3f5f"
          },
          "geo": {
           "bgcolor": "white",
           "lakecolor": "white",
           "landcolor": "#E5ECF6",
           "showlakes": true,
           "showland": true,
           "subunitcolor": "white"
          },
          "hoverlabel": {
           "align": "left"
          },
          "hovermode": "closest",
          "mapbox": {
           "style": "light"
          },
          "paper_bgcolor": "white",
          "plot_bgcolor": "#E5ECF6",
          "polar": {
           "angularaxis": {
            "gridcolor": "white",
            "linecolor": "white",
            "ticks": ""
           },
           "bgcolor": "#E5ECF6",
           "radialaxis": {
            "gridcolor": "white",
            "linecolor": "white",
            "ticks": ""
           }
          },
          "scene": {
           "xaxis": {
            "backgroundcolor": "#E5ECF6",
            "gridcolor": "white",
            "gridwidth": 2,
            "linecolor": "white",
            "showbackground": true,
            "ticks": "",
            "zerolinecolor": "white"
           },
           "yaxis": {
            "backgroundcolor": "#E5ECF6",
            "gridcolor": "white",
            "gridwidth": 2,
            "linecolor": "white",
            "showbackground": true,
            "ticks": "",
            "zerolinecolor": "white"
           },
           "zaxis": {
            "backgroundcolor": "#E5ECF6",
            "gridcolor": "white",
            "gridwidth": 2,
            "linecolor": "white",
            "showbackground": true,
            "ticks": "",
            "zerolinecolor": "white"
           }
          },
          "shapedefaults": {
           "line": {
            "color": "#2a3f5f"
           }
          },
          "ternary": {
           "aaxis": {
            "gridcolor": "white",
            "linecolor": "white",
            "ticks": ""
           },
           "baxis": {
            "gridcolor": "white",
            "linecolor": "white",
            "ticks": ""
           },
           "bgcolor": "#E5ECF6",
           "caxis": {
            "gridcolor": "white",
            "linecolor": "white",
            "ticks": ""
           }
          },
          "title": {
           "x": 0.05
          },
          "xaxis": {
           "automargin": true,
           "gridcolor": "white",
           "linecolor": "white",
           "ticks": "",
           "title": {
            "standoff": 15
           },
           "zerolinecolor": "white",
           "zerolinewidth": 2
          },
          "yaxis": {
           "automargin": true,
           "gridcolor": "white",
           "linecolor": "white",
           "ticks": "",
           "title": {
            "standoff": 15
           },
           "zerolinecolor": "white",
           "zerolinewidth": 2
          }
         }
        }
       }
      },
      "text/html": [
       "<div>                            <div id=\"2b74dd45-8f1d-4501-8494-12535bc88353\" class=\"plotly-graph-div\" style=\"height:525px; width:100%;\"></div>            <script type=\"text/javascript\">                require([\"plotly\"], function(Plotly) {                    window.PLOTLYENV=window.PLOTLYENV || {};                                    if (document.getElementById(\"2b74dd45-8f1d-4501-8494-12535bc88353\")) {                    Plotly.newPlot(                        \"2b74dd45-8f1d-4501-8494-12535bc88353\",                        [{\"branchvalues\":\"total\",\"customdata\":[[\"ATE\",6036.0],[\"BARRANCO\",2763.0],[\"BRE\\u00c3\\u0091A\",2326.0],[\"BRE\\u00d1A\",5139.0],[\"CARABAYLLO\",2287.0],[\"CHACLACAYO\",438.0],[\"CHORRILLOS\",5656.0],[\"COMAS\",4291.0],[\"EL AGUSTINO\",4528.0],[\"INDEPENDENCIA\",5577.0],[\"JESUS MARIA\",8496.0],[\"LA MOLINA\",5157.0],[\"LA VICTORIA\",6877.0],[\"LIMA\",8563.0],[\"LINCE\",5753.0],[\"LOS OLIVOS\",5460.0],[\"LURIGANCHO\",4527.0],[\"LURIN\",1957.0],[\"MAGDALENA DEL MAR\",1414.0],[\"MIRAFLORES\",7500.0],[\"PUEBLO LIBRE\",7239.0],[\"PUENTE PIEDRA\",5223.0],[\"RIMAC\",3805.0],[\"SAN BARTOLO\",721.0],[\"SAN BORJA\",7794.0],[\"SAN ISIDRO\",7402.0],[\"SAN JUAN DE LURIGANCHO\",7338.0],[\"SAN JUAN DE MIRAFLORES\",7511.0],[\"SAN LUIS\",4795.0],[\"SAN MARTIN DE PORRES\",7429.0],[\"SAN MIGUEL\",6969.0],[\"SANTA ANITA\",3805.0],[\"SANTIAGO DE SURCO\",6737.0],[\"SURQUILLO\",3993.0],[\"VILLA EL SALVADOR\",5429.0],[\"VILLA MARIA DEL TRIUNFO\",4736.0],[\"(?)\",6049.057090229492]],\"domain\":{\"x\":[0.0,1.0],\"y\":[0.0,1.0]},\"hovertemplate\":\"labels=%{label}<br>DIAGNOSIS_sum=%{value}<br>parent=%{parent}<br>id=%{id}<br>DISTRICT=%{customdata[0]}<br>DIAGNOSIS=%{color}<extra></extra>\",\"ids\":[\"DISTRICTS/ATE\",\"DISTRICTS/BARRANCO\",\"DISTRICTS/BRE\\u00c3\\u0091A\",\"DISTRICTS/BRE\\u00d1A\",\"DISTRICTS/CARABAYLLO\",\"DISTRICTS/CHACLACAYO\",\"DISTRICTS/CHORRILLOS\",\"DISTRICTS/COMAS\",\"DISTRICTS/EL AGUSTINO\",\"DISTRICTS/INDEPENDENCIA\",\"DISTRICTS/JESUS MARIA\",\"DISTRICTS/LA MOLINA\",\"DISTRICTS/LA VICTORIA\",\"DISTRICTS/LIMA\",\"DISTRICTS/LINCE\",\"DISTRICTS/LOS OLIVOS\",\"DISTRICTS/LURIGANCHO\",\"DISTRICTS/LURIN\",\"DISTRICTS/MAGDALENA DEL MAR\",\"DISTRICTS/MIRAFLORES\",\"DISTRICTS/PUEBLO LIBRE\",\"DISTRICTS/PUENTE PIEDRA\",\"DISTRICTS/RIMAC\",\"DISTRICTS/SAN BARTOLO\",\"DISTRICTS/SAN BORJA\",\"DISTRICTS/SAN ISIDRO\",\"DISTRICTS/SAN JUAN DE LURIGANCHO\",\"DISTRICTS/SAN JUAN DE MIRAFLORES\",\"DISTRICTS/SAN LUIS\",\"DISTRICTS/SAN MARTIN DE PORRES\",\"DISTRICTS/SAN MIGUEL\",\"DISTRICTS/SANTA ANITA\",\"DISTRICTS/SANTIAGO DE SURCO\",\"DISTRICTS/SURQUILLO\",\"DISTRICTS/VILLA EL SALVADOR\",\"DISTRICTS/VILLA MARIA DEL TRIUNFO\",\"DISTRICTS\"],\"labels\":[\"ATE\",\"BARRANCO\",\"BRE\\u00c3\\u0091A\",\"BRE\\u00d1A\",\"CARABAYLLO\",\"CHACLACAYO\",\"CHORRILLOS\",\"COMAS\",\"EL AGUSTINO\",\"INDEPENDENCIA\",\"JESUS MARIA\",\"LA MOLINA\",\"LA VICTORIA\",\"LIMA\",\"LINCE\",\"LOS OLIVOS\",\"LURIGANCHO\",\"LURIN\",\"MAGDALENA DEL MAR\",\"MIRAFLORES\",\"PUEBLO LIBRE\",\"PUENTE PIEDRA\",\"RIMAC\",\"SAN BARTOLO\",\"SAN BORJA\",\"SAN ISIDRO\",\"SAN JUAN DE LURIGANCHO\",\"SAN JUAN DE MIRAFLORES\",\"SAN LUIS\",\"SAN MARTIN DE PORRES\",\"SAN MIGUEL\",\"SANTA ANITA\",\"SANTIAGO DE SURCO\",\"SURQUILLO\",\"VILLA EL SALVADOR\",\"VILLA MARIA DEL TRIUNFO\",\"DISTRICTS\"],\"marker\":{\"coloraxis\":\"coloraxis\",\"colors\":[6036.0,2763.0,2326.0,5139.0,2287.0,438.0,5656.0,4291.0,4528.0,5577.0,8496.0,5157.0,6877.0,8563.0,5753.0,5460.0,4527.0,1957.0,1414.0,7500.0,7239.0,5223.0,3805.0,721.0,7794.0,7402.0,7338.0,7511.0,4795.0,7429.0,6969.0,3805.0,6737.0,3993.0,5429.0,4736.0,6049.057090229492]},\"name\":\"\",\"parents\":[\"DISTRICTS\",\"DISTRICTS\",\"DISTRICTS\",\"DISTRICTS\",\"DISTRICTS\",\"DISTRICTS\",\"DISTRICTS\",\"DISTRICTS\",\"DISTRICTS\",\"DISTRICTS\",\"DISTRICTS\",\"DISTRICTS\",\"DISTRICTS\",\"DISTRICTS\",\"DISTRICTS\",\"DISTRICTS\",\"DISTRICTS\",\"DISTRICTS\",\"DISTRICTS\",\"DISTRICTS\",\"DISTRICTS\",\"DISTRICTS\",\"DISTRICTS\",\"DISTRICTS\",\"DISTRICTS\",\"DISTRICTS\",\"DISTRICTS\",\"DISTRICTS\",\"DISTRICTS\",\"DISTRICTS\",\"DISTRICTS\",\"DISTRICTS\",\"DISTRICTS\",\"DISTRICTS\",\"DISTRICTS\",\"DISTRICTS\",\"\"],\"values\":[6036,2763,2326,5139,2287,438,5656,4291,4528,5577,8496,5157,6877,8563,5753,5460,4527,1957,1414,7500,7239,5223,3805,721,7794,7402,7338,7511,4795,7429,6969,3805,6737,3993,5429,4736,185671],\"type\":\"treemap\"}],                        {\"template\":{\"data\":{\"bar\":[{\"error_x\":{\"color\":\"#2a3f5f\"},\"error_y\":{\"color\":\"#2a3f5f\"},\"marker\":{\"line\":{\"color\":\"#E5ECF6\",\"width\":0.5},\"pattern\":{\"fillmode\":\"overlay\",\"size\":10,\"solidity\":0.2}},\"type\":\"bar\"}],\"barpolar\":[{\"marker\":{\"line\":{\"color\":\"#E5ECF6\",\"width\":0.5},\"pattern\":{\"fillmode\":\"overlay\",\"size\":10,\"solidity\":0.2}},\"type\":\"barpolar\"}],\"carpet\":[{\"aaxis\":{\"endlinecolor\":\"#2a3f5f\",\"gridcolor\":\"white\",\"linecolor\":\"white\",\"minorgridcolor\":\"white\",\"startlinecolor\":\"#2a3f5f\"},\"baxis\":{\"endlinecolor\":\"#2a3f5f\",\"gridcolor\":\"white\",\"linecolor\":\"white\",\"minorgridcolor\":\"white\",\"startlinecolor\":\"#2a3f5f\"},\"type\":\"carpet\"}],\"choropleth\":[{\"colorbar\":{\"outlinewidth\":0,\"ticks\":\"\"},\"type\":\"choropleth\"}],\"contour\":[{\"colorbar\":{\"outlinewidth\":0,\"ticks\":\"\"},\"colorscale\":[[0.0,\"#0d0887\"],[0.1111111111111111,\"#46039f\"],[0.2222222222222222,\"#7201a8\"],[0.3333333333333333,\"#9c179e\"],[0.4444444444444444,\"#bd3786\"],[0.5555555555555556,\"#d8576b\"],[0.6666666666666666,\"#ed7953\"],[0.7777777777777778,\"#fb9f3a\"],[0.8888888888888888,\"#fdca26\"],[1.0,\"#f0f921\"]],\"type\":\"contour\"}],\"contourcarpet\":[{\"colorbar\":{\"outlinewidth\":0,\"ticks\":\"\"},\"type\":\"contourcarpet\"}],\"heatmap\":[{\"colorbar\":{\"outlinewidth\":0,\"ticks\":\"\"},\"colorscale\":[[0.0,\"#0d0887\"],[0.1111111111111111,\"#46039f\"],[0.2222222222222222,\"#7201a8\"],[0.3333333333333333,\"#9c179e\"],[0.4444444444444444,\"#bd3786\"],[0.5555555555555556,\"#d8576b\"],[0.6666666666666666,\"#ed7953\"],[0.7777777777777778,\"#fb9f3a\"],[0.8888888888888888,\"#fdca26\"],[1.0,\"#f0f921\"]],\"type\":\"heatmap\"}],\"heatmapgl\":[{\"colorbar\":{\"outlinewidth\":0,\"ticks\":\"\"},\"colorscale\":[[0.0,\"#0d0887\"],[0.1111111111111111,\"#46039f\"],[0.2222222222222222,\"#7201a8\"],[0.3333333333333333,\"#9c179e\"],[0.4444444444444444,\"#bd3786\"],[0.5555555555555556,\"#d8576b\"],[0.6666666666666666,\"#ed7953\"],[0.7777777777777778,\"#fb9f3a\"],[0.8888888888888888,\"#fdca26\"],[1.0,\"#f0f921\"]],\"type\":\"heatmapgl\"}],\"histogram\":[{\"marker\":{\"pattern\":{\"fillmode\":\"overlay\",\"size\":10,\"solidity\":0.2}},\"type\":\"histogram\"}],\"histogram2d\":[{\"colorbar\":{\"outlinewidth\":0,\"ticks\":\"\"},\"colorscale\":[[0.0,\"#0d0887\"],[0.1111111111111111,\"#46039f\"],[0.2222222222222222,\"#7201a8\"],[0.3333333333333333,\"#9c179e\"],[0.4444444444444444,\"#bd3786\"],[0.5555555555555556,\"#d8576b\"],[0.6666666666666666,\"#ed7953\"],[0.7777777777777778,\"#fb9f3a\"],[0.8888888888888888,\"#fdca26\"],[1.0,\"#f0f921\"]],\"type\":\"histogram2d\"}],\"histogram2dcontour\":[{\"colorbar\":{\"outlinewidth\":0,\"ticks\":\"\"},\"colorscale\":[[0.0,\"#0d0887\"],[0.1111111111111111,\"#46039f\"],[0.2222222222222222,\"#7201a8\"],[0.3333333333333333,\"#9c179e\"],[0.4444444444444444,\"#bd3786\"],[0.5555555555555556,\"#d8576b\"],[0.6666666666666666,\"#ed7953\"],[0.7777777777777778,\"#fb9f3a\"],[0.8888888888888888,\"#fdca26\"],[1.0,\"#f0f921\"]],\"type\":\"histogram2dcontour\"}],\"mesh3d\":[{\"colorbar\":{\"outlinewidth\":0,\"ticks\":\"\"},\"type\":\"mesh3d\"}],\"parcoords\":[{\"line\":{\"colorbar\":{\"outlinewidth\":0,\"ticks\":\"\"}},\"type\":\"parcoords\"}],\"pie\":[{\"automargin\":true,\"type\":\"pie\"}],\"scatter\":[{\"marker\":{\"colorbar\":{\"outlinewidth\":0,\"ticks\":\"\"}},\"type\":\"scatter\"}],\"scatter3d\":[{\"line\":{\"colorbar\":{\"outlinewidth\":0,\"ticks\":\"\"}},\"marker\":{\"colorbar\":{\"outlinewidth\":0,\"ticks\":\"\"}},\"type\":\"scatter3d\"}],\"scattercarpet\":[{\"marker\":{\"colorbar\":{\"outlinewidth\":0,\"ticks\":\"\"}},\"type\":\"scattercarpet\"}],\"scattergeo\":[{\"marker\":{\"colorbar\":{\"outlinewidth\":0,\"ticks\":\"\"}},\"type\":\"scattergeo\"}],\"scattergl\":[{\"marker\":{\"colorbar\":{\"outlinewidth\":0,\"ticks\":\"\"}},\"type\":\"scattergl\"}],\"scattermapbox\":[{\"marker\":{\"colorbar\":{\"outlinewidth\":0,\"ticks\":\"\"}},\"type\":\"scattermapbox\"}],\"scatterpolar\":[{\"marker\":{\"colorbar\":{\"outlinewidth\":0,\"ticks\":\"\"}},\"type\":\"scatterpolar\"}],\"scatterpolargl\":[{\"marker\":{\"colorbar\":{\"outlinewidth\":0,\"ticks\":\"\"}},\"type\":\"scatterpolargl\"}],\"scatterternary\":[{\"marker\":{\"colorbar\":{\"outlinewidth\":0,\"ticks\":\"\"}},\"type\":\"scatterternary\"}],\"surface\":[{\"colorbar\":{\"outlinewidth\":0,\"ticks\":\"\"},\"colorscale\":[[0.0,\"#0d0887\"],[0.1111111111111111,\"#46039f\"],[0.2222222222222222,\"#7201a8\"],[0.3333333333333333,\"#9c179e\"],[0.4444444444444444,\"#bd3786\"],[0.5555555555555556,\"#d8576b\"],[0.6666666666666666,\"#ed7953\"],[0.7777777777777778,\"#fb9f3a\"],[0.8888888888888888,\"#fdca26\"],[1.0,\"#f0f921\"]],\"type\":\"surface\"}],\"table\":[{\"cells\":{\"fill\":{\"color\":\"#EBF0F8\"},\"line\":{\"color\":\"white\"}},\"header\":{\"fill\":{\"color\":\"#C8D4E3\"},\"line\":{\"color\":\"white\"}},\"type\":\"table\"}]},\"layout\":{\"annotationdefaults\":{\"arrowcolor\":\"#2a3f5f\",\"arrowhead\":0,\"arrowwidth\":1},\"autotypenumbers\":\"strict\",\"coloraxis\":{\"colorbar\":{\"outlinewidth\":0,\"ticks\":\"\"}},\"colorscale\":{\"diverging\":[[0,\"#8e0152\"],[0.1,\"#c51b7d\"],[0.2,\"#de77ae\"],[0.3,\"#f1b6da\"],[0.4,\"#fde0ef\"],[0.5,\"#f7f7f7\"],[0.6,\"#e6f5d0\"],[0.7,\"#b8e186\"],[0.8,\"#7fbc41\"],[0.9,\"#4d9221\"],[1,\"#276419\"]],\"sequential\":[[0.0,\"#0d0887\"],[0.1111111111111111,\"#46039f\"],[0.2222222222222222,\"#7201a8\"],[0.3333333333333333,\"#9c179e\"],[0.4444444444444444,\"#bd3786\"],[0.5555555555555556,\"#d8576b\"],[0.6666666666666666,\"#ed7953\"],[0.7777777777777778,\"#fb9f3a\"],[0.8888888888888888,\"#fdca26\"],[1.0,\"#f0f921\"]],\"sequentialminus\":[[0.0,\"#0d0887\"],[0.1111111111111111,\"#46039f\"],[0.2222222222222222,\"#7201a8\"],[0.3333333333333333,\"#9c179e\"],[0.4444444444444444,\"#bd3786\"],[0.5555555555555556,\"#d8576b\"],[0.6666666666666666,\"#ed7953\"],[0.7777777777777778,\"#fb9f3a\"],[0.8888888888888888,\"#fdca26\"],[1.0,\"#f0f921\"]]},\"colorway\":[\"#636efa\",\"#EF553B\",\"#00cc96\",\"#ab63fa\",\"#FFA15A\",\"#19d3f3\",\"#FF6692\",\"#B6E880\",\"#FF97FF\",\"#FECB52\"],\"font\":{\"color\":\"#2a3f5f\"},\"geo\":{\"bgcolor\":\"white\",\"lakecolor\":\"white\",\"landcolor\":\"#E5ECF6\",\"showlakes\":true,\"showland\":true,\"subunitcolor\":\"white\"},\"hoverlabel\":{\"align\":\"left\"},\"hovermode\":\"closest\",\"mapbox\":{\"style\":\"light\"},\"paper_bgcolor\":\"white\",\"plot_bgcolor\":\"#E5ECF6\",\"polar\":{\"angularaxis\":{\"gridcolor\":\"white\",\"linecolor\":\"white\",\"ticks\":\"\"},\"bgcolor\":\"#E5ECF6\",\"radialaxis\":{\"gridcolor\":\"white\",\"linecolor\":\"white\",\"ticks\":\"\"}},\"scene\":{\"xaxis\":{\"backgroundcolor\":\"#E5ECF6\",\"gridcolor\":\"white\",\"gridwidth\":2,\"linecolor\":\"white\",\"showbackground\":true,\"ticks\":\"\",\"zerolinecolor\":\"white\"},\"yaxis\":{\"backgroundcolor\":\"#E5ECF6\",\"gridcolor\":\"white\",\"gridwidth\":2,\"linecolor\":\"white\",\"showbackground\":true,\"ticks\":\"\",\"zerolinecolor\":\"white\"},\"zaxis\":{\"backgroundcolor\":\"#E5ECF6\",\"gridcolor\":\"white\",\"gridwidth\":2,\"linecolor\":\"white\",\"showbackground\":true,\"ticks\":\"\",\"zerolinecolor\":\"white\"}},\"shapedefaults\":{\"line\":{\"color\":\"#2a3f5f\"}},\"ternary\":{\"aaxis\":{\"gridcolor\":\"white\",\"linecolor\":\"white\",\"ticks\":\"\"},\"baxis\":{\"gridcolor\":\"white\",\"linecolor\":\"white\",\"ticks\":\"\"},\"bgcolor\":\"#E5ECF6\",\"caxis\":{\"gridcolor\":\"white\",\"linecolor\":\"white\",\"ticks\":\"\"}},\"title\":{\"x\":0.05},\"xaxis\":{\"automargin\":true,\"gridcolor\":\"white\",\"linecolor\":\"white\",\"ticks\":\"\",\"title\":{\"standoff\":15},\"zerolinecolor\":\"white\",\"zerolinewidth\":2},\"yaxis\":{\"automargin\":true,\"gridcolor\":\"white\",\"linecolor\":\"white\",\"ticks\":\"\",\"title\":{\"standoff\":15},\"zerolinecolor\":\"white\",\"zerolinewidth\":2}}},\"coloraxis\":{\"colorbar\":{\"title\":{\"text\":\"DIAGNOSIS\"}},\"colorscale\":[[0.0,\"#0d0887\"],[0.1111111111111111,\"#46039f\"],[0.2222222222222222,\"#7201a8\"],[0.3333333333333333,\"#9c179e\"],[0.4444444444444444,\"#bd3786\"],[0.5555555555555556,\"#d8576b\"],[0.6666666666666666,\"#ed7953\"],[0.7777777777777778,\"#fb9f3a\"],[0.8888888888888888,\"#fdca26\"],[1.0,\"#f0f921\"]]},\"legend\":{\"tracegroupgap\":0},\"margin\":{\"t\":60}},                        {\"responsive\": true}                    ).then(function(){\n",
       "                            \n",
       "var gd = document.getElementById('2b74dd45-8f1d-4501-8494-12535bc88353');\n",
       "var x = new MutationObserver(function (mutations, observer) {{\n",
       "        var display = window.getComputedStyle(gd).display;\n",
       "        if (!display || display === 'none') {{\n",
       "            console.log([gd, 'removed!']);\n",
       "            Plotly.purge(gd);\n",
       "            observer.disconnect();\n",
       "        }}\n",
       "}});\n",
       "\n",
       "// Listen for the removal of the full notebook cells\n",
       "var notebookContainer = gd.closest('#notebook-container');\n",
       "if (notebookContainer) {{\n",
       "    x.observe(notebookContainer, {childList: true});\n",
       "}}\n",
       "\n",
       "// Listen for the clearing of the current output cell\n",
       "var outputEl = gd.closest('.output');\n",
       "if (outputEl) {{\n",
       "    x.observe(outputEl, {childList: true});\n",
       "}}\n",
       "\n",
       "                        })                };                });            </script>        </div>"
      ]
     },
     "metadata": {},
     "output_type": "display_data"
    }
   ],
   "source": [
    "DIAGNOSIS_PARAMETER = 'DIAGNOSIS'\n",
    "\n",
    "data_temp = data_lima_m.groupby(['DISTRICT',DIAGNOSIS_PARAMETER]).agg({ 'QTY_PEOPLE_SERVED': \"sum\"})\n",
    "data_temp = data_temp.reset_index()\n",
    "data_temp = data_temp.groupby(['DISTRICT']).agg({ DIAGNOSIS_PARAMETER: \"count\"})\n",
    "data_temp = data_temp.reset_index()\n",
    "\n",
    "fig = px.treemap(data_temp,\n",
    "                 path=[px.Constant('DISTRICTS'),'DISTRICT'],\n",
    "                 values=DIAGNOSIS_PARAMETER,\n",
    "                 color=DIAGNOSIS_PARAMETER,\n",
    "                 hover_data=['DISTRICT'])\n",
    "fig.show()"
   ]
  },
  {
   "cell_type": "markdown",
   "id": "606ed105",
   "metadata": {},
   "source": [
    "#### Qty of hospitals by disctrict"
   ]
  },
  {
   "cell_type": "code",
   "execution_count": 287,
   "id": "78939a05",
   "metadata": {
    "scrolled": true
   },
   "outputs": [
    {
     "data": {
      "application/vnd.plotly.v1+json": {
       "config": {
        "plotlyServerURL": "https://plot.ly"
       },
       "data": [
        {
         "branchvalues": "total",
         "customdata": [
          [
           "ATE",
           6
          ],
          [
           "BARRANCO",
           1
          ],
          [
           "BREÃA",
           2
          ],
          [
           "BREÑA",
           3
          ],
          [
           "CARABAYLLO",
           3
          ],
          [
           "CHACLACAYO",
           1
          ],
          [
           "CHORRILLOS",
           18
          ],
          [
           "COMAS",
           12
          ],
          [
           "EL AGUSTINO",
           2
          ],
          [
           "INDEPENDENCIA",
           5
          ],
          [
           "JESUS MARIA",
           21
          ],
          [
           "LA MOLINA",
           7
          ],
          [
           "LA VICTORIA",
           6
          ],
          [
           "LIMA",
           37
          ],
          [
           "LINCE",
           8
          ],
          [
           "LOS OLIVOS",
           11
          ],
          [
           "LURIGANCHO",
           3
          ],
          [
           "LURIN",
           2
          ],
          [
           "MAGDALENA DEL MAR",
           9
          ],
          [
           "MIRAFLORES",
           31
          ],
          [
           "PUEBLO LIBRE",
           17
          ],
          [
           "PUENTE PIEDRA",
           6
          ],
          [
           "RIMAC",
           5
          ],
          [
           "SAN BARTOLO",
           1
          ],
          [
           "SAN BORJA",
           41
          ],
          [
           "SAN ISIDRO",
           30
          ],
          [
           "SAN JUAN DE LURIGANCHO",
           12
          ],
          [
           "SAN JUAN DE MIRAFLORES",
           12
          ],
          [
           "SAN LUIS",
           3
          ],
          [
           "SAN MARTIN DE PORRES",
           13
          ],
          [
           "SAN MIGUEL",
           9
          ],
          [
           "SANTA ANITA",
           6
          ],
          [
           "SANTIAGO DE SURCO",
           27
          ],
          [
           "SURQUILLO",
           13
          ],
          [
           "VILLA EL SALVADOR",
           4
          ],
          [
           "VILLA MARIA DEL TRIUNFO",
           4
          ],
          [
           "(?)",
           20.81074168797954
          ]
         ],
         "domain": {
          "x": [
           0,
           1
          ],
          "y": [
           0,
           1
          ]
         },
         "hovertemplate": "labels=%{label}<br>NAME_sum=%{value}<br>parent=%{parent}<br>id=%{id}<br>DISTRICT=%{customdata[0]}<br>NAME=%{color}<extra></extra>",
         "ids": [
          "DISTRICTS/ATE",
          "DISTRICTS/BARRANCO",
          "DISTRICTS/BREÃA",
          "DISTRICTS/BREÑA",
          "DISTRICTS/CARABAYLLO",
          "DISTRICTS/CHACLACAYO",
          "DISTRICTS/CHORRILLOS",
          "DISTRICTS/COMAS",
          "DISTRICTS/EL AGUSTINO",
          "DISTRICTS/INDEPENDENCIA",
          "DISTRICTS/JESUS MARIA",
          "DISTRICTS/LA MOLINA",
          "DISTRICTS/LA VICTORIA",
          "DISTRICTS/LIMA",
          "DISTRICTS/LINCE",
          "DISTRICTS/LOS OLIVOS",
          "DISTRICTS/LURIGANCHO",
          "DISTRICTS/LURIN",
          "DISTRICTS/MAGDALENA DEL MAR",
          "DISTRICTS/MIRAFLORES",
          "DISTRICTS/PUEBLO LIBRE",
          "DISTRICTS/PUENTE PIEDRA",
          "DISTRICTS/RIMAC",
          "DISTRICTS/SAN BARTOLO",
          "DISTRICTS/SAN BORJA",
          "DISTRICTS/SAN ISIDRO",
          "DISTRICTS/SAN JUAN DE LURIGANCHO",
          "DISTRICTS/SAN JUAN DE MIRAFLORES",
          "DISTRICTS/SAN LUIS",
          "DISTRICTS/SAN MARTIN DE PORRES",
          "DISTRICTS/SAN MIGUEL",
          "DISTRICTS/SANTA ANITA",
          "DISTRICTS/SANTIAGO DE SURCO",
          "DISTRICTS/SURQUILLO",
          "DISTRICTS/VILLA EL SALVADOR",
          "DISTRICTS/VILLA MARIA DEL TRIUNFO",
          "DISTRICTS"
         ],
         "labels": [
          "ATE",
          "BARRANCO",
          "BREÃA",
          "BREÑA",
          "CARABAYLLO",
          "CHACLACAYO",
          "CHORRILLOS",
          "COMAS",
          "EL AGUSTINO",
          "INDEPENDENCIA",
          "JESUS MARIA",
          "LA MOLINA",
          "LA VICTORIA",
          "LIMA",
          "LINCE",
          "LOS OLIVOS",
          "LURIGANCHO",
          "LURIN",
          "MAGDALENA DEL MAR",
          "MIRAFLORES",
          "PUEBLO LIBRE",
          "PUENTE PIEDRA",
          "RIMAC",
          "SAN BARTOLO",
          "SAN BORJA",
          "SAN ISIDRO",
          "SAN JUAN DE LURIGANCHO",
          "SAN JUAN DE MIRAFLORES",
          "SAN LUIS",
          "SAN MARTIN DE PORRES",
          "SAN MIGUEL",
          "SANTA ANITA",
          "SANTIAGO DE SURCO",
          "SURQUILLO",
          "VILLA EL SALVADOR",
          "VILLA MARIA DEL TRIUNFO",
          "DISTRICTS"
         ],
         "marker": {
          "coloraxis": "coloraxis",
          "colors": [
           6,
           1,
           2,
           3,
           3,
           1,
           18,
           12,
           2,
           5,
           21,
           7,
           6,
           37,
           8,
           11,
           3,
           2,
           9,
           31,
           17,
           6,
           5,
           1,
           41,
           30,
           12,
           12,
           3,
           13,
           9,
           6,
           27,
           13,
           4,
           4,
           20.81074168797954
          ]
         },
         "name": "",
         "parents": [
          "DISTRICTS",
          "DISTRICTS",
          "DISTRICTS",
          "DISTRICTS",
          "DISTRICTS",
          "DISTRICTS",
          "DISTRICTS",
          "DISTRICTS",
          "DISTRICTS",
          "DISTRICTS",
          "DISTRICTS",
          "DISTRICTS",
          "DISTRICTS",
          "DISTRICTS",
          "DISTRICTS",
          "DISTRICTS",
          "DISTRICTS",
          "DISTRICTS",
          "DISTRICTS",
          "DISTRICTS",
          "DISTRICTS",
          "DISTRICTS",
          "DISTRICTS",
          "DISTRICTS",
          "DISTRICTS",
          "DISTRICTS",
          "DISTRICTS",
          "DISTRICTS",
          "DISTRICTS",
          "DISTRICTS",
          "DISTRICTS",
          "DISTRICTS",
          "DISTRICTS",
          "DISTRICTS",
          "DISTRICTS",
          "DISTRICTS",
          ""
         ],
         "type": "treemap",
         "values": [
          6,
          1,
          2,
          3,
          3,
          1,
          18,
          12,
          2,
          5,
          21,
          7,
          6,
          37,
          8,
          11,
          3,
          2,
          9,
          31,
          17,
          6,
          5,
          1,
          41,
          30,
          12,
          12,
          3,
          13,
          9,
          6,
          27,
          13,
          4,
          4,
          391
         ]
        }
       ],
       "layout": {
        "coloraxis": {
         "colorbar": {
          "title": {
           "text": "NAME"
          }
         },
         "colorscale": [
          [
           0,
           "#0d0887"
          ],
          [
           0.1111111111111111,
           "#46039f"
          ],
          [
           0.2222222222222222,
           "#7201a8"
          ],
          [
           0.3333333333333333,
           "#9c179e"
          ],
          [
           0.4444444444444444,
           "#bd3786"
          ],
          [
           0.5555555555555556,
           "#d8576b"
          ],
          [
           0.6666666666666666,
           "#ed7953"
          ],
          [
           0.7777777777777778,
           "#fb9f3a"
          ],
          [
           0.8888888888888888,
           "#fdca26"
          ],
          [
           1,
           "#f0f921"
          ]
         ]
        },
        "legend": {
         "tracegroupgap": 0
        },
        "margin": {
         "t": 60
        },
        "template": {
         "data": {
          "bar": [
           {
            "error_x": {
             "color": "#2a3f5f"
            },
            "error_y": {
             "color": "#2a3f5f"
            },
            "marker": {
             "line": {
              "color": "#E5ECF6",
              "width": 0.5
             },
             "pattern": {
              "fillmode": "overlay",
              "size": 10,
              "solidity": 0.2
             }
            },
            "type": "bar"
           }
          ],
          "barpolar": [
           {
            "marker": {
             "line": {
              "color": "#E5ECF6",
              "width": 0.5
             },
             "pattern": {
              "fillmode": "overlay",
              "size": 10,
              "solidity": 0.2
             }
            },
            "type": "barpolar"
           }
          ],
          "carpet": [
           {
            "aaxis": {
             "endlinecolor": "#2a3f5f",
             "gridcolor": "white",
             "linecolor": "white",
             "minorgridcolor": "white",
             "startlinecolor": "#2a3f5f"
            },
            "baxis": {
             "endlinecolor": "#2a3f5f",
             "gridcolor": "white",
             "linecolor": "white",
             "minorgridcolor": "white",
             "startlinecolor": "#2a3f5f"
            },
            "type": "carpet"
           }
          ],
          "choropleth": [
           {
            "colorbar": {
             "outlinewidth": 0,
             "ticks": ""
            },
            "type": "choropleth"
           }
          ],
          "contour": [
           {
            "colorbar": {
             "outlinewidth": 0,
             "ticks": ""
            },
            "colorscale": [
             [
              0,
              "#0d0887"
             ],
             [
              0.1111111111111111,
              "#46039f"
             ],
             [
              0.2222222222222222,
              "#7201a8"
             ],
             [
              0.3333333333333333,
              "#9c179e"
             ],
             [
              0.4444444444444444,
              "#bd3786"
             ],
             [
              0.5555555555555556,
              "#d8576b"
             ],
             [
              0.6666666666666666,
              "#ed7953"
             ],
             [
              0.7777777777777778,
              "#fb9f3a"
             ],
             [
              0.8888888888888888,
              "#fdca26"
             ],
             [
              1,
              "#f0f921"
             ]
            ],
            "type": "contour"
           }
          ],
          "contourcarpet": [
           {
            "colorbar": {
             "outlinewidth": 0,
             "ticks": ""
            },
            "type": "contourcarpet"
           }
          ],
          "heatmap": [
           {
            "colorbar": {
             "outlinewidth": 0,
             "ticks": ""
            },
            "colorscale": [
             [
              0,
              "#0d0887"
             ],
             [
              0.1111111111111111,
              "#46039f"
             ],
             [
              0.2222222222222222,
              "#7201a8"
             ],
             [
              0.3333333333333333,
              "#9c179e"
             ],
             [
              0.4444444444444444,
              "#bd3786"
             ],
             [
              0.5555555555555556,
              "#d8576b"
             ],
             [
              0.6666666666666666,
              "#ed7953"
             ],
             [
              0.7777777777777778,
              "#fb9f3a"
             ],
             [
              0.8888888888888888,
              "#fdca26"
             ],
             [
              1,
              "#f0f921"
             ]
            ],
            "type": "heatmap"
           }
          ],
          "heatmapgl": [
           {
            "colorbar": {
             "outlinewidth": 0,
             "ticks": ""
            },
            "colorscale": [
             [
              0,
              "#0d0887"
             ],
             [
              0.1111111111111111,
              "#46039f"
             ],
             [
              0.2222222222222222,
              "#7201a8"
             ],
             [
              0.3333333333333333,
              "#9c179e"
             ],
             [
              0.4444444444444444,
              "#bd3786"
             ],
             [
              0.5555555555555556,
              "#d8576b"
             ],
             [
              0.6666666666666666,
              "#ed7953"
             ],
             [
              0.7777777777777778,
              "#fb9f3a"
             ],
             [
              0.8888888888888888,
              "#fdca26"
             ],
             [
              1,
              "#f0f921"
             ]
            ],
            "type": "heatmapgl"
           }
          ],
          "histogram": [
           {
            "marker": {
             "pattern": {
              "fillmode": "overlay",
              "size": 10,
              "solidity": 0.2
             }
            },
            "type": "histogram"
           }
          ],
          "histogram2d": [
           {
            "colorbar": {
             "outlinewidth": 0,
             "ticks": ""
            },
            "colorscale": [
             [
              0,
              "#0d0887"
             ],
             [
              0.1111111111111111,
              "#46039f"
             ],
             [
              0.2222222222222222,
              "#7201a8"
             ],
             [
              0.3333333333333333,
              "#9c179e"
             ],
             [
              0.4444444444444444,
              "#bd3786"
             ],
             [
              0.5555555555555556,
              "#d8576b"
             ],
             [
              0.6666666666666666,
              "#ed7953"
             ],
             [
              0.7777777777777778,
              "#fb9f3a"
             ],
             [
              0.8888888888888888,
              "#fdca26"
             ],
             [
              1,
              "#f0f921"
             ]
            ],
            "type": "histogram2d"
           }
          ],
          "histogram2dcontour": [
           {
            "colorbar": {
             "outlinewidth": 0,
             "ticks": ""
            },
            "colorscale": [
             [
              0,
              "#0d0887"
             ],
             [
              0.1111111111111111,
              "#46039f"
             ],
             [
              0.2222222222222222,
              "#7201a8"
             ],
             [
              0.3333333333333333,
              "#9c179e"
             ],
             [
              0.4444444444444444,
              "#bd3786"
             ],
             [
              0.5555555555555556,
              "#d8576b"
             ],
             [
              0.6666666666666666,
              "#ed7953"
             ],
             [
              0.7777777777777778,
              "#fb9f3a"
             ],
             [
              0.8888888888888888,
              "#fdca26"
             ],
             [
              1,
              "#f0f921"
             ]
            ],
            "type": "histogram2dcontour"
           }
          ],
          "mesh3d": [
           {
            "colorbar": {
             "outlinewidth": 0,
             "ticks": ""
            },
            "type": "mesh3d"
           }
          ],
          "parcoords": [
           {
            "line": {
             "colorbar": {
              "outlinewidth": 0,
              "ticks": ""
             }
            },
            "type": "parcoords"
           }
          ],
          "pie": [
           {
            "automargin": true,
            "type": "pie"
           }
          ],
          "scatter": [
           {
            "marker": {
             "colorbar": {
              "outlinewidth": 0,
              "ticks": ""
             }
            },
            "type": "scatter"
           }
          ],
          "scatter3d": [
           {
            "line": {
             "colorbar": {
              "outlinewidth": 0,
              "ticks": ""
             }
            },
            "marker": {
             "colorbar": {
              "outlinewidth": 0,
              "ticks": ""
             }
            },
            "type": "scatter3d"
           }
          ],
          "scattercarpet": [
           {
            "marker": {
             "colorbar": {
              "outlinewidth": 0,
              "ticks": ""
             }
            },
            "type": "scattercarpet"
           }
          ],
          "scattergeo": [
           {
            "marker": {
             "colorbar": {
              "outlinewidth": 0,
              "ticks": ""
             }
            },
            "type": "scattergeo"
           }
          ],
          "scattergl": [
           {
            "marker": {
             "colorbar": {
              "outlinewidth": 0,
              "ticks": ""
             }
            },
            "type": "scattergl"
           }
          ],
          "scattermapbox": [
           {
            "marker": {
             "colorbar": {
              "outlinewidth": 0,
              "ticks": ""
             }
            },
            "type": "scattermapbox"
           }
          ],
          "scatterpolar": [
           {
            "marker": {
             "colorbar": {
              "outlinewidth": 0,
              "ticks": ""
             }
            },
            "type": "scatterpolar"
           }
          ],
          "scatterpolargl": [
           {
            "marker": {
             "colorbar": {
              "outlinewidth": 0,
              "ticks": ""
             }
            },
            "type": "scatterpolargl"
           }
          ],
          "scatterternary": [
           {
            "marker": {
             "colorbar": {
              "outlinewidth": 0,
              "ticks": ""
             }
            },
            "type": "scatterternary"
           }
          ],
          "surface": [
           {
            "colorbar": {
             "outlinewidth": 0,
             "ticks": ""
            },
            "colorscale": [
             [
              0,
              "#0d0887"
             ],
             [
              0.1111111111111111,
              "#46039f"
             ],
             [
              0.2222222222222222,
              "#7201a8"
             ],
             [
              0.3333333333333333,
              "#9c179e"
             ],
             [
              0.4444444444444444,
              "#bd3786"
             ],
             [
              0.5555555555555556,
              "#d8576b"
             ],
             [
              0.6666666666666666,
              "#ed7953"
             ],
             [
              0.7777777777777778,
              "#fb9f3a"
             ],
             [
              0.8888888888888888,
              "#fdca26"
             ],
             [
              1,
              "#f0f921"
             ]
            ],
            "type": "surface"
           }
          ],
          "table": [
           {
            "cells": {
             "fill": {
              "color": "#EBF0F8"
             },
             "line": {
              "color": "white"
             }
            },
            "header": {
             "fill": {
              "color": "#C8D4E3"
             },
             "line": {
              "color": "white"
             }
            },
            "type": "table"
           }
          ]
         },
         "layout": {
          "annotationdefaults": {
           "arrowcolor": "#2a3f5f",
           "arrowhead": 0,
           "arrowwidth": 1
          },
          "autotypenumbers": "strict",
          "coloraxis": {
           "colorbar": {
            "outlinewidth": 0,
            "ticks": ""
           }
          },
          "colorscale": {
           "diverging": [
            [
             0,
             "#8e0152"
            ],
            [
             0.1,
             "#c51b7d"
            ],
            [
             0.2,
             "#de77ae"
            ],
            [
             0.3,
             "#f1b6da"
            ],
            [
             0.4,
             "#fde0ef"
            ],
            [
             0.5,
             "#f7f7f7"
            ],
            [
             0.6,
             "#e6f5d0"
            ],
            [
             0.7,
             "#b8e186"
            ],
            [
             0.8,
             "#7fbc41"
            ],
            [
             0.9,
             "#4d9221"
            ],
            [
             1,
             "#276419"
            ]
           ],
           "sequential": [
            [
             0,
             "#0d0887"
            ],
            [
             0.1111111111111111,
             "#46039f"
            ],
            [
             0.2222222222222222,
             "#7201a8"
            ],
            [
             0.3333333333333333,
             "#9c179e"
            ],
            [
             0.4444444444444444,
             "#bd3786"
            ],
            [
             0.5555555555555556,
             "#d8576b"
            ],
            [
             0.6666666666666666,
             "#ed7953"
            ],
            [
             0.7777777777777778,
             "#fb9f3a"
            ],
            [
             0.8888888888888888,
             "#fdca26"
            ],
            [
             1,
             "#f0f921"
            ]
           ],
           "sequentialminus": [
            [
             0,
             "#0d0887"
            ],
            [
             0.1111111111111111,
             "#46039f"
            ],
            [
             0.2222222222222222,
             "#7201a8"
            ],
            [
             0.3333333333333333,
             "#9c179e"
            ],
            [
             0.4444444444444444,
             "#bd3786"
            ],
            [
             0.5555555555555556,
             "#d8576b"
            ],
            [
             0.6666666666666666,
             "#ed7953"
            ],
            [
             0.7777777777777778,
             "#fb9f3a"
            ],
            [
             0.8888888888888888,
             "#fdca26"
            ],
            [
             1,
             "#f0f921"
            ]
           ]
          },
          "colorway": [
           "#636efa",
           "#EF553B",
           "#00cc96",
           "#ab63fa",
           "#FFA15A",
           "#19d3f3",
           "#FF6692",
           "#B6E880",
           "#FF97FF",
           "#FECB52"
          ],
          "font": {
           "color": "#2a3f5f"
          },
          "geo": {
           "bgcolor": "white",
           "lakecolor": "white",
           "landcolor": "#E5ECF6",
           "showlakes": true,
           "showland": true,
           "subunitcolor": "white"
          },
          "hoverlabel": {
           "align": "left"
          },
          "hovermode": "closest",
          "mapbox": {
           "style": "light"
          },
          "paper_bgcolor": "white",
          "plot_bgcolor": "#E5ECF6",
          "polar": {
           "angularaxis": {
            "gridcolor": "white",
            "linecolor": "white",
            "ticks": ""
           },
           "bgcolor": "#E5ECF6",
           "radialaxis": {
            "gridcolor": "white",
            "linecolor": "white",
            "ticks": ""
           }
          },
          "scene": {
           "xaxis": {
            "backgroundcolor": "#E5ECF6",
            "gridcolor": "white",
            "gridwidth": 2,
            "linecolor": "white",
            "showbackground": true,
            "ticks": "",
            "zerolinecolor": "white"
           },
           "yaxis": {
            "backgroundcolor": "#E5ECF6",
            "gridcolor": "white",
            "gridwidth": 2,
            "linecolor": "white",
            "showbackground": true,
            "ticks": "",
            "zerolinecolor": "white"
           },
           "zaxis": {
            "backgroundcolor": "#E5ECF6",
            "gridcolor": "white",
            "gridwidth": 2,
            "linecolor": "white",
            "showbackground": true,
            "ticks": "",
            "zerolinecolor": "white"
           }
          },
          "shapedefaults": {
           "line": {
            "color": "#2a3f5f"
           }
          },
          "ternary": {
           "aaxis": {
            "gridcolor": "white",
            "linecolor": "white",
            "ticks": ""
           },
           "baxis": {
            "gridcolor": "white",
            "linecolor": "white",
            "ticks": ""
           },
           "bgcolor": "#E5ECF6",
           "caxis": {
            "gridcolor": "white",
            "linecolor": "white",
            "ticks": ""
           }
          },
          "title": {
           "x": 0.05
          },
          "xaxis": {
           "automargin": true,
           "gridcolor": "white",
           "linecolor": "white",
           "ticks": "",
           "title": {
            "standoff": 15
           },
           "zerolinecolor": "white",
           "zerolinewidth": 2
          },
          "yaxis": {
           "automargin": true,
           "gridcolor": "white",
           "linecolor": "white",
           "ticks": "",
           "title": {
            "standoff": 15
           },
           "zerolinecolor": "white",
           "zerolinewidth": 2
          }
         }
        }
       }
      },
      "text/html": [
       "<div>                            <div id=\"4d507e5e-b88b-420f-99fa-a3361760c777\" class=\"plotly-graph-div\" style=\"height:525px; width:100%;\"></div>            <script type=\"text/javascript\">                require([\"plotly\"], function(Plotly) {                    window.PLOTLYENV=window.PLOTLYENV || {};                                    if (document.getElementById(\"4d507e5e-b88b-420f-99fa-a3361760c777\")) {                    Plotly.newPlot(                        \"4d507e5e-b88b-420f-99fa-a3361760c777\",                        [{\"branchvalues\":\"total\",\"customdata\":[[\"ATE\",6.0],[\"BARRANCO\",1.0],[\"BRE\\u00c3\\u0091A\",2.0],[\"BRE\\u00d1A\",3.0],[\"CARABAYLLO\",3.0],[\"CHACLACAYO\",1.0],[\"CHORRILLOS\",18.0],[\"COMAS\",12.0],[\"EL AGUSTINO\",2.0],[\"INDEPENDENCIA\",5.0],[\"JESUS MARIA\",21.0],[\"LA MOLINA\",7.0],[\"LA VICTORIA\",6.0],[\"LIMA\",37.0],[\"LINCE\",8.0],[\"LOS OLIVOS\",11.0],[\"LURIGANCHO\",3.0],[\"LURIN\",2.0],[\"MAGDALENA DEL MAR\",9.0],[\"MIRAFLORES\",31.0],[\"PUEBLO LIBRE\",17.0],[\"PUENTE PIEDRA\",6.0],[\"RIMAC\",5.0],[\"SAN BARTOLO\",1.0],[\"SAN BORJA\",41.0],[\"SAN ISIDRO\",30.0],[\"SAN JUAN DE LURIGANCHO\",12.0],[\"SAN JUAN DE MIRAFLORES\",12.0],[\"SAN LUIS\",3.0],[\"SAN MARTIN DE PORRES\",13.0],[\"SAN MIGUEL\",9.0],[\"SANTA ANITA\",6.0],[\"SANTIAGO DE SURCO\",27.0],[\"SURQUILLO\",13.0],[\"VILLA EL SALVADOR\",4.0],[\"VILLA MARIA DEL TRIUNFO\",4.0],[\"(?)\",20.81074168797954]],\"domain\":{\"x\":[0.0,1.0],\"y\":[0.0,1.0]},\"hovertemplate\":\"labels=%{label}<br>NAME_sum=%{value}<br>parent=%{parent}<br>id=%{id}<br>DISTRICT=%{customdata[0]}<br>NAME=%{color}<extra></extra>\",\"ids\":[\"DISTRICTS/ATE\",\"DISTRICTS/BARRANCO\",\"DISTRICTS/BRE\\u00c3\\u0091A\",\"DISTRICTS/BRE\\u00d1A\",\"DISTRICTS/CARABAYLLO\",\"DISTRICTS/CHACLACAYO\",\"DISTRICTS/CHORRILLOS\",\"DISTRICTS/COMAS\",\"DISTRICTS/EL AGUSTINO\",\"DISTRICTS/INDEPENDENCIA\",\"DISTRICTS/JESUS MARIA\",\"DISTRICTS/LA MOLINA\",\"DISTRICTS/LA VICTORIA\",\"DISTRICTS/LIMA\",\"DISTRICTS/LINCE\",\"DISTRICTS/LOS OLIVOS\",\"DISTRICTS/LURIGANCHO\",\"DISTRICTS/LURIN\",\"DISTRICTS/MAGDALENA DEL MAR\",\"DISTRICTS/MIRAFLORES\",\"DISTRICTS/PUEBLO LIBRE\",\"DISTRICTS/PUENTE PIEDRA\",\"DISTRICTS/RIMAC\",\"DISTRICTS/SAN BARTOLO\",\"DISTRICTS/SAN BORJA\",\"DISTRICTS/SAN ISIDRO\",\"DISTRICTS/SAN JUAN DE LURIGANCHO\",\"DISTRICTS/SAN JUAN DE MIRAFLORES\",\"DISTRICTS/SAN LUIS\",\"DISTRICTS/SAN MARTIN DE PORRES\",\"DISTRICTS/SAN MIGUEL\",\"DISTRICTS/SANTA ANITA\",\"DISTRICTS/SANTIAGO DE SURCO\",\"DISTRICTS/SURQUILLO\",\"DISTRICTS/VILLA EL SALVADOR\",\"DISTRICTS/VILLA MARIA DEL TRIUNFO\",\"DISTRICTS\"],\"labels\":[\"ATE\",\"BARRANCO\",\"BRE\\u00c3\\u0091A\",\"BRE\\u00d1A\",\"CARABAYLLO\",\"CHACLACAYO\",\"CHORRILLOS\",\"COMAS\",\"EL AGUSTINO\",\"INDEPENDENCIA\",\"JESUS MARIA\",\"LA MOLINA\",\"LA VICTORIA\",\"LIMA\",\"LINCE\",\"LOS OLIVOS\",\"LURIGANCHO\",\"LURIN\",\"MAGDALENA DEL MAR\",\"MIRAFLORES\",\"PUEBLO LIBRE\",\"PUENTE PIEDRA\",\"RIMAC\",\"SAN BARTOLO\",\"SAN BORJA\",\"SAN ISIDRO\",\"SAN JUAN DE LURIGANCHO\",\"SAN JUAN DE MIRAFLORES\",\"SAN LUIS\",\"SAN MARTIN DE PORRES\",\"SAN MIGUEL\",\"SANTA ANITA\",\"SANTIAGO DE SURCO\",\"SURQUILLO\",\"VILLA EL SALVADOR\",\"VILLA MARIA DEL TRIUNFO\",\"DISTRICTS\"],\"marker\":{\"coloraxis\":\"coloraxis\",\"colors\":[6.0,1.0,2.0,3.0,3.0,1.0,18.0,12.0,2.0,5.0,21.0,7.0,6.0,37.0,8.0,11.0,3.0,2.0,9.0,31.0,17.0,6.0,5.0,1.0,41.0,30.0,12.0,12.0,3.0,13.0,9.0,6.0,27.0,13.0,4.0,4.0,20.81074168797954]},\"name\":\"\",\"parents\":[\"DISTRICTS\",\"DISTRICTS\",\"DISTRICTS\",\"DISTRICTS\",\"DISTRICTS\",\"DISTRICTS\",\"DISTRICTS\",\"DISTRICTS\",\"DISTRICTS\",\"DISTRICTS\",\"DISTRICTS\",\"DISTRICTS\",\"DISTRICTS\",\"DISTRICTS\",\"DISTRICTS\",\"DISTRICTS\",\"DISTRICTS\",\"DISTRICTS\",\"DISTRICTS\",\"DISTRICTS\",\"DISTRICTS\",\"DISTRICTS\",\"DISTRICTS\",\"DISTRICTS\",\"DISTRICTS\",\"DISTRICTS\",\"DISTRICTS\",\"DISTRICTS\",\"DISTRICTS\",\"DISTRICTS\",\"DISTRICTS\",\"DISTRICTS\",\"DISTRICTS\",\"DISTRICTS\",\"DISTRICTS\",\"DISTRICTS\",\"\"],\"values\":[6,1,2,3,3,1,18,12,2,5,21,7,6,37,8,11,3,2,9,31,17,6,5,1,41,30,12,12,3,13,9,6,27,13,4,4,391],\"type\":\"treemap\"}],                        {\"template\":{\"data\":{\"bar\":[{\"error_x\":{\"color\":\"#2a3f5f\"},\"error_y\":{\"color\":\"#2a3f5f\"},\"marker\":{\"line\":{\"color\":\"#E5ECF6\",\"width\":0.5},\"pattern\":{\"fillmode\":\"overlay\",\"size\":10,\"solidity\":0.2}},\"type\":\"bar\"}],\"barpolar\":[{\"marker\":{\"line\":{\"color\":\"#E5ECF6\",\"width\":0.5},\"pattern\":{\"fillmode\":\"overlay\",\"size\":10,\"solidity\":0.2}},\"type\":\"barpolar\"}],\"carpet\":[{\"aaxis\":{\"endlinecolor\":\"#2a3f5f\",\"gridcolor\":\"white\",\"linecolor\":\"white\",\"minorgridcolor\":\"white\",\"startlinecolor\":\"#2a3f5f\"},\"baxis\":{\"endlinecolor\":\"#2a3f5f\",\"gridcolor\":\"white\",\"linecolor\":\"white\",\"minorgridcolor\":\"white\",\"startlinecolor\":\"#2a3f5f\"},\"type\":\"carpet\"}],\"choropleth\":[{\"colorbar\":{\"outlinewidth\":0,\"ticks\":\"\"},\"type\":\"choropleth\"}],\"contour\":[{\"colorbar\":{\"outlinewidth\":0,\"ticks\":\"\"},\"colorscale\":[[0.0,\"#0d0887\"],[0.1111111111111111,\"#46039f\"],[0.2222222222222222,\"#7201a8\"],[0.3333333333333333,\"#9c179e\"],[0.4444444444444444,\"#bd3786\"],[0.5555555555555556,\"#d8576b\"],[0.6666666666666666,\"#ed7953\"],[0.7777777777777778,\"#fb9f3a\"],[0.8888888888888888,\"#fdca26\"],[1.0,\"#f0f921\"]],\"type\":\"contour\"}],\"contourcarpet\":[{\"colorbar\":{\"outlinewidth\":0,\"ticks\":\"\"},\"type\":\"contourcarpet\"}],\"heatmap\":[{\"colorbar\":{\"outlinewidth\":0,\"ticks\":\"\"},\"colorscale\":[[0.0,\"#0d0887\"],[0.1111111111111111,\"#46039f\"],[0.2222222222222222,\"#7201a8\"],[0.3333333333333333,\"#9c179e\"],[0.4444444444444444,\"#bd3786\"],[0.5555555555555556,\"#d8576b\"],[0.6666666666666666,\"#ed7953\"],[0.7777777777777778,\"#fb9f3a\"],[0.8888888888888888,\"#fdca26\"],[1.0,\"#f0f921\"]],\"type\":\"heatmap\"}],\"heatmapgl\":[{\"colorbar\":{\"outlinewidth\":0,\"ticks\":\"\"},\"colorscale\":[[0.0,\"#0d0887\"],[0.1111111111111111,\"#46039f\"],[0.2222222222222222,\"#7201a8\"],[0.3333333333333333,\"#9c179e\"],[0.4444444444444444,\"#bd3786\"],[0.5555555555555556,\"#d8576b\"],[0.6666666666666666,\"#ed7953\"],[0.7777777777777778,\"#fb9f3a\"],[0.8888888888888888,\"#fdca26\"],[1.0,\"#f0f921\"]],\"type\":\"heatmapgl\"}],\"histogram\":[{\"marker\":{\"pattern\":{\"fillmode\":\"overlay\",\"size\":10,\"solidity\":0.2}},\"type\":\"histogram\"}],\"histogram2d\":[{\"colorbar\":{\"outlinewidth\":0,\"ticks\":\"\"},\"colorscale\":[[0.0,\"#0d0887\"],[0.1111111111111111,\"#46039f\"],[0.2222222222222222,\"#7201a8\"],[0.3333333333333333,\"#9c179e\"],[0.4444444444444444,\"#bd3786\"],[0.5555555555555556,\"#d8576b\"],[0.6666666666666666,\"#ed7953\"],[0.7777777777777778,\"#fb9f3a\"],[0.8888888888888888,\"#fdca26\"],[1.0,\"#f0f921\"]],\"type\":\"histogram2d\"}],\"histogram2dcontour\":[{\"colorbar\":{\"outlinewidth\":0,\"ticks\":\"\"},\"colorscale\":[[0.0,\"#0d0887\"],[0.1111111111111111,\"#46039f\"],[0.2222222222222222,\"#7201a8\"],[0.3333333333333333,\"#9c179e\"],[0.4444444444444444,\"#bd3786\"],[0.5555555555555556,\"#d8576b\"],[0.6666666666666666,\"#ed7953\"],[0.7777777777777778,\"#fb9f3a\"],[0.8888888888888888,\"#fdca26\"],[1.0,\"#f0f921\"]],\"type\":\"histogram2dcontour\"}],\"mesh3d\":[{\"colorbar\":{\"outlinewidth\":0,\"ticks\":\"\"},\"type\":\"mesh3d\"}],\"parcoords\":[{\"line\":{\"colorbar\":{\"outlinewidth\":0,\"ticks\":\"\"}},\"type\":\"parcoords\"}],\"pie\":[{\"automargin\":true,\"type\":\"pie\"}],\"scatter\":[{\"marker\":{\"colorbar\":{\"outlinewidth\":0,\"ticks\":\"\"}},\"type\":\"scatter\"}],\"scatter3d\":[{\"line\":{\"colorbar\":{\"outlinewidth\":0,\"ticks\":\"\"}},\"marker\":{\"colorbar\":{\"outlinewidth\":0,\"ticks\":\"\"}},\"type\":\"scatter3d\"}],\"scattercarpet\":[{\"marker\":{\"colorbar\":{\"outlinewidth\":0,\"ticks\":\"\"}},\"type\":\"scattercarpet\"}],\"scattergeo\":[{\"marker\":{\"colorbar\":{\"outlinewidth\":0,\"ticks\":\"\"}},\"type\":\"scattergeo\"}],\"scattergl\":[{\"marker\":{\"colorbar\":{\"outlinewidth\":0,\"ticks\":\"\"}},\"type\":\"scattergl\"}],\"scattermapbox\":[{\"marker\":{\"colorbar\":{\"outlinewidth\":0,\"ticks\":\"\"}},\"type\":\"scattermapbox\"}],\"scatterpolar\":[{\"marker\":{\"colorbar\":{\"outlinewidth\":0,\"ticks\":\"\"}},\"type\":\"scatterpolar\"}],\"scatterpolargl\":[{\"marker\":{\"colorbar\":{\"outlinewidth\":0,\"ticks\":\"\"}},\"type\":\"scatterpolargl\"}],\"scatterternary\":[{\"marker\":{\"colorbar\":{\"outlinewidth\":0,\"ticks\":\"\"}},\"type\":\"scatterternary\"}],\"surface\":[{\"colorbar\":{\"outlinewidth\":0,\"ticks\":\"\"},\"colorscale\":[[0.0,\"#0d0887\"],[0.1111111111111111,\"#46039f\"],[0.2222222222222222,\"#7201a8\"],[0.3333333333333333,\"#9c179e\"],[0.4444444444444444,\"#bd3786\"],[0.5555555555555556,\"#d8576b\"],[0.6666666666666666,\"#ed7953\"],[0.7777777777777778,\"#fb9f3a\"],[0.8888888888888888,\"#fdca26\"],[1.0,\"#f0f921\"]],\"type\":\"surface\"}],\"table\":[{\"cells\":{\"fill\":{\"color\":\"#EBF0F8\"},\"line\":{\"color\":\"white\"}},\"header\":{\"fill\":{\"color\":\"#C8D4E3\"},\"line\":{\"color\":\"white\"}},\"type\":\"table\"}]},\"layout\":{\"annotationdefaults\":{\"arrowcolor\":\"#2a3f5f\",\"arrowhead\":0,\"arrowwidth\":1},\"autotypenumbers\":\"strict\",\"coloraxis\":{\"colorbar\":{\"outlinewidth\":0,\"ticks\":\"\"}},\"colorscale\":{\"diverging\":[[0,\"#8e0152\"],[0.1,\"#c51b7d\"],[0.2,\"#de77ae\"],[0.3,\"#f1b6da\"],[0.4,\"#fde0ef\"],[0.5,\"#f7f7f7\"],[0.6,\"#e6f5d0\"],[0.7,\"#b8e186\"],[0.8,\"#7fbc41\"],[0.9,\"#4d9221\"],[1,\"#276419\"]],\"sequential\":[[0.0,\"#0d0887\"],[0.1111111111111111,\"#46039f\"],[0.2222222222222222,\"#7201a8\"],[0.3333333333333333,\"#9c179e\"],[0.4444444444444444,\"#bd3786\"],[0.5555555555555556,\"#d8576b\"],[0.6666666666666666,\"#ed7953\"],[0.7777777777777778,\"#fb9f3a\"],[0.8888888888888888,\"#fdca26\"],[1.0,\"#f0f921\"]],\"sequentialminus\":[[0.0,\"#0d0887\"],[0.1111111111111111,\"#46039f\"],[0.2222222222222222,\"#7201a8\"],[0.3333333333333333,\"#9c179e\"],[0.4444444444444444,\"#bd3786\"],[0.5555555555555556,\"#d8576b\"],[0.6666666666666666,\"#ed7953\"],[0.7777777777777778,\"#fb9f3a\"],[0.8888888888888888,\"#fdca26\"],[1.0,\"#f0f921\"]]},\"colorway\":[\"#636efa\",\"#EF553B\",\"#00cc96\",\"#ab63fa\",\"#FFA15A\",\"#19d3f3\",\"#FF6692\",\"#B6E880\",\"#FF97FF\",\"#FECB52\"],\"font\":{\"color\":\"#2a3f5f\"},\"geo\":{\"bgcolor\":\"white\",\"lakecolor\":\"white\",\"landcolor\":\"#E5ECF6\",\"showlakes\":true,\"showland\":true,\"subunitcolor\":\"white\"},\"hoverlabel\":{\"align\":\"left\"},\"hovermode\":\"closest\",\"mapbox\":{\"style\":\"light\"},\"paper_bgcolor\":\"white\",\"plot_bgcolor\":\"#E5ECF6\",\"polar\":{\"angularaxis\":{\"gridcolor\":\"white\",\"linecolor\":\"white\",\"ticks\":\"\"},\"bgcolor\":\"#E5ECF6\",\"radialaxis\":{\"gridcolor\":\"white\",\"linecolor\":\"white\",\"ticks\":\"\"}},\"scene\":{\"xaxis\":{\"backgroundcolor\":\"#E5ECF6\",\"gridcolor\":\"white\",\"gridwidth\":2,\"linecolor\":\"white\",\"showbackground\":true,\"ticks\":\"\",\"zerolinecolor\":\"white\"},\"yaxis\":{\"backgroundcolor\":\"#E5ECF6\",\"gridcolor\":\"white\",\"gridwidth\":2,\"linecolor\":\"white\",\"showbackground\":true,\"ticks\":\"\",\"zerolinecolor\":\"white\"},\"zaxis\":{\"backgroundcolor\":\"#E5ECF6\",\"gridcolor\":\"white\",\"gridwidth\":2,\"linecolor\":\"white\",\"showbackground\":true,\"ticks\":\"\",\"zerolinecolor\":\"white\"}},\"shapedefaults\":{\"line\":{\"color\":\"#2a3f5f\"}},\"ternary\":{\"aaxis\":{\"gridcolor\":\"white\",\"linecolor\":\"white\",\"ticks\":\"\"},\"baxis\":{\"gridcolor\":\"white\",\"linecolor\":\"white\",\"ticks\":\"\"},\"bgcolor\":\"#E5ECF6\",\"caxis\":{\"gridcolor\":\"white\",\"linecolor\":\"white\",\"ticks\":\"\"}},\"title\":{\"x\":0.05},\"xaxis\":{\"automargin\":true,\"gridcolor\":\"white\",\"linecolor\":\"white\",\"ticks\":\"\",\"title\":{\"standoff\":15},\"zerolinecolor\":\"white\",\"zerolinewidth\":2},\"yaxis\":{\"automargin\":true,\"gridcolor\":\"white\",\"linecolor\":\"white\",\"ticks\":\"\",\"title\":{\"standoff\":15},\"zerolinecolor\":\"white\",\"zerolinewidth\":2}}},\"coloraxis\":{\"colorbar\":{\"title\":{\"text\":\"NAME\"}},\"colorscale\":[[0.0,\"#0d0887\"],[0.1111111111111111,\"#46039f\"],[0.2222222222222222,\"#7201a8\"],[0.3333333333333333,\"#9c179e\"],[0.4444444444444444,\"#bd3786\"],[0.5555555555555556,\"#d8576b\"],[0.6666666666666666,\"#ed7953\"],[0.7777777777777778,\"#fb9f3a\"],[0.8888888888888888,\"#fdca26\"],[1.0,\"#f0f921\"]]},\"legend\":{\"tracegroupgap\":0},\"margin\":{\"t\":60}},                        {\"responsive\": true}                    ).then(function(){\n",
       "                            \n",
       "var gd = document.getElementById('4d507e5e-b88b-420f-99fa-a3361760c777');\n",
       "var x = new MutationObserver(function (mutations, observer) {{\n",
       "        var display = window.getComputedStyle(gd).display;\n",
       "        if (!display || display === 'none') {{\n",
       "            console.log([gd, 'removed!']);\n",
       "            Plotly.purge(gd);\n",
       "            observer.disconnect();\n",
       "        }}\n",
       "}});\n",
       "\n",
       "// Listen for the removal of the full notebook cells\n",
       "var notebookContainer = gd.closest('#notebook-container');\n",
       "if (notebookContainer) {{\n",
       "    x.observe(notebookContainer, {childList: true});\n",
       "}}\n",
       "\n",
       "// Listen for the clearing of the current output cell\n",
       "var outputEl = gd.closest('.output');\n",
       "if (outputEl) {{\n",
       "    x.observe(outputEl, {childList: true});\n",
       "}}\n",
       "\n",
       "                        })                };                });            </script>        </div>"
      ]
     },
     "metadata": {},
     "output_type": "display_data"
    }
   ],
   "source": [
    "HOSPITAL_PARAMETER = 'CO_IPRESS'\n",
    "\n",
    "data_temp = data_lima_m.groupby(['DISTRICT',HOSPITAL_PARAMETER]).agg({ 'QTY_PEOPLE_SERVED': \"sum\"})\n",
    "data_temp = data_temp.reset_index()\n",
    "data_temp = data_temp.groupby(['DISTRICT']).agg({ HOSPITAL_PARAMETER: \"count\"})\n",
    "data_temp = data_temp.reset_index()\n",
    "\n",
    "fig = px.treemap(data_temp,\n",
    "                 path=[px.Constant('DISTRICTS'), 'DISTRICT'],\n",
    "                 values=HOSPITAL_PARAMETER,\n",
    "                 color=HOSPITAL_PARAMETER,\n",
    "                 hover_data=['DISTRICT'])\n",
    "fig.show()"
   ]
  },
  {
   "cell_type": "markdown",
   "id": "b792dbae",
   "metadata": {},
   "source": [
    "#### Evolution of the top 10 diagnoses"
   ]
  },
  {
   "cell_type": "code",
   "execution_count": 283,
   "id": "3354a88f",
   "metadata": {},
   "outputs": [],
   "source": [
    "DIAGNOSIS_PARAMETER = 'DIAGNOSIS'\n",
    "\n",
    "data_temp = data_lima_m.groupby(['DATE', DIAGNOSIS_PARAMETER]).agg({ 'QTY_PEOPLE_SERVED': \"count\"})\n",
    "data_temp = data_temp.reset_index()\n",
    "\n",
    "top10_df = pd.DataFrame()\n",
    "date_uniques = np.sort(data_temp['DATE'].unique())\n",
    "\n",
    "for date in date_uniques:\n",
    "    temp_df = data_temp[data_temp['DATE']==date]\n",
    "    temp_df = temp_df.sort_values(by=['QTY_PEOPLE_SERVED'], ascending=False)\n",
    "    temp_df = temp_df.head(10).reset_index(drop=True)\n",
    "    top10_df = pd.concat([top10_df, temp_df])\n",
    "    \n",
    "diagnosis = top10_df[DIAGNOSIS_PARAMETER].unique()\n",
    "\n",
    "for date in date_uniques:\n",
    "    temp_df = top10_df[top10_df['DATE']==date]\n",
    "    diagnosis_temp = list(set(diagnosis) - set(temp_df[DIAGNOSIS_PARAMETER].values))\n",
    "    temp_df = pd.DataFrame(diagnosis_temp, columns =[DIAGNOSIS_PARAMETER])\n",
    "    temp_df['DATE']=date\n",
    "    temp_df['QTY_PEOPLE_SERVED']=0\n",
    "    top10_df = pd.concat([top10_df, temp_df])\n",
    "\n",
    "top10_df = top10_df.sort_values(by=['DATE',DIAGNOSIS_PARAMETER], ascending=True)"
   ]
  },
  {
   "cell_type": "code",
   "execution_count": 284,
   "id": "eeb96cdf",
   "metadata": {},
   "outputs": [
    {
     "data": {
      "image/png": "[encoded data removed]",
      "text/plain": [
       "<Figure size 756x360 with 1 Axes>"
      ]
     },
     "metadata": {
      "needs_background": "light"
     },
     "output_type": "display_data"
    }
   ],
   "source": [
    "\n",
    "x_element = [str(item)[:7] for item in np.unique(top10_df['DATE'])]\n",
    "N = len(x_element)\n",
    "ind = np.arange(N) \n",
    "width = 0.40\n",
    "\n",
    "fig = plt.figure(figsize=(10.5,5))\n",
    "ax = fig.add_axes([0,0,1,1])\n",
    "\n",
    "values_temp = 0\n",
    "for diag in diagnosis:\n",
    "    temp_df = top10_df[top10_df[DIAGNOSIS_PARAMETER]==diag]\n",
    "    values = temp_df['QTY_PEOPLE_SERVED'].values\n",
    "    ax.bar(ind, values, width, bottom=values_temp)\n",
    "    values_temp = values_temp + values\n",
    "\n",
    "ax.set_ylabel('People served')\n",
    "ax.set_title('People served by diagnosis')\n",
    "ax.set_xticks(ind)\n",
    "ax.set_xticklabels(x_element, rotation=45)\n",
    "\n",
    "ax.legend(labels=diagnosis, bbox_to_anchor = (1.15, 1))\n",
    "plt.show()"
   ]
  },
  {
   "cell_type": "markdown",
   "id": "3f173776",
   "metadata": {},
   "source": [
    "numero de diagnosticos distintos por hospitales, un grafico por categoria\n",
    "#### Diagnoses qty by hospitals and hospital category"
   ]
  },
  {
   "cell_type": "code",
   "execution_count": 296,
   "id": "28bbe132",
   "metadata": {},
   "outputs": [
    {
     "data": {
      "application/vnd.plotly.v1+json": {
       "config": {
        "plotlyServerURL": "https://plot.ly"
       },
       "data": [
        {
         "branchvalues": "total",
         "customdata": [
          [
           1632,
           1632
          ],
          [
           3602,
           3602
          ],
          [
           3987,
           3987
          ],
          [
           4093,
           4093
          ],
          [
           3596,
           3596
          ],
          [
           1447,
           1447
          ],
          [
           6004,
           6004
          ],
          [
           6240,
           6240
          ],
          [
           4876,
           4876
          ],
          [
           1525,
           1525
          ],
          [
           1286,
           1286
          ],
          [
           789,
           789
          ],
          [
           4331,
           4331
          ],
          [
           1185,
           1185
          ],
          [
           720,
           720
          ],
          [
           435,
           435
          ],
          [
           2842.4753846153844,
           2842.4753846153844
          ],
          [
           5008,
           5008
          ],
          [
           591,
           591
          ],
          [
           4553,
           4553
          ],
          [
           6238,
           6238
          ],
          [
           930,
           930
          ],
          [
           665,
           665
          ],
          [
           894.4222488038278,
           894.4222488038278
          ],
          [
           2054,
           2054
          ],
          [
           1669,
           1669
          ],
          [
           39,
           39
          ],
          [
           5749,
           5749
          ],
          [
           2029,
           2029
          ],
          [
           1421,
           1421
          ],
          [
           3295,
           3295
          ],
          [
           4097,
           4097
          ],
          [
           2864,
           2864
          ],
          [
           5376,
           5376
          ],
          [
           899,
           899
          ],
          [
           3408,
           3408
          ],
          [
           2351,
           2351
          ],
          [
           3536,
           3536
          ],
          [
           25,
           25
          ],
          [
           88.14942528735632,
           88.14942528735632
          ],
          [
           4696,
           4696
          ],
          [
           3736,
           3736
          ],
          [
           4641,
           4641
          ],
          [
           4612,
           4612
          ],
          [
           882,
           882
          ],
          [
           3981,
           3981
          ],
          [
           2905,
           2905
          ],
          [
           3616,
           3616
          ],
          [
           3667,
           3667
          ],
          [
           7490,
           7490
          ],
          [
           3030,
           3030
          ],
          [
           4835,
           4835
          ],
          [
           3726,
           3726
          ],
          [
           1548,
           1548
          ],
          [
           2896,
           2896
          ],
          [
           453,
           453
          ],
          [
           43.76543209876543,
           43.76543209876543
          ],
          [
           1,
           1
          ],
          [
           2164,
           2164
          ],
          [
           180,
           180
          ],
          [
           3566,
           3566
          ],
          [
           4560,
           4560
          ],
          [
           3794,
           3794
          ],
          [
           611,
           611
          ],
          [
           135,
           135
          ],
          [
           2161,
           2161
          ],
          [
           3035,
           3035
          ],
          [
           1,
           1
          ],
          [
           3596,
           3596
          ],
          [
           6470,
           6470
          ],
          [
           3312,
           3312
          ],
          [
           1,
           1
          ],
          [
           587,
           587
          ],
          [
           63,
           63
          ],
          [
           5826,
           5826
          ],
          [
           184,
           184
          ],
          [
           2690,
           2690
          ],
          [
           254,
           254
          ],
          [
           223,
           223
          ],
          [
           311,
           311
          ],
          [
           31,
           31
          ],
          [
           1,
           1
          ],
          [
           18,
           18
          ],
          [
           1048.665641025641,
           1048.665641025641
          ],
          [
           5365,
           5365
          ],
          [
           4440,
           4440
          ],
          [
           1,
           1
          ],
          [
           4715,
           4715
          ],
          [
           22,
           22
          ],
          [
           1879,
           1879
          ],
          [
           26,
           26
          ],
          [
           5188,
           5188
          ],
          [
           3821,
           3821
          ],
          [
           2100,
           2100
          ],
          [
           3687,
           3687
          ],
          [
           5042,
           5042
          ],
          [
           1,
           1
          ],
          [
           107,
           107
          ],
          [
           2209,
           2209
          ],
          [
           1541,
           1541
          ],
          [
           1,
           1
          ],
          [
           3,
           3
          ],
          [
           47,
           47
          ],
          [
           277,
           277
          ],
          [
           2753,
           2753
          ],
          [
           1836,
           1836
          ],
          [
           846,
           846
          ],
          [
           87,
           87
          ],
          [
           23,
           23
          ],
          [
           5168,
           5168
          ],
          [
           1,
           1
          ],
          [
           261,
           261
          ],
          [
           5146,
           5146
          ],
          [
           3483,
           3483
          ],
          [
           215,
           215
          ],
          [
           365,
           365
          ],
          [
           12,
           12
          ],
          [
           156,
           156
          ],
          [
           3946,
           3946
          ],
          [
           15,
           15
          ],
          [
           748,
           748
          ],
          [
           181.71386430678467,
           181.71386430678467
          ],
          [
           112,
           112
          ],
          [
           990,
           990
          ],
          [
           382,
           382
          ],
          [
           999,
           999
          ],
          [
           146,
           146
          ],
          [
           174,
           174
          ],
          [
           185.02762430939225,
           185.02762430939225
          ],
          [
           4722,
           4722
          ],
          [
           74,
           74
          ],
          [
           160,
           160
          ],
          [
           1103.693896713615,
           1103.693896713615
          ],
          [
           533,
           533
          ],
          [
           321,
           321
          ],
          [
           2748,
           2748
          ],
          [
           758,
           758
          ],
          [
           1211,
           1211
          ],
          [
           114,
           114
          ],
          [
           260,
           260
          ],
          [
           67,
           67
          ],
          [
           1283,
           1283
          ],
          [
           1173,
           1173
          ],
          [
           447,
           447
          ],
          [
           6,
           6
          ],
          [
           1981,
           1981
          ],
          [
           473,
           473
          ],
          [
           414,
           414
          ],
          [
           1,
           1
          ],
          [
           90,
           90
          ],
          [
           14,
           14
          ],
          [
           4050,
           4050
          ],
          [
           1006,
           1006
          ],
          [
           3690,
           3690
          ],
          [
           533,
           533
          ],
          [
           612,
           612
          ],
          [
           478,
           478
          ],
          [
           35,
           35
          ],
          [
           837,
           837
          ],
          [
           790,
           790
          ],
          [
           182,
           182
          ],
          [
           3694,
           3694
          ],
          [
           3059,
           3059
          ],
          [
           1325,
           1325
          ],
          [
           37.666666666666664,
           37.666666666666664
          ],
          [
           2858,
           2858
          ],
          [
           2328,
           2328
          ],
          [
           870,
           870
          ],
          [
           223,
           223
          ],
          [
           5530,
           5530
          ],
          [
           135,
           135
          ],
          [
           153,
           153
          ],
          [
           161,
           161
          ],
          [
           93,
           93
          ],
          [
           1118,
           1118
          ],
          [
           366,
           366
          ],
          [
           5451,
           5451
          ],
          [
           422,
           422
          ],
          [
           983,
           983
          ],
          [
           663,
           663
          ],
          [
           396,
           396
          ],
          [
           1051,
           1051
          ],
          [
           1,
           1
          ],
          [
           2309,
           2309
          ],
          [
           21,
           21
          ],
          [
           34,
           34
          ],
          [
           219,
           219
          ],
          [
           22,
           22
          ],
          [
           37,
           37
          ],
          [
           2569,
           2569
          ],
          [
           5528,
           5528
          ],
          [
           3423,
           3423
          ],
          [
           263,
           263
          ],
          [
           12,
           12
          ],
          [
           484,
           484
          ],
          [
           322,
           322
          ],
          [
           1,
           1
          ],
          [
           279,
           279
          ],
          [
           2197,
           2197
          ],
          [
           98,
           98
          ],
          [
           39,
           39
          ],
          [
           177,
           177
          ],
          [
           237.5940170940171,
           237.5940170940171
          ],
          [
           2164,
           2164
          ],
          [
           2103,
           2103
          ],
          [
           8,
           8
          ],
          [
           70,
           70
          ],
          [
           2163,
           2163
          ],
          [
           3463,
           3463
          ],
          [
           24,
           24
          ],
          [
           1115,
           1115
          ],
          [
           3958,
           3958
          ],
          [
           194,
           194
          ],
          [
           363,
           363
          ],
          [
           120,
           120
          ],
          [
           944,
           944
          ],
          [
           1,
           1
          ],
          [
           553,
           553
          ],
          [
           742,
           742
          ],
          [
           31,
           31
          ],
          [
           138.44,
           138.44
          ],
          [
           271,
           271
          ],
          [
           2773,
           2773
          ],
          [
           183,
           183
          ],
          [
           884,
           884
          ],
          [
           5291,
           5291
          ],
          [
           724,
           724
          ],
          [
           120,
           120
          ],
          [
           54,
           54
          ],
          [
           362,
           362
          ],
          [
           4516,
           4516
          ],
          [
           1216,
           1216
          ],
          [
           328,
           328
          ],
          [
           1760,
           1760
          ],
          [
           1,
           1
          ],
          [
           3913,
           3913
          ],
          [
           48,
           48
          ],
          [
           1992,
           1992
          ],
          [
           452,
           452
          ],
          [
           732,
           732
          ],
          [
           9,
           9
          ],
          [
           2706,
           2706
          ],
          [
           2862,
           2862
          ],
          [
           90,
           90
          ],
          [
           4931,
           4931
          ],
          [
           5773,
           5773
          ],
          [
           693,
           693
          ],
          [
           120,
           120
          ],
          [
           12,
           12
          ],
          [
           633,
           633
          ],
          [
           4050,
           4050
          ],
          [
           4192,
           4192
          ],
          [
           266,
           266
          ],
          [
           21,
           21
          ],
          [
           374,
           374
          ],
          [
           882,
           882
          ],
          [
           13,
           13
          ],
          [
           378,
           378
          ],
          [
           113,
           113
          ],
          [
           218,
           218
          ],
          [
           107,
           107
          ],
          [
           195,
           195
          ],
          [
           270,
           270
          ],
          [
           5,
           5
          ],
          [
           26,
           26
          ],
          [
           537,
           537
          ],
          [
           3787.5097877033363,
           3787.5097877033363
          ],
          [
           3011,
           3011
          ],
          [
           31,
           31
          ],
          [
           137,
           137
          ],
          [
           388,
           388
          ],
          [
           289,
           289
          ],
          [
           89,
           89
          ],
          [
           137,
           137
          ],
          [
           33,
           33
          ],
          [
           20,
           20
          ],
          [
           101,
           101
          ],
          [
           1157,
           1157
          ],
          [
           32,
           32
          ],
          [
           3351,
           3351
          ],
          [
           271,
           271
          ],
          [
           135,
           135
          ],
          [
           106,
           106
          ],
          [
           21,
           21
          ],
          [
           200,
           200
          ],
          [
           1951,
           1951
          ],
          [
           378,
           378
          ],
          [
           1388,
           1388
          ],
          [
           260,
           260
          ],
          [
           42,
           42
          ],
          [
           50,
           50
          ],
          [
           1645,
           1645
          ],
          [
           1091,
           1091
          ],
          [
           434,
           434
          ],
          [
           1967,
           1967
          ],
          [
           2,
           2
          ],
          [
           1810,
           1810
          ],
          [
           30,
           30
          ],
          [
           180,
           180
          ],
          [
           21,
           21
          ],
          [
           8,
           8
          ],
          [
           494,
           494
          ],
          [
           1,
           1
          ],
          [
           68,
           68
          ],
          [
           659,
           659
          ],
          [
           1619,
           1619
          ],
          [
           2967,
           2967
          ],
          [
           17,
           17
          ],
          [
           788,
           788
          ],
          [
           636,
           636
          ],
          [
           1,
           1
          ],
          [
           9,
           9
          ],
          [
           104,
           104
          ],
          [
           931,
           931
          ],
          [
           437,
           437
          ],
          [
           155,
           155
          ],
          [
           57,
           57
          ],
          [
           2018,
           2018
          ],
          [
           1,
           1
          ],
          [
           153,
           153
          ],
          [
           2056,
           2056
          ],
          [
           1050,
           1050
          ],
          [
           56,
           56
          ],
          [
           58,
           58
          ],
          [
           12,
           12
          ],
          [
           72,
           72
          ],
          [
           1770,
           1770
          ],
          [
           1,
           1
          ],
          [
           166,
           166
          ],
          [
           148,
           148
          ],
          [
           99,
           99
          ],
          [
           482,
           482
          ],
          [
           173,
           173
          ],
          [
           157,
           157
          ],
          [
           38,
           38
          ],
          [
           117,
           117
          ],
          [
           147,
           147
          ],
          [
           2343,
           2343
          ],
          [
           42,
           42
          ],
          [
           54,
           54
          ],
          [
           311,
           311
          ],
          [
           126,
           126
          ],
          [
           63,
           63
          ],
          [
           437,
           437
          ],
          [
           304,
           304
          ],
          [
           393,
           393
          ],
          [
           170,
           170
          ],
          [
           32,
           32
          ],
          [
           350,
           350
          ],
          [
           471,
           471
          ],
          [
           83,
           83
          ],
          [
           383,
           383
          ],
          [
           220,
           220
          ],
          [
           1,
           1
          ],
          [
           9,
           9
          ],
          [
           10,
           10
          ],
          [
           1029,
           1029
          ],
          [
           451,
           451
          ],
          [
           1287,
           1287
          ],
          [
           229,
           229
          ],
          [
           313,
           313
          ],
          [
           215,
           215
          ],
          [
           28,
           28
          ],
          [
           323,
           323
          ],
          [
           403,
           403
          ],
          [
           70,
           70
          ],
          [
           777,
           777
          ],
          [
           604,
           604
          ],
          [
           395,
           395
          ],
          [
           16,
           16
          ],
          [
           1159,
           1159
          ],
          [
           1201,
           1201
          ],
          [
           326,
           326
          ],
          [
           3908,
           3908
          ],
          [
           110,
           110
          ],
          [
           79,
           79
          ],
          [
           69,
           69
          ],
          [
           38,
           38
          ],
          [
           254,
           254
          ],
          [
           73,
           73
          ],
          [
           2714,
           2714
          ],
          [
           89,
           89
          ],
          [
           491,
           491
          ],
          [
           303,
           303
          ],
          [
           250,
           250
          ],
          [
           1,
           1
          ],
          [
           692,
           692
          ],
          [
           7,
           7
          ],
          [
           18,
           18
          ],
          [
           93,
           93
          ],
          [
           7,
           7
          ],
          [
           24,
           24
          ],
          [
           924,
           924
          ],
          [
           2459,
           2459
          ],
          [
           618,
           618
          ],
          [
           161,
           161
          ],
          [
           23,
           23
          ],
          [
           222,
           222
          ],
          [
           1,
           1
          ],
          [
           57,
           57
          ],
          [
           1248,
           1248
          ],
          [
           27,
           27
          ],
          [
           78,
           78
          ],
          [
           720,
           720
          ],
          [
           1260,
           1260
          ],
          [
           5,
           5
          ],
          [
           12,
           12
          ],
          [
           334,
           334
          ],
          [
           1349,
           1349
          ],
          [
           15,
           15
          ],
          [
           497,
           497
          ],
          [
           1963,
           1963
          ],
          [
           87,
           87
          ],
          [
           98,
           98
          ],
          [
           61,
           61
          ],
          [
           270,
           270
          ],
          [
           1,
           1
          ],
          [
           378,
           378
          ],
          [
           59,
           59
          ],
          [
           22,
           22
          ],
          [
           141,
           141
          ],
          [
           994,
           994
          ],
          [
           150,
           150
          ],
          [
           388,
           388
          ],
          [
           3328,
           3328
          ],
          [
           39,
           39
          ],
          [
           13,
           13
          ],
          [
           82,
           82
          ],
          [
           2337,
           2337
          ],
          [
           461,
           461
          ],
          [
           156,
           156
          ],
          [
           297,
           297
          ],
          [
           1,
           1
          ],
          [
           2239,
           2239
          ],
          [
           7,
           7
          ],
          [
           512,
           512
          ],
          [
           196,
           196
          ],
          [
           153,
           153
          ],
          [
           5,
           5
          ],
          [
           1763,
           1763
          ],
          [
           59,
           59
          ],
          [
           1670,
           1670
          ],
          [
           3683,
           3683
          ],
          [
           143,
           143
          ],
          [
           8,
           8
          ],
          [
           198,
           198
          ],
          [
           101,
           101
          ],
          [
           11,
           11
          ],
          [
           30,
           30
          ],
          [
           420,
           420
          ],
          [
           128,
           128
          ],
          [
           23,
           23
          ],
          [
           117,
           117
          ],
          [
           177,
           177
          ],
          [
           3,
           3
          ],
          [
           8,
           8
          ],
          [
           295,
           295
          ],
          [
           2521,
           2521
          ],
          [
           1303,
           1303
          ],
          [
           62,
           62
          ],
          [
           134,
           134
          ],
          [
           250,
           250
          ],
          [
           178,
           178
          ],
          [
           53,
           53
          ],
          [
           3,
           3
          ],
          [
           16,
           16
          ],
          [
           84,
           84
          ],
          [
           368,
           368
          ],
          [
           10,
           10
          ],
          [
           1797,
           1797
          ],
          [
           46,
           46
          ],
          [
           43,
           43
          ],
          [
           64,
           64
          ],
          [
           9,
           9
          ],
          [
           11,
           11
          ],
          [
           1238,
           1238
          ],
          [
           24,
           24
          ],
          [
           829,
           829
          ],
          [
           387,
           387
          ],
          [
           15,
           15
          ],
          [
           2,
           2
          ],
          [
           585,
           585
          ],
          [
           51,
           51
          ],
          [
           2391,
           2391
          ],
          [
           1416,
           1416
          ],
          [
           1856,
           1856
          ],
          [
           1714,
           1714
          ],
          [
           1769,
           1769
          ],
          [
           368,
           368
          ],
          [
           2722,
           2722
          ],
          [
           3221,
           3221
          ],
          [
           2388,
           2388
          ],
          [
           574,
           574
          ],
          [
           448,
           448
          ],
          [
           515,
           515
          ],
          [
           1968,
           1968
          ],
          [
           610,
           610
          ],
          [
           258,
           258
          ],
          [
           191,
           191
          ],
          [
           1574,
           1574
          ],
          [
           2805,
           2805
          ],
          [
           400,
           400
          ],
          [
           2091,
           2091
          ],
          [
           61,
           61
          ],
          [
           508,
           508
          ],
          [
           278,
           278
          ],
          [
           582,
           582
          ],
          [
           964,
           964
          ],
          [
           615,
           615
          ],
          [
           20,
           20
          ],
          [
           1989,
           1989
          ],
          [
           634,
           634
          ],
          [
           1711,
           1711
          ],
          [
           1587,
           1587
          ],
          [
           1165,
           1165
          ],
          [
           3192,
           3192
          ],
          [
           198,
           198
          ],
          [
           1580,
           1580
          ],
          [
           1001,
           1001
          ],
          [
           809,
           809
          ],
          [
           9,
           9
          ],
          [
           37,
           37
          ],
          [
           2657,
           2657
          ],
          [
           1893,
           1893
          ],
          [
           1272,
           1272
          ],
          [
           1335,
           1335
          ],
          [
           33,
           33
          ],
          [
           1951,
           1951
          ],
          [
           1400,
           1400
          ],
          [
           1902,
           1902
          ],
          [
           1840,
           1840
          ],
          [
           4317,
           4317
          ],
          [
           1535,
           1535
          ],
          [
           2391,
           2391
          ],
          [
           1825,
           1825
          ],
          [
           869,
           869
          ],
          [
           1327,
           1327
          ],
          [
           42,
           42
          ],
          [
           11,
           11
          ],
          [
           1,
           1
          ],
          [
           864,
           864
          ],
          [
           130,
           130
          ],
          [
           1507,
           1507
          ],
          [
           630,
           630
          ],
          [
           1332,
           1332
          ],
          [
           54,
           54
          ],
          [
           643,
           643
          ],
          [
           1782,
           1782
          ],
          [
           1511,
           1511
          ],
          [
           2182,
           2182
          ],
          [
           1784,
           1784
          ],
          [
           1,
           1
          ],
          [
           131,
           131
          ],
          [
           30,
           30
          ],
          [
           2518,
           2518
          ],
          [
           53,
           53
          ],
          [
           1069,
           1069
          ],
          [
           1,
           1
          ],
          [
           163,
           163
          ],
          [
           258,
           258
          ],
          [
           4,
           4
          ],
          [
           1,
           1
          ],
          [
           480,
           480
          ],
          [
           1,
           1
          ],
          [
           1464,
           1464
          ],
          [
           2142,
           2142
          ],
          [
           9,
           9
          ],
          [
           596,
           596
          ],
          [
           17,
           17
          ],
          [
           2296,
           2296
          ],
          [
           1807,
           1807
          ],
          [
           1830.238812349982,
           1830.238812349982
          ],
          [
           2177.8375694088923,
           2177.8375694088923
          ],
          [
           3063.986636576317,
           3063.986636576317
          ],
          [
           4102.851359436283,
           4102.851359436283
          ],
          [
           3073.647949079747,
           3073.647949079747
          ]
         ],
         "domain": {
          "x": [
           0,
           1
          ],
          "y": [
           0,
           1
          ]
         },
         "hovertemplate": "labels=%{label}<br>DIAGNOSIS_sum=%{value}<br>parent=%{parent}<br>id=%{id}<br>DIAGNOSIS=%{color}<extra></extra>",
         "ids": [
          "CATEGORY2/II/00005617",
          "CATEGORY2/II/00005883",
          "CATEGORY2/II/00005945",
          "CATEGORY2/III/00005946",
          "CATEGORY2/II/00005947",
          "CATEGORY2/III/00005948",
          "CATEGORY2/III/00005987",
          "CATEGORY2/III/00006206",
          "CATEGORY2/III/00006207",
          "CATEGORY2/III/00006208",
          "CATEGORY2/III/00006209",
          "CATEGORY2/III/00006210",
          "CATEGORY2/III/00006211",
          "CATEGORY2/III/00006212",
          "CATEGORY2/III/00006213",
          "CATEGORY2/III/00006214",
          "CATEGORY2/III/00006215",
          "CATEGORY2/III/00006216",
          "CATEGORY2/III/00006217",
          "CATEGORY2/II/00007632",
          "CATEGORY2/III/00007633",
          "CATEGORY2/III/00007634",
          "CATEGORY2/III/00007733",
          "CATEGORY2/III/00007734",
          "CATEGORY2/0/00008215",
          "CATEGORY2/I/00008251",
          "CATEGORY2/II/00008258",
          "CATEGORY2/II/00008271",
          "CATEGORY2/II/00008281",
          "CATEGORY2/0/00008282",
          "CATEGORY2/I/00008289",
          "CATEGORY2/II/00008317",
          "CATEGORY2/II/00008318",
          "CATEGORY2/II/00008325",
          "CATEGORY2/II/00008351",
          "CATEGORY2/II/00008353",
          "CATEGORY2/I/00008370",
          "CATEGORY2/I/00008378",
          "CATEGORY2/II/00008388",
          "CATEGORY2/I/00008389",
          "CATEGORY2/II/00008398",
          "CATEGORY2/I/00008438",
          "CATEGORY2/II/00008489",
          "CATEGORY2/II/00008502",
          "CATEGORY2/II/00008519",
          "CATEGORY2/I/00008539",
          "CATEGORY2/II/00008564",
          "CATEGORY2/II/00008671",
          "CATEGORY2/I/00008711",
          "CATEGORY2/III/00008720",
          "CATEGORY2/II/00008741",
          "CATEGORY2/II/00008746",
          "CATEGORY2/II/00008786",
          "CATEGORY2/I/00008880",
          "CATEGORY2/I/00008881",
          "CATEGORY2/III/00008956",
          "CATEGORY2/II/00009010",
          "CATEGORY2/II/00009089",
          "CATEGORY2/II/00009090",
          "CATEGORY2/0/00009093",
          "CATEGORY2/II/00009104",
          "CATEGORY2/III/00009116",
          "CATEGORY2/II/00009123",
          "CATEGORY2/II/00009144",
          "CATEGORY2/II/00009145",
          "CATEGORY2/I/00009148",
          "CATEGORY2/II/00009153",
          "CATEGORY2/0/00009183",
          "CATEGORY2/II/00009188",
          "CATEGORY2/III/00009251",
          "CATEGORY2/I/00009274",
          "CATEGORY2/II/00009288",
          "CATEGORY2/I/00009298",
          "CATEGORY2/I/00009379",
          "CATEGORY2/III/00009409",
          "CATEGORY2/II/00009431",
          "CATEGORY2/II/00009437",
          "CATEGORY2/II/00009478",
          "CATEGORY2/II/00009483",
          "CATEGORY2/II/00009505",
          "CATEGORY2/I/00009562",
          "CATEGORY2/0/00009593",
          "CATEGORY2/II/00009620",
          "CATEGORY2/II/00009641",
          "CATEGORY2/II/00009682",
          "CATEGORY2/II/00009850",
          "CATEGORY2/I/00009867",
          "CATEGORY2/III/00009886",
          "CATEGORY2/II/00009888",
          "CATEGORY2/I/00009979",
          "CATEGORY2/II/00009982",
          "CATEGORY2/II/00009988",
          "CATEGORY2/II/00009989",
          "CATEGORY2/II/00010098",
          "CATEGORY2/II/00010135",
          "CATEGORY2/II/00010182",
          "CATEGORY2/0/00010214",
          "CATEGORY2/I/00010229",
          "CATEGORY2/II/00010251",
          "CATEGORY2/I/00010385",
          "CATEGORY2/0/00010401",
          "CATEGORY2/II/00010401",
          "CATEGORY2/II/00010402",
          "CATEGORY2/II/00010434",
          "CATEGORY2/I/00010439",
          "CATEGORY2/I/00010464",
          "CATEGORY2/II/00010467",
          "CATEGORY2/0/00010498",
          "CATEGORY2/II/00010515",
          "CATEGORY2/II/00010603",
          "CATEGORY2/II/00010669",
          "CATEGORY2/II/00010739",
          "CATEGORY2/II/00010743",
          "CATEGORY2/III/00010751",
          "CATEGORY2/II/00010776",
          "CATEGORY2/II/00010827",
          "CATEGORY2/II/00010831",
          "CATEGORY2/II/00011056",
          "CATEGORY2/II/00011087",
          "CATEGORY2/II/00011110",
          "CATEGORY2/II/00011113",
          "CATEGORY2/II/00011167",
          "CATEGORY2/0/00011177",
          "CATEGORY2/I/00011187",
          "CATEGORY2/0/00011227",
          "CATEGORY2/II/00011241",
          "CATEGORY2/II/00011346",
          "CATEGORY2/II/00011358",
          "CATEGORY2/II/00011372",
          "CATEGORY2/II/00011401",
          "CATEGORY2/II/00011547",
          "CATEGORY2/II/00011741",
          "CATEGORY2/II/00011750",
          "CATEGORY2/II/00011803",
          "CATEGORY2/II/00011849",
          "CATEGORY2/I/00011850",
          "CATEGORY2/I/00011876",
          "CATEGORY2/II/00011950",
          "CATEGORY2/0/00011958",
          "CATEGORY2/II/00012020",
          "CATEGORY2/II/00012106",
          "CATEGORY2/II/00012206",
          "CATEGORY2/II/00012219",
          "CATEGORY2/II/00012220",
          "CATEGORY2/II/00012263",
          "CATEGORY2/II/00012267",
          "CATEGORY2/0/00012275",
          "CATEGORY2/I/00012275",
          "CATEGORY2/0/00012366",
          "CATEGORY2/II/00012492",
          "CATEGORY2/II/00012572",
          "CATEGORY2/II/00012633",
          "CATEGORY2/I/00012664",
          "CATEGORY2/II/00012666",
          "CATEGORY2/0/00012739",
          "CATEGORY2/I/00012740",
          "CATEGORY2/0/00012741",
          "CATEGORY2/I/00012822",
          "CATEGORY2/I/00012885",
          "CATEGORY2/0/00012923",
          "CATEGORY2/II/00012947",
          "CATEGORY2/II/00012975",
          "CATEGORY2/I/00013012",
          "CATEGORY2/II/00013044",
          "CATEGORY2/II/00013064",
          "CATEGORY2/I/00013091",
          "CATEGORY2/I/00013215",
          "CATEGORY2/II/00013383",
          "CATEGORY2/II/00013586",
          "CATEGORY2/III/00013591",
          "CATEGORY2/0/00013687",
          "CATEGORY2/0/00013834",
          "CATEGORY2/II/00013900",
          "CATEGORY2/II/00013952",
          "CATEGORY2/II/00014181",
          "CATEGORY2/II/00014361",
          "CATEGORY2/II/00014501",
          "CATEGORY2/II/00014509",
          "CATEGORY2/II/00014718",
          "CATEGORY2/0/00014889",
          "CATEGORY2/I/00014889",
          "CATEGORY2/II/00015077",
          "CATEGORY2/II/00015078",
          "CATEGORY2/II/00015118",
          "CATEGORY2/II/00015143",
          "CATEGORY2/II/00015179",
          "CATEGORY2/II/00015182",
          "CATEGORY2/II/00015349",
          "CATEGORY2/II/00015461",
          "CATEGORY2/0/00015471",
          "CATEGORY2/II/00015610",
          "CATEGORY2/II/00015684",
          "CATEGORY2/II/00015716",
          "CATEGORY2/II/00015718",
          "CATEGORY2/II/00015904",
          "CATEGORY2/II/00015927",
          "CATEGORY2/II/00015934",
          "CATEGORY2/II/00016005",
          "CATEGORY2/0/00016094",
          "CATEGORY2/II/00016094",
          "CATEGORY2/II/00016113",
          "CATEGORY2/II/00016121",
          "CATEGORY2/II/00016291",
          "CATEGORY2/II/00016353",
          "CATEGORY2/I/00016357",
          "CATEGORY2/II/00016397",
          "CATEGORY2/0/00016488",
          "CATEGORY2/II/00016794",
          "CATEGORY2/III/00016918",
          "CATEGORY2/I/00016948",
          "CATEGORY2/II/00016951",
          "CATEGORY2/III/00017024",
          "CATEGORY2/II/00017099",
          "CATEGORY2/II/00017173",
          "CATEGORY2/II/00017385",
          "CATEGORY2/I/00017391",
          "CATEGORY2/II/00017392",
          "CATEGORY2/I/00017468",
          "CATEGORY2/I/00017519",
          "CATEGORY2/I/00017540",
          "CATEGORY2/II/00017634",
          "CATEGORY2/II/00017676",
          "CATEGORY2/I/00017695",
          "CATEGORY2/II/00017703",
          "CATEGORY2/I/00017726",
          "CATEGORY2/II/00017772",
          "CATEGORY2/I/00017820",
          "CATEGORY2/II/00017823",
          "CATEGORY2/II/00017824",
          "CATEGORY2/II/00017847",
          "CATEGORY2/I/00017909",
          "CATEGORY2/I/00017978",
          "CATEGORY2/III/00018011",
          "CATEGORY2/I/00018171",
          "CATEGORY2/II/00018307",
          "CATEGORY2/II/00018580",
          "CATEGORY2/II/00018581",
          "CATEGORY2/II/00018584",
          "CATEGORY2/II/00018626",
          "CATEGORY2/I/00018660",
          "CATEGORY2/II/00018667",
          "CATEGORY2/0/00018825",
          "CATEGORY2/I/00018825",
          "CATEGORY2/0/00018921",
          "CATEGORY2/II/00018985",
          "CATEGORY2/III/00019049",
          "CATEGORY2/0/00019390",
          "CATEGORY2/0/00019610",
          "CATEGORY2/II/00019671",
          "CATEGORY2/II/00019748",
          "CATEGORY2/0/00019787",
          "CATEGORY2/II/00019787",
          "CATEGORY2/II/00019839",
          "CATEGORY2/II/00020230",
          "CATEGORY2/II/00020346",
          "CATEGORY2/I/00020382",
          "CATEGORY2/II/00020674",
          "CATEGORY2/0/00020682",
          "CATEGORY2/II/00020715",
          "CATEGORY2/II/00020976",
          "CATEGORY2/II/00021096",
          "CATEGORY2/0/00021289",
          "CATEGORY2/0/00022016",
          "CATEGORY2/II/00022113",
          "CATEGORY2/II/00023022",
          "CATEGORY2/II/00023151",
          "CATEGORY2/II/00023159",
          "CATEGORY2/I/00023288",
          "CATEGORY2/I/00023509",
          "CATEGORY2/II/00023741",
          "CATEGORY2/II/00023833",
          "CATEGORY2/II/00023852",
          "CATEGORY2/I/00023853",
          "CATEGORY2/II/00023899",
          "CATEGORY2/0/00023901",
          "CATEGORY2/II/00023918",
          "CATEGORY2/0/00024049",
          "CATEGORY2/I/00024132",
          "CATEGORY2/II/00024178",
          "CATEGORY2/I/00024299",
          "CATEGORY2/II/00024304",
          "CATEGORY2/II/00024727",
          "CATEGORY2/0/00024750",
          "CATEGORY2/0/00024872",
          "CATEGORY2/II/00024924",
          "CATEGORY2/0/00025076",
          "CATEGORY2/II/00025573",
          "CATEGORY2/I/00025575",
          "CATEGORY2/II/00025598",
          "CATEGORY2/II/00025804",
          "CATEGORY2/II/00025930",
          "CATEGORY2/I/00026009",
          "CATEGORY2/II/00026473",
          "CATEGORY2/I/00026642",
          "CATEGORY2/0/00026777",
          "CATEGORY2/II/00026793",
          "CATEGORY2/II/00026936",
          "CATEGORY2/I/00027216",
          "CATEGORY2/II/00027320",
          "CATEGORY2/III/00027929",
          "CATEGORY2/II/00028189",
          "CATEGORY2/II/00028244",
          "CATEGORY2/I/00028466",
          "CATEGORY2/II/00030606",
          "CATEGORY2/II/10098",
          "CATEGORY2/II/10135",
          "CATEGORY2/II/10182",
          "CATEGORY2/I/10229",
          "CATEGORY2/II/10251",
          "CATEGORY2/I/10385",
          "CATEGORY2/0/10401",
          "CATEGORY2/II/10402",
          "CATEGORY2/II/10434",
          "CATEGORY2/I/10439",
          "CATEGORY2/I/10464",
          "CATEGORY2/II/10467",
          "CATEGORY2/0/10498",
          "CATEGORY2/II/10603",
          "CATEGORY2/II/10669",
          "CATEGORY2/II/10739",
          "CATEGORY2/II/10743",
          "CATEGORY2/III/10751",
          "CATEGORY2/II/10776",
          "CATEGORY2/II/10827",
          "CATEGORY2/II/10831",
          "CATEGORY2/II/11056",
          "CATEGORY2/II/11087",
          "CATEGORY2/II/11110",
          "CATEGORY2/II/11113",
          "CATEGORY2/II/11167",
          "CATEGORY2/0/11177",
          "CATEGORY2/I/11187",
          "CATEGORY2/0/11227",
          "CATEGORY2/II/11241",
          "CATEGORY2/II/11346",
          "CATEGORY2/II/11358",
          "CATEGORY2/II/11372",
          "CATEGORY2/II/11401",
          "CATEGORY2/II/11547",
          "CATEGORY2/II/11741",
          "CATEGORY2/II/11750",
          "CATEGORY2/II/11803",
          "CATEGORY2/II/11849",
          "CATEGORY2/I/11850",
          "CATEGORY2/I/11876",
          "CATEGORY2/II/11950",
          "CATEGORY2/II/12020",
          "CATEGORY2/II/12106",
          "CATEGORY2/II/12206",
          "CATEGORY2/II/12219",
          "CATEGORY2/II/12220",
          "CATEGORY2/II/12267",
          "CATEGORY2/I/12275",
          "CATEGORY2/0/12366",
          "CATEGORY2/II/12492",
          "CATEGORY2/II/12572",
          "CATEGORY2/II/12633",
          "CATEGORY2/I/12664",
          "CATEGORY2/II/12666",
          "CATEGORY2/0/12739",
          "CATEGORY2/I/12740",
          "CATEGORY2/0/12741",
          "CATEGORY2/I/12822",
          "CATEGORY2/I/12885",
          "CATEGORY2/0/12923",
          "CATEGORY2/II/12947",
          "CATEGORY2/II/12975",
          "CATEGORY2/I/13012",
          "CATEGORY2/II/13044",
          "CATEGORY2/II/13064",
          "CATEGORY2/I/13091",
          "CATEGORY2/I/13215",
          "CATEGORY2/II/13383",
          "CATEGORY2/III/13591",
          "CATEGORY2/0/13687",
          "CATEGORY2/0/13834",
          "CATEGORY2/II/13900",
          "CATEGORY2/II/13952",
          "CATEGORY2/II/14181",
          "CATEGORY2/II/14361",
          "CATEGORY2/II/14501",
          "CATEGORY2/II/14509",
          "CATEGORY2/II/14718",
          "CATEGORY2/I/14889",
          "CATEGORY2/II/15077",
          "CATEGORY2/II/15078",
          "CATEGORY2/II/15118",
          "CATEGORY2/II/15143",
          "CATEGORY2/II/15179",
          "CATEGORY2/II/15182",
          "CATEGORY2/II/15349",
          "CATEGORY2/II/15461",
          "CATEGORY2/0/15471",
          "CATEGORY2/II/15610",
          "CATEGORY2/II/15684",
          "CATEGORY2/II/15716",
          "CATEGORY2/II/15718",
          "CATEGORY2/II/15927",
          "CATEGORY2/II/15934",
          "CATEGORY2/II/16005",
          "CATEGORY2/0/16094",
          "CATEGORY2/II/16121",
          "CATEGORY2/II/16291",
          "CATEGORY2/II/16353",
          "CATEGORY2/I/16357",
          "CATEGORY2/II/16397",
          "CATEGORY2/0/16488",
          "CATEGORY2/II/16794",
          "CATEGORY2/III/16918",
          "CATEGORY2/I/16948",
          "CATEGORY2/II/16951",
          "CATEGORY2/III/17024",
          "CATEGORY2/II/17099",
          "CATEGORY2/II/17173",
          "CATEGORY2/II/17385",
          "CATEGORY2/I/17391",
          "CATEGORY2/II/17392",
          "CATEGORY2/I/17519",
          "CATEGORY2/I/17540",
          "CATEGORY2/II/17634",
          "CATEGORY2/II/17676",
          "CATEGORY2/I/17695",
          "CATEGORY2/II/17703",
          "CATEGORY2/I/17726",
          "CATEGORY2/II/17772",
          "CATEGORY2/II/17823",
          "CATEGORY2/II/17824",
          "CATEGORY2/II/17847",
          "CATEGORY2/I/17909",
          "CATEGORY2/I/17978",
          "CATEGORY2/III/18011",
          "CATEGORY2/I/18171",
          "CATEGORY2/II/18307",
          "CATEGORY2/II/18580",
          "CATEGORY2/II/18581",
          "CATEGORY2/II/18584",
          "CATEGORY2/II/18626",
          "CATEGORY2/I/18660",
          "CATEGORY2/II/18667",
          "CATEGORY2/I/18825",
          "CATEGORY2/0/18921",
          "CATEGORY2/II/18985",
          "CATEGORY2/III/19049",
          "CATEGORY2/0/19390",
          "CATEGORY2/II/19671",
          "CATEGORY2/II/19748",
          "CATEGORY2/II/19839",
          "CATEGORY2/II/20230",
          "CATEGORY2/II/20346",
          "CATEGORY2/I/20382",
          "CATEGORY2/II/20976",
          "CATEGORY2/II/21096",
          "CATEGORY2/0/21289",
          "CATEGORY2/0/22016",
          "CATEGORY2/II/22113",
          "CATEGORY2/II/23022",
          "CATEGORY2/II/23151",
          "CATEGORY2/II/23159",
          "CATEGORY2/I/23288",
          "CATEGORY2/I/23509",
          "CATEGORY2/II/23741",
          "CATEGORY2/II/23833",
          "CATEGORY2/II/23852",
          "CATEGORY2/II/23899",
          "CATEGORY2/0/23901",
          "CATEGORY2/II/23918",
          "CATEGORY2/0/24049",
          "CATEGORY2/I/24132",
          "CATEGORY2/II/24178",
          "CATEGORY2/I/24299",
          "CATEGORY2/II/24304",
          "CATEGORY2/II/24727",
          "CATEGORY2/0/24750",
          "CATEGORY2/0/24872",
          "CATEGORY2/II/24924",
          "CATEGORY2/I/25575",
          "CATEGORY2/II/25930",
          "CATEGORY2/I/26009",
          "CATEGORY2/I/26642",
          "CATEGORY2/0/26777",
          "CATEGORY2/II/26793",
          "CATEGORY2/II/26936",
          "CATEGORY2/I/27216",
          "CATEGORY2/II/5617",
          "CATEGORY2/II/5883",
          "CATEGORY2/II/5945",
          "CATEGORY2/III/5946",
          "CATEGORY2/II/5947",
          "CATEGORY2/III/5948",
          "CATEGORY2/III/5987",
          "CATEGORY2/III/6206",
          "CATEGORY2/III/6207",
          "CATEGORY2/III/6208",
          "CATEGORY2/III/6209",
          "CATEGORY2/III/6210",
          "CATEGORY2/III/6211",
          "CATEGORY2/III/6212",
          "CATEGORY2/III/6213",
          "CATEGORY2/III/6214",
          "CATEGORY2/III/6215",
          "CATEGORY2/III/6216",
          "CATEGORY2/III/6217",
          "CATEGORY2/II/7632",
          "CATEGORY2/III/7633",
          "CATEGORY2/III/7634",
          "CATEGORY2/III/7733",
          "CATEGORY2/III/7734",
          "CATEGORY2/0/8215",
          "CATEGORY2/I/8251",
          "CATEGORY2/II/8258",
          "CATEGORY2/II/8271",
          "CATEGORY2/II/8281",
          "CATEGORY2/I/8289",
          "CATEGORY2/II/8317",
          "CATEGORY2/II/8318",
          "CATEGORY2/II/8325",
          "CATEGORY2/II/8351",
          "CATEGORY2/II/8353",
          "CATEGORY2/I/8370",
          "CATEGORY2/I/8378",
          "CATEGORY2/II/8388",
          "CATEGORY2/I/8389",
          "CATEGORY2/II/8398",
          "CATEGORY2/I/8438",
          "CATEGORY2/II/8489",
          "CATEGORY2/II/8502",
          "CATEGORY2/II/8519",
          "CATEGORY2/I/8539",
          "CATEGORY2/II/8564",
          "CATEGORY2/II/8671",
          "CATEGORY2/I/8711",
          "CATEGORY2/III/8720",
          "CATEGORY2/II/8741",
          "CATEGORY2/II/8746",
          "CATEGORY2/II/8786",
          "CATEGORY2/I/8880",
          "CATEGORY2/I/8881",
          "CATEGORY2/III/8956",
          "CATEGORY2/II/9010",
          "CATEGORY2/II/9089",
          "CATEGORY2/II/9090",
          "CATEGORY2/0/9093",
          "CATEGORY2/II/9104",
          "CATEGORY2/III/9116",
          "CATEGORY2/II/9123",
          "CATEGORY2/II/9145",
          "CATEGORY2/I/9148",
          "CATEGORY2/II/9153",
          "CATEGORY2/II/9188",
          "CATEGORY2/III/9251",
          "CATEGORY2/I/9274",
          "CATEGORY2/II/9288",
          "CATEGORY2/I/9298",
          "CATEGORY2/I/9379",
          "CATEGORY2/III/9409",
          "CATEGORY2/II/9431",
          "CATEGORY2/II/9437",
          "CATEGORY2/II/9478",
          "CATEGORY2/II/9483",
          "CATEGORY2/II/9505",
          "CATEGORY2/I/9562",
          "CATEGORY2/II/9620",
          "CATEGORY2/II/9641",
          "CATEGORY2/II/9682",
          "CATEGORY2/II/9850",
          "CATEGORY2/III/9886",
          "CATEGORY2/II/9888",
          "CATEGORY2/I/9979",
          "CATEGORY2/II/9982",
          "CATEGORY2/II/9988",
          "CATEGORY2/II/9989",
          "CATEGORY2/0",
          "CATEGORY2/I",
          "CATEGORY2/II",
          "CATEGORY2/III",
          "CATEGORY2"
         ],
         "labels": [
          "00005617",
          "00005883",
          "00005945",
          "00005946",
          "00005947",
          "00005948",
          "00005987",
          "00006206",
          "00006207",
          "00006208",
          "00006209",
          "00006210",
          "00006211",
          "00006212",
          "00006213",
          "00006214",
          "00006215",
          "00006216",
          "00006217",
          "00007632",
          "00007633",
          "00007634",
          "00007733",
          "00007734",
          "00008215",
          "00008251",
          "00008258",
          "00008271",
          "00008281",
          "00008282",
          "00008289",
          "00008317",
          "00008318",
          "00008325",
          "00008351",
          "00008353",
          "00008370",
          "00008378",
          "00008388",
          "00008389",
          "00008398",
          "00008438",
          "00008489",
          "00008502",
          "00008519",
          "00008539",
          "00008564",
          "00008671",
          "00008711",
          "00008720",
          "00008741",
          "00008746",
          "00008786",
          "00008880",
          "00008881",
          "00008956",
          "00009010",
          "00009089",
          "00009090",
          "00009093",
          "00009104",
          "00009116",
          "00009123",
          "00009144",
          "00009145",
          "00009148",
          "00009153",
          "00009183",
          "00009188",
          "00009251",
          "00009274",
          "00009288",
          "00009298",
          "00009379",
          "00009409",
          "00009431",
          "00009437",
          "00009478",
          "00009483",
          "00009505",
          "00009562",
          "00009593",
          "00009620",
          "00009641",
          "00009682",
          "00009850",
          "00009867",
          "00009886",
          "00009888",
          "00009979",
          "00009982",
          "00009988",
          "00009989",
          "00010098",
          "00010135",
          "00010182",
          "00010214",
          "00010229",
          "00010251",
          "00010385",
          "00010401",
          "00010401",
          "00010402",
          "00010434",
          "00010439",
          "00010464",
          "00010467",
          "00010498",
          "00010515",
          "00010603",
          "00010669",
          "00010739",
          "00010743",
          "00010751",
          "00010776",
          "00010827",
          "00010831",
          "00011056",
          "00011087",
          "00011110",
          "00011113",
          "00011167",
          "00011177",
          "00011187",
          "00011227",
          "00011241",
          "00011346",
          "00011358",
          "00011372",
          "00011401",
          "00011547",
          "00011741",
          "00011750",
          "00011803",
          "00011849",
          "00011850",
          "00011876",
          "00011950",
          "00011958",
          "00012020",
          "00012106",
          "00012206",
          "00012219",
          "00012220",
          "00012263",
          "00012267",
          "00012275",
          "00012275",
          "00012366",
          "00012492",
          "00012572",
          "00012633",
          "00012664",
          "00012666",
          "00012739",
          "00012740",
          "00012741",
          "00012822",
          "00012885",
          "00012923",
          "00012947",
          "00012975",
          "00013012",
          "00013044",
          "00013064",
          "00013091",
          "00013215",
          "00013383",
          "00013586",
          "00013591",
          "00013687",
          "00013834",
          "00013900",
          "00013952",
          "00014181",
          "00014361",
          "00014501",
          "00014509",
          "00014718",
          "00014889",
          "00014889",
          "00015077",
          "00015078",
          "00015118",
          "00015143",
          "00015179",
          "00015182",
          "00015349",
          "00015461",
          "00015471",
          "00015610",
          "00015684",
          "00015716",
          "00015718",
          "00015904",
          "00015927",
          "00015934",
          "00016005",
          "00016094",
          "00016094",
          "00016113",
          "00016121",
          "00016291",
          "00016353",
          "00016357",
          "00016397",
          "00016488",
          "00016794",
          "00016918",
          "00016948",
          "00016951",
          "00017024",
          "00017099",
          "00017173",
          "00017385",
          "00017391",
          "00017392",
          "00017468",
          "00017519",
          "00017540",
          "00017634",
          "00017676",
          "00017695",
          "00017703",
          "00017726",
          "00017772",
          "00017820",
          "00017823",
          "00017824",
          "00017847",
          "00017909",
          "00017978",
          "00018011",
          "00018171",
          "00018307",
          "00018580",
          "00018581",
          "00018584",
          "00018626",
          "00018660",
          "00018667",
          "00018825",
          "00018825",
          "00018921",
          "00018985",
          "00019049",
          "00019390",
          "00019610",
          "00019671",
          "00019748",
          "00019787",
          "00019787",
          "00019839",
          "00020230",
          "00020346",
          "00020382",
          "00020674",
          "00020682",
          "00020715",
          "00020976",
          "00021096",
          "00021289",
          "00022016",
          "00022113",
          "00023022",
          "00023151",
          "00023159",
          "00023288",
          "00023509",
          "00023741",
          "00023833",
          "00023852",
          "00023853",
          "00023899",
          "00023901",
          "00023918",
          "00024049",
          "00024132",
          "00024178",
          "00024299",
          "00024304",
          "00024727",
          "00024750",
          "00024872",
          "00024924",
          "00025076",
          "00025573",
          "00025575",
          "00025598",
          "00025804",
          "00025930",
          "00026009",
          "00026473",
          "00026642",
          "00026777",
          "00026793",
          "00026936",
          "00027216",
          "00027320",
          "00027929",
          "00028189",
          "00028244",
          "00028466",
          "00030606",
          "10098",
          "10135",
          "10182",
          "10229",
          "10251",
          "10385",
          "10401",
          "10402",
          "10434",
          "10439",
          "10464",
          "10467",
          "10498",
          "10603",
          "10669",
          "10739",
          "10743",
          "10751",
          "10776",
          "10827",
          "10831",
          "11056",
          "11087",
          "11110",
          "11113",
          "11167",
          "11177",
          "11187",
          "11227",
          "11241",
          "11346",
          "11358",
          "11372",
          "11401",
          "11547",
          "11741",
          "11750",
          "11803",
          "11849",
          "11850",
          "11876",
          "11950",
          "12020",
          "12106",
          "12206",
          "12219",
          "12220",
          "12267",
          "12275",
          "12366",
          "12492",
          "12572",
          "12633",
          "12664",
          "12666",
          "12739",
          "12740",
          "12741",
          "12822",
          "12885",
          "12923",
          "12947",
          "12975",
          "13012",
          "13044",
          "13064",
          "13091",
          "13215",
          "13383",
          "13591",
          "13687",
          "13834",
          "13900",
          "13952",
          "14181",
          "14361",
          "14501",
          "14509",
          "14718",
          "14889",
          "15077",
          "15078",
          "15118",
          "15143",
          "15179",
          "15182",
          "15349",
          "15461",
          "15471",
          "15610",
          "15684",
          "15716",
          "15718",
          "15927",
          "15934",
          "16005",
          "16094",
          "16121",
          "16291",
          "16353",
          "16357",
          "16397",
          "16488",
          "16794",
          "16918",
          "16948",
          "16951",
          "17024",
          "17099",
          "17173",
          "17385",
          "17391",
          "17392",
          "17519",
          "17540",
          "17634",
          "17676",
          "17695",
          "17703",
          "17726",
          "17772",
          "17823",
          "17824",
          "17847",
          "17909",
          "17978",
          "18011",
          "18171",
          "18307",
          "18580",
          "18581",
          "18584",
          "18626",
          "18660",
          "18667",
          "18825",
          "18921",
          "18985",
          "19049",
          "19390",
          "19671",
          "19748",
          "19839",
          "20230",
          "20346",
          "20382",
          "20976",
          "21096",
          "21289",
          "22016",
          "22113",
          "23022",
          "23151",
          "23159",
          "23288",
          "23509",
          "23741",
          "23833",
          "23852",
          "23899",
          "23901",
          "23918",
          "24049",
          "24132",
          "24178",
          "24299",
          "24304",
          "24727",
          "24750",
          "24872",
          "24924",
          "25575",
          "25930",
          "26009",
          "26642",
          "26777",
          "26793",
          "26936",
          "27216",
          "5617",
          "5883",
          "5945",
          "5946",
          "5947",
          "5948",
          "5987",
          "6206",
          "6207",
          "6208",
          "6209",
          "6210",
          "6211",
          "6212",
          "6213",
          "6214",
          "6215",
          "6216",
          "6217",
          "7632",
          "7633",
          "7634",
          "7733",
          "7734",
          "8215",
          "8251",
          "8258",
          "8271",
          "8281",
          "8289",
          "8317",
          "8318",
          "8325",
          "8351",
          "8353",
          "8370",
          "8378",
          "8388",
          "8389",
          "8398",
          "8438",
          "8489",
          "8502",
          "8519",
          "8539",
          "8564",
          "8671",
          "8711",
          "8720",
          "8741",
          "8746",
          "8786",
          "8880",
          "8881",
          "8956",
          "9010",
          "9089",
          "9090",
          "9093",
          "9104",
          "9116",
          "9123",
          "9145",
          "9148",
          "9153",
          "9188",
          "9251",
          "9274",
          "9288",
          "9298",
          "9379",
          "9409",
          "9431",
          "9437",
          "9478",
          "9483",
          "9505",
          "9562",
          "9620",
          "9641",
          "9682",
          "9850",
          "9886",
          "9888",
          "9979",
          "9982",
          "9988",
          "9989",
          "0",
          "I",
          "II",
          "III",
          "CATEGORY2"
         ],
         "marker": {
          "coloraxis": "coloraxis",
          "colors": [
           1632,
           3602,
           3987,
           4093,
           3596,
           1447,
           6004,
           6240,
           4876,
           1525,
           1286,
           789,
           4331,
           1185,
           720,
           435,
           2842.4753846153844,
           5008,
           591,
           4553,
           6238,
           930,
           665,
           894.4222488038278,
           2054,
           1669,
           39,
           5749,
           2029,
           1421,
           3295,
           4097,
           2864,
           5376,
           899,
           3408,
           2351,
           3536,
           25,
           88.14942528735632,
           4696,
           3736,
           4641,
           4612,
           882,
           3981,
           2905,
           3616,
           3667,
           7490,
           3030,
           4835,
           3726,
           1548,
           2896,
           453,
           43.76543209876543,
           1,
           2164,
           180,
           3566,
           4560,
           3794,
           611,
           135,
           2161,
           3035,
           1,
           3596,
           6470,
           3312,
           1,
           587,
           63,
           5826,
           184,
           2690,
           254,
           223,
           311,
           31,
           1,
           18,
           1048.665641025641,
           5365,
           4440,
           1,
           4715,
           22,
           1879,
           26,
           5188,
           3821,
           2100,
           3687,
           5042,
           1,
           107,
           2209,
           1541,
           1,
           3,
           47,
           277,
           2753,
           1836,
           846,
           87,
           23,
           5168,
           1,
           261,
           5146,
           3483,
           215,
           365,
           12,
           156,
           3946,
           15,
           748,
           181.71386430678467,
           112,
           990,
           382,
           999,
           146,
           174,
           185.02762430939225,
           4722,
           74,
           160,
           1103.693896713615,
           533,
           321,
           2748,
           758,
           1211,
           114,
           260,
           67,
           1283,
           1173,
           447,
           6,
           1981,
           473,
           414,
           1,
           90,
           14,
           4050,
           1006,
           3690,
           533,
           612,
           478,
           35,
           837,
           790,
           182,
           3694,
           3059,
           1325,
           37.666666666666664,
           2858,
           2328,
           870,
           223,
           5530,
           135,
           153,
           161,
           93,
           1118,
           366,
           5451,
           422,
           983,
           663,
           396,
           1051,
           1,
           2309,
           21,
           34,
           219,
           22,
           37,
           2569,
           5528,
           3423,
           263,
           12,
           484,
           322,
           1,
           279,
           2197,
           98,
           39,
           177,
           237.5940170940171,
           2164,
           2103,
           8,
           70,
           2163,
           3463,
           24,
           1115,
           3958,
           194,
           363,
           120,
           944,
           1,
           553,
           742,
           31,
           138.44,
           271,
           2773,
           183,
           884,
           5291,
           724,
           120,
           54,
           362,
           4516,
           1216,
           328,
           1760,
           1,
           3913,
           48,
           1992,
           452,
           732,
           9,
           2706,
           2862,
           90,
           4931,
           5773,
           693,
           120,
           12,
           633,
           4050,
           4192,
           266,
           21,
           374,
           882,
           13,
           378,
           113,
           218,
           107,
           195,
           270,
           5,
           26,
           537,
           3787.5097877033363,
           3011,
           31,
           137,
           388,
           289,
           89,
           137,
           33,
           20,
           101,
           1157,
           32,
           3351,
           271,
           135,
           106,
           21,
           200,
           1951,
           378,
           1388,
           260,
           42,
           50,
           1645,
           1091,
           434,
           1967,
           2,
           1810,
           30,
           180,
           21,
           8,
           494,
           1,
           68,
           659,
           1619,
           2967,
           17,
           788,
           636,
           1,
           9,
           104,
           931,
           437,
           155,
           57,
           2018,
           1,
           153,
           2056,
           1050,
           56,
           58,
           12,
           72,
           1770,
           1,
           166,
           148,
           99,
           482,
           173,
           157,
           38,
           117,
           147,
           2343,
           42,
           54,
           311,
           126,
           63,
           437,
           304,
           393,
           170,
           32,
           350,
           471,
           83,
           383,
           220,
           1,
           9,
           10,
           1029,
           451,
           1287,
           229,
           313,
           215,
           28,
           323,
           403,
           70,
           777,
           604,
           395,
           16,
           1159,
           1201,
           326,
           3908,
           110,
           79,
           69,
           38,
           254,
           73,
           2714,
           89,
           491,
           303,
           250,
           1,
           692,
           7,
           18,
           93,
           7,
           24,
           924,
           2459,
           618,
           161,
           23,
           222,
           1,
           57,
           1248,
           27,
           78,
           720,
           1260,
           5,
           12,
           334,
           1349,
           15,
           497,
           1963,
           87,
           98,
           61,
           270,
           1,
           378,
           59,
           22,
           141,
           994,
           150,
           388,
           3328,
           39,
           13,
           82,
           2337,
           461,
           156,
           297,
           1,
           2239,
           7,
           512,
           196,
           153,
           5,
           1763,
           59,
           1670,
           3683,
           143,
           8,
           198,
           101,
           11,
           30,
           420,
           128,
           23,
           117,
           177,
           3,
           8,
           295,
           2521,
           1303,
           62,
           134,
           250,
           178,
           53,
           3,
           16,
           84,
           368,
           10,
           1797,
           46,
           43,
           64,
           9,
           11,
           1238,
           24,
           829,
           387,
           15,
           2,
           585,
           51,
           2391,
           1416,
           1856,
           1714,
           1769,
           368,
           2722,
           3221,
           2388,
           574,
           448,
           515,
           1968,
           610,
           258,
           191,
           1574,
           2805,
           400,
           2091,
           61,
           508,
           278,
           582,
           964,
           615,
           20,
           1989,
           634,
           1711,
           1587,
           1165,
           3192,
           198,
           1580,
           1001,
           809,
           9,
           37,
           2657,
           1893,
           1272,
           1335,
           33,
           1951,
           1400,
           1902,
           1840,
           4317,
           1535,
           2391,
           1825,
           869,
           1327,
           42,
           11,
           1,
           864,
           130,
           1507,
           630,
           1332,
           54,
           643,
           1782,
           1511,
           2182,
           1784,
           1,
           131,
           30,
           2518,
           53,
           1069,
           1,
           163,
           258,
           4,
           1,
           480,
           1,
           1464,
           2142,
           9,
           596,
           17,
           2296,
           1807,
           1830.238812349982,
           2177.8375694088923,
           3063.986636576317,
           4102.851359436283,
           3073.647949079747
          ]
         },
         "name": "",
         "parents": [
          "CATEGORY2/II",
          "CATEGORY2/II",
          "CATEGORY2/II",
          "CATEGORY2/III",
          "CATEGORY2/II",
          "CATEGORY2/III",
          "CATEGORY2/III",
          "CATEGORY2/III",
          "CATEGORY2/III",
          "CATEGORY2/III",
          "CATEGORY2/III",
          "CATEGORY2/III",
          "CATEGORY2/III",
          "CATEGORY2/III",
          "CATEGORY2/III",
          "CATEGORY2/III",
          "CATEGORY2/III",
          "CATEGORY2/III",
          "CATEGORY2/III",
          "CATEGORY2/II",
          "CATEGORY2/III",
          "CATEGORY2/III",
          "CATEGORY2/III",
          "CATEGORY2/III",
          "CATEGORY2/0",
          "CATEGORY2/I",
          "CATEGORY2/II",
          "CATEGORY2/II",
          "CATEGORY2/II",
          "CATEGORY2/0",
          "CATEGORY2/I",
          "CATEGORY2/II",
          "CATEGORY2/II",
          "CATEGORY2/II",
          "CATEGORY2/II",
          "CATEGORY2/II",
          "CATEGORY2/I",
          "CATEGORY2/I",
          "CATEGORY2/II",
          "CATEGORY2/I",
          "CATEGORY2/II",
          "CATEGORY2/I",
          "CATEGORY2/II",
          "CATEGORY2/II",
          "CATEGORY2/II",
          "CATEGORY2/I",
          "CATEGORY2/II",
          "CATEGORY2/II",
          "CATEGORY2/I",
          "CATEGORY2/III",
          "CATEGORY2/II",
          "CATEGORY2/II",
          "CATEGORY2/II",
          "CATEGORY2/I",
          "CATEGORY2/I",
          "CATEGORY2/III",
          "CATEGORY2/II",
          "CATEGORY2/II",
          "CATEGORY2/II",
          "CATEGORY2/0",
          "CATEGORY2/II",
          "CATEGORY2/III",
          "CATEGORY2/II",
          "CATEGORY2/II",
          "CATEGORY2/II",
          "CATEGORY2/I",
          "CATEGORY2/II",
          "CATEGORY2/0",
          "CATEGORY2/II",
          "CATEGORY2/III",
          "CATEGORY2/I",
          "CATEGORY2/II",
          "CATEGORY2/I",
          "CATEGORY2/I",
          "CATEGORY2/III",
          "CATEGORY2/II",
          "CATEGORY2/II",
          "CATEGORY2/II",
          "CATEGORY2/II",
          "CATEGORY2/II",
          "CATEGORY2/I",
          "CATEGORY2/0",
          "CATEGORY2/II",
          "CATEGORY2/II",
          "CATEGORY2/II",
          "CATEGORY2/II",
          "CATEGORY2/I",
          "CATEGORY2/III",
          "CATEGORY2/II",
          "CATEGORY2/I",
          "CATEGORY2/II",
          "CATEGORY2/II",
          "CATEGORY2/II",
          "CATEGORY2/II",
          "CATEGORY2/II",
          "CATEGORY2/II",
          "CATEGORY2/0",
          "CATEGORY2/I",
          "CATEGORY2/II",
          "CATEGORY2/I",
          "CATEGORY2/0",
          "CATEGORY2/II",
          "CATEGORY2/II",
          "CATEGORY2/II",
          "CATEGORY2/I",
          "CATEGORY2/I",
          "CATEGORY2/II",
          "CATEGORY2/0",
          "CATEGORY2/II",
          "CATEGORY2/II",
          "CATEGORY2/II",
          "CATEGORY2/II",
          "CATEGORY2/II",
          "CATEGORY2/III",
          "CATEGORY2/II",
          "CATEGORY2/II",
          "CATEGORY2/II",
          "CATEGORY2/II",
          "CATEGORY2/II",
          "CATEGORY2/II",
          "CATEGORY2/II",
          "CATEGORY2/II",
          "CATEGORY2/0",
          "CATEGORY2/I",
          "CATEGORY2/0",
          "CATEGORY2/II",
          "CATEGORY2/II",
          "CATEGORY2/II",
          "CATEGORY2/II",
          "CATEGORY2/II",
          "CATEGORY2/II",
          "CATEGORY2/II",
          "CATEGORY2/II",
          "CATEGORY2/II",
          "CATEGORY2/II",
          "CATEGORY2/I",
          "CATEGORY2/I",
          "CATEGORY2/II",
          "CATEGORY2/0",
          "CATEGORY2/II",
          "CATEGORY2/II",
          "CATEGORY2/II",
          "CATEGORY2/II",
          "CATEGORY2/II",
          "CATEGORY2/II",
          "CATEGORY2/II",
          "CATEGORY2/0",
          "CATEGORY2/I",
          "CATEGORY2/0",
          "CATEGORY2/II",
          "CATEGORY2/II",
          "CATEGORY2/II",
          "CATEGORY2/I",
          "CATEGORY2/II",
          "CATEGORY2/0",
          "CATEGORY2/I",
          "CATEGORY2/0",
          "CATEGORY2/I",
          "CATEGORY2/I",
          "CATEGORY2/0",
          "CATEGORY2/II",
          "CATEGORY2/II",
          "CATEGORY2/I",
          "CATEGORY2/II",
          "CATEGORY2/II",
          "CATEGORY2/I",
          "CATEGORY2/I",
          "CATEGORY2/II",
          "CATEGORY2/II",
          "CATEGORY2/III",
          "CATEGORY2/0",
          "CATEGORY2/0",
          "CATEGORY2/II",
          "CATEGORY2/II",
          "CATEGORY2/II",
          "CATEGORY2/II",
          "CATEGORY2/II",
          "CATEGORY2/II",
          "CATEGORY2/II",
          "CATEGORY2/0",
          "CATEGORY2/I",
          "CATEGORY2/II",
          "CATEGORY2/II",
          "CATEGORY2/II",
          "CATEGORY2/II",
          "CATEGORY2/II",
          "CATEGORY2/II",
          "CATEGORY2/II",
          "CATEGORY2/II",
          "CATEGORY2/0",
          "CATEGORY2/II",
          "CATEGORY2/II",
          "CATEGORY2/II",
          "CATEGORY2/II",
          "CATEGORY2/II",
          "CATEGORY2/II",
          "CATEGORY2/II",
          "CATEGORY2/II",
          "CATEGORY2/0",
          "CATEGORY2/II",
          "CATEGORY2/II",
          "CATEGORY2/II",
          "CATEGORY2/II",
          "CATEGORY2/II",
          "CATEGORY2/I",
          "CATEGORY2/II",
          "CATEGORY2/0",
          "CATEGORY2/II",
          "CATEGORY2/III",
          "CATEGORY2/I",
          "CATEGORY2/II",
          "CATEGORY2/III",
          "CATEGORY2/II",
          "CATEGORY2/II",
          "CATEGORY2/II",
          "CATEGORY2/I",
          "CATEGORY2/II",
          "CATEGORY2/I",
          "CATEGORY2/I",
          "CATEGORY2/I",
          "CATEGORY2/II",
          "CATEGORY2/II",
          "CATEGORY2/I",
          "CATEGORY2/II",
          "CATEGORY2/I",
          "CATEGORY2/II",
          "CATEGORY2/I",
          "CATEGORY2/II",
          "CATEGORY2/II",
          "CATEGORY2/II",
          "CATEGORY2/I",
          "CATEGORY2/I",
          "CATEGORY2/III",
          "CATEGORY2/I",
          "CATEGORY2/II",
          "CATEGORY2/II",
          "CATEGORY2/II",
          "CATEGORY2/II",
          "CATEGORY2/II",
          "CATEGORY2/I",
          "CATEGORY2/II",
          "CATEGORY2/0",
          "CATEGORY2/I",
          "CATEGORY2/0",
          "CATEGORY2/II",
          "CATEGORY2/III",
          "CATEGORY2/0",
          "CATEGORY2/0",
          "CATEGORY2/II",
          "CATEGORY2/II",
          "CATEGORY2/0",
          "CATEGORY2/II",
          "CATEGORY2/II",
          "CATEGORY2/II",
          "CATEGORY2/II",
          "CATEGORY2/I",
          "CATEGORY2/II",
          "CATEGORY2/0",
          "CATEGORY2/II",
          "CATEGORY2/II",
          "CATEGORY2/II",
          "CATEGORY2/0",
          "CATEGORY2/0",
          "CATEGORY2/II",
          "CATEGORY2/II",
          "CATEGORY2/II",
          "CATEGORY2/II",
          "CATEGORY2/I",
          "CATEGORY2/I",
          "CATEGORY2/II",
          "CATEGORY2/II",
          "CATEGORY2/II",
          "CATEGORY2/I",
          "CATEGORY2/II",
          "CATEGORY2/0",
          "CATEGORY2/II",
          "CATEGORY2/0",
          "CATEGORY2/I",
          "CATEGORY2/II",
          "CATEGORY2/I",
          "CATEGORY2/II",
          "CATEGORY2/II",
          "CATEGORY2/0",
          "CATEGORY2/0",
          "CATEGORY2/II",
          "CATEGORY2/0",
          "CATEGORY2/II",
          "CATEGORY2/I",
          "CATEGORY2/II",
          "CATEGORY2/II",
          "CATEGORY2/II",
          "CATEGORY2/I",
          "CATEGORY2/II",
          "CATEGORY2/I",
          "CATEGORY2/0",
          "CATEGORY2/II",
          "CATEGORY2/II",
          "CATEGORY2/I",
          "CATEGORY2/II",
          "CATEGORY2/III",
          "CATEGORY2/II",
          "CATEGORY2/II",
          "CATEGORY2/I",
          "CATEGORY2/II",
          "CATEGORY2/II",
          "CATEGORY2/II",
          "CATEGORY2/II",
          "CATEGORY2/I",
          "CATEGORY2/II",
          "CATEGORY2/I",
          "CATEGORY2/0",
          "CATEGORY2/II",
          "CATEGORY2/II",
          "CATEGORY2/I",
          "CATEGORY2/I",
          "CATEGORY2/II",
          "CATEGORY2/0",
          "CATEGORY2/II",
          "CATEGORY2/II",
          "CATEGORY2/II",
          "CATEGORY2/II",
          "CATEGORY2/III",
          "CATEGORY2/II",
          "CATEGORY2/II",
          "CATEGORY2/II",
          "CATEGORY2/II",
          "CATEGORY2/II",
          "CATEGORY2/II",
          "CATEGORY2/II",
          "CATEGORY2/II",
          "CATEGORY2/0",
          "CATEGORY2/I",
          "CATEGORY2/0",
          "CATEGORY2/II",
          "CATEGORY2/II",
          "CATEGORY2/II",
          "CATEGORY2/II",
          "CATEGORY2/II",
          "CATEGORY2/II",
          "CATEGORY2/II",
          "CATEGORY2/II",
          "CATEGORY2/II",
          "CATEGORY2/II",
          "CATEGORY2/I",
          "CATEGORY2/I",
          "CATEGORY2/II",
          "CATEGORY2/II",
          "CATEGORY2/II",
          "CATEGORY2/II",
          "CATEGORY2/II",
          "CATEGORY2/II",
          "CATEGORY2/II",
          "CATEGORY2/I",
          "CATEGORY2/0",
          "CATEGORY2/II",
          "CATEGORY2/II",
          "CATEGORY2/II",
          "CATEGORY2/I",
          "CATEGORY2/II",
          "CATEGORY2/0",
          "CATEGORY2/I",
          "CATEGORY2/0",
          "CATEGORY2/I",
          "CATEGORY2/I",
          "CATEGORY2/0",
          "CATEGORY2/II",
          "CATEGORY2/II",
          "CATEGORY2/I",
          "CATEGORY2/II",
          "CATEGORY2/II",
          "CATEGORY2/I",
          "CATEGORY2/I",
          "CATEGORY2/II",
          "CATEGORY2/III",
          "CATEGORY2/0",
          "CATEGORY2/0",
          "CATEGORY2/II",
          "CATEGORY2/II",
          "CATEGORY2/II",
          "CATEGORY2/II",
          "CATEGORY2/II",
          "CATEGORY2/II",
          "CATEGORY2/II",
          "CATEGORY2/I",
          "CATEGORY2/II",
          "CATEGORY2/II",
          "CATEGORY2/II",
          "CATEGORY2/II",
          "CATEGORY2/II",
          "CATEGORY2/II",
          "CATEGORY2/II",
          "CATEGORY2/II",
          "CATEGORY2/0",
          "CATEGORY2/II",
          "CATEGORY2/II",
          "CATEGORY2/II",
          "CATEGORY2/II",
          "CATEGORY2/II",
          "CATEGORY2/II",
          "CATEGORY2/II",
          "CATEGORY2/0",
          "CATEGORY2/II",
          "CATEGORY2/II",
          "CATEGORY2/II",
          "CATEGORY2/I",
          "CATEGORY2/II",
          "CATEGORY2/0",
          "CATEGORY2/II",
          "CATEGORY2/III",
          "CATEGORY2/I",
          "CATEGORY2/II",
          "CATEGORY2/III",
          "CATEGORY2/II",
          "CATEGORY2/II",
          "CATEGORY2/II",
          "CATEGORY2/I",
          "CATEGORY2/II",
          "CATEGORY2/I",
          "CATEGORY2/I",
          "CATEGORY2/II",
          "CATEGORY2/II",
          "CATEGORY2/I",
          "CATEGORY2/II",
          "CATEGORY2/I",
          "CATEGORY2/II",
          "CATEGORY2/II",
          "CATEGORY2/II",
          "CATEGORY2/II",
          "CATEGORY2/I",
          "CATEGORY2/I",
          "CATEGORY2/III",
          "CATEGORY2/I",
          "CATEGORY2/II",
          "CATEGORY2/II",
          "CATEGORY2/II",
          "CATEGORY2/II",
          "CATEGORY2/II",
          "CATEGORY2/I",
          "CATEGORY2/II",
          "CATEGORY2/I",
          "CATEGORY2/0",
          "CATEGORY2/II",
          "CATEGORY2/III",
          "CATEGORY2/0",
          "CATEGORY2/II",
          "CATEGORY2/II",
          "CATEGORY2/II",
          "CATEGORY2/II",
          "CATEGORY2/II",
          "CATEGORY2/I",
          "CATEGORY2/II",
          "CATEGORY2/II",
          "CATEGORY2/0",
          "CATEGORY2/0",
          "CATEGORY2/II",
          "CATEGORY2/II",
          "CATEGORY2/II",
          "CATEGORY2/II",
          "CATEGORY2/I",
          "CATEGORY2/I",
          "CATEGORY2/II",
          "CATEGORY2/II",
          "CATEGORY2/II",
          "CATEGORY2/II",
          "CATEGORY2/0",
          "CATEGORY2/II",
          "CATEGORY2/0",
          "CATEGORY2/I",
          "CATEGORY2/II",
          "CATEGORY2/I",
          "CATEGORY2/II",
          "CATEGORY2/II",
          "CATEGORY2/0",
          "CATEGORY2/0",
          "CATEGORY2/II",
          "CATEGORY2/I",
          "CATEGORY2/II",
          "CATEGORY2/I",
          "CATEGORY2/I",
          "CATEGORY2/0",
          "CATEGORY2/II",
          "CATEGORY2/II",
          "CATEGORY2/I",
          "CATEGORY2/II",
          "CATEGORY2/II",
          "CATEGORY2/II",
          "CATEGORY2/III",
          "CATEGORY2/II",
          "CATEGORY2/III",
          "CATEGORY2/III",
          "CATEGORY2/III",
          "CATEGORY2/III",
          "CATEGORY2/III",
          "CATEGORY2/III",
          "CATEGORY2/III",
          "CATEGORY2/III",
          "CATEGORY2/III",
          "CATEGORY2/III",
          "CATEGORY2/III",
          "CATEGORY2/III",
          "CATEGORY2/III",
          "CATEGORY2/III",
          "CATEGORY2/II",
          "CATEGORY2/III",
          "CATEGORY2/III",
          "CATEGORY2/III",
          "CATEGORY2/III",
          "CATEGORY2/0",
          "CATEGORY2/I",
          "CATEGORY2/II",
          "CATEGORY2/II",
          "CATEGORY2/II",
          "CATEGORY2/I",
          "CATEGORY2/II",
          "CATEGORY2/II",
          "CATEGORY2/II",
          "CATEGORY2/II",
          "CATEGORY2/II",
          "CATEGORY2/I",
          "CATEGORY2/I",
          "CATEGORY2/II",
          "CATEGORY2/I",
          "CATEGORY2/II",
          "CATEGORY2/I",
          "CATEGORY2/II",
          "CATEGORY2/II",
          "CATEGORY2/II",
          "CATEGORY2/I",
          "CATEGORY2/II",
          "CATEGORY2/II",
          "CATEGORY2/I",
          "CATEGORY2/III",
          "CATEGORY2/II",
          "CATEGORY2/II",
          "CATEGORY2/II",
          "CATEGORY2/I",
          "CATEGORY2/I",
          "CATEGORY2/III",
          "CATEGORY2/II",
          "CATEGORY2/II",
          "CATEGORY2/II",
          "CATEGORY2/0",
          "CATEGORY2/II",
          "CATEGORY2/III",
          "CATEGORY2/II",
          "CATEGORY2/II",
          "CATEGORY2/I",
          "CATEGORY2/II",
          "CATEGORY2/II",
          "CATEGORY2/III",
          "CATEGORY2/I",
          "CATEGORY2/II",
          "CATEGORY2/I",
          "CATEGORY2/I",
          "CATEGORY2/III",
          "CATEGORY2/II",
          "CATEGORY2/II",
          "CATEGORY2/II",
          "CATEGORY2/II",
          "CATEGORY2/II",
          "CATEGORY2/I",
          "CATEGORY2/II",
          "CATEGORY2/II",
          "CATEGORY2/II",
          "CATEGORY2/II",
          "CATEGORY2/III",
          "CATEGORY2/II",
          "CATEGORY2/I",
          "CATEGORY2/II",
          "CATEGORY2/II",
          "CATEGORY2/II",
          "CATEGORY2",
          "CATEGORY2",
          "CATEGORY2",
          "CATEGORY2",
          ""
         ],
         "type": "treemap",
         "values": [
          1632,
          3602,
          3987,
          4093,
          3596,
          1447,
          6004,
          6240,
          4876,
          1525,
          1286,
          789,
          4331,
          1185,
          720,
          435,
          5200,
          5008,
          591,
          4553,
          6238,
          930,
          665,
          1672,
          2054,
          1669,
          39,
          5749,
          2029,
          1421,
          3295,
          4097,
          2864,
          5376,
          899,
          3408,
          2351,
          3536,
          25,
          174,
          4696,
          3736,
          4641,
          4612,
          882,
          3981,
          2905,
          3616,
          3667,
          7490,
          3030,
          4835,
          3726,
          1548,
          2896,
          453,
          81,
          1,
          2164,
          180,
          3566,
          4560,
          3794,
          611,
          135,
          2161,
          3035,
          1,
          3596,
          6470,
          3312,
          2,
          587,
          63,
          5826,
          184,
          2690,
          254,
          223,
          311,
          31,
          1,
          18,
          1950,
          5365,
          4440,
          1,
          4715,
          22,
          1879,
          26,
          5188,
          3821,
          2100,
          3687,
          5042,
          1,
          107,
          2209,
          1541,
          1,
          3,
          47,
          277,
          2753,
          1836,
          846,
          87,
          23,
          5168,
          1,
          261,
          5146,
          3483,
          215,
          365,
          12,
          156,
          3946,
          15,
          748,
          339,
          112,
          990,
          382,
          999,
          146,
          174,
          362,
          4722,
          74,
          160,
          2130,
          533,
          321,
          2748,
          758,
          1211,
          114,
          260,
          67,
          1283,
          1173,
          447,
          6,
          1981,
          473,
          414,
          1,
          90,
          14,
          4050,
          1006,
          3690,
          533,
          612,
          478,
          35,
          837,
          790,
          182,
          3694,
          3059,
          1325,
          75,
          2858,
          2328,
          870,
          223,
          5530,
          135,
          153,
          161,
          93,
          1118,
          366,
          5451,
          422,
          983,
          663,
          396,
          1051,
          1,
          2309,
          21,
          34,
          219,
          22,
          37,
          2569,
          5528,
          3423,
          263,
          12,
          484,
          322,
          1,
          279,
          2197,
          98,
          39,
          177,
          468,
          2164,
          2103,
          8,
          70,
          2163,
          3463,
          24,
          1115,
          3958,
          194,
          363,
          120,
          944,
          1,
          553,
          742,
          31,
          200,
          271,
          2773,
          183,
          884,
          5291,
          724,
          120,
          54,
          362,
          4516,
          1216,
          328,
          1760,
          1,
          3913,
          48,
          1992,
          452,
          732,
          9,
          2706,
          2862,
          90,
          4931,
          5773,
          693,
          120,
          12,
          633,
          4050,
          4192,
          266,
          21,
          374,
          882,
          13,
          378,
          113,
          218,
          107,
          195,
          270,
          5,
          26,
          537,
          7254,
          3011,
          31,
          137,
          388,
          289,
          89,
          137,
          33,
          20,
          101,
          1157,
          32,
          3351,
          271,
          135,
          106,
          21,
          200,
          1951,
          378,
          1388,
          260,
          42,
          50,
          1645,
          1091,
          434,
          1967,
          2,
          1810,
          30,
          180,
          21,
          8,
          494,
          1,
          68,
          659,
          1619,
          2967,
          17,
          788,
          636,
          1,
          9,
          104,
          931,
          437,
          155,
          57,
          2018,
          1,
          153,
          2056,
          1050,
          56,
          58,
          12,
          72,
          1770,
          1,
          166,
          148,
          99,
          482,
          173,
          157,
          38,
          117,
          147,
          2343,
          42,
          54,
          311,
          126,
          63,
          437,
          304,
          393,
          170,
          32,
          350,
          471,
          83,
          383,
          220,
          1,
          9,
          10,
          1029,
          451,
          1287,
          229,
          313,
          215,
          28,
          323,
          403,
          70,
          777,
          604,
          395,
          16,
          1159,
          1201,
          326,
          3908,
          110,
          79,
          69,
          38,
          254,
          73,
          2714,
          89,
          491,
          303,
          250,
          1,
          692,
          7,
          18,
          93,
          7,
          24,
          924,
          2459,
          618,
          161,
          23,
          222,
          1,
          57,
          1248,
          27,
          78,
          720,
          1260,
          5,
          12,
          334,
          1349,
          15,
          497,
          1963,
          87,
          98,
          61,
          270,
          1,
          378,
          59,
          22,
          141,
          994,
          150,
          388,
          3328,
          39,
          13,
          82,
          2337,
          461,
          156,
          297,
          1,
          2239,
          7,
          512,
          196,
          153,
          5,
          1763,
          59,
          1670,
          3683,
          143,
          8,
          198,
          101,
          11,
          30,
          420,
          128,
          23,
          117,
          177,
          3,
          8,
          295,
          2521,
          1303,
          62,
          134,
          250,
          178,
          53,
          3,
          16,
          84,
          368,
          10,
          1797,
          46,
          43,
          64,
          9,
          11,
          1238,
          24,
          829,
          387,
          15,
          2,
          585,
          51,
          2391,
          1416,
          1856,
          1714,
          1769,
          368,
          2722,
          3221,
          2388,
          574,
          448,
          515,
          1968,
          610,
          258,
          191,
          1574,
          2805,
          400,
          2091,
          61,
          508,
          278,
          582,
          964,
          615,
          20,
          1989,
          634,
          1711,
          1587,
          1165,
          3192,
          198,
          1580,
          1001,
          809,
          9,
          37,
          2657,
          1893,
          1272,
          1335,
          33,
          1951,
          1400,
          1902,
          1840,
          4317,
          1535,
          2391,
          1825,
          869,
          1327,
          42,
          11,
          1,
          864,
          130,
          1507,
          630,
          1332,
          54,
          643,
          1782,
          1511,
          2182,
          1784,
          1,
          131,
          30,
          2518,
          53,
          1069,
          1,
          163,
          258,
          4,
          1,
          480,
          1,
          1464,
          2142,
          9,
          596,
          17,
          2296,
          1807,
          30413,
          126965,
          338536,
          150430,
          646344
         ]
        }
       ],
       "layout": {
        "coloraxis": {
         "colorbar": {
          "title": {
           "text": "DIAGNOSIS"
          }
         },
         "colorscale": [
          [
           0,
           "#0d0887"
          ],
          [
           0.1111111111111111,
           "#46039f"
          ],
          [
           0.2222222222222222,
           "#7201a8"
          ],
          [
           0.3333333333333333,
           "#9c179e"
          ],
          [
           0.4444444444444444,
           "#bd3786"
          ],
          [
           0.5555555555555556,
           "#d8576b"
          ],
          [
           0.6666666666666666,
           "#ed7953"
          ],
          [
           0.7777777777777778,
           "#fb9f3a"
          ],
          [
           0.8888888888888888,
           "#fdca26"
          ],
          [
           1,
           "#f0f921"
          ]
         ]
        },
        "legend": {
         "tracegroupgap": 0
        },
        "margin": {
         "t": 60
        },
        "template": {
         "data": {
          "bar": [
           {
            "error_x": {
             "color": "#2a3f5f"
            },
            "error_y": {
             "color": "#2a3f5f"
            },
            "marker": {
             "line": {
              "color": "#E5ECF6",
              "width": 0.5
             },
             "pattern": {
              "fillmode": "overlay",
              "size": 10,
              "solidity": 0.2
             }
            },
            "type": "bar"
           }
          ],
          "barpolar": [
           {
            "marker": {
             "line": {
              "color": "#E5ECF6",
              "width": 0.5
             },
             "pattern": {
              "fillmode": "overlay",
              "size": 10,
              "solidity": 0.2
             }
            },
            "type": "barpolar"
           }
          ],
          "carpet": [
           {
            "aaxis": {
             "endlinecolor": "#2a3f5f",
             "gridcolor": "white",
             "linecolor": "white",
             "minorgridcolor": "white",
             "startlinecolor": "#2a3f5f"
            },
            "baxis": {
             "endlinecolor": "#2a3f5f",
             "gridcolor": "white",
             "linecolor": "white",
             "minorgridcolor": "white",
             "startlinecolor": "#2a3f5f"
            },
            "type": "carpet"
           }
          ],
          "choropleth": [
           {
            "colorbar": {
             "outlinewidth": 0,
             "ticks": ""
            },
            "type": "choropleth"
           }
          ],
          "contour": [
           {
            "colorbar": {
             "outlinewidth": 0,
             "ticks": ""
            },
            "colorscale": [
             [
              0,
              "#0d0887"
             ],
             [
              0.1111111111111111,
              "#46039f"
             ],
             [
              0.2222222222222222,
              "#7201a8"
             ],
             [
              0.3333333333333333,
              "#9c179e"
             ],
             [
              0.4444444444444444,
              "#bd3786"
             ],
             [
              0.5555555555555556,
              "#d8576b"
             ],
             [
              0.6666666666666666,
              "#ed7953"
             ],
             [
              0.7777777777777778,
              "#fb9f3a"
             ],
             [
              0.8888888888888888,
              "#fdca26"
             ],
             [
              1,
              "#f0f921"
             ]
            ],
            "type": "contour"
           }
          ],
          "contourcarpet": [
           {
            "colorbar": {
             "outlinewidth": 0,
             "ticks": ""
            },
            "type": "contourcarpet"
           }
          ],
          "heatmap": [
           {
            "colorbar": {
             "outlinewidth": 0,
             "ticks": ""
            },
            "colorscale": [
             [
              0,
              "#0d0887"
             ],
             [
              0.1111111111111111,
              "#46039f"
             ],
             [
              0.2222222222222222,
              "#7201a8"
             ],
             [
              0.3333333333333333,
              "#9c179e"
             ],
             [
              0.4444444444444444,
              "#bd3786"
             ],
             [
              0.5555555555555556,
              "#d8576b"
             ],
             [
              0.6666666666666666,
              "#ed7953"
             ],
             [
              0.7777777777777778,
              "#fb9f3a"
             ],
             [
              0.8888888888888888,
              "#fdca26"
             ],
             [
              1,
              "#f0f921"
             ]
            ],
            "type": "heatmap"
           }
          ],
          "heatmapgl": [
           {
            "colorbar": {
             "outlinewidth": 0,
             "ticks": ""
            },
            "colorscale": [
             [
              0,
              "#0d0887"
             ],
             [
              0.1111111111111111,
              "#46039f"
             ],
             [
              0.2222222222222222,
              "#7201a8"
             ],
             [
              0.3333333333333333,
              "#9c179e"
             ],
             [
              0.4444444444444444,
              "#bd3786"
             ],
             [
              0.5555555555555556,
              "#d8576b"
             ],
             [
              0.6666666666666666,
              "#ed7953"
             ],
             [
              0.7777777777777778,
              "#fb9f3a"
             ],
             [
              0.8888888888888888,
              "#fdca26"
             ],
             [
              1,
              "#f0f921"
             ]
            ],
            "type": "heatmapgl"
           }
          ],
          "histogram": [
           {
            "marker": {
             "pattern": {
              "fillmode": "overlay",
              "size": 10,
              "solidity": 0.2
             }
            },
            "type": "histogram"
           }
          ],
          "histogram2d": [
           {
            "colorbar": {
             "outlinewidth": 0,
             "ticks": ""
            },
            "colorscale": [
             [
              0,
              "#0d0887"
             ],
             [
              0.1111111111111111,
              "#46039f"
             ],
             [
              0.2222222222222222,
              "#7201a8"
             ],
             [
              0.3333333333333333,
              "#9c179e"
             ],
             [
              0.4444444444444444,
              "#bd3786"
             ],
             [
              0.5555555555555556,
              "#d8576b"
             ],
             [
              0.6666666666666666,
              "#ed7953"
             ],
             [
              0.7777777777777778,
              "#fb9f3a"
             ],
             [
              0.8888888888888888,
              "#fdca26"
             ],
             [
              1,
              "#f0f921"
             ]
            ],
            "type": "histogram2d"
           }
          ],
          "histogram2dcontour": [
           {
            "colorbar": {
             "outlinewidth": 0,
             "ticks": ""
            },
            "colorscale": [
             [
              0,
              "#0d0887"
             ],
             [
              0.1111111111111111,
              "#46039f"
             ],
             [
              0.2222222222222222,
              "#7201a8"
             ],
             [
              0.3333333333333333,
              "#9c179e"
             ],
             [
              0.4444444444444444,
              "#bd3786"
             ],
             [
              0.5555555555555556,
              "#d8576b"
             ],
             [
              0.6666666666666666,
              "#ed7953"
             ],
             [
              0.7777777777777778,
              "#fb9f3a"
             ],
             [
              0.8888888888888888,
              "#fdca26"
             ],
             [
              1,
              "#f0f921"
             ]
            ],
            "type": "histogram2dcontour"
           }
          ],
          "mesh3d": [
           {
            "colorbar": {
             "outlinewidth": 0,
             "ticks": ""
            },
            "type": "mesh3d"
           }
          ],
          "parcoords": [
           {
            "line": {
             "colorbar": {
              "outlinewidth": 0,
              "ticks": ""
             }
            },
            "type": "parcoords"
           }
          ],
          "pie": [
           {
            "automargin": true,
            "type": "pie"
           }
          ],
          "scatter": [
           {
            "marker": {
             "colorbar": {
              "outlinewidth": 0,
              "ticks": ""
             }
            },
            "type": "scatter"
           }
          ],
          "scatter3d": [
           {
            "line": {
             "colorbar": {
              "outlinewidth": 0,
              "ticks": ""
             }
            },
            "marker": {
             "colorbar": {
              "outlinewidth": 0,
              "ticks": ""
             }
            },
            "type": "scatter3d"
           }
          ],
          "scattercarpet": [
           {
            "marker": {
             "colorbar": {
              "outlinewidth": 0,
              "ticks": ""
             }
            },
            "type": "scattercarpet"
           }
          ],
          "scattergeo": [
           {
            "marker": {
             "colorbar": {
              "outlinewidth": 0,
              "ticks": ""
             }
            },
            "type": "scattergeo"
           }
          ],
          "scattergl": [
           {
            "marker": {
             "colorbar": {
              "outlinewidth": 0,
              "ticks": ""
             }
            },
            "type": "scattergl"
           }
          ],
          "scattermapbox": [
           {
            "marker": {
             "colorbar": {
              "outlinewidth": 0,
              "ticks": ""
             }
            },
            "type": "scattermapbox"
           }
          ],
          "scatterpolar": [
           {
            "marker": {
             "colorbar": {
              "outlinewidth": 0,
              "ticks": ""
             }
            },
            "type": "scatterpolar"
           }
          ],
          "scatterpolargl": [
           {
            "marker": {
             "colorbar": {
              "outlinewidth": 0,
              "ticks": ""
             }
            },
            "type": "scatterpolargl"
           }
          ],
          "scatterternary": [
           {
            "marker": {
             "colorbar": {
              "outlinewidth": 0,
              "ticks": ""
             }
            },
            "type": "scatterternary"
           }
          ],
          "surface": [
           {
            "colorbar": {
             "outlinewidth": 0,
             "ticks": ""
            },
            "colorscale": [
             [
              0,
              "#0d0887"
             ],
             [
              0.1111111111111111,
              "#46039f"
             ],
             [
              0.2222222222222222,
              "#7201a8"
             ],
             [
              0.3333333333333333,
              "#9c179e"
             ],
             [
              0.4444444444444444,
              "#bd3786"
             ],
             [
              0.5555555555555556,
              "#d8576b"
             ],
             [
              0.6666666666666666,
              "#ed7953"
             ],
             [
              0.7777777777777778,
              "#fb9f3a"
             ],
             [
              0.8888888888888888,
              "#fdca26"
             ],
             [
              1,
              "#f0f921"
             ]
            ],
            "type": "surface"
           }
          ],
          "table": [
           {
            "cells": {
             "fill": {
              "color": "#EBF0F8"
             },
             "line": {
              "color": "white"
             }
            },
            "header": {
             "fill": {
              "color": "#C8D4E3"
             },
             "line": {
              "color": "white"
             }
            },
            "type": "table"
           }
          ]
         },
         "layout": {
          "annotationdefaults": {
           "arrowcolor": "#2a3f5f",
           "arrowhead": 0,
           "arrowwidth": 1
          },
          "autotypenumbers": "strict",
          "coloraxis": {
           "colorbar": {
            "outlinewidth": 0,
            "ticks": ""
           }
          },
          "colorscale": {
           "diverging": [
            [
             0,
             "#8e0152"
            ],
            [
             0.1,
             "#c51b7d"
            ],
            [
             0.2,
             "#de77ae"
            ],
            [
             0.3,
             "#f1b6da"
            ],
            [
             0.4,
             "#fde0ef"
            ],
            [
             0.5,
             "#f7f7f7"
            ],
            [
             0.6,
             "#e6f5d0"
            ],
            [
             0.7,
             "#b8e186"
            ],
            [
             0.8,
             "#7fbc41"
            ],
            [
             0.9,
             "#4d9221"
            ],
            [
             1,
             "#276419"
            ]
           ],
           "sequential": [
            [
             0,
             "#0d0887"
            ],
            [
             0.1111111111111111,
             "#46039f"
            ],
            [
             0.2222222222222222,
             "#7201a8"
            ],
            [
             0.3333333333333333,
             "#9c179e"
            ],
            [
             0.4444444444444444,
             "#bd3786"
            ],
            [
             0.5555555555555556,
             "#d8576b"
            ],
            [
             0.6666666666666666,
             "#ed7953"
            ],
            [
             0.7777777777777778,
             "#fb9f3a"
            ],
            [
             0.8888888888888888,
             "#fdca26"
            ],
            [
             1,
             "#f0f921"
            ]
           ],
           "sequentialminus": [
            [
             0,
             "#0d0887"
            ],
            [
             0.1111111111111111,
             "#46039f"
            ],
            [
             0.2222222222222222,
             "#7201a8"
            ],
            [
             0.3333333333333333,
             "#9c179e"
            ],
            [
             0.4444444444444444,
             "#bd3786"
            ],
            [
             0.5555555555555556,
             "#d8576b"
            ],
            [
             0.6666666666666666,
             "#ed7953"
            ],
            [
             0.7777777777777778,
             "#fb9f3a"
            ],
            [
             0.8888888888888888,
             "#fdca26"
            ],
            [
             1,
             "#f0f921"
            ]
           ]
          },
          "colorway": [
           "#636efa",
           "#EF553B",
           "#00cc96",
           "#ab63fa",
           "#FFA15A",
           "#19d3f3",
           "#FF6692",
           "#B6E880",
           "#FF97FF",
           "#FECB52"
          ],
          "font": {
           "color": "#2a3f5f"
          },
          "geo": {
           "bgcolor": "white",
           "lakecolor": "white",
           "landcolor": "#E5ECF6",
           "showlakes": true,
           "showland": true,
           "subunitcolor": "white"
          },
          "hoverlabel": {
           "align": "left"
          },
          "hovermode": "closest",
          "mapbox": {
           "style": "light"
          },
          "paper_bgcolor": "white",
          "plot_bgcolor": "#E5ECF6",
          "polar": {
           "angularaxis": {
            "gridcolor": "white",
            "linecolor": "white",
            "ticks": ""
           },
           "bgcolor": "#E5ECF6",
           "radialaxis": {
            "gridcolor": "white",
            "linecolor": "white",
            "ticks": ""
           }
          },
          "scene": {
           "xaxis": {
            "backgroundcolor": "#E5ECF6",
            "gridcolor": "white",
            "gridwidth": 2,
            "linecolor": "white",
            "showbackground": true,
            "ticks": "",
            "zerolinecolor": "white"
           },
           "yaxis": {
            "backgroundcolor": "#E5ECF6",
            "gridcolor": "white",
            "gridwidth": 2,
            "linecolor": "white",
            "showbackground": true,
            "ticks": "",
            "zerolinecolor": "white"
           },
           "zaxis": {
            "backgroundcolor": "#E5ECF6",
            "gridcolor": "white",
            "gridwidth": 2,
            "linecolor": "white",
            "showbackground": true,
            "ticks": "",
            "zerolinecolor": "white"
           }
          },
          "shapedefaults": {
           "line": {
            "color": "#2a3f5f"
           }
          },
          "ternary": {
           "aaxis": {
            "gridcolor": "white",
            "linecolor": "white",
            "ticks": ""
           },
           "baxis": {
            "gridcolor": "white",
            "linecolor": "white",
            "ticks": ""
           },
           "bgcolor": "#E5ECF6",
           "caxis": {
            "gridcolor": "white",
            "linecolor": "white",
            "ticks": ""
           }
          },
          "title": {
           "x": 0.05
          },
          "xaxis": {
           "automargin": true,
           "gridcolor": "white",
           "linecolor": "white",
           "ticks": "",
           "title": {
            "standoff": 15
           },
           "zerolinecolor": "white",
           "zerolinewidth": 2
          },
          "yaxis": {
           "automargin": true,
           "gridcolor": "white",
           "linecolor": "white",
           "ticks": "",
           "title": {
            "standoff": 15
           },
           "zerolinecolor": "white",
           "zerolinewidth": 2
          }
         }
        }
       }
      },
      "text/html": [
       "<div>                            <div id=\"c1f234ca-7991-491a-a01d-4c03a123f826\" class=\"plotly-graph-div\" style=\"height:525px; width:100%;\"></div>            <script type=\"text/javascript\">                require([\"plotly\"], function(Plotly) {                    window.PLOTLYENV=window.PLOTLYENV || {};                                    if (document.getElementById(\"c1f234ca-7991-491a-a01d-4c03a123f826\")) {                    Plotly.newPlot(                        \"c1f234ca-7991-491a-a01d-4c03a123f826\",                        [{\"branchvalues\":\"total\",\"customdata\":[[1632.0,1632.0],[3602.0,3602.0],[3987.0,3987.0],[4093.0,4093.0],[3596.0,3596.0],[1447.0,1447.0],[6004.0,6004.0],[6240.0,6240.0],[4876.0,4876.0],[1525.0,1525.0],[1286.0,1286.0],[789.0,789.0],[4331.0,4331.0],[1185.0,1185.0],[720.0,720.0],[435.0,435.0],[2842.4753846153844,2842.4753846153844],[5008.0,5008.0],[591.0,591.0],[4553.0,4553.0],[6238.0,6238.0],[930.0,930.0],[665.0,665.0],[894.4222488038278,894.4222488038278],[2054.0,2054.0],[1669.0,1669.0],[39.0,39.0],[5749.0,5749.0],[2029.0,2029.0],[1421.0,1421.0],[3295.0,3295.0],[4097.0,4097.0],[2864.0,2864.0],[5376.0,5376.0],[899.0,899.0],[3408.0,3408.0],[2351.0,2351.0],[3536.0,3536.0],[25.0,25.0],[88.14942528735632,88.14942528735632],[4696.0,4696.0],[3736.0,3736.0],[4641.0,4641.0],[4612.0,4612.0],[882.0,882.0],[3981.0,3981.0],[2905.0,2905.0],[3616.0,3616.0],[3667.0,3667.0],[7490.0,7490.0],[3030.0,3030.0],[4835.0,4835.0],[3726.0,3726.0],[1548.0,1548.0],[2896.0,2896.0],[453.0,453.0],[43.76543209876543,43.76543209876543],[1.0,1.0],[2164.0,2164.0],[180.0,180.0],[3566.0,3566.0],[4560.0,4560.0],[3794.0,3794.0],[611.0,611.0],[135.0,135.0],[2161.0,2161.0],[3035.0,3035.0],[1.0,1.0],[3596.0,3596.0],[6470.0,6470.0],[3312.0,3312.0],[1.0,1.0],[587.0,587.0],[63.0,63.0],[5826.0,5826.0],[184.0,184.0],[2690.0,2690.0],[254.0,254.0],[223.0,223.0],[311.0,311.0],[31.0,31.0],[1.0,1.0],[18.0,18.0],[1048.665641025641,1048.665641025641],[5365.0,5365.0],[4440.0,4440.0],[1.0,1.0],[4715.0,4715.0],[22.0,22.0],[1879.0,1879.0],[26.0,26.0],[5188.0,5188.0],[3821.0,3821.0],[2100.0,2100.0],[3687.0,3687.0],[5042.0,5042.0],[1.0,1.0],[107.0,107.0],[2209.0,2209.0],[1541.0,1541.0],[1.0,1.0],[3.0,3.0],[47.0,47.0],[277.0,277.0],[2753.0,2753.0],[1836.0,1836.0],[846.0,846.0],[87.0,87.0],[23.0,23.0],[5168.0,5168.0],[1.0,1.0],[261.0,261.0],[5146.0,5146.0],[3483.0,3483.0],[215.0,215.0],[365.0,365.0],[12.0,12.0],[156.0,156.0],[3946.0,3946.0],[15.0,15.0],[748.0,748.0],[181.71386430678467,181.71386430678467],[112.0,112.0],[990.0,990.0],[382.0,382.0],[999.0,999.0],[146.0,146.0],[174.0,174.0],[185.02762430939225,185.02762430939225],[4722.0,4722.0],[74.0,74.0],[160.0,160.0],[1103.693896713615,1103.693896713615],[533.0,533.0],[321.0,321.0],[2748.0,2748.0],[758.0,758.0],[1211.0,1211.0],[114.0,114.0],[260.0,260.0],[67.0,67.0],[1283.0,1283.0],[1173.0,1173.0],[447.0,447.0],[6.0,6.0],[1981.0,1981.0],[473.0,473.0],[414.0,414.0],[1.0,1.0],[90.0,90.0],[14.0,14.0],[4050.0,4050.0],[1006.0,1006.0],[3690.0,3690.0],[533.0,533.0],[612.0,612.0],[478.0,478.0],[35.0,35.0],[837.0,837.0],[790.0,790.0],[182.0,182.0],[3694.0,3694.0],[3059.0,3059.0],[1325.0,1325.0],[37.666666666666664,37.666666666666664],[2858.0,2858.0],[2328.0,2328.0],[870.0,870.0],[223.0,223.0],[5530.0,5530.0],[135.0,135.0],[153.0,153.0],[161.0,161.0],[93.0,93.0],[1118.0,1118.0],[366.0,366.0],[5451.0,5451.0],[422.0,422.0],[983.0,983.0],[663.0,663.0],[396.0,396.0],[1051.0,1051.0],[1.0,1.0],[2309.0,2309.0],[21.0,21.0],[34.0,34.0],[219.0,219.0],[22.0,22.0],[37.0,37.0],[2569.0,2569.0],[5528.0,5528.0],[3423.0,3423.0],[263.0,263.0],[12.0,12.0],[484.0,484.0],[322.0,322.0],[1.0,1.0],[279.0,279.0],[2197.0,2197.0],[98.0,98.0],[39.0,39.0],[177.0,177.0],[237.5940170940171,237.5940170940171],[2164.0,2164.0],[2103.0,2103.0],[8.0,8.0],[70.0,70.0],[2163.0,2163.0],[3463.0,3463.0],[24.0,24.0],[1115.0,1115.0],[3958.0,3958.0],[194.0,194.0],[363.0,363.0],[120.0,120.0],[944.0,944.0],[1.0,1.0],[553.0,553.0],[742.0,742.0],[31.0,31.0],[138.44,138.44],[271.0,271.0],[2773.0,2773.0],[183.0,183.0],[884.0,884.0],[5291.0,5291.0],[724.0,724.0],[120.0,120.0],[54.0,54.0],[362.0,362.0],[4516.0,4516.0],[1216.0,1216.0],[328.0,328.0],[1760.0,1760.0],[1.0,1.0],[3913.0,3913.0],[48.0,48.0],[1992.0,1992.0],[452.0,452.0],[732.0,732.0],[9.0,9.0],[2706.0,2706.0],[2862.0,2862.0],[90.0,90.0],[4931.0,4931.0],[5773.0,5773.0],[693.0,693.0],[120.0,120.0],[12.0,12.0],[633.0,633.0],[4050.0,4050.0],[4192.0,4192.0],[266.0,266.0],[21.0,21.0],[374.0,374.0],[882.0,882.0],[13.0,13.0],[378.0,378.0],[113.0,113.0],[218.0,218.0],[107.0,107.0],[195.0,195.0],[270.0,270.0],[5.0,5.0],[26.0,26.0],[537.0,537.0],[3787.5097877033363,3787.5097877033363],[3011.0,3011.0],[31.0,31.0],[137.0,137.0],[388.0,388.0],[289.0,289.0],[89.0,89.0],[137.0,137.0],[33.0,33.0],[20.0,20.0],[101.0,101.0],[1157.0,1157.0],[32.0,32.0],[3351.0,3351.0],[271.0,271.0],[135.0,135.0],[106.0,106.0],[21.0,21.0],[200.0,200.0],[1951.0,1951.0],[378.0,378.0],[1388.0,1388.0],[260.0,260.0],[42.0,42.0],[50.0,50.0],[1645.0,1645.0],[1091.0,1091.0],[434.0,434.0],[1967.0,1967.0],[2.0,2.0],[1810.0,1810.0],[30.0,30.0],[180.0,180.0],[21.0,21.0],[8.0,8.0],[494.0,494.0],[1.0,1.0],[68.0,68.0],[659.0,659.0],[1619.0,1619.0],[2967.0,2967.0],[17.0,17.0],[788.0,788.0],[636.0,636.0],[1.0,1.0],[9.0,9.0],[104.0,104.0],[931.0,931.0],[437.0,437.0],[155.0,155.0],[57.0,57.0],[2018.0,2018.0],[1.0,1.0],[153.0,153.0],[2056.0,2056.0],[1050.0,1050.0],[56.0,56.0],[58.0,58.0],[12.0,12.0],[72.0,72.0],[1770.0,1770.0],[1.0,1.0],[166.0,166.0],[148.0,148.0],[99.0,99.0],[482.0,482.0],[173.0,173.0],[157.0,157.0],[38.0,38.0],[117.0,117.0],[147.0,147.0],[2343.0,2343.0],[42.0,42.0],[54.0,54.0],[311.0,311.0],[126.0,126.0],[63.0,63.0],[437.0,437.0],[304.0,304.0],[393.0,393.0],[170.0,170.0],[32.0,32.0],[350.0,350.0],[471.0,471.0],[83.0,83.0],[383.0,383.0],[220.0,220.0],[1.0,1.0],[9.0,9.0],[10.0,10.0],[1029.0,1029.0],[451.0,451.0],[1287.0,1287.0],[229.0,229.0],[313.0,313.0],[215.0,215.0],[28.0,28.0],[323.0,323.0],[403.0,403.0],[70.0,70.0],[777.0,777.0],[604.0,604.0],[395.0,395.0],[16.0,16.0],[1159.0,1159.0],[1201.0,1201.0],[326.0,326.0],[3908.0,3908.0],[110.0,110.0],[79.0,79.0],[69.0,69.0],[38.0,38.0],[254.0,254.0],[73.0,73.0],[2714.0,2714.0],[89.0,89.0],[491.0,491.0],[303.0,303.0],[250.0,250.0],[1.0,1.0],[692.0,692.0],[7.0,7.0],[18.0,18.0],[93.0,93.0],[7.0,7.0],[24.0,24.0],[924.0,924.0],[2459.0,2459.0],[618.0,618.0],[161.0,161.0],[23.0,23.0],[222.0,222.0],[1.0,1.0],[57.0,57.0],[1248.0,1248.0],[27.0,27.0],[78.0,78.0],[720.0,720.0],[1260.0,1260.0],[5.0,5.0],[12.0,12.0],[334.0,334.0],[1349.0,1349.0],[15.0,15.0],[497.0,497.0],[1963.0,1963.0],[87.0,87.0],[98.0,98.0],[61.0,61.0],[270.0,270.0],[1.0,1.0],[378.0,378.0],[59.0,59.0],[22.0,22.0],[141.0,141.0],[994.0,994.0],[150.0,150.0],[388.0,388.0],[3328.0,3328.0],[39.0,39.0],[13.0,13.0],[82.0,82.0],[2337.0,2337.0],[461.0,461.0],[156.0,156.0],[297.0,297.0],[1.0,1.0],[2239.0,2239.0],[7.0,7.0],[512.0,512.0],[196.0,196.0],[153.0,153.0],[5.0,5.0],[1763.0,1763.0],[59.0,59.0],[1670.0,1670.0],[3683.0,3683.0],[143.0,143.0],[8.0,8.0],[198.0,198.0],[101.0,101.0],[11.0,11.0],[30.0,30.0],[420.0,420.0],[128.0,128.0],[23.0,23.0],[117.0,117.0],[177.0,177.0],[3.0,3.0],[8.0,8.0],[295.0,295.0],[2521.0,2521.0],[1303.0,1303.0],[62.0,62.0],[134.0,134.0],[250.0,250.0],[178.0,178.0],[53.0,53.0],[3.0,3.0],[16.0,16.0],[84.0,84.0],[368.0,368.0],[10.0,10.0],[1797.0,1797.0],[46.0,46.0],[43.0,43.0],[64.0,64.0],[9.0,9.0],[11.0,11.0],[1238.0,1238.0],[24.0,24.0],[829.0,829.0],[387.0,387.0],[15.0,15.0],[2.0,2.0],[585.0,585.0],[51.0,51.0],[2391.0,2391.0],[1416.0,1416.0],[1856.0,1856.0],[1714.0,1714.0],[1769.0,1769.0],[368.0,368.0],[2722.0,2722.0],[3221.0,3221.0],[2388.0,2388.0],[574.0,574.0],[448.0,448.0],[515.0,515.0],[1968.0,1968.0],[610.0,610.0],[258.0,258.0],[191.0,191.0],[1574.0,1574.0],[2805.0,2805.0],[400.0,400.0],[2091.0,2091.0],[61.0,61.0],[508.0,508.0],[278.0,278.0],[582.0,582.0],[964.0,964.0],[615.0,615.0],[20.0,20.0],[1989.0,1989.0],[634.0,634.0],[1711.0,1711.0],[1587.0,1587.0],[1165.0,1165.0],[3192.0,3192.0],[198.0,198.0],[1580.0,1580.0],[1001.0,1001.0],[809.0,809.0],[9.0,9.0],[37.0,37.0],[2657.0,2657.0],[1893.0,1893.0],[1272.0,1272.0],[1335.0,1335.0],[33.0,33.0],[1951.0,1951.0],[1400.0,1400.0],[1902.0,1902.0],[1840.0,1840.0],[4317.0,4317.0],[1535.0,1535.0],[2391.0,2391.0],[1825.0,1825.0],[869.0,869.0],[1327.0,1327.0],[42.0,42.0],[11.0,11.0],[1.0,1.0],[864.0,864.0],[130.0,130.0],[1507.0,1507.0],[630.0,630.0],[1332.0,1332.0],[54.0,54.0],[643.0,643.0],[1782.0,1782.0],[1511.0,1511.0],[2182.0,2182.0],[1784.0,1784.0],[1.0,1.0],[131.0,131.0],[30.0,30.0],[2518.0,2518.0],[53.0,53.0],[1069.0,1069.0],[1.0,1.0],[163.0,163.0],[258.0,258.0],[4.0,4.0],[1.0,1.0],[480.0,480.0],[1.0,1.0],[1464.0,1464.0],[2142.0,2142.0],[9.0,9.0],[596.0,596.0],[17.0,17.0],[2296.0,2296.0],[1807.0,1807.0],[1830.238812349982,1830.238812349982],[2177.8375694088923,2177.8375694088923],[3063.986636576317,3063.986636576317],[4102.851359436283,4102.851359436283],[3073.647949079747,3073.647949079747]],\"domain\":{\"x\":[0.0,1.0],\"y\":[0.0,1.0]},\"hovertemplate\":\"labels=%{label}<br>DIAGNOSIS_sum=%{value}<br>parent=%{parent}<br>id=%{id}<br>DIAGNOSIS=%{color}<extra></extra>\",\"ids\":[\"CATEGORY2/II/00005617\",\"CATEGORY2/II/00005883\",\"CATEGORY2/II/00005945\",\"CATEGORY2/III/00005946\",\"CATEGORY2/II/00005947\",\"CATEGORY2/III/00005948\",\"CATEGORY2/III/00005987\",\"CATEGORY2/III/00006206\",\"CATEGORY2/III/00006207\",\"CATEGORY2/III/00006208\",\"CATEGORY2/III/00006209\",\"CATEGORY2/III/00006210\",\"CATEGORY2/III/00006211\",\"CATEGORY2/III/00006212\",\"CATEGORY2/III/00006213\",\"CATEGORY2/III/00006214\",\"CATEGORY2/III/00006215\",\"CATEGORY2/III/00006216\",\"CATEGORY2/III/00006217\",\"CATEGORY2/II/00007632\",\"CATEGORY2/III/00007633\",\"CATEGORY2/III/00007634\",\"CATEGORY2/III/00007733\",\"CATEGORY2/III/00007734\",\"CATEGORY2/0/00008215\",\"CATEGORY2/I/00008251\",\"CATEGORY2/II/00008258\",\"CATEGORY2/II/00008271\",\"CATEGORY2/II/00008281\",\"CATEGORY2/0/00008282\",\"CATEGORY2/I/00008289\",\"CATEGORY2/II/00008317\",\"CATEGORY2/II/00008318\",\"CATEGORY2/II/00008325\",\"CATEGORY2/II/00008351\",\"CATEGORY2/II/00008353\",\"CATEGORY2/I/00008370\",\"CATEGORY2/I/00008378\",\"CATEGORY2/II/00008388\",\"CATEGORY2/I/00008389\",\"CATEGORY2/II/00008398\",\"CATEGORY2/I/00008438\",\"CATEGORY2/II/00008489\",\"CATEGORY2/II/00008502\",\"CATEGORY2/II/00008519\",\"CATEGORY2/I/00008539\",\"CATEGORY2/II/00008564\",\"CATEGORY2/II/00008671\",\"CATEGORY2/I/00008711\",\"CATEGORY2/III/00008720\",\"CATEGORY2/II/00008741\",\"CATEGORY2/II/00008746\",\"CATEGORY2/II/00008786\",\"CATEGORY2/I/00008880\",\"CATEGORY2/I/00008881\",\"CATEGORY2/III/00008956\",\"CATEGORY2/II/00009010\",\"CATEGORY2/II/00009089\",\"CATEGORY2/II/00009090\",\"CATEGORY2/0/00009093\",\"CATEGORY2/II/00009104\",\"CATEGORY2/III/00009116\",\"CATEGORY2/II/00009123\",\"CATEGORY2/II/00009144\",\"CATEGORY2/II/00009145\",\"CATEGORY2/I/00009148\",\"CATEGORY2/II/00009153\",\"CATEGORY2/0/00009183\",\"CATEGORY2/II/00009188\",\"CATEGORY2/III/00009251\",\"CATEGORY2/I/00009274\",\"CATEGORY2/II/00009288\",\"CATEGORY2/I/00009298\",\"CATEGORY2/I/00009379\",\"CATEGORY2/III/00009409\",\"CATEGORY2/II/00009431\",\"CATEGORY2/II/00009437\",\"CATEGORY2/II/00009478\",\"CATEGORY2/II/00009483\",\"CATEGORY2/II/00009505\",\"CATEGORY2/I/00009562\",\"CATEGORY2/0/00009593\",\"CATEGORY2/II/00009620\",\"CATEGORY2/II/00009641\",\"CATEGORY2/II/00009682\",\"CATEGORY2/II/00009850\",\"CATEGORY2/I/00009867\",\"CATEGORY2/III/00009886\",\"CATEGORY2/II/00009888\",\"CATEGORY2/I/00009979\",\"CATEGORY2/II/00009982\",\"CATEGORY2/II/00009988\",\"CATEGORY2/II/00009989\",\"CATEGORY2/II/00010098\",\"CATEGORY2/II/00010135\",\"CATEGORY2/II/00010182\",\"CATEGORY2/0/00010214\",\"CATEGORY2/I/00010229\",\"CATEGORY2/II/00010251\",\"CATEGORY2/I/00010385\",\"CATEGORY2/0/00010401\",\"CATEGORY2/II/00010401\",\"CATEGORY2/II/00010402\",\"CATEGORY2/II/00010434\",\"CATEGORY2/I/00010439\",\"CATEGORY2/I/00010464\",\"CATEGORY2/II/00010467\",\"CATEGORY2/0/00010498\",\"CATEGORY2/II/00010515\",\"CATEGORY2/II/00010603\",\"CATEGORY2/II/00010669\",\"CATEGORY2/II/00010739\",\"CATEGORY2/II/00010743\",\"CATEGORY2/III/00010751\",\"CATEGORY2/II/00010776\",\"CATEGORY2/II/00010827\",\"CATEGORY2/II/00010831\",\"CATEGORY2/II/00011056\",\"CATEGORY2/II/00011087\",\"CATEGORY2/II/00011110\",\"CATEGORY2/II/00011113\",\"CATEGORY2/II/00011167\",\"CATEGORY2/0/00011177\",\"CATEGORY2/I/00011187\",\"CATEGORY2/0/00011227\",\"CATEGORY2/II/00011241\",\"CATEGORY2/II/00011346\",\"CATEGORY2/II/00011358\",\"CATEGORY2/II/00011372\",\"CATEGORY2/II/00011401\",\"CATEGORY2/II/00011547\",\"CATEGORY2/II/00011741\",\"CATEGORY2/II/00011750\",\"CATEGORY2/II/00011803\",\"CATEGORY2/II/00011849\",\"CATEGORY2/I/00011850\",\"CATEGORY2/I/00011876\",\"CATEGORY2/II/00011950\",\"CATEGORY2/0/00011958\",\"CATEGORY2/II/00012020\",\"CATEGORY2/II/00012106\",\"CATEGORY2/II/00012206\",\"CATEGORY2/II/00012219\",\"CATEGORY2/II/00012220\",\"CATEGORY2/II/00012263\",\"CATEGORY2/II/00012267\",\"CATEGORY2/0/00012275\",\"CATEGORY2/I/00012275\",\"CATEGORY2/0/00012366\",\"CATEGORY2/II/00012492\",\"CATEGORY2/II/00012572\",\"CATEGORY2/II/00012633\",\"CATEGORY2/I/00012664\",\"CATEGORY2/II/00012666\",\"CATEGORY2/0/00012739\",\"CATEGORY2/I/00012740\",\"CATEGORY2/0/00012741\",\"CATEGORY2/I/00012822\",\"CATEGORY2/I/00012885\",\"CATEGORY2/0/00012923\",\"CATEGORY2/II/00012947\",\"CATEGORY2/II/00012975\",\"CATEGORY2/I/00013012\",\"CATEGORY2/II/00013044\",\"CATEGORY2/II/00013064\",\"CATEGORY2/I/00013091\",\"CATEGORY2/I/00013215\",\"CATEGORY2/II/00013383\",\"CATEGORY2/II/00013586\",\"CATEGORY2/III/00013591\",\"CATEGORY2/0/00013687\",\"CATEGORY2/0/00013834\",\"CATEGORY2/II/00013900\",\"CATEGORY2/II/00013952\",\"CATEGORY2/II/00014181\",\"CATEGORY2/II/00014361\",\"CATEGORY2/II/00014501\",\"CATEGORY2/II/00014509\",\"CATEGORY2/II/00014718\",\"CATEGORY2/0/00014889\",\"CATEGORY2/I/00014889\",\"CATEGORY2/II/00015077\",\"CATEGORY2/II/00015078\",\"CATEGORY2/II/00015118\",\"CATEGORY2/II/00015143\",\"CATEGORY2/II/00015179\",\"CATEGORY2/II/00015182\",\"CATEGORY2/II/00015349\",\"CATEGORY2/II/00015461\",\"CATEGORY2/0/00015471\",\"CATEGORY2/II/00015610\",\"CATEGORY2/II/00015684\",\"CATEGORY2/II/00015716\",\"CATEGORY2/II/00015718\",\"CATEGORY2/II/00015904\",\"CATEGORY2/II/00015927\",\"CATEGORY2/II/00015934\",\"CATEGORY2/II/00016005\",\"CATEGORY2/0/00016094\",\"CATEGORY2/II/00016094\",\"CATEGORY2/II/00016113\",\"CATEGORY2/II/00016121\",\"CATEGORY2/II/00016291\",\"CATEGORY2/II/00016353\",\"CATEGORY2/I/00016357\",\"CATEGORY2/II/00016397\",\"CATEGORY2/0/00016488\",\"CATEGORY2/II/00016794\",\"CATEGORY2/III/00016918\",\"CATEGORY2/I/00016948\",\"CATEGORY2/II/00016951\",\"CATEGORY2/III/00017024\",\"CATEGORY2/II/00017099\",\"CATEGORY2/II/00017173\",\"CATEGORY2/II/00017385\",\"CATEGORY2/I/00017391\",\"CATEGORY2/II/00017392\",\"CATEGORY2/I/00017468\",\"CATEGORY2/I/00017519\",\"CATEGORY2/I/00017540\",\"CATEGORY2/II/00017634\",\"CATEGORY2/II/00017676\",\"CATEGORY2/I/00017695\",\"CATEGORY2/II/00017703\",\"CATEGORY2/I/00017726\",\"CATEGORY2/II/00017772\",\"CATEGORY2/I/00017820\",\"CATEGORY2/II/00017823\",\"CATEGORY2/II/00017824\",\"CATEGORY2/II/00017847\",\"CATEGORY2/I/00017909\",\"CATEGORY2/I/00017978\",\"CATEGORY2/III/00018011\",\"CATEGORY2/I/00018171\",\"CATEGORY2/II/00018307\",\"CATEGORY2/II/00018580\",\"CATEGORY2/II/00018581\",\"CATEGORY2/II/00018584\",\"CATEGORY2/II/00018626\",\"CATEGORY2/I/00018660\",\"CATEGORY2/II/00018667\",\"CATEGORY2/0/00018825\",\"CATEGORY2/I/00018825\",\"CATEGORY2/0/00018921\",\"CATEGORY2/II/00018985\",\"CATEGORY2/III/00019049\",\"CATEGORY2/0/00019390\",\"CATEGORY2/0/00019610\",\"CATEGORY2/II/00019671\",\"CATEGORY2/II/00019748\",\"CATEGORY2/0/00019787\",\"CATEGORY2/II/00019787\",\"CATEGORY2/II/00019839\",\"CATEGORY2/II/00020230\",\"CATEGORY2/II/00020346\",\"CATEGORY2/I/00020382\",\"CATEGORY2/II/00020674\",\"CATEGORY2/0/00020682\",\"CATEGORY2/II/00020715\",\"CATEGORY2/II/00020976\",\"CATEGORY2/II/00021096\",\"CATEGORY2/0/00021289\",\"CATEGORY2/0/00022016\",\"CATEGORY2/II/00022113\",\"CATEGORY2/II/00023022\",\"CATEGORY2/II/00023151\",\"CATEGORY2/II/00023159\",\"CATEGORY2/I/00023288\",\"CATEGORY2/I/00023509\",\"CATEGORY2/II/00023741\",\"CATEGORY2/II/00023833\",\"CATEGORY2/II/00023852\",\"CATEGORY2/I/00023853\",\"CATEGORY2/II/00023899\",\"CATEGORY2/0/00023901\",\"CATEGORY2/II/00023918\",\"CATEGORY2/0/00024049\",\"CATEGORY2/I/00024132\",\"CATEGORY2/II/00024178\",\"CATEGORY2/I/00024299\",\"CATEGORY2/II/00024304\",\"CATEGORY2/II/00024727\",\"CATEGORY2/0/00024750\",\"CATEGORY2/0/00024872\",\"CATEGORY2/II/00024924\",\"CATEGORY2/0/00025076\",\"CATEGORY2/II/00025573\",\"CATEGORY2/I/00025575\",\"CATEGORY2/II/00025598\",\"CATEGORY2/II/00025804\",\"CATEGORY2/II/00025930\",\"CATEGORY2/I/00026009\",\"CATEGORY2/II/00026473\",\"CATEGORY2/I/00026642\",\"CATEGORY2/0/00026777\",\"CATEGORY2/II/00026793\",\"CATEGORY2/II/00026936\",\"CATEGORY2/I/00027216\",\"CATEGORY2/II/00027320\",\"CATEGORY2/III/00027929\",\"CATEGORY2/II/00028189\",\"CATEGORY2/II/00028244\",\"CATEGORY2/I/00028466\",\"CATEGORY2/II/00030606\",\"CATEGORY2/II/10098\",\"CATEGORY2/II/10135\",\"CATEGORY2/II/10182\",\"CATEGORY2/I/10229\",\"CATEGORY2/II/10251\",\"CATEGORY2/I/10385\",\"CATEGORY2/0/10401\",\"CATEGORY2/II/10402\",\"CATEGORY2/II/10434\",\"CATEGORY2/I/10439\",\"CATEGORY2/I/10464\",\"CATEGORY2/II/10467\",\"CATEGORY2/0/10498\",\"CATEGORY2/II/10603\",\"CATEGORY2/II/10669\",\"CATEGORY2/II/10739\",\"CATEGORY2/II/10743\",\"CATEGORY2/III/10751\",\"CATEGORY2/II/10776\",\"CATEGORY2/II/10827\",\"CATEGORY2/II/10831\",\"CATEGORY2/II/11056\",\"CATEGORY2/II/11087\",\"CATEGORY2/II/11110\",\"CATEGORY2/II/11113\",\"CATEGORY2/II/11167\",\"CATEGORY2/0/11177\",\"CATEGORY2/I/11187\",\"CATEGORY2/0/11227\",\"CATEGORY2/II/11241\",\"CATEGORY2/II/11346\",\"CATEGORY2/II/11358\",\"CATEGORY2/II/11372\",\"CATEGORY2/II/11401\",\"CATEGORY2/II/11547\",\"CATEGORY2/II/11741\",\"CATEGORY2/II/11750\",\"CATEGORY2/II/11803\",\"CATEGORY2/II/11849\",\"CATEGORY2/I/11850\",\"CATEGORY2/I/11876\",\"CATEGORY2/II/11950\",\"CATEGORY2/II/12020\",\"CATEGORY2/II/12106\",\"CATEGORY2/II/12206\",\"CATEGORY2/II/12219\",\"CATEGORY2/II/12220\",\"CATEGORY2/II/12267\",\"CATEGORY2/I/12275\",\"CATEGORY2/0/12366\",\"CATEGORY2/II/12492\",\"CATEGORY2/II/12572\",\"CATEGORY2/II/12633\",\"CATEGORY2/I/12664\",\"CATEGORY2/II/12666\",\"CATEGORY2/0/12739\",\"CATEGORY2/I/12740\",\"CATEGORY2/0/12741\",\"CATEGORY2/I/12822\",\"CATEGORY2/I/12885\",\"CATEGORY2/0/12923\",\"CATEGORY2/II/12947\",\"CATEGORY2/II/12975\",\"CATEGORY2/I/13012\",\"CATEGORY2/II/13044\",\"CATEGORY2/II/13064\",\"CATEGORY2/I/13091\",\"CATEGORY2/I/13215\",\"CATEGORY2/II/13383\",\"CATEGORY2/III/13591\",\"CATEGORY2/0/13687\",\"CATEGORY2/0/13834\",\"CATEGORY2/II/13900\",\"CATEGORY2/II/13952\",\"CATEGORY2/II/14181\",\"CATEGORY2/II/14361\",\"CATEGORY2/II/14501\",\"CATEGORY2/II/14509\",\"CATEGORY2/II/14718\",\"CATEGORY2/I/14889\",\"CATEGORY2/II/15077\",\"CATEGORY2/II/15078\",\"CATEGORY2/II/15118\",\"CATEGORY2/II/15143\",\"CATEGORY2/II/15179\",\"CATEGORY2/II/15182\",\"CATEGORY2/II/15349\",\"CATEGORY2/II/15461\",\"CATEGORY2/0/15471\",\"CATEGORY2/II/15610\",\"CATEGORY2/II/15684\",\"CATEGORY2/II/15716\",\"CATEGORY2/II/15718\",\"CATEGORY2/II/15927\",\"CATEGORY2/II/15934\",\"CATEGORY2/II/16005\",\"CATEGORY2/0/16094\",\"CATEGORY2/II/16121\",\"CATEGORY2/II/16291\",\"CATEGORY2/II/16353\",\"CATEGORY2/I/16357\",\"CATEGORY2/II/16397\",\"CATEGORY2/0/16488\",\"CATEGORY2/II/16794\",\"CATEGORY2/III/16918\",\"CATEGORY2/I/16948\",\"CATEGORY2/II/16951\",\"CATEGORY2/III/17024\",\"CATEGORY2/II/17099\",\"CATEGORY2/II/17173\",\"CATEGORY2/II/17385\",\"CATEGORY2/I/17391\",\"CATEGORY2/II/17392\",\"CATEGORY2/I/17519\",\"CATEGORY2/I/17540\",\"CATEGORY2/II/17634\",\"CATEGORY2/II/17676\",\"CATEGORY2/I/17695\",\"CATEGORY2/II/17703\",\"CATEGORY2/I/17726\",\"CATEGORY2/II/17772\",\"CATEGORY2/II/17823\",\"CATEGORY2/II/17824\",\"CATEGORY2/II/17847\",\"CATEGORY2/I/17909\",\"CATEGORY2/I/17978\",\"CATEGORY2/III/18011\",\"CATEGORY2/I/18171\",\"CATEGORY2/II/18307\",\"CATEGORY2/II/18580\",\"CATEGORY2/II/18581\",\"CATEGORY2/II/18584\",\"CATEGORY2/II/18626\",\"CATEGORY2/I/18660\",\"CATEGORY2/II/18667\",\"CATEGORY2/I/18825\",\"CATEGORY2/0/18921\",\"CATEGORY2/II/18985\",\"CATEGORY2/III/19049\",\"CATEGORY2/0/19390\",\"CATEGORY2/II/19671\",\"CATEGORY2/II/19748\",\"CATEGORY2/II/19839\",\"CATEGORY2/II/20230\",\"CATEGORY2/II/20346\",\"CATEGORY2/I/20382\",\"CATEGORY2/II/20976\",\"CATEGORY2/II/21096\",\"CATEGORY2/0/21289\",\"CATEGORY2/0/22016\",\"CATEGORY2/II/22113\",\"CATEGORY2/II/23022\",\"CATEGORY2/II/23151\",\"CATEGORY2/II/23159\",\"CATEGORY2/I/23288\",\"CATEGORY2/I/23509\",\"CATEGORY2/II/23741\",\"CATEGORY2/II/23833\",\"CATEGORY2/II/23852\",\"CATEGORY2/II/23899\",\"CATEGORY2/0/23901\",\"CATEGORY2/II/23918\",\"CATEGORY2/0/24049\",\"CATEGORY2/I/24132\",\"CATEGORY2/II/24178\",\"CATEGORY2/I/24299\",\"CATEGORY2/II/24304\",\"CATEGORY2/II/24727\",\"CATEGORY2/0/24750\",\"CATEGORY2/0/24872\",\"CATEGORY2/II/24924\",\"CATEGORY2/I/25575\",\"CATEGORY2/II/25930\",\"CATEGORY2/I/26009\",\"CATEGORY2/I/26642\",\"CATEGORY2/0/26777\",\"CATEGORY2/II/26793\",\"CATEGORY2/II/26936\",\"CATEGORY2/I/27216\",\"CATEGORY2/II/5617\",\"CATEGORY2/II/5883\",\"CATEGORY2/II/5945\",\"CATEGORY2/III/5946\",\"CATEGORY2/II/5947\",\"CATEGORY2/III/5948\",\"CATEGORY2/III/5987\",\"CATEGORY2/III/6206\",\"CATEGORY2/III/6207\",\"CATEGORY2/III/6208\",\"CATEGORY2/III/6209\",\"CATEGORY2/III/6210\",\"CATEGORY2/III/6211\",\"CATEGORY2/III/6212\",\"CATEGORY2/III/6213\",\"CATEGORY2/III/6214\",\"CATEGORY2/III/6215\",\"CATEGORY2/III/6216\",\"CATEGORY2/III/6217\",\"CATEGORY2/II/7632\",\"CATEGORY2/III/7633\",\"CATEGORY2/III/7634\",\"CATEGORY2/III/7733\",\"CATEGORY2/III/7734\",\"CATEGORY2/0/8215\",\"CATEGORY2/I/8251\",\"CATEGORY2/II/8258\",\"CATEGORY2/II/8271\",\"CATEGORY2/II/8281\",\"CATEGORY2/I/8289\",\"CATEGORY2/II/8317\",\"CATEGORY2/II/8318\",\"CATEGORY2/II/8325\",\"CATEGORY2/II/8351\",\"CATEGORY2/II/8353\",\"CATEGORY2/I/8370\",\"CATEGORY2/I/8378\",\"CATEGORY2/II/8388\",\"CATEGORY2/I/8389\",\"CATEGORY2/II/8398\",\"CATEGORY2/I/8438\",\"CATEGORY2/II/8489\",\"CATEGORY2/II/8502\",\"CATEGORY2/II/8519\",\"CATEGORY2/I/8539\",\"CATEGORY2/II/8564\",\"CATEGORY2/II/8671\",\"CATEGORY2/I/8711\",\"CATEGORY2/III/8720\",\"CATEGORY2/II/8741\",\"CATEGORY2/II/8746\",\"CATEGORY2/II/8786\",\"CATEGORY2/I/8880\",\"CATEGORY2/I/8881\",\"CATEGORY2/III/8956\",\"CATEGORY2/II/9010\",\"CATEGORY2/II/9089\",\"CATEGORY2/II/9090\",\"CATEGORY2/0/9093\",\"CATEGORY2/II/9104\",\"CATEGORY2/III/9116\",\"CATEGORY2/II/9123\",\"CATEGORY2/II/9145\",\"CATEGORY2/I/9148\",\"CATEGORY2/II/9153\",\"CATEGORY2/II/9188\",\"CATEGORY2/III/9251\",\"CATEGORY2/I/9274\",\"CATEGORY2/II/9288\",\"CATEGORY2/I/9298\",\"CATEGORY2/I/9379\",\"CATEGORY2/III/9409\",\"CATEGORY2/II/9431\",\"CATEGORY2/II/9437\",\"CATEGORY2/II/9478\",\"CATEGORY2/II/9483\",\"CATEGORY2/II/9505\",\"CATEGORY2/I/9562\",\"CATEGORY2/II/9620\",\"CATEGORY2/II/9641\",\"CATEGORY2/II/9682\",\"CATEGORY2/II/9850\",\"CATEGORY2/III/9886\",\"CATEGORY2/II/9888\",\"CATEGORY2/I/9979\",\"CATEGORY2/II/9982\",\"CATEGORY2/II/9988\",\"CATEGORY2/II/9989\",\"CATEGORY2/0\",\"CATEGORY2/I\",\"CATEGORY2/II\",\"CATEGORY2/III\",\"CATEGORY2\"],\"labels\":[\"00005617\",\"00005883\",\"00005945\",\"00005946\",\"00005947\",\"00005948\",\"00005987\",\"00006206\",\"00006207\",\"00006208\",\"00006209\",\"00006210\",\"00006211\",\"00006212\",\"00006213\",\"00006214\",\"00006215\",\"00006216\",\"00006217\",\"00007632\",\"00007633\",\"00007634\",\"00007733\",\"00007734\",\"00008215\",\"00008251\",\"00008258\",\"00008271\",\"00008281\",\"00008282\",\"00008289\",\"00008317\",\"00008318\",\"00008325\",\"00008351\",\"00008353\",\"00008370\",\"00008378\",\"00008388\",\"00008389\",\"00008398\",\"00008438\",\"00008489\",\"00008502\",\"00008519\",\"00008539\",\"00008564\",\"00008671\",\"00008711\",\"00008720\",\"00008741\",\"00008746\",\"00008786\",\"00008880\",\"00008881\",\"00008956\",\"00009010\",\"00009089\",\"00009090\",\"00009093\",\"00009104\",\"00009116\",\"00009123\",\"00009144\",\"00009145\",\"00009148\",\"00009153\",\"00009183\",\"00009188\",\"00009251\",\"00009274\",\"00009288\",\"00009298\",\"00009379\",\"00009409\",\"00009431\",\"00009437\",\"00009478\",\"00009483\",\"00009505\",\"00009562\",\"00009593\",\"00009620\",\"00009641\",\"00009682\",\"00009850\",\"00009867\",\"00009886\",\"00009888\",\"00009979\",\"00009982\",\"00009988\",\"00009989\",\"00010098\",\"00010135\",\"00010182\",\"00010214\",\"00010229\",\"00010251\",\"00010385\",\"00010401\",\"00010401\",\"00010402\",\"00010434\",\"00010439\",\"00010464\",\"00010467\",\"00010498\",\"00010515\",\"00010603\",\"00010669\",\"00010739\",\"00010743\",\"00010751\",\"00010776\",\"00010827\",\"00010831\",\"00011056\",\"00011087\",\"00011110\",\"00011113\",\"00011167\",\"00011177\",\"00011187\",\"00011227\",\"00011241\",\"00011346\",\"00011358\",\"00011372\",\"00011401\",\"00011547\",\"00011741\",\"00011750\",\"00011803\",\"00011849\",\"00011850\",\"00011876\",\"00011950\",\"00011958\",\"00012020\",\"00012106\",\"00012206\",\"00012219\",\"00012220\",\"00012263\",\"00012267\",\"00012275\",\"00012275\",\"00012366\",\"00012492\",\"00012572\",\"00012633\",\"00012664\",\"00012666\",\"00012739\",\"00012740\",\"00012741\",\"00012822\",\"00012885\",\"00012923\",\"00012947\",\"00012975\",\"00013012\",\"00013044\",\"00013064\",\"00013091\",\"00013215\",\"00013383\",\"00013586\",\"00013591\",\"00013687\",\"00013834\",\"00013900\",\"00013952\",\"00014181\",\"00014361\",\"00014501\",\"00014509\",\"00014718\",\"00014889\",\"00014889\",\"00015077\",\"00015078\",\"00015118\",\"00015143\",\"00015179\",\"00015182\",\"00015349\",\"00015461\",\"00015471\",\"00015610\",\"00015684\",\"00015716\",\"00015718\",\"00015904\",\"00015927\",\"00015934\",\"00016005\",\"00016094\",\"00016094\",\"00016113\",\"00016121\",\"00016291\",\"00016353\",\"00016357\",\"00016397\",\"00016488\",\"00016794\",\"00016918\",\"00016948\",\"00016951\",\"00017024\",\"00017099\",\"00017173\",\"00017385\",\"00017391\",\"00017392\",\"00017468\",\"00017519\",\"00017540\",\"00017634\",\"00017676\",\"00017695\",\"00017703\",\"00017726\",\"00017772\",\"00017820\",\"00017823\",\"00017824\",\"00017847\",\"00017909\",\"00017978\",\"00018011\",\"00018171\",\"00018307\",\"00018580\",\"00018581\",\"00018584\",\"00018626\",\"00018660\",\"00018667\",\"00018825\",\"00018825\",\"00018921\",\"00018985\",\"00019049\",\"00019390\",\"00019610\",\"00019671\",\"00019748\",\"00019787\",\"00019787\",\"00019839\",\"00020230\",\"00020346\",\"00020382\",\"00020674\",\"00020682\",\"00020715\",\"00020976\",\"00021096\",\"00021289\",\"00022016\",\"00022113\",\"00023022\",\"00023151\",\"00023159\",\"00023288\",\"00023509\",\"00023741\",\"00023833\",\"00023852\",\"00023853\",\"00023899\",\"00023901\",\"00023918\",\"00024049\",\"00024132\",\"00024178\",\"00024299\",\"00024304\",\"00024727\",\"00024750\",\"00024872\",\"00024924\",\"00025076\",\"00025573\",\"00025575\",\"00025598\",\"00025804\",\"00025930\",\"00026009\",\"00026473\",\"00026642\",\"00026777\",\"00026793\",\"00026936\",\"00027216\",\"00027320\",\"00027929\",\"00028189\",\"00028244\",\"00028466\",\"00030606\",\"10098\",\"10135\",\"10182\",\"10229\",\"10251\",\"10385\",\"10401\",\"10402\",\"10434\",\"10439\",\"10464\",\"10467\",\"10498\",\"10603\",\"10669\",\"10739\",\"10743\",\"10751\",\"10776\",\"10827\",\"10831\",\"11056\",\"11087\",\"11110\",\"11113\",\"11167\",\"11177\",\"11187\",\"11227\",\"11241\",\"11346\",\"11358\",\"11372\",\"11401\",\"11547\",\"11741\",\"11750\",\"11803\",\"11849\",\"11850\",\"11876\",\"11950\",\"12020\",\"12106\",\"12206\",\"12219\",\"12220\",\"12267\",\"12275\",\"12366\",\"12492\",\"12572\",\"12633\",\"12664\",\"12666\",\"12739\",\"12740\",\"12741\",\"12822\",\"12885\",\"12923\",\"12947\",\"12975\",\"13012\",\"13044\",\"13064\",\"13091\",\"13215\",\"13383\",\"13591\",\"13687\",\"13834\",\"13900\",\"13952\",\"14181\",\"14361\",\"14501\",\"14509\",\"14718\",\"14889\",\"15077\",\"15078\",\"15118\",\"15143\",\"15179\",\"15182\",\"15349\",\"15461\",\"15471\",\"15610\",\"15684\",\"15716\",\"15718\",\"15927\",\"15934\",\"16005\",\"16094\",\"16121\",\"16291\",\"16353\",\"16357\",\"16397\",\"16488\",\"16794\",\"16918\",\"16948\",\"16951\",\"17024\",\"17099\",\"17173\",\"17385\",\"17391\",\"17392\",\"17519\",\"17540\",\"17634\",\"17676\",\"17695\",\"17703\",\"17726\",\"17772\",\"17823\",\"17824\",\"17847\",\"17909\",\"17978\",\"18011\",\"18171\",\"18307\",\"18580\",\"18581\",\"18584\",\"18626\",\"18660\",\"18667\",\"18825\",\"18921\",\"18985\",\"19049\",\"19390\",\"19671\",\"19748\",\"19839\",\"20230\",\"20346\",\"20382\",\"20976\",\"21096\",\"21289\",\"22016\",\"22113\",\"23022\",\"23151\",\"23159\",\"23288\",\"23509\",\"23741\",\"23833\",\"23852\",\"23899\",\"23901\",\"23918\",\"24049\",\"24132\",\"24178\",\"24299\",\"24304\",\"24727\",\"24750\",\"24872\",\"24924\",\"25575\",\"25930\",\"26009\",\"26642\",\"26777\",\"26793\",\"26936\",\"27216\",\"5617\",\"5883\",\"5945\",\"5946\",\"5947\",\"5948\",\"5987\",\"6206\",\"6207\",\"6208\",\"6209\",\"6210\",\"6211\",\"6212\",\"6213\",\"6214\",\"6215\",\"6216\",\"6217\",\"7632\",\"7633\",\"7634\",\"7733\",\"7734\",\"8215\",\"8251\",\"8258\",\"8271\",\"8281\",\"8289\",\"8317\",\"8318\",\"8325\",\"8351\",\"8353\",\"8370\",\"8378\",\"8388\",\"8389\",\"8398\",\"8438\",\"8489\",\"8502\",\"8519\",\"8539\",\"8564\",\"8671\",\"8711\",\"8720\",\"8741\",\"8746\",\"8786\",\"8880\",\"8881\",\"8956\",\"9010\",\"9089\",\"9090\",\"9093\",\"9104\",\"9116\",\"9123\",\"9145\",\"9148\",\"9153\",\"9188\",\"9251\",\"9274\",\"9288\",\"9298\",\"9379\",\"9409\",\"9431\",\"9437\",\"9478\",\"9483\",\"9505\",\"9562\",\"9620\",\"9641\",\"9682\",\"9850\",\"9886\",\"9888\",\"9979\",\"9982\",\"9988\",\"9989\",\"0\",\"I\",\"II\",\"III\",\"CATEGORY2\"],\"marker\":{\"coloraxis\":\"coloraxis\",\"colors\":[1632.0,3602.0,3987.0,4093.0,3596.0,1447.0,6004.0,6240.0,4876.0,1525.0,1286.0,789.0,4331.0,1185.0,720.0,435.0,2842.4753846153844,5008.0,591.0,4553.0,6238.0,930.0,665.0,894.4222488038278,2054.0,1669.0,39.0,5749.0,2029.0,1421.0,3295.0,4097.0,2864.0,5376.0,899.0,3408.0,2351.0,3536.0,25.0,88.14942528735632,4696.0,3736.0,4641.0,4612.0,882.0,3981.0,2905.0,3616.0,3667.0,7490.0,3030.0,4835.0,3726.0,1548.0,2896.0,453.0,43.76543209876543,1.0,2164.0,180.0,3566.0,4560.0,3794.0,611.0,135.0,2161.0,3035.0,1.0,3596.0,6470.0,3312.0,1.0,587.0,63.0,5826.0,184.0,2690.0,254.0,223.0,311.0,31.0,1.0,18.0,1048.665641025641,5365.0,4440.0,1.0,4715.0,22.0,1879.0,26.0,5188.0,3821.0,2100.0,3687.0,5042.0,1.0,107.0,2209.0,1541.0,1.0,3.0,47.0,277.0,2753.0,1836.0,846.0,87.0,23.0,5168.0,1.0,261.0,5146.0,3483.0,215.0,365.0,12.0,156.0,3946.0,15.0,748.0,181.71386430678467,112.0,990.0,382.0,999.0,146.0,174.0,185.02762430939225,4722.0,74.0,160.0,1103.693896713615,533.0,321.0,2748.0,758.0,1211.0,114.0,260.0,67.0,1283.0,1173.0,447.0,6.0,1981.0,473.0,414.0,1.0,90.0,14.0,4050.0,1006.0,3690.0,533.0,612.0,478.0,35.0,837.0,790.0,182.0,3694.0,3059.0,1325.0,37.666666666666664,2858.0,2328.0,870.0,223.0,5530.0,135.0,153.0,161.0,93.0,1118.0,366.0,5451.0,422.0,983.0,663.0,396.0,1051.0,1.0,2309.0,21.0,34.0,219.0,22.0,37.0,2569.0,5528.0,3423.0,263.0,12.0,484.0,322.0,1.0,279.0,2197.0,98.0,39.0,177.0,237.5940170940171,2164.0,2103.0,8.0,70.0,2163.0,3463.0,24.0,1115.0,3958.0,194.0,363.0,120.0,944.0,1.0,553.0,742.0,31.0,138.44,271.0,2773.0,183.0,884.0,5291.0,724.0,120.0,54.0,362.0,4516.0,1216.0,328.0,1760.0,1.0,3913.0,48.0,1992.0,452.0,732.0,9.0,2706.0,2862.0,90.0,4931.0,5773.0,693.0,120.0,12.0,633.0,4050.0,4192.0,266.0,21.0,374.0,882.0,13.0,378.0,113.0,218.0,107.0,195.0,270.0,5.0,26.0,537.0,3787.5097877033363,3011.0,31.0,137.0,388.0,289.0,89.0,137.0,33.0,20.0,101.0,1157.0,32.0,3351.0,271.0,135.0,106.0,21.0,200.0,1951.0,378.0,1388.0,260.0,42.0,50.0,1645.0,1091.0,434.0,1967.0,2.0,1810.0,30.0,180.0,21.0,8.0,494.0,1.0,68.0,659.0,1619.0,2967.0,17.0,788.0,636.0,1.0,9.0,104.0,931.0,437.0,155.0,57.0,2018.0,1.0,153.0,2056.0,1050.0,56.0,58.0,12.0,72.0,1770.0,1.0,166.0,148.0,99.0,482.0,173.0,157.0,38.0,117.0,147.0,2343.0,42.0,54.0,311.0,126.0,63.0,437.0,304.0,393.0,170.0,32.0,350.0,471.0,83.0,383.0,220.0,1.0,9.0,10.0,1029.0,451.0,1287.0,229.0,313.0,215.0,28.0,323.0,403.0,70.0,777.0,604.0,395.0,16.0,1159.0,1201.0,326.0,3908.0,110.0,79.0,69.0,38.0,254.0,73.0,2714.0,89.0,491.0,303.0,250.0,1.0,692.0,7.0,18.0,93.0,7.0,24.0,924.0,2459.0,618.0,161.0,23.0,222.0,1.0,57.0,1248.0,27.0,78.0,720.0,1260.0,5.0,12.0,334.0,1349.0,15.0,497.0,1963.0,87.0,98.0,61.0,270.0,1.0,378.0,59.0,22.0,141.0,994.0,150.0,388.0,3328.0,39.0,13.0,82.0,2337.0,461.0,156.0,297.0,1.0,2239.0,7.0,512.0,196.0,153.0,5.0,1763.0,59.0,1670.0,3683.0,143.0,8.0,198.0,101.0,11.0,30.0,420.0,128.0,23.0,117.0,177.0,3.0,8.0,295.0,2521.0,1303.0,62.0,134.0,250.0,178.0,53.0,3.0,16.0,84.0,368.0,10.0,1797.0,46.0,43.0,64.0,9.0,11.0,1238.0,24.0,829.0,387.0,15.0,2.0,585.0,51.0,2391.0,1416.0,1856.0,1714.0,1769.0,368.0,2722.0,3221.0,2388.0,574.0,448.0,515.0,1968.0,610.0,258.0,191.0,1574.0,2805.0,400.0,2091.0,61.0,508.0,278.0,582.0,964.0,615.0,20.0,1989.0,634.0,1711.0,1587.0,1165.0,3192.0,198.0,1580.0,1001.0,809.0,9.0,37.0,2657.0,1893.0,1272.0,1335.0,33.0,1951.0,1400.0,1902.0,1840.0,4317.0,1535.0,2391.0,1825.0,869.0,1327.0,42.0,11.0,1.0,864.0,130.0,1507.0,630.0,1332.0,54.0,643.0,1782.0,1511.0,2182.0,1784.0,1.0,131.0,30.0,2518.0,53.0,1069.0,1.0,163.0,258.0,4.0,1.0,480.0,1.0,1464.0,2142.0,9.0,596.0,17.0,2296.0,1807.0,1830.238812349982,2177.8375694088923,3063.986636576317,4102.851359436283,3073.647949079747]},\"name\":\"\",\"parents\":[\"CATEGORY2/II\",\"CATEGORY2/II\",\"CATEGORY2/II\",\"CATEGORY2/III\",\"CATEGORY2/II\",\"CATEGORY2/III\",\"CATEGORY2/III\",\"CATEGORY2/III\",\"CATEGORY2/III\",\"CATEGORY2/III\",\"CATEGORY2/III\",\"CATEGORY2/III\",\"CATEGORY2/III\",\"CATEGORY2/III\",\"CATEGORY2/III\",\"CATEGORY2/III\",\"CATEGORY2/III\",\"CATEGORY2/III\",\"CATEGORY2/III\",\"CATEGORY2/II\",\"CATEGORY2/III\",\"CATEGORY2/III\",\"CATEGORY2/III\",\"CATEGORY2/III\",\"CATEGORY2/0\",\"CATEGORY2/I\",\"CATEGORY2/II\",\"CATEGORY2/II\",\"CATEGORY2/II\",\"CATEGORY2/0\",\"CATEGORY2/I\",\"CATEGORY2/II\",\"CATEGORY2/II\",\"CATEGORY2/II\",\"CATEGORY2/II\",\"CATEGORY2/II\",\"CATEGORY2/I\",\"CATEGORY2/I\",\"CATEGORY2/II\",\"CATEGORY2/I\",\"CATEGORY2/II\",\"CATEGORY2/I\",\"CATEGORY2/II\",\"CATEGORY2/II\",\"CATEGORY2/II\",\"CATEGORY2/I\",\"CATEGORY2/II\",\"CATEGORY2/II\",\"CATEGORY2/I\",\"CATEGORY2/III\",\"CATEGORY2/II\",\"CATEGORY2/II\",\"CATEGORY2/II\",\"CATEGORY2/I\",\"CATEGORY2/I\",\"CATEGORY2/III\",\"CATEGORY2/II\",\"CATEGORY2/II\",\"CATEGORY2/II\",\"CATEGORY2/0\",\"CATEGORY2/II\",\"CATEGORY2/III\",\"CATEGORY2/II\",\"CATEGORY2/II\",\"CATEGORY2/II\",\"CATEGORY2/I\",\"CATEGORY2/II\",\"CATEGORY2/0\",\"CATEGORY2/II\",\"CATEGORY2/III\",\"CATEGORY2/I\",\"CATEGORY2/II\",\"CATEGORY2/I\",\"CATEGORY2/I\",\"CATEGORY2/III\",\"CATEGORY2/II\",\"CATEGORY2/II\",\"CATEGORY2/II\",\"CATEGORY2/II\",\"CATEGORY2/II\",\"CATEGORY2/I\",\"CATEGORY2/0\",\"CATEGORY2/II\",\"CATEGORY2/II\",\"CATEGORY2/II\",\"CATEGORY2/II\",\"CATEGORY2/I\",\"CATEGORY2/III\",\"CATEGORY2/II\",\"CATEGORY2/I\",\"CATEGORY2/II\",\"CATEGORY2/II\",\"CATEGORY2/II\",\"CATEGORY2/II\",\"CATEGORY2/II\",\"CATEGORY2/II\",\"CATEGORY2/0\",\"CATEGORY2/I\",\"CATEGORY2/II\",\"CATEGORY2/I\",\"CATEGORY2/0\",\"CATEGORY2/II\",\"CATEGORY2/II\",\"CATEGORY2/II\",\"CATEGORY2/I\",\"CATEGORY2/I\",\"CATEGORY2/II\",\"CATEGORY2/0\",\"CATEGORY2/II\",\"CATEGORY2/II\",\"CATEGORY2/II\",\"CATEGORY2/II\",\"CATEGORY2/II\",\"CATEGORY2/III\",\"CATEGORY2/II\",\"CATEGORY2/II\",\"CATEGORY2/II\",\"CATEGORY2/II\",\"CATEGORY2/II\",\"CATEGORY2/II\",\"CATEGORY2/II\",\"CATEGORY2/II\",\"CATEGORY2/0\",\"CATEGORY2/I\",\"CATEGORY2/0\",\"CATEGORY2/II\",\"CATEGORY2/II\",\"CATEGORY2/II\",\"CATEGORY2/II\",\"CATEGORY2/II\",\"CATEGORY2/II\",\"CATEGORY2/II\",\"CATEGORY2/II\",\"CATEGORY2/II\",\"CATEGORY2/II\",\"CATEGORY2/I\",\"CATEGORY2/I\",\"CATEGORY2/II\",\"CATEGORY2/0\",\"CATEGORY2/II\",\"CATEGORY2/II\",\"CATEGORY2/II\",\"CATEGORY2/II\",\"CATEGORY2/II\",\"CATEGORY2/II\",\"CATEGORY2/II\",\"CATEGORY2/0\",\"CATEGORY2/I\",\"CATEGORY2/0\",\"CATEGORY2/II\",\"CATEGORY2/II\",\"CATEGORY2/II\",\"CATEGORY2/I\",\"CATEGORY2/II\",\"CATEGORY2/0\",\"CATEGORY2/I\",\"CATEGORY2/0\",\"CATEGORY2/I\",\"CATEGORY2/I\",\"CATEGORY2/0\",\"CATEGORY2/II\",\"CATEGORY2/II\",\"CATEGORY2/I\",\"CATEGORY2/II\",\"CATEGORY2/II\",\"CATEGORY2/I\",\"CATEGORY2/I\",\"CATEGORY2/II\",\"CATEGORY2/II\",\"CATEGORY2/III\",\"CATEGORY2/0\",\"CATEGORY2/0\",\"CATEGORY2/II\",\"CATEGORY2/II\",\"CATEGORY2/II\",\"CATEGORY2/II\",\"CATEGORY2/II\",\"CATEGORY2/II\",\"CATEGORY2/II\",\"CATEGORY2/0\",\"CATEGORY2/I\",\"CATEGORY2/II\",\"CATEGORY2/II\",\"CATEGORY2/II\",\"CATEGORY2/II\",\"CATEGORY2/II\",\"CATEGORY2/II\",\"CATEGORY2/II\",\"CATEGORY2/II\",\"CATEGORY2/0\",\"CATEGORY2/II\",\"CATEGORY2/II\",\"CATEGORY2/II\",\"CATEGORY2/II\",\"CATEGORY2/II\",\"CATEGORY2/II\",\"CATEGORY2/II\",\"CATEGORY2/II\",\"CATEGORY2/0\",\"CATEGORY2/II\",\"CATEGORY2/II\",\"CATEGORY2/II\",\"CATEGORY2/II\",\"CATEGORY2/II\",\"CATEGORY2/I\",\"CATEGORY2/II\",\"CATEGORY2/0\",\"CATEGORY2/II\",\"CATEGORY2/III\",\"CATEGORY2/I\",\"CATEGORY2/II\",\"CATEGORY2/III\",\"CATEGORY2/II\",\"CATEGORY2/II\",\"CATEGORY2/II\",\"CATEGORY2/I\",\"CATEGORY2/II\",\"CATEGORY2/I\",\"CATEGORY2/I\",\"CATEGORY2/I\",\"CATEGORY2/II\",\"CATEGORY2/II\",\"CATEGORY2/I\",\"CATEGORY2/II\",\"CATEGORY2/I\",\"CATEGORY2/II\",\"CATEGORY2/I\",\"CATEGORY2/II\",\"CATEGORY2/II\",\"CATEGORY2/II\",\"CATEGORY2/I\",\"CATEGORY2/I\",\"CATEGORY2/III\",\"CATEGORY2/I\",\"CATEGORY2/II\",\"CATEGORY2/II\",\"CATEGORY2/II\",\"CATEGORY2/II\",\"CATEGORY2/II\",\"CATEGORY2/I\",\"CATEGORY2/II\",\"CATEGORY2/0\",\"CATEGORY2/I\",\"CATEGORY2/0\",\"CATEGORY2/II\",\"CATEGORY2/III\",\"CATEGORY2/0\",\"CATEGORY2/0\",\"CATEGORY2/II\",\"CATEGORY2/II\",\"CATEGORY2/0\",\"CATEGORY2/II\",\"CATEGORY2/II\",\"CATEGORY2/II\",\"CATEGORY2/II\",\"CATEGORY2/I\",\"CATEGORY2/II\",\"CATEGORY2/0\",\"CATEGORY2/II\",\"CATEGORY2/II\",\"CATEGORY2/II\",\"CATEGORY2/0\",\"CATEGORY2/0\",\"CATEGORY2/II\",\"CATEGORY2/II\",\"CATEGORY2/II\",\"CATEGORY2/II\",\"CATEGORY2/I\",\"CATEGORY2/I\",\"CATEGORY2/II\",\"CATEGORY2/II\",\"CATEGORY2/II\",\"CATEGORY2/I\",\"CATEGORY2/II\",\"CATEGORY2/0\",\"CATEGORY2/II\",\"CATEGORY2/0\",\"CATEGORY2/I\",\"CATEGORY2/II\",\"CATEGORY2/I\",\"CATEGORY2/II\",\"CATEGORY2/II\",\"CATEGORY2/0\",\"CATEGORY2/0\",\"CATEGORY2/II\",\"CATEGORY2/0\",\"CATEGORY2/II\",\"CATEGORY2/I\",\"CATEGORY2/II\",\"CATEGORY2/II\",\"CATEGORY2/II\",\"CATEGORY2/I\",\"CATEGORY2/II\",\"CATEGORY2/I\",\"CATEGORY2/0\",\"CATEGORY2/II\",\"CATEGORY2/II\",\"CATEGORY2/I\",\"CATEGORY2/II\",\"CATEGORY2/III\",\"CATEGORY2/II\",\"CATEGORY2/II\",\"CATEGORY2/I\",\"CATEGORY2/II\",\"CATEGORY2/II\",\"CATEGORY2/II\",\"CATEGORY2/II\",\"CATEGORY2/I\",\"CATEGORY2/II\",\"CATEGORY2/I\",\"CATEGORY2/0\",\"CATEGORY2/II\",\"CATEGORY2/II\",\"CATEGORY2/I\",\"CATEGORY2/I\",\"CATEGORY2/II\",\"CATEGORY2/0\",\"CATEGORY2/II\",\"CATEGORY2/II\",\"CATEGORY2/II\",\"CATEGORY2/II\",\"CATEGORY2/III\",\"CATEGORY2/II\",\"CATEGORY2/II\",\"CATEGORY2/II\",\"CATEGORY2/II\",\"CATEGORY2/II\",\"CATEGORY2/II\",\"CATEGORY2/II\",\"CATEGORY2/II\",\"CATEGORY2/0\",\"CATEGORY2/I\",\"CATEGORY2/0\",\"CATEGORY2/II\",\"CATEGORY2/II\",\"CATEGORY2/II\",\"CATEGORY2/II\",\"CATEGORY2/II\",\"CATEGORY2/II\",\"CATEGORY2/II\",\"CATEGORY2/II\",\"CATEGORY2/II\",\"CATEGORY2/II\",\"CATEGORY2/I\",\"CATEGORY2/I\",\"CATEGORY2/II\",\"CATEGORY2/II\",\"CATEGORY2/II\",\"CATEGORY2/II\",\"CATEGORY2/II\",\"CATEGORY2/II\",\"CATEGORY2/II\",\"CATEGORY2/I\",\"CATEGORY2/0\",\"CATEGORY2/II\",\"CATEGORY2/II\",\"CATEGORY2/II\",\"CATEGORY2/I\",\"CATEGORY2/II\",\"CATEGORY2/0\",\"CATEGORY2/I\",\"CATEGORY2/0\",\"CATEGORY2/I\",\"CATEGORY2/I\",\"CATEGORY2/0\",\"CATEGORY2/II\",\"CATEGORY2/II\",\"CATEGORY2/I\",\"CATEGORY2/II\",\"CATEGORY2/II\",\"CATEGORY2/I\",\"CATEGORY2/I\",\"CATEGORY2/II\",\"CATEGORY2/III\",\"CATEGORY2/0\",\"CATEGORY2/0\",\"CATEGORY2/II\",\"CATEGORY2/II\",\"CATEGORY2/II\",\"CATEGORY2/II\",\"CATEGORY2/II\",\"CATEGORY2/II\",\"CATEGORY2/II\",\"CATEGORY2/I\",\"CATEGORY2/II\",\"CATEGORY2/II\",\"CATEGORY2/II\",\"CATEGORY2/II\",\"CATEGORY2/II\",\"CATEGORY2/II\",\"CATEGORY2/II\",\"CATEGORY2/II\",\"CATEGORY2/0\",\"CATEGORY2/II\",\"CATEGORY2/II\",\"CATEGORY2/II\",\"CATEGORY2/II\",\"CATEGORY2/II\",\"CATEGORY2/II\",\"CATEGORY2/II\",\"CATEGORY2/0\",\"CATEGORY2/II\",\"CATEGORY2/II\",\"CATEGORY2/II\",\"CATEGORY2/I\",\"CATEGORY2/II\",\"CATEGORY2/0\",\"CATEGORY2/II\",\"CATEGORY2/III\",\"CATEGORY2/I\",\"CATEGORY2/II\",\"CATEGORY2/III\",\"CATEGORY2/II\",\"CATEGORY2/II\",\"CATEGORY2/II\",\"CATEGORY2/I\",\"CATEGORY2/II\",\"CATEGORY2/I\",\"CATEGORY2/I\",\"CATEGORY2/II\",\"CATEGORY2/II\",\"CATEGORY2/I\",\"CATEGORY2/II\",\"CATEGORY2/I\",\"CATEGORY2/II\",\"CATEGORY2/II\",\"CATEGORY2/II\",\"CATEGORY2/II\",\"CATEGORY2/I\",\"CATEGORY2/I\",\"CATEGORY2/III\",\"CATEGORY2/I\",\"CATEGORY2/II\",\"CATEGORY2/II\",\"CATEGORY2/II\",\"CATEGORY2/II\",\"CATEGORY2/II\",\"CATEGORY2/I\",\"CATEGORY2/II\",\"CATEGORY2/I\",\"CATEGORY2/0\",\"CATEGORY2/II\",\"CATEGORY2/III\",\"CATEGORY2/0\",\"CATEGORY2/II\",\"CATEGORY2/II\",\"CATEGORY2/II\",\"CATEGORY2/II\",\"CATEGORY2/II\",\"CATEGORY2/I\",\"CATEGORY2/II\",\"CATEGORY2/II\",\"CATEGORY2/0\",\"CATEGORY2/0\",\"CATEGORY2/II\",\"CATEGORY2/II\",\"CATEGORY2/II\",\"CATEGORY2/II\",\"CATEGORY2/I\",\"CATEGORY2/I\",\"CATEGORY2/II\",\"CATEGORY2/II\",\"CATEGORY2/II\",\"CATEGORY2/II\",\"CATEGORY2/0\",\"CATEGORY2/II\",\"CATEGORY2/0\",\"CATEGORY2/I\",\"CATEGORY2/II\",\"CATEGORY2/I\",\"CATEGORY2/II\",\"CATEGORY2/II\",\"CATEGORY2/0\",\"CATEGORY2/0\",\"CATEGORY2/II\",\"CATEGORY2/I\",\"CATEGORY2/II\",\"CATEGORY2/I\",\"CATEGORY2/I\",\"CATEGORY2/0\",\"CATEGORY2/II\",\"CATEGORY2/II\",\"CATEGORY2/I\",\"CATEGORY2/II\",\"CATEGORY2/II\",\"CATEGORY2/II\",\"CATEGORY2/III\",\"CATEGORY2/II\",\"CATEGORY2/III\",\"CATEGORY2/III\",\"CATEGORY2/III\",\"CATEGORY2/III\",\"CATEGORY2/III\",\"CATEGORY2/III\",\"CATEGORY2/III\",\"CATEGORY2/III\",\"CATEGORY2/III\",\"CATEGORY2/III\",\"CATEGORY2/III\",\"CATEGORY2/III\",\"CATEGORY2/III\",\"CATEGORY2/III\",\"CATEGORY2/II\",\"CATEGORY2/III\",\"CATEGORY2/III\",\"CATEGORY2/III\",\"CATEGORY2/III\",\"CATEGORY2/0\",\"CATEGORY2/I\",\"CATEGORY2/II\",\"CATEGORY2/II\",\"CATEGORY2/II\",\"CATEGORY2/I\",\"CATEGORY2/II\",\"CATEGORY2/II\",\"CATEGORY2/II\",\"CATEGORY2/II\",\"CATEGORY2/II\",\"CATEGORY2/I\",\"CATEGORY2/I\",\"CATEGORY2/II\",\"CATEGORY2/I\",\"CATEGORY2/II\",\"CATEGORY2/I\",\"CATEGORY2/II\",\"CATEGORY2/II\",\"CATEGORY2/II\",\"CATEGORY2/I\",\"CATEGORY2/II\",\"CATEGORY2/II\",\"CATEGORY2/I\",\"CATEGORY2/III\",\"CATEGORY2/II\",\"CATEGORY2/II\",\"CATEGORY2/II\",\"CATEGORY2/I\",\"CATEGORY2/I\",\"CATEGORY2/III\",\"CATEGORY2/II\",\"CATEGORY2/II\",\"CATEGORY2/II\",\"CATEGORY2/0\",\"CATEGORY2/II\",\"CATEGORY2/III\",\"CATEGORY2/II\",\"CATEGORY2/II\",\"CATEGORY2/I\",\"CATEGORY2/II\",\"CATEGORY2/II\",\"CATEGORY2/III\",\"CATEGORY2/I\",\"CATEGORY2/II\",\"CATEGORY2/I\",\"CATEGORY2/I\",\"CATEGORY2/III\",\"CATEGORY2/II\",\"CATEGORY2/II\",\"CATEGORY2/II\",\"CATEGORY2/II\",\"CATEGORY2/II\",\"CATEGORY2/I\",\"CATEGORY2/II\",\"CATEGORY2/II\",\"CATEGORY2/II\",\"CATEGORY2/II\",\"CATEGORY2/III\",\"CATEGORY2/II\",\"CATEGORY2/I\",\"CATEGORY2/II\",\"CATEGORY2/II\",\"CATEGORY2/II\",\"CATEGORY2\",\"CATEGORY2\",\"CATEGORY2\",\"CATEGORY2\",\"\"],\"values\":[1632,3602,3987,4093,3596,1447,6004,6240,4876,1525,1286,789,4331,1185,720,435,5200,5008,591,4553,6238,930,665,1672,2054,1669,39,5749,2029,1421,3295,4097,2864,5376,899,3408,2351,3536,25,174,4696,3736,4641,4612,882,3981,2905,3616,3667,7490,3030,4835,3726,1548,2896,453,81,1,2164,180,3566,4560,3794,611,135,2161,3035,1,3596,6470,3312,2,587,63,5826,184,2690,254,223,311,31,1,18,1950,5365,4440,1,4715,22,1879,26,5188,3821,2100,3687,5042,1,107,2209,1541,1,3,47,277,2753,1836,846,87,23,5168,1,261,5146,3483,215,365,12,156,3946,15,748,339,112,990,382,999,146,174,362,4722,74,160,2130,533,321,2748,758,1211,114,260,67,1283,1173,447,6,1981,473,414,1,90,14,4050,1006,3690,533,612,478,35,837,790,182,3694,3059,1325,75,2858,2328,870,223,5530,135,153,161,93,1118,366,5451,422,983,663,396,1051,1,2309,21,34,219,22,37,2569,5528,3423,263,12,484,322,1,279,2197,98,39,177,468,2164,2103,8,70,2163,3463,24,1115,3958,194,363,120,944,1,553,742,31,200,271,2773,183,884,5291,724,120,54,362,4516,1216,328,1760,1,3913,48,1992,452,732,9,2706,2862,90,4931,5773,693,120,12,633,4050,4192,266,21,374,882,13,378,113,218,107,195,270,5,26,537,7254,3011,31,137,388,289,89,137,33,20,101,1157,32,3351,271,135,106,21,200,1951,378,1388,260,42,50,1645,1091,434,1967,2,1810,30,180,21,8,494,1,68,659,1619,2967,17,788,636,1,9,104,931,437,155,57,2018,1,153,2056,1050,56,58,12,72,1770,1,166,148,99,482,173,157,38,117,147,2343,42,54,311,126,63,437,304,393,170,32,350,471,83,383,220,1,9,10,1029,451,1287,229,313,215,28,323,403,70,777,604,395,16,1159,1201,326,3908,110,79,69,38,254,73,2714,89,491,303,250,1,692,7,18,93,7,24,924,2459,618,161,23,222,1,57,1248,27,78,720,1260,5,12,334,1349,15,497,1963,87,98,61,270,1,378,59,22,141,994,150,388,3328,39,13,82,2337,461,156,297,1,2239,7,512,196,153,5,1763,59,1670,3683,143,8,198,101,11,30,420,128,23,117,177,3,8,295,2521,1303,62,134,250,178,53,3,16,84,368,10,1797,46,43,64,9,11,1238,24,829,387,15,2,585,51,2391,1416,1856,1714,1769,368,2722,3221,2388,574,448,515,1968,610,258,191,1574,2805,400,2091,61,508,278,582,964,615,20,1989,634,1711,1587,1165,3192,198,1580,1001,809,9,37,2657,1893,1272,1335,33,1951,1400,1902,1840,4317,1535,2391,1825,869,1327,42,11,1,864,130,1507,630,1332,54,643,1782,1511,2182,1784,1,131,30,2518,53,1069,1,163,258,4,1,480,1,1464,2142,9,596,17,2296,1807,30413,126965,338536,150430,646344],\"type\":\"treemap\"}],                        {\"template\":{\"data\":{\"bar\":[{\"error_x\":{\"color\":\"#2a3f5f\"},\"error_y\":{\"color\":\"#2a3f5f\"},\"marker\":{\"line\":{\"color\":\"#E5ECF6\",\"width\":0.5},\"pattern\":{\"fillmode\":\"overlay\",\"size\":10,\"solidity\":0.2}},\"type\":\"bar\"}],\"barpolar\":[{\"marker\":{\"line\":{\"color\":\"#E5ECF6\",\"width\":0.5},\"pattern\":{\"fillmode\":\"overlay\",\"size\":10,\"solidity\":0.2}},\"type\":\"barpolar\"}],\"carpet\":[{\"aaxis\":{\"endlinecolor\":\"#2a3f5f\",\"gridcolor\":\"white\",\"linecolor\":\"white\",\"minorgridcolor\":\"white\",\"startlinecolor\":\"#2a3f5f\"},\"baxis\":{\"endlinecolor\":\"#2a3f5f\",\"gridcolor\":\"white\",\"linecolor\":\"white\",\"minorgridcolor\":\"white\",\"startlinecolor\":\"#2a3f5f\"},\"type\":\"carpet\"}],\"choropleth\":[{\"colorbar\":{\"outlinewidth\":0,\"ticks\":\"\"},\"type\":\"choropleth\"}],\"contour\":[{\"colorbar\":{\"outlinewidth\":0,\"ticks\":\"\"},\"colorscale\":[[0.0,\"#0d0887\"],[0.1111111111111111,\"#46039f\"],[0.2222222222222222,\"#7201a8\"],[0.3333333333333333,\"#9c179e\"],[0.4444444444444444,\"#bd3786\"],[0.5555555555555556,\"#d8576b\"],[0.6666666666666666,\"#ed7953\"],[0.7777777777777778,\"#fb9f3a\"],[0.8888888888888888,\"#fdca26\"],[1.0,\"#f0f921\"]],\"type\":\"contour\"}],\"contourcarpet\":[{\"colorbar\":{\"outlinewidth\":0,\"ticks\":\"\"},\"type\":\"contourcarpet\"}],\"heatmap\":[{\"colorbar\":{\"outlinewidth\":0,\"ticks\":\"\"},\"colorscale\":[[0.0,\"#0d0887\"],[0.1111111111111111,\"#46039f\"],[0.2222222222222222,\"#7201a8\"],[0.3333333333333333,\"#9c179e\"],[0.4444444444444444,\"#bd3786\"],[0.5555555555555556,\"#d8576b\"],[0.6666666666666666,\"#ed7953\"],[0.7777777777777778,\"#fb9f3a\"],[0.8888888888888888,\"#fdca26\"],[1.0,\"#f0f921\"]],\"type\":\"heatmap\"}],\"heatmapgl\":[{\"colorbar\":{\"outlinewidth\":0,\"ticks\":\"\"},\"colorscale\":[[0.0,\"#0d0887\"],[0.1111111111111111,\"#46039f\"],[0.2222222222222222,\"#7201a8\"],[0.3333333333333333,\"#9c179e\"],[0.4444444444444444,\"#bd3786\"],[0.5555555555555556,\"#d8576b\"],[0.6666666666666666,\"#ed7953\"],[0.7777777777777778,\"#fb9f3a\"],[0.8888888888888888,\"#fdca26\"],[1.0,\"#f0f921\"]],\"type\":\"heatmapgl\"}],\"histogram\":[{\"marker\":{\"pattern\":{\"fillmode\":\"overlay\",\"size\":10,\"solidity\":0.2}},\"type\":\"histogram\"}],\"histogram2d\":[{\"colorbar\":{\"outlinewidth\":0,\"ticks\":\"\"},\"colorscale\":[[0.0,\"#0d0887\"],[0.1111111111111111,\"#46039f\"],[0.2222222222222222,\"#7201a8\"],[0.3333333333333333,\"#9c179e\"],[0.4444444444444444,\"#bd3786\"],[0.5555555555555556,\"#d8576b\"],[0.6666666666666666,\"#ed7953\"],[0.7777777777777778,\"#fb9f3a\"],[0.8888888888888888,\"#fdca26\"],[1.0,\"#f0f921\"]],\"type\":\"histogram2d\"}],\"histogram2dcontour\":[{\"colorbar\":{\"outlinewidth\":0,\"ticks\":\"\"},\"colorscale\":[[0.0,\"#0d0887\"],[0.1111111111111111,\"#46039f\"],[0.2222222222222222,\"#7201a8\"],[0.3333333333333333,\"#9c179e\"],[0.4444444444444444,\"#bd3786\"],[0.5555555555555556,\"#d8576b\"],[0.6666666666666666,\"#ed7953\"],[0.7777777777777778,\"#fb9f3a\"],[0.8888888888888888,\"#fdca26\"],[1.0,\"#f0f921\"]],\"type\":\"histogram2dcontour\"}],\"mesh3d\":[{\"colorbar\":{\"outlinewidth\":0,\"ticks\":\"\"},\"type\":\"mesh3d\"}],\"parcoords\":[{\"line\":{\"colorbar\":{\"outlinewidth\":0,\"ticks\":\"\"}},\"type\":\"parcoords\"}],\"pie\":[{\"automargin\":true,\"type\":\"pie\"}],\"scatter\":[{\"marker\":{\"colorbar\":{\"outlinewidth\":0,\"ticks\":\"\"}},\"type\":\"scatter\"}],\"scatter3d\":[{\"line\":{\"colorbar\":{\"outlinewidth\":0,\"ticks\":\"\"}},\"marker\":{\"colorbar\":{\"outlinewidth\":0,\"ticks\":\"\"}},\"type\":\"scatter3d\"}],\"scattercarpet\":[{\"marker\":{\"colorbar\":{\"outlinewidth\":0,\"ticks\":\"\"}},\"type\":\"scattercarpet\"}],\"scattergeo\":[{\"marker\":{\"colorbar\":{\"outlinewidth\":0,\"ticks\":\"\"}},\"type\":\"scattergeo\"}],\"scattergl\":[{\"marker\":{\"colorbar\":{\"outlinewidth\":0,\"ticks\":\"\"}},\"type\":\"scattergl\"}],\"scattermapbox\":[{\"marker\":{\"colorbar\":{\"outlinewidth\":0,\"ticks\":\"\"}},\"type\":\"scattermapbox\"}],\"scatterpolar\":[{\"marker\":{\"colorbar\":{\"outlinewidth\":0,\"ticks\":\"\"}},\"type\":\"scatterpolar\"}],\"scatterpolargl\":[{\"marker\":{\"colorbar\":{\"outlinewidth\":0,\"ticks\":\"\"}},\"type\":\"scatterpolargl\"}],\"scatterternary\":[{\"marker\":{\"colorbar\":{\"outlinewidth\":0,\"ticks\":\"\"}},\"type\":\"scatterternary\"}],\"surface\":[{\"colorbar\":{\"outlinewidth\":0,\"ticks\":\"\"},\"colorscale\":[[0.0,\"#0d0887\"],[0.1111111111111111,\"#46039f\"],[0.2222222222222222,\"#7201a8\"],[0.3333333333333333,\"#9c179e\"],[0.4444444444444444,\"#bd3786\"],[0.5555555555555556,\"#d8576b\"],[0.6666666666666666,\"#ed7953\"],[0.7777777777777778,\"#fb9f3a\"],[0.8888888888888888,\"#fdca26\"],[1.0,\"#f0f921\"]],\"type\":\"surface\"}],\"table\":[{\"cells\":{\"fill\":{\"color\":\"#EBF0F8\"},\"line\":{\"color\":\"white\"}},\"header\":{\"fill\":{\"color\":\"#C8D4E3\"},\"line\":{\"color\":\"white\"}},\"type\":\"table\"}]},\"layout\":{\"annotationdefaults\":{\"arrowcolor\":\"#2a3f5f\",\"arrowhead\":0,\"arrowwidth\":1},\"autotypenumbers\":\"strict\",\"coloraxis\":{\"colorbar\":{\"outlinewidth\":0,\"ticks\":\"\"}},\"colorscale\":{\"diverging\":[[0,\"#8e0152\"],[0.1,\"#c51b7d\"],[0.2,\"#de77ae\"],[0.3,\"#f1b6da\"],[0.4,\"#fde0ef\"],[0.5,\"#f7f7f7\"],[0.6,\"#e6f5d0\"],[0.7,\"#b8e186\"],[0.8,\"#7fbc41\"],[0.9,\"#4d9221\"],[1,\"#276419\"]],\"sequential\":[[0.0,\"#0d0887\"],[0.1111111111111111,\"#46039f\"],[0.2222222222222222,\"#7201a8\"],[0.3333333333333333,\"#9c179e\"],[0.4444444444444444,\"#bd3786\"],[0.5555555555555556,\"#d8576b\"],[0.6666666666666666,\"#ed7953\"],[0.7777777777777778,\"#fb9f3a\"],[0.8888888888888888,\"#fdca26\"],[1.0,\"#f0f921\"]],\"sequentialminus\":[[0.0,\"#0d0887\"],[0.1111111111111111,\"#46039f\"],[0.2222222222222222,\"#7201a8\"],[0.3333333333333333,\"#9c179e\"],[0.4444444444444444,\"#bd3786\"],[0.5555555555555556,\"#d8576b\"],[0.6666666666666666,\"#ed7953\"],[0.7777777777777778,\"#fb9f3a\"],[0.8888888888888888,\"#fdca26\"],[1.0,\"#f0f921\"]]},\"colorway\":[\"#636efa\",\"#EF553B\",\"#00cc96\",\"#ab63fa\",\"#FFA15A\",\"#19d3f3\",\"#FF6692\",\"#B6E880\",\"#FF97FF\",\"#FECB52\"],\"font\":{\"color\":\"#2a3f5f\"},\"geo\":{\"bgcolor\":\"white\",\"lakecolor\":\"white\",\"landcolor\":\"#E5ECF6\",\"showlakes\":true,\"showland\":true,\"subunitcolor\":\"white\"},\"hoverlabel\":{\"align\":\"left\"},\"hovermode\":\"closest\",\"mapbox\":{\"style\":\"light\"},\"paper_bgcolor\":\"white\",\"plot_bgcolor\":\"#E5ECF6\",\"polar\":{\"angularaxis\":{\"gridcolor\":\"white\",\"linecolor\":\"white\",\"ticks\":\"\"},\"bgcolor\":\"#E5ECF6\",\"radialaxis\":{\"gridcolor\":\"white\",\"linecolor\":\"white\",\"ticks\":\"\"}},\"scene\":{\"xaxis\":{\"backgroundcolor\":\"#E5ECF6\",\"gridcolor\":\"white\",\"gridwidth\":2,\"linecolor\":\"white\",\"showbackground\":true,\"ticks\":\"\",\"zerolinecolor\":\"white\"},\"yaxis\":{\"backgroundcolor\":\"#E5ECF6\",\"gridcolor\":\"white\",\"gridwidth\":2,\"linecolor\":\"white\",\"showbackground\":true,\"ticks\":\"\",\"zerolinecolor\":\"white\"},\"zaxis\":{\"backgroundcolor\":\"#E5ECF6\",\"gridcolor\":\"white\",\"gridwidth\":2,\"linecolor\":\"white\",\"showbackground\":true,\"ticks\":\"\",\"zerolinecolor\":\"white\"}},\"shapedefaults\":{\"line\":{\"color\":\"#2a3f5f\"}},\"ternary\":{\"aaxis\":{\"gridcolor\":\"white\",\"linecolor\":\"white\",\"ticks\":\"\"},\"baxis\":{\"gridcolor\":\"white\",\"linecolor\":\"white\",\"ticks\":\"\"},\"bgcolor\":\"#E5ECF6\",\"caxis\":{\"gridcolor\":\"white\",\"linecolor\":\"white\",\"ticks\":\"\"}},\"title\":{\"x\":0.05},\"xaxis\":{\"automargin\":true,\"gridcolor\":\"white\",\"linecolor\":\"white\",\"ticks\":\"\",\"title\":{\"standoff\":15},\"zerolinecolor\":\"white\",\"zerolinewidth\":2},\"yaxis\":{\"automargin\":true,\"gridcolor\":\"white\",\"linecolor\":\"white\",\"ticks\":\"\",\"title\":{\"standoff\":15},\"zerolinecolor\":\"white\",\"zerolinewidth\":2}}},\"coloraxis\":{\"colorbar\":{\"title\":{\"text\":\"DIAGNOSIS\"}},\"colorscale\":[[0.0,\"#0d0887\"],[0.1111111111111111,\"#46039f\"],[0.2222222222222222,\"#7201a8\"],[0.3333333333333333,\"#9c179e\"],[0.4444444444444444,\"#bd3786\"],[0.5555555555555556,\"#d8576b\"],[0.6666666666666666,\"#ed7953\"],[0.7777777777777778,\"#fb9f3a\"],[0.8888888888888888,\"#fdca26\"],[1.0,\"#f0f921\"]]},\"legend\":{\"tracegroupgap\":0},\"margin\":{\"t\":60}},                        {\"responsive\": true}                    ).then(function(){\n",
       "                            \n",
       "var gd = document.getElementById('c1f234ca-7991-491a-a01d-4c03a123f826');\n",
       "var x = new MutationObserver(function (mutations, observer) {{\n",
       "        var display = window.getComputedStyle(gd).display;\n",
       "        if (!display || display === 'none') {{\n",
       "            console.log([gd, 'removed!']);\n",
       "            Plotly.purge(gd);\n",
       "            observer.disconnect();\n",
       "        }}\n",
       "}});\n",
       "\n",
       "// Listen for the removal of the full notebook cells\n",
       "var notebookContainer = gd.closest('#notebook-container');\n",
       "if (notebookContainer) {{\n",
       "    x.observe(notebookContainer, {childList: true});\n",
       "}}\n",
       "\n",
       "// Listen for the clearing of the current output cell\n",
       "var outputEl = gd.closest('.output');\n",
       "if (outputEl) {{\n",
       "    x.observe(outputEl, {childList: true});\n",
       "}}\n",
       "\n",
       "                        })                };                });            </script>        </div>"
      ]
     },
     "metadata": {},
     "output_type": "display_data"
    }
   ],
   "source": [
    "HOSPITAL_PARAMETER = 'CO_IPRESS'\n",
    "\n",
    "def category_label(val):\n",
    "    category_label = None\n",
    "    if val in ['I-3', 'I-4']:\n",
    "        category_label = 'I'\n",
    "    elif val in ['II-1', 'II-2', 'II-E']:\n",
    "        category_label = 'II'\n",
    "    elif val in ['III-1', 'III-2', 'III-E']:\n",
    "        category_label = 'III'\n",
    "    else:\n",
    "        pass\n",
    "        category_label = '0'\n",
    "    return category_label\n",
    "\n",
    "data_temp = data_lima_m.groupby(['CATEGORY', HOSPITAL_PARAMETER,'DIAGNOSIS']).agg({ 'QTY_PEOPLE_SERVED': \"sum\"})\n",
    "data_temp = data_temp.reset_index()\n",
    "data_temp = data_temp.groupby(['CATEGORY', HOSPITAL_PARAMETER]).agg({ 'DIAGNOSIS': \"count\"})\n",
    "data_temp = data_temp.reset_index()\n",
    "data_temp['CATEGORY2'] = data_temp['CATEGORY'].apply(lambda x : category_label(x))\n",
    "\n",
    "fig = px.treemap(data_temp,\n",
    "                 path=[px.Constant('CATEGORY2'),'CATEGORY2', 'CO_IPRESS'],\n",
    "                 values='DIAGNOSIS',\n",
    "                 color='DIAGNOSIS',\n",
    "                 hover_data=['DIAGNOSIS'])\n",
    "fig.show()"
   ]
  },
  {
   "cell_type": "code",
   "execution_count": 295,
   "id": "3015238e",
   "metadata": {},
   "outputs": [
    {
     "data": {
      "application/vnd.plotly.v1+json": {
       "config": {
        "plotlyServerURL": "https://plot.ly"
       },
       "data": [
        {
         "branchvalues": "total",
         "customdata": [
          [
           1632,
           1632
          ],
          [
           3602,
           3602
          ],
          [
           3987,
           3987
          ],
          [
           4093,
           4093
          ],
          [
           3596,
           3596
          ],
          [
           1447,
           1447
          ],
          [
           6004,
           6004
          ],
          [
           6240,
           6240
          ],
          [
           4876,
           4876
          ],
          [
           1525,
           1525
          ],
          [
           1286,
           1286
          ],
          [
           789,
           789
          ],
          [
           4331,
           4331
          ],
          [
           1185,
           1185
          ],
          [
           720,
           720
          ],
          [
           435,
           435
          ],
          [
           2842.4753846153844,
           2842.4753846153844
          ],
          [
           5008,
           5008
          ],
          [
           591,
           591
          ],
          [
           4553,
           4553
          ],
          [
           6238,
           6238
          ],
          [
           930,
           930
          ],
          [
           665,
           665
          ],
          [
           894.4222488038278,
           894.4222488038278
          ],
          [
           2054,
           2054
          ],
          [
           1669,
           1669
          ],
          [
           39,
           39
          ],
          [
           5749,
           5749
          ],
          [
           2029,
           2029
          ],
          [
           1421,
           1421
          ],
          [
           3295,
           3295
          ],
          [
           4097,
           4097
          ],
          [
           2864,
           2864
          ],
          [
           5376,
           5376
          ],
          [
           899,
           899
          ],
          [
           3408,
           3408
          ],
          [
           2351,
           2351
          ],
          [
           3536,
           3536
          ],
          [
           25,
           25
          ],
          [
           88.14942528735632,
           88.14942528735632
          ],
          [
           4696,
           4696
          ],
          [
           3736,
           3736
          ],
          [
           4641,
           4641
          ],
          [
           4612,
           4612
          ],
          [
           882,
           882
          ],
          [
           3981,
           3981
          ],
          [
           2905,
           2905
          ],
          [
           3616,
           3616
          ],
          [
           3667,
           3667
          ],
          [
           7490,
           7490
          ],
          [
           3030,
           3030
          ],
          [
           4835,
           4835
          ],
          [
           3726,
           3726
          ],
          [
           1548,
           1548
          ],
          [
           2896,
           2896
          ],
          [
           453,
           453
          ],
          [
           43.76543209876543,
           43.76543209876543
          ],
          [
           1,
           1
          ],
          [
           2164,
           2164
          ],
          [
           180,
           180
          ],
          [
           3566,
           3566
          ],
          [
           4560,
           4560
          ],
          [
           3794,
           3794
          ],
          [
           611,
           611
          ],
          [
           135,
           135
          ],
          [
           2161,
           2161
          ],
          [
           3035,
           3035
          ],
          [
           1,
           1
          ],
          [
           3596,
           3596
          ],
          [
           6470,
           6470
          ],
          [
           3312,
           3312
          ],
          [
           1,
           1
          ],
          [
           587,
           587
          ],
          [
           63,
           63
          ],
          [
           5826,
           5826
          ],
          [
           184,
           184
          ],
          [
           2690,
           2690
          ],
          [
           254,
           254
          ],
          [
           223,
           223
          ],
          [
           311,
           311
          ],
          [
           31,
           31
          ],
          [
           1,
           1
          ],
          [
           18,
           18
          ],
          [
           1048.665641025641,
           1048.665641025641
          ],
          [
           5365,
           5365
          ],
          [
           4440,
           4440
          ],
          [
           1,
           1
          ],
          [
           4715,
           4715
          ],
          [
           22,
           22
          ],
          [
           1879,
           1879
          ],
          [
           26,
           26
          ],
          [
           5188,
           5188
          ],
          [
           3821,
           3821
          ],
          [
           2100,
           2100
          ],
          [
           3687,
           3687
          ],
          [
           5042,
           5042
          ],
          [
           1,
           1
          ],
          [
           107,
           107
          ],
          [
           2209,
           2209
          ],
          [
           1541,
           1541
          ],
          [
           1,
           1
          ],
          [
           3,
           3
          ],
          [
           47,
           47
          ],
          [
           277,
           277
          ],
          [
           2753,
           2753
          ],
          [
           1836,
           1836
          ],
          [
           846,
           846
          ],
          [
           87,
           87
          ],
          [
           23,
           23
          ],
          [
           5168,
           5168
          ],
          [
           1,
           1
          ],
          [
           261,
           261
          ],
          [
           5146,
           5146
          ],
          [
           3483,
           3483
          ],
          [
           215,
           215
          ],
          [
           365,
           365
          ],
          [
           12,
           12
          ],
          [
           156,
           156
          ],
          [
           3946,
           3946
          ],
          [
           15,
           15
          ],
          [
           748,
           748
          ],
          [
           181.71386430678467,
           181.71386430678467
          ],
          [
           112,
           112
          ],
          [
           990,
           990
          ],
          [
           382,
           382
          ],
          [
           999,
           999
          ],
          [
           146,
           146
          ],
          [
           174,
           174
          ],
          [
           185.02762430939225,
           185.02762430939225
          ],
          [
           4722,
           4722
          ],
          [
           74,
           74
          ],
          [
           160,
           160
          ],
          [
           1103.693896713615,
           1103.693896713615
          ],
          [
           533,
           533
          ],
          [
           321,
           321
          ],
          [
           2748,
           2748
          ],
          [
           758,
           758
          ],
          [
           1211,
           1211
          ],
          [
           114,
           114
          ],
          [
           260,
           260
          ],
          [
           67,
           67
          ],
          [
           1283,
           1283
          ],
          [
           1173,
           1173
          ],
          [
           447,
           447
          ],
          [
           6,
           6
          ],
          [
           1981,
           1981
          ],
          [
           473,
           473
          ],
          [
           414,
           414
          ],
          [
           1,
           1
          ],
          [
           90,
           90
          ],
          [
           14,
           14
          ],
          [
           4050,
           4050
          ],
          [
           1006,
           1006
          ],
          [
           3690,
           3690
          ],
          [
           533,
           533
          ],
          [
           612,
           612
          ],
          [
           478,
           478
          ],
          [
           35,
           35
          ],
          [
           837,
           837
          ],
          [
           790,
           790
          ],
          [
           182,
           182
          ],
          [
           3694,
           3694
          ],
          [
           3059,
           3059
          ],
          [
           1325,
           1325
          ],
          [
           37.666666666666664,
           37.666666666666664
          ],
          [
           2858,
           2858
          ],
          [
           2328,
           2328
          ],
          [
           870,
           870
          ],
          [
           223,
           223
          ],
          [
           5530,
           5530
          ],
          [
           135,
           135
          ],
          [
           153,
           153
          ],
          [
           161,
           161
          ],
          [
           93,
           93
          ],
          [
           1118,
           1118
          ],
          [
           366,
           366
          ],
          [
           5451,
           5451
          ],
          [
           422,
           422
          ],
          [
           983,
           983
          ],
          [
           663,
           663
          ],
          [
           396,
           396
          ],
          [
           1051,
           1051
          ],
          [
           1,
           1
          ],
          [
           2309,
           2309
          ],
          [
           21,
           21
          ],
          [
           34,
           34
          ],
          [
           219,
           219
          ],
          [
           22,
           22
          ],
          [
           37,
           37
          ],
          [
           2569,
           2569
          ],
          [
           5528,
           5528
          ],
          [
           3423,
           3423
          ],
          [
           263,
           263
          ],
          [
           12,
           12
          ],
          [
           484,
           484
          ],
          [
           322,
           322
          ],
          [
           1,
           1
          ],
          [
           279,
           279
          ],
          [
           2197,
           2197
          ],
          [
           98,
           98
          ],
          [
           39,
           39
          ],
          [
           177,
           177
          ],
          [
           237.5940170940171,
           237.5940170940171
          ],
          [
           2164,
           2164
          ],
          [
           2103,
           2103
          ],
          [
           8,
           8
          ],
          [
           70,
           70
          ],
          [
           2163,
           2163
          ],
          [
           3463,
           3463
          ],
          [
           24,
           24
          ],
          [
           1115,
           1115
          ],
          [
           3958,
           3958
          ],
          [
           194,
           194
          ],
          [
           363,
           363
          ],
          [
           120,
           120
          ],
          [
           944,
           944
          ],
          [
           1,
           1
          ],
          [
           553,
           553
          ],
          [
           742,
           742
          ],
          [
           31,
           31
          ],
          [
           138.44,
           138.44
          ],
          [
           271,
           271
          ],
          [
           2773,
           2773
          ],
          [
           183,
           183
          ],
          [
           884,
           884
          ],
          [
           5291,
           5291
          ],
          [
           724,
           724
          ],
          [
           120,
           120
          ],
          [
           54,
           54
          ],
          [
           362,
           362
          ],
          [
           4516,
           4516
          ],
          [
           1216,
           1216
          ],
          [
           328,
           328
          ],
          [
           1760,
           1760
          ],
          [
           1,
           1
          ],
          [
           3913,
           3913
          ],
          [
           48,
           48
          ],
          [
           1992,
           1992
          ],
          [
           452,
           452
          ],
          [
           732,
           732
          ],
          [
           9,
           9
          ],
          [
           2706,
           2706
          ],
          [
           2862,
           2862
          ],
          [
           90,
           90
          ],
          [
           4931,
           4931
          ],
          [
           5773,
           5773
          ],
          [
           693,
           693
          ],
          [
           120,
           120
          ],
          [
           12,
           12
          ],
          [
           633,
           633
          ],
          [
           4050,
           4050
          ],
          [
           4192,
           4192
          ],
          [
           266,
           266
          ],
          [
           21,
           21
          ],
          [
           374,
           374
          ],
          [
           882,
           882
          ],
          [
           13,
           13
          ],
          [
           378,
           378
          ],
          [
           113,
           113
          ],
          [
           218,
           218
          ],
          [
           107,
           107
          ],
          [
           195,
           195
          ],
          [
           270,
           270
          ],
          [
           5,
           5
          ],
          [
           26,
           26
          ],
          [
           537,
           537
          ],
          [
           3787.5097877033363,
           3787.5097877033363
          ],
          [
           3011,
           3011
          ],
          [
           31,
           31
          ],
          [
           137,
           137
          ],
          [
           388,
           388
          ],
          [
           289,
           289
          ],
          [
           89,
           89
          ],
          [
           137,
           137
          ],
          [
           33,
           33
          ],
          [
           20,
           20
          ],
          [
           101,
           101
          ],
          [
           1157,
           1157
          ],
          [
           32,
           32
          ],
          [
           3351,
           3351
          ],
          [
           271,
           271
          ],
          [
           135,
           135
          ],
          [
           106,
           106
          ],
          [
           21,
           21
          ],
          [
           200,
           200
          ],
          [
           1951,
           1951
          ],
          [
           378,
           378
          ],
          [
           1388,
           1388
          ],
          [
           260,
           260
          ],
          [
           42,
           42
          ],
          [
           50,
           50
          ],
          [
           1645,
           1645
          ],
          [
           1091,
           1091
          ],
          [
           434,
           434
          ],
          [
           1967,
           1967
          ],
          [
           2,
           2
          ],
          [
           1810,
           1810
          ],
          [
           30,
           30
          ],
          [
           180,
           180
          ],
          [
           21,
           21
          ],
          [
           8,
           8
          ],
          [
           494,
           494
          ],
          [
           1,
           1
          ],
          [
           68,
           68
          ],
          [
           659,
           659
          ],
          [
           1619,
           1619
          ],
          [
           2967,
           2967
          ],
          [
           17,
           17
          ],
          [
           788,
           788
          ],
          [
           636,
           636
          ],
          [
           1,
           1
          ],
          [
           9,
           9
          ],
          [
           104,
           104
          ],
          [
           931,
           931
          ],
          [
           437,
           437
          ],
          [
           155,
           155
          ],
          [
           57,
           57
          ],
          [
           2018,
           2018
          ],
          [
           1,
           1
          ],
          [
           153,
           153
          ],
          [
           2056,
           2056
          ],
          [
           1050,
           1050
          ],
          [
           56,
           56
          ],
          [
           58,
           58
          ],
          [
           12,
           12
          ],
          [
           72,
           72
          ],
          [
           1770,
           1770
          ],
          [
           1,
           1
          ],
          [
           166,
           166
          ],
          [
           148,
           148
          ],
          [
           99,
           99
          ],
          [
           482,
           482
          ],
          [
           173,
           173
          ],
          [
           157,
           157
          ],
          [
           38,
           38
          ],
          [
           117,
           117
          ],
          [
           147,
           147
          ],
          [
           2343,
           2343
          ],
          [
           42,
           42
          ],
          [
           54,
           54
          ],
          [
           311,
           311
          ],
          [
           126,
           126
          ],
          [
           63,
           63
          ],
          [
           437,
           437
          ],
          [
           304,
           304
          ],
          [
           393,
           393
          ],
          [
           170,
           170
          ],
          [
           32,
           32
          ],
          [
           350,
           350
          ],
          [
           471,
           471
          ],
          [
           83,
           83
          ],
          [
           383,
           383
          ],
          [
           220,
           220
          ],
          [
           1,
           1
          ],
          [
           9,
           9
          ],
          [
           10,
           10
          ],
          [
           1029,
           1029
          ],
          [
           451,
           451
          ],
          [
           1287,
           1287
          ],
          [
           229,
           229
          ],
          [
           313,
           313
          ],
          [
           215,
           215
          ],
          [
           28,
           28
          ],
          [
           323,
           323
          ],
          [
           403,
           403
          ],
          [
           70,
           70
          ],
          [
           777,
           777
          ],
          [
           604,
           604
          ],
          [
           395,
           395
          ],
          [
           16,
           16
          ],
          [
           1159,
           1159
          ],
          [
           1201,
           1201
          ],
          [
           326,
           326
          ],
          [
           3908,
           3908
          ],
          [
           110,
           110
          ],
          [
           79,
           79
          ],
          [
           69,
           69
          ],
          [
           38,
           38
          ],
          [
           254,
           254
          ],
          [
           73,
           73
          ],
          [
           2714,
           2714
          ],
          [
           89,
           89
          ],
          [
           491,
           491
          ],
          [
           303,
           303
          ],
          [
           250,
           250
          ],
          [
           1,
           1
          ],
          [
           692,
           692
          ],
          [
           7,
           7
          ],
          [
           18,
           18
          ],
          [
           93,
           93
          ],
          [
           7,
           7
          ],
          [
           24,
           24
          ],
          [
           924,
           924
          ],
          [
           2459,
           2459
          ],
          [
           618,
           618
          ],
          [
           161,
           161
          ],
          [
           23,
           23
          ],
          [
           222,
           222
          ],
          [
           1,
           1
          ],
          [
           57,
           57
          ],
          [
           1248,
           1248
          ],
          [
           27,
           27
          ],
          [
           78,
           78
          ],
          [
           720,
           720
          ],
          [
           1260,
           1260
          ],
          [
           5,
           5
          ],
          [
           12,
           12
          ],
          [
           334,
           334
          ],
          [
           1349,
           1349
          ],
          [
           15,
           15
          ],
          [
           497,
           497
          ],
          [
           1963,
           1963
          ],
          [
           87,
           87
          ],
          [
           98,
           98
          ],
          [
           61,
           61
          ],
          [
           270,
           270
          ],
          [
           1,
           1
          ],
          [
           378,
           378
          ],
          [
           59,
           59
          ],
          [
           22,
           22
          ],
          [
           141,
           141
          ],
          [
           994,
           994
          ],
          [
           150,
           150
          ],
          [
           388,
           388
          ],
          [
           3328,
           3328
          ],
          [
           39,
           39
          ],
          [
           13,
           13
          ],
          [
           82,
           82
          ],
          [
           2337,
           2337
          ],
          [
           461,
           461
          ],
          [
           156,
           156
          ],
          [
           297,
           297
          ],
          [
           1,
           1
          ],
          [
           2239,
           2239
          ],
          [
           7,
           7
          ],
          [
           512,
           512
          ],
          [
           196,
           196
          ],
          [
           153,
           153
          ],
          [
           5,
           5
          ],
          [
           1763,
           1763
          ],
          [
           59,
           59
          ],
          [
           1670,
           1670
          ],
          [
           3683,
           3683
          ],
          [
           143,
           143
          ],
          [
           8,
           8
          ],
          [
           198,
           198
          ],
          [
           101,
           101
          ],
          [
           11,
           11
          ],
          [
           30,
           30
          ],
          [
           420,
           420
          ],
          [
           128,
           128
          ],
          [
           23,
           23
          ],
          [
           117,
           117
          ],
          [
           177,
           177
          ],
          [
           3,
           3
          ],
          [
           8,
           8
          ],
          [
           295,
           295
          ],
          [
           2521,
           2521
          ],
          [
           1303,
           1303
          ],
          [
           62,
           62
          ],
          [
           134,
           134
          ],
          [
           250,
           250
          ],
          [
           178,
           178
          ],
          [
           53,
           53
          ],
          [
           3,
           3
          ],
          [
           16,
           16
          ],
          [
           84,
           84
          ],
          [
           368,
           368
          ],
          [
           10,
           10
          ],
          [
           1797,
           1797
          ],
          [
           46,
           46
          ],
          [
           43,
           43
          ],
          [
           64,
           64
          ],
          [
           9,
           9
          ],
          [
           11,
           11
          ],
          [
           1238,
           1238
          ],
          [
           24,
           24
          ],
          [
           829,
           829
          ],
          [
           387,
           387
          ],
          [
           15,
           15
          ],
          [
           2,
           2
          ],
          [
           585,
           585
          ],
          [
           51,
           51
          ],
          [
           2391,
           2391
          ],
          [
           1416,
           1416
          ],
          [
           1856,
           1856
          ],
          [
           1714,
           1714
          ],
          [
           1769,
           1769
          ],
          [
           368,
           368
          ],
          [
           2722,
           2722
          ],
          [
           3221,
           3221
          ],
          [
           2388,
           2388
          ],
          [
           574,
           574
          ],
          [
           448,
           448
          ],
          [
           515,
           515
          ],
          [
           1968,
           1968
          ],
          [
           610,
           610
          ],
          [
           258,
           258
          ],
          [
           191,
           191
          ],
          [
           1574,
           1574
          ],
          [
           2805,
           2805
          ],
          [
           400,
           400
          ],
          [
           2091,
           2091
          ],
          [
           61,
           61
          ],
          [
           508,
           508
          ],
          [
           278,
           278
          ],
          [
           582,
           582
          ],
          [
           964,
           964
          ],
          [
           615,
           615
          ],
          [
           20,
           20
          ],
          [
           1989,
           1989
          ],
          [
           634,
           634
          ],
          [
           1711,
           1711
          ],
          [
           1587,
           1587
          ],
          [
           1165,
           1165
          ],
          [
           3192,
           3192
          ],
          [
           198,
           198
          ],
          [
           1580,
           1580
          ],
          [
           1001,
           1001
          ],
          [
           809,
           809
          ],
          [
           9,
           9
          ],
          [
           37,
           37
          ],
          [
           2657,
           2657
          ],
          [
           1893,
           1893
          ],
          [
           1272,
           1272
          ],
          [
           1335,
           1335
          ],
          [
           33,
           33
          ],
          [
           1951,
           1951
          ],
          [
           1400,
           1400
          ],
          [
           1902,
           1902
          ],
          [
           1840,
           1840
          ],
          [
           4317,
           4317
          ],
          [
           1535,
           1535
          ],
          [
           2391,
           2391
          ],
          [
           1825,
           1825
          ],
          [
           869,
           869
          ],
          [
           1327,
           1327
          ],
          [
           42,
           42
          ],
          [
           11,
           11
          ],
          [
           1,
           1
          ],
          [
           864,
           864
          ],
          [
           130,
           130
          ],
          [
           1507,
           1507
          ],
          [
           630,
           630
          ],
          [
           1332,
           1332
          ],
          [
           54,
           54
          ],
          [
           643,
           643
          ],
          [
           1782,
           1782
          ],
          [
           1511,
           1511
          ],
          [
           2182,
           2182
          ],
          [
           1784,
           1784
          ],
          [
           1,
           1
          ],
          [
           131,
           131
          ],
          [
           30,
           30
          ],
          [
           2518,
           2518
          ],
          [
           53,
           53
          ],
          [
           1069,
           1069
          ],
          [
           1,
           1
          ],
          [
           163,
           163
          ],
          [
           258,
           258
          ],
          [
           4,
           4
          ],
          [
           1,
           1
          ],
          [
           480,
           480
          ],
          [
           1,
           1
          ],
          [
           1464,
           1464
          ],
          [
           2142,
           2142
          ],
          [
           9,
           9
          ],
          [
           596,
           596
          ],
          [
           17,
           17
          ],
          [
           2296,
           2296
          ],
          [
           1807,
           1807
          ],
          [
           1830.238812349982,
           1830.238812349982
          ],
          [
           2177.8375694088923,
           2177.8375694088923
          ],
          [
           3063.986636576317,
           3063.986636576317
          ],
          [
           4102.851359436283,
           4102.851359436283
          ],
          [
           3073.647949079747,
           3073.647949079747
          ]
         ],
         "domain": {
          "x": [
           0,
           1
          ],
          "y": [
           0,
           1
          ]
         },
         "hovertemplate": "labels=%{label}<br>DIAGNOSIS_sum=%{value}<br>parent=%{parent}<br>id=%{id}<br>DIAGNOSIS=%{color}<extra></extra>",
         "ids": [
          "CATEGORY2/II/00005617",
          "CATEGORY2/II/00005883",
          "CATEGORY2/II/00005945",
          "CATEGORY2/III/00005946",
          "CATEGORY2/II/00005947",
          "CATEGORY2/III/00005948",
          "CATEGORY2/III/00005987",
          "CATEGORY2/III/00006206",
          "CATEGORY2/III/00006207",
          "CATEGORY2/III/00006208",
          "CATEGORY2/III/00006209",
          "CATEGORY2/III/00006210",
          "CATEGORY2/III/00006211",
          "CATEGORY2/III/00006212",
          "CATEGORY2/III/00006213",
          "CATEGORY2/III/00006214",
          "CATEGORY2/III/00006215",
          "CATEGORY2/III/00006216",
          "CATEGORY2/III/00006217",
          "CATEGORY2/II/00007632",
          "CATEGORY2/III/00007633",
          "CATEGORY2/III/00007634",
          "CATEGORY2/III/00007733",
          "CATEGORY2/III/00007734",
          "CATEGORY2/0/00008215",
          "CATEGORY2/I/00008251",
          "CATEGORY2/II/00008258",
          "CATEGORY2/II/00008271",
          "CATEGORY2/II/00008281",
          "CATEGORY2/0/00008282",
          "CATEGORY2/I/00008289",
          "CATEGORY2/II/00008317",
          "CATEGORY2/II/00008318",
          "CATEGORY2/II/00008325",
          "CATEGORY2/II/00008351",
          "CATEGORY2/II/00008353",
          "CATEGORY2/I/00008370",
          "CATEGORY2/I/00008378",
          "CATEGORY2/II/00008388",
          "CATEGORY2/I/00008389",
          "CATEGORY2/II/00008398",
          "CATEGORY2/I/00008438",
          "CATEGORY2/II/00008489",
          "CATEGORY2/II/00008502",
          "CATEGORY2/II/00008519",
          "CATEGORY2/I/00008539",
          "CATEGORY2/II/00008564",
          "CATEGORY2/II/00008671",
          "CATEGORY2/I/00008711",
          "CATEGORY2/III/00008720",
          "CATEGORY2/II/00008741",
          "CATEGORY2/II/00008746",
          "CATEGORY2/II/00008786",
          "CATEGORY2/I/00008880",
          "CATEGORY2/I/00008881",
          "CATEGORY2/III/00008956",
          "CATEGORY2/II/00009010",
          "CATEGORY2/II/00009089",
          "CATEGORY2/II/00009090",
          "CATEGORY2/0/00009093",
          "CATEGORY2/II/00009104",
          "CATEGORY2/III/00009116",
          "CATEGORY2/II/00009123",
          "CATEGORY2/II/00009144",
          "CATEGORY2/II/00009145",
          "CATEGORY2/I/00009148",
          "CATEGORY2/II/00009153",
          "CATEGORY2/0/00009183",
          "CATEGORY2/II/00009188",
          "CATEGORY2/III/00009251",
          "CATEGORY2/I/00009274",
          "CATEGORY2/II/00009288",
          "CATEGORY2/I/00009298",
          "CATEGORY2/I/00009379",
          "CATEGORY2/III/00009409",
          "CATEGORY2/II/00009431",
          "CATEGORY2/II/00009437",
          "CATEGORY2/II/00009478",
          "CATEGORY2/II/00009483",
          "CATEGORY2/II/00009505",
          "CATEGORY2/I/00009562",
          "CATEGORY2/0/00009593",
          "CATEGORY2/II/00009620",
          "CATEGORY2/II/00009641",
          "CATEGORY2/II/00009682",
          "CATEGORY2/II/00009850",
          "CATEGORY2/I/00009867",
          "CATEGORY2/III/00009886",
          "CATEGORY2/II/00009888",
          "CATEGORY2/I/00009979",
          "CATEGORY2/II/00009982",
          "CATEGORY2/II/00009988",
          "CATEGORY2/II/00009989",
          "CATEGORY2/II/00010098",
          "CATEGORY2/II/00010135",
          "CATEGORY2/II/00010182",
          "CATEGORY2/0/00010214",
          "CATEGORY2/I/00010229",
          "CATEGORY2/II/00010251",
          "CATEGORY2/I/00010385",
          "CATEGORY2/0/00010401",
          "CATEGORY2/II/00010401",
          "CATEGORY2/II/00010402",
          "CATEGORY2/II/00010434",
          "CATEGORY2/I/00010439",
          "CATEGORY2/I/00010464",
          "CATEGORY2/II/00010467",
          "CATEGORY2/0/00010498",
          "CATEGORY2/II/00010515",
          "CATEGORY2/II/00010603",
          "CATEGORY2/II/00010669",
          "CATEGORY2/II/00010739",
          "CATEGORY2/II/00010743",
          "CATEGORY2/III/00010751",
          "CATEGORY2/II/00010776",
          "CATEGORY2/II/00010827",
          "CATEGORY2/II/00010831",
          "CATEGORY2/II/00011056",
          "CATEGORY2/II/00011087",
          "CATEGORY2/II/00011110",
          "CATEGORY2/II/00011113",
          "CATEGORY2/II/00011167",
          "CATEGORY2/0/00011177",
          "CATEGORY2/I/00011187",
          "CATEGORY2/0/00011227",
          "CATEGORY2/II/00011241",
          "CATEGORY2/II/00011346",
          "CATEGORY2/II/00011358",
          "CATEGORY2/II/00011372",
          "CATEGORY2/II/00011401",
          "CATEGORY2/II/00011547",
          "CATEGORY2/II/00011741",
          "CATEGORY2/II/00011750",
          "CATEGORY2/II/00011803",
          "CATEGORY2/II/00011849",
          "CATEGORY2/I/00011850",
          "CATEGORY2/I/00011876",
          "CATEGORY2/II/00011950",
          "CATEGORY2/0/00011958",
          "CATEGORY2/II/00012020",
          "CATEGORY2/II/00012106",
          "CATEGORY2/II/00012206",
          "CATEGORY2/II/00012219",
          "CATEGORY2/II/00012220",
          "CATEGORY2/II/00012263",
          "CATEGORY2/II/00012267",
          "CATEGORY2/0/00012275",
          "CATEGORY2/I/00012275",
          "CATEGORY2/0/00012366",
          "CATEGORY2/II/00012492",
          "CATEGORY2/II/00012572",
          "CATEGORY2/II/00012633",
          "CATEGORY2/I/00012664",
          "CATEGORY2/II/00012666",
          "CATEGORY2/0/00012739",
          "CATEGORY2/I/00012740",
          "CATEGORY2/0/00012741",
          "CATEGORY2/I/00012822",
          "CATEGORY2/I/00012885",
          "CATEGORY2/0/00012923",
          "CATEGORY2/II/00012947",
          "CATEGORY2/II/00012975",
          "CATEGORY2/I/00013012",
          "CATEGORY2/II/00013044",
          "CATEGORY2/II/00013064",
          "CATEGORY2/I/00013091",
          "CATEGORY2/I/00013215",
          "CATEGORY2/II/00013383",
          "CATEGORY2/II/00013586",
          "CATEGORY2/III/00013591",
          "CATEGORY2/0/00013687",
          "CATEGORY2/0/00013834",
          "CATEGORY2/II/00013900",
          "CATEGORY2/II/00013952",
          "CATEGORY2/II/00014181",
          "CATEGORY2/II/00014361",
          "CATEGORY2/II/00014501",
          "CATEGORY2/II/00014509",
          "CATEGORY2/II/00014718",
          "CATEGORY2/0/00014889",
          "CATEGORY2/I/00014889",
          "CATEGORY2/II/00015077",
          "CATEGORY2/II/00015078",
          "CATEGORY2/II/00015118",
          "CATEGORY2/II/00015143",
          "CATEGORY2/II/00015179",
          "CATEGORY2/II/00015182",
          "CATEGORY2/II/00015349",
          "CATEGORY2/II/00015461",
          "CATEGORY2/0/00015471",
          "CATEGORY2/II/00015610",
          "CATEGORY2/II/00015684",
          "CATEGORY2/II/00015716",
          "CATEGORY2/II/00015718",
          "CATEGORY2/II/00015904",
          "CATEGORY2/II/00015927",
          "CATEGORY2/II/00015934",
          "CATEGORY2/II/00016005",
          "CATEGORY2/0/00016094",
          "CATEGORY2/II/00016094",
          "CATEGORY2/II/00016113",
          "CATEGORY2/II/00016121",
          "CATEGORY2/II/00016291",
          "CATEGORY2/II/00016353",
          "CATEGORY2/I/00016357",
          "CATEGORY2/II/00016397",
          "CATEGORY2/0/00016488",
          "CATEGORY2/II/00016794",
          "CATEGORY2/III/00016918",
          "CATEGORY2/I/00016948",
          "CATEGORY2/II/00016951",
          "CATEGORY2/III/00017024",
          "CATEGORY2/II/00017099",
          "CATEGORY2/II/00017173",
          "CATEGORY2/II/00017385",
          "CATEGORY2/I/00017391",
          "CATEGORY2/II/00017392",
          "CATEGORY2/I/00017468",
          "CATEGORY2/I/00017519",
          "CATEGORY2/I/00017540",
          "CATEGORY2/II/00017634",
          "CATEGORY2/II/00017676",
          "CATEGORY2/I/00017695",
          "CATEGORY2/II/00017703",
          "CATEGORY2/I/00017726",
          "CATEGORY2/II/00017772",
          "CATEGORY2/I/00017820",
          "CATEGORY2/II/00017823",
          "CATEGORY2/II/00017824",
          "CATEGORY2/II/00017847",
          "CATEGORY2/I/00017909",
          "CATEGORY2/I/00017978",
          "CATEGORY2/III/00018011",
          "CATEGORY2/I/00018171",
          "CATEGORY2/II/00018307",
          "CATEGORY2/II/00018580",
          "CATEGORY2/II/00018581",
          "CATEGORY2/II/00018584",
          "CATEGORY2/II/00018626",
          "CATEGORY2/I/00018660",
          "CATEGORY2/II/00018667",
          "CATEGORY2/0/00018825",
          "CATEGORY2/I/00018825",
          "CATEGORY2/0/00018921",
          "CATEGORY2/II/00018985",
          "CATEGORY2/III/00019049",
          "CATEGORY2/0/00019390",
          "CATEGORY2/0/00019610",
          "CATEGORY2/II/00019671",
          "CATEGORY2/II/00019748",
          "CATEGORY2/0/00019787",
          "CATEGORY2/II/00019787",
          "CATEGORY2/II/00019839",
          "CATEGORY2/II/00020230",
          "CATEGORY2/II/00020346",
          "CATEGORY2/I/00020382",
          "CATEGORY2/II/00020674",
          "CATEGORY2/0/00020682",
          "CATEGORY2/II/00020715",
          "CATEGORY2/II/00020976",
          "CATEGORY2/II/00021096",
          "CATEGORY2/0/00021289",
          "CATEGORY2/0/00022016",
          "CATEGORY2/II/00022113",
          "CATEGORY2/II/00023022",
          "CATEGORY2/II/00023151",
          "CATEGORY2/II/00023159",
          "CATEGORY2/I/00023288",
          "CATEGORY2/I/00023509",
          "CATEGORY2/II/00023741",
          "CATEGORY2/II/00023833",
          "CATEGORY2/II/00023852",
          "CATEGORY2/I/00023853",
          "CATEGORY2/II/00023899",
          "CATEGORY2/0/00023901",
          "CATEGORY2/II/00023918",
          "CATEGORY2/0/00024049",
          "CATEGORY2/I/00024132",
          "CATEGORY2/II/00024178",
          "CATEGORY2/I/00024299",
          "CATEGORY2/II/00024304",
          "CATEGORY2/II/00024727",
          "CATEGORY2/0/00024750",
          "CATEGORY2/0/00024872",
          "CATEGORY2/II/00024924",
          "CATEGORY2/0/00025076",
          "CATEGORY2/II/00025573",
          "CATEGORY2/I/00025575",
          "CATEGORY2/II/00025598",
          "CATEGORY2/II/00025804",
          "CATEGORY2/II/00025930",
          "CATEGORY2/I/00026009",
          "CATEGORY2/II/00026473",
          "CATEGORY2/I/00026642",
          "CATEGORY2/0/00026777",
          "CATEGORY2/II/00026793",
          "CATEGORY2/II/00026936",
          "CATEGORY2/I/00027216",
          "CATEGORY2/II/00027320",
          "CATEGORY2/III/00027929",
          "CATEGORY2/II/00028189",
          "CATEGORY2/II/00028244",
          "CATEGORY2/I/00028466",
          "CATEGORY2/II/00030606",
          "CATEGORY2/II/10098",
          "CATEGORY2/II/10135",
          "CATEGORY2/II/10182",
          "CATEGORY2/I/10229",
          "CATEGORY2/II/10251",
          "CATEGORY2/I/10385",
          "CATEGORY2/0/10401",
          "CATEGORY2/II/10402",
          "CATEGORY2/II/10434",
          "CATEGORY2/I/10439",
          "CATEGORY2/I/10464",
          "CATEGORY2/II/10467",
          "CATEGORY2/0/10498",
          "CATEGORY2/II/10603",
          "CATEGORY2/II/10669",
          "CATEGORY2/II/10739",
          "CATEGORY2/II/10743",
          "CATEGORY2/III/10751",
          "CATEGORY2/II/10776",
          "CATEGORY2/II/10827",
          "CATEGORY2/II/10831",
          "CATEGORY2/II/11056",
          "CATEGORY2/II/11087",
          "CATEGORY2/II/11110",
          "CATEGORY2/II/11113",
          "CATEGORY2/II/11167",
          "CATEGORY2/0/11177",
          "CATEGORY2/I/11187",
          "CATEGORY2/0/11227",
          "CATEGORY2/II/11241",
          "CATEGORY2/II/11346",
          "CATEGORY2/II/11358",
          "CATEGORY2/II/11372",
          "CATEGORY2/II/11401",
          "CATEGORY2/II/11547",
          "CATEGORY2/II/11741",
          "CATEGORY2/II/11750",
          "CATEGORY2/II/11803",
          "CATEGORY2/II/11849",
          "CATEGORY2/I/11850",
          "CATEGORY2/I/11876",
          "CATEGORY2/II/11950",
          "CATEGORY2/II/12020",
          "CATEGORY2/II/12106",
          "CATEGORY2/II/12206",
          "CATEGORY2/II/12219",
          "CATEGORY2/II/12220",
          "CATEGORY2/II/12267",
          "CATEGORY2/I/12275",
          "CATEGORY2/0/12366",
          "CATEGORY2/II/12492",
          "CATEGORY2/II/12572",
          "CATEGORY2/II/12633",
          "CATEGORY2/I/12664",
          "CATEGORY2/II/12666",
          "CATEGORY2/0/12739",
          "CATEGORY2/I/12740",
          "CATEGORY2/0/12741",
          "CATEGORY2/I/12822",
          "CATEGORY2/I/12885",
          "CATEGORY2/0/12923",
          "CATEGORY2/II/12947",
          "CATEGORY2/II/12975",
          "CATEGORY2/I/13012",
          "CATEGORY2/II/13044",
          "CATEGORY2/II/13064",
          "CATEGORY2/I/13091",
          "CATEGORY2/I/13215",
          "CATEGORY2/II/13383",
          "CATEGORY2/III/13591",
          "CATEGORY2/0/13687",
          "CATEGORY2/0/13834",
          "CATEGORY2/II/13900",
          "CATEGORY2/II/13952",
          "CATEGORY2/II/14181",
          "CATEGORY2/II/14361",
          "CATEGORY2/II/14501",
          "CATEGORY2/II/14509",
          "CATEGORY2/II/14718",
          "CATEGORY2/I/14889",
          "CATEGORY2/II/15077",
          "CATEGORY2/II/15078",
          "CATEGORY2/II/15118",
          "CATEGORY2/II/15143",
          "CATEGORY2/II/15179",
          "CATEGORY2/II/15182",
          "CATEGORY2/II/15349",
          "CATEGORY2/II/15461",
          "CATEGORY2/0/15471",
          "CATEGORY2/II/15610",
          "CATEGORY2/II/15684",
          "CATEGORY2/II/15716",
          "CATEGORY2/II/15718",
          "CATEGORY2/II/15927",
          "CATEGORY2/II/15934",
          "CATEGORY2/II/16005",
          "CATEGORY2/0/16094",
          "CATEGORY2/II/16121",
          "CATEGORY2/II/16291",
          "CATEGORY2/II/16353",
          "CATEGORY2/I/16357",
          "CATEGORY2/II/16397",
          "CATEGORY2/0/16488",
          "CATEGORY2/II/16794",
          "CATEGORY2/III/16918",
          "CATEGORY2/I/16948",
          "CATEGORY2/II/16951",
          "CATEGORY2/III/17024",
          "CATEGORY2/II/17099",
          "CATEGORY2/II/17173",
          "CATEGORY2/II/17385",
          "CATEGORY2/I/17391",
          "CATEGORY2/II/17392",
          "CATEGORY2/I/17519",
          "CATEGORY2/I/17540",
          "CATEGORY2/II/17634",
          "CATEGORY2/II/17676",
          "CATEGORY2/I/17695",
          "CATEGORY2/II/17703",
          "CATEGORY2/I/17726",
          "CATEGORY2/II/17772",
          "CATEGORY2/II/17823",
          "CATEGORY2/II/17824",
          "CATEGORY2/II/17847",
          "CATEGORY2/I/17909",
          "CATEGORY2/I/17978",
          "CATEGORY2/III/18011",
          "CATEGORY2/I/18171",
          "CATEGORY2/II/18307",
          "CATEGORY2/II/18580",
          "CATEGORY2/II/18581",
          "CATEGORY2/II/18584",
          "CATEGORY2/II/18626",
          "CATEGORY2/I/18660",
          "CATEGORY2/II/18667",
          "CATEGORY2/I/18825",
          "CATEGORY2/0/18921",
          "CATEGORY2/II/18985",
          "CATEGORY2/III/19049",
          "CATEGORY2/0/19390",
          "CATEGORY2/II/19671",
          "CATEGORY2/II/19748",
          "CATEGORY2/II/19839",
          "CATEGORY2/II/20230",
          "CATEGORY2/II/20346",
          "CATEGORY2/I/20382",
          "CATEGORY2/II/20976",
          "CATEGORY2/II/21096",
          "CATEGORY2/0/21289",
          "CATEGORY2/0/22016",
          "CATEGORY2/II/22113",
          "CATEGORY2/II/23022",
          "CATEGORY2/II/23151",
          "CATEGORY2/II/23159",
          "CATEGORY2/I/23288",
          "CATEGORY2/I/23509",
          "CATEGORY2/II/23741",
          "CATEGORY2/II/23833",
          "CATEGORY2/II/23852",
          "CATEGORY2/II/23899",
          "CATEGORY2/0/23901",
          "CATEGORY2/II/23918",
          "CATEGORY2/0/24049",
          "CATEGORY2/I/24132",
          "CATEGORY2/II/24178",
          "CATEGORY2/I/24299",
          "CATEGORY2/II/24304",
          "CATEGORY2/II/24727",
          "CATEGORY2/0/24750",
          "CATEGORY2/0/24872",
          "CATEGORY2/II/24924",
          "CATEGORY2/I/25575",
          "CATEGORY2/II/25930",
          "CATEGORY2/I/26009",
          "CATEGORY2/I/26642",
          "CATEGORY2/0/26777",
          "CATEGORY2/II/26793",
          "CATEGORY2/II/26936",
          "CATEGORY2/I/27216",
          "CATEGORY2/II/5617",
          "CATEGORY2/II/5883",
          "CATEGORY2/II/5945",
          "CATEGORY2/III/5946",
          "CATEGORY2/II/5947",
          "CATEGORY2/III/5948",
          "CATEGORY2/III/5987",
          "CATEGORY2/III/6206",
          "CATEGORY2/III/6207",
          "CATEGORY2/III/6208",
          "CATEGORY2/III/6209",
          "CATEGORY2/III/6210",
          "CATEGORY2/III/6211",
          "CATEGORY2/III/6212",
          "CATEGORY2/III/6213",
          "CATEGORY2/III/6214",
          "CATEGORY2/III/6215",
          "CATEGORY2/III/6216",
          "CATEGORY2/III/6217",
          "CATEGORY2/II/7632",
          "CATEGORY2/III/7633",
          "CATEGORY2/III/7634",
          "CATEGORY2/III/7733",
          "CATEGORY2/III/7734",
          "CATEGORY2/0/8215",
          "CATEGORY2/I/8251",
          "CATEGORY2/II/8258",
          "CATEGORY2/II/8271",
          "CATEGORY2/II/8281",
          "CATEGORY2/I/8289",
          "CATEGORY2/II/8317",
          "CATEGORY2/II/8318",
          "CATEGORY2/II/8325",
          "CATEGORY2/II/8351",
          "CATEGORY2/II/8353",
          "CATEGORY2/I/8370",
          "CATEGORY2/I/8378",
          "CATEGORY2/II/8388",
          "CATEGORY2/I/8389",
          "CATEGORY2/II/8398",
          "CATEGORY2/I/8438",
          "CATEGORY2/II/8489",
          "CATEGORY2/II/8502",
          "CATEGORY2/II/8519",
          "CATEGORY2/I/8539",
          "CATEGORY2/II/8564",
          "CATEGORY2/II/8671",
          "CATEGORY2/I/8711",
          "CATEGORY2/III/8720",
          "CATEGORY2/II/8741",
          "CATEGORY2/II/8746",
          "CATEGORY2/II/8786",
          "CATEGORY2/I/8880",
          "CATEGORY2/I/8881",
          "CATEGORY2/III/8956",
          "CATEGORY2/II/9010",
          "CATEGORY2/II/9089",
          "CATEGORY2/II/9090",
          "CATEGORY2/0/9093",
          "CATEGORY2/II/9104",
          "CATEGORY2/III/9116",
          "CATEGORY2/II/9123",
          "CATEGORY2/II/9145",
          "CATEGORY2/I/9148",
          "CATEGORY2/II/9153",
          "CATEGORY2/II/9188",
          "CATEGORY2/III/9251",
          "CATEGORY2/I/9274",
          "CATEGORY2/II/9288",
          "CATEGORY2/I/9298",
          "CATEGORY2/I/9379",
          "CATEGORY2/III/9409",
          "CATEGORY2/II/9431",
          "CATEGORY2/II/9437",
          "CATEGORY2/II/9478",
          "CATEGORY2/II/9483",
          "CATEGORY2/II/9505",
          "CATEGORY2/I/9562",
          "CATEGORY2/II/9620",
          "CATEGORY2/II/9641",
          "CATEGORY2/II/9682",
          "CATEGORY2/II/9850",
          "CATEGORY2/III/9886",
          "CATEGORY2/II/9888",
          "CATEGORY2/I/9979",
          "CATEGORY2/II/9982",
          "CATEGORY2/II/9988",
          "CATEGORY2/II/9989",
          "CATEGORY2/0",
          "CATEGORY2/I",
          "CATEGORY2/II",
          "CATEGORY2/III",
          "CATEGORY2"
         ],
         "labels": [
          "00005617",
          "00005883",
          "00005945",
          "00005946",
          "00005947",
          "00005948",
          "00005987",
          "00006206",
          "00006207",
          "00006208",
          "00006209",
          "00006210",
          "00006211",
          "00006212",
          "00006213",
          "00006214",
          "00006215",
          "00006216",
          "00006217",
          "00007632",
          "00007633",
          "00007634",
          "00007733",
          "00007734",
          "00008215",
          "00008251",
          "00008258",
          "00008271",
          "00008281",
          "00008282",
          "00008289",
          "00008317",
          "00008318",
          "00008325",
          "00008351",
          "00008353",
          "00008370",
          "00008378",
          "00008388",
          "00008389",
          "00008398",
          "00008438",
          "00008489",
          "00008502",
          "00008519",
          "00008539",
          "00008564",
          "00008671",
          "00008711",
          "00008720",
          "00008741",
          "00008746",
          "00008786",
          "00008880",
          "00008881",
          "00008956",
          "00009010",
          "00009089",
          "00009090",
          "00009093",
          "00009104",
          "00009116",
          "00009123",
          "00009144",
          "00009145",
          "00009148",
          "00009153",
          "00009183",
          "00009188",
          "00009251",
          "00009274",
          "00009288",
          "00009298",
          "00009379",
          "00009409",
          "00009431",
          "00009437",
          "00009478",
          "00009483",
          "00009505",
          "00009562",
          "00009593",
          "00009620",
          "00009641",
          "00009682",
          "00009850",
          "00009867",
          "00009886",
          "00009888",
          "00009979",
          "00009982",
          "00009988",
          "00009989",
          "00010098",
          "00010135",
          "00010182",
          "00010214",
          "00010229",
          "00010251",
          "00010385",
          "00010401",
          "00010401",
          "00010402",
          "00010434",
          "00010439",
          "00010464",
          "00010467",
          "00010498",
          "00010515",
          "00010603",
          "00010669",
          "00010739",
          "00010743",
          "00010751",
          "00010776",
          "00010827",
          "00010831",
          "00011056",
          "00011087",
          "00011110",
          "00011113",
          "00011167",
          "00011177",
          "00011187",
          "00011227",
          "00011241",
          "00011346",
          "00011358",
          "00011372",
          "00011401",
          "00011547",
          "00011741",
          "00011750",
          "00011803",
          "00011849",
          "00011850",
          "00011876",
          "00011950",
          "00011958",
          "00012020",
          "00012106",
          "00012206",
          "00012219",
          "00012220",
          "00012263",
          "00012267",
          "00012275",
          "00012275",
          "00012366",
          "00012492",
          "00012572",
          "00012633",
          "00012664",
          "00012666",
          "00012739",
          "00012740",
          "00012741",
          "00012822",
          "00012885",
          "00012923",
          "00012947",
          "00012975",
          "00013012",
          "00013044",
          "00013064",
          "00013091",
          "00013215",
          "00013383",
          "00013586",
          "00013591",
          "00013687",
          "00013834",
          "00013900",
          "00013952",
          "00014181",
          "00014361",
          "00014501",
          "00014509",
          "00014718",
          "00014889",
          "00014889",
          "00015077",
          "00015078",
          "00015118",
          "00015143",
          "00015179",
          "00015182",
          "00015349",
          "00015461",
          "00015471",
          "00015610",
          "00015684",
          "00015716",
          "00015718",
          "00015904",
          "00015927",
          "00015934",
          "00016005",
          "00016094",
          "00016094",
          "00016113",
          "00016121",
          "00016291",
          "00016353",
          "00016357",
          "00016397",
          "00016488",
          "00016794",
          "00016918",
          "00016948",
          "00016951",
          "00017024",
          "00017099",
          "00017173",
          "00017385",
          "00017391",
          "00017392",
          "00017468",
          "00017519",
          "00017540",
          "00017634",
          "00017676",
          "00017695",
          "00017703",
          "00017726",
          "00017772",
          "00017820",
          "00017823",
          "00017824",
          "00017847",
          "00017909",
          "00017978",
          "00018011",
          "00018171",
          "00018307",
          "00018580",
          "00018581",
          "00018584",
          "00018626",
          "00018660",
          "00018667",
          "00018825",
          "00018825",
          "00018921",
          "00018985",
          "00019049",
          "00019390",
          "00019610",
          "00019671",
          "00019748",
          "00019787",
          "00019787",
          "00019839",
          "00020230",
          "00020346",
          "00020382",
          "00020674",
          "00020682",
          "00020715",
          "00020976",
          "00021096",
          "00021289",
          "00022016",
          "00022113",
          "00023022",
          "00023151",
          "00023159",
          "00023288",
          "00023509",
          "00023741",
          "00023833",
          "00023852",
          "00023853",
          "00023899",
          "00023901",
          "00023918",
          "00024049",
          "00024132",
          "00024178",
          "00024299",
          "00024304",
          "00024727",
          "00024750",
          "00024872",
          "00024924",
          "00025076",
          "00025573",
          "00025575",
          "00025598",
          "00025804",
          "00025930",
          "00026009",
          "00026473",
          "00026642",
          "00026777",
          "00026793",
          "00026936",
          "00027216",
          "00027320",
          "00027929",
          "00028189",
          "00028244",
          "00028466",
          "00030606",
          "10098",
          "10135",
          "10182",
          "10229",
          "10251",
          "10385",
          "10401",
          "10402",
          "10434",
          "10439",
          "10464",
          "10467",
          "10498",
          "10603",
          "10669",
          "10739",
          "10743",
          "10751",
          "10776",
          "10827",
          "10831",
          "11056",
          "11087",
          "11110",
          "11113",
          "11167",
          "11177",
          "11187",
          "11227",
          "11241",
          "11346",
          "11358",
          "11372",
          "11401",
          "11547",
          "11741",
          "11750",
          "11803",
          "11849",
          "11850",
          "11876",
          "11950",
          "12020",
          "12106",
          "12206",
          "12219",
          "12220",
          "12267",
          "12275",
          "12366",
          "12492",
          "12572",
          "12633",
          "12664",
          "12666",
          "12739",
          "12740",
          "12741",
          "12822",
          "12885",
          "12923",
          "12947",
          "12975",
          "13012",
          "13044",
          "13064",
          "13091",
          "13215",
          "13383",
          "13591",
          "13687",
          "13834",
          "13900",
          "13952",
          "14181",
          "14361",
          "14501",
          "14509",
          "14718",
          "14889",
          "15077",
          "15078",
          "15118",
          "15143",
          "15179",
          "15182",
          "15349",
          "15461",
          "15471",
          "15610",
          "15684",
          "15716",
          "15718",
          "15927",
          "15934",
          "16005",
          "16094",
          "16121",
          "16291",
          "16353",
          "16357",
          "16397",
          "16488",
          "16794",
          "16918",
          "16948",
          "16951",
          "17024",
          "17099",
          "17173",
          "17385",
          "17391",
          "17392",
          "17519",
          "17540",
          "17634",
          "17676",
          "17695",
          "17703",
          "17726",
          "17772",
          "17823",
          "17824",
          "17847",
          "17909",
          "17978",
          "18011",
          "18171",
          "18307",
          "18580",
          "18581",
          "18584",
          "18626",
          "18660",
          "18667",
          "18825",
          "18921",
          "18985",
          "19049",
          "19390",
          "19671",
          "19748",
          "19839",
          "20230",
          "20346",
          "20382",
          "20976",
          "21096",
          "21289",
          "22016",
          "22113",
          "23022",
          "23151",
          "23159",
          "23288",
          "23509",
          "23741",
          "23833",
          "23852",
          "23899",
          "23901",
          "23918",
          "24049",
          "24132",
          "24178",
          "24299",
          "24304",
          "24727",
          "24750",
          "24872",
          "24924",
          "25575",
          "25930",
          "26009",
          "26642",
          "26777",
          "26793",
          "26936",
          "27216",
          "5617",
          "5883",
          "5945",
          "5946",
          "5947",
          "5948",
          "5987",
          "6206",
          "6207",
          "6208",
          "6209",
          "6210",
          "6211",
          "6212",
          "6213",
          "6214",
          "6215",
          "6216",
          "6217",
          "7632",
          "7633",
          "7634",
          "7733",
          "7734",
          "8215",
          "8251",
          "8258",
          "8271",
          "8281",
          "8289",
          "8317",
          "8318",
          "8325",
          "8351",
          "8353",
          "8370",
          "8378",
          "8388",
          "8389",
          "8398",
          "8438",
          "8489",
          "8502",
          "8519",
          "8539",
          "8564",
          "8671",
          "8711",
          "8720",
          "8741",
          "8746",
          "8786",
          "8880",
          "8881",
          "8956",
          "9010",
          "9089",
          "9090",
          "9093",
          "9104",
          "9116",
          "9123",
          "9145",
          "9148",
          "9153",
          "9188",
          "9251",
          "9274",
          "9288",
          "9298",
          "9379",
          "9409",
          "9431",
          "9437",
          "9478",
          "9483",
          "9505",
          "9562",
          "9620",
          "9641",
          "9682",
          "9850",
          "9886",
          "9888",
          "9979",
          "9982",
          "9988",
          "9989",
          "0",
          "I",
          "II",
          "III",
          "CATEGORY2"
         ],
         "marker": {
          "coloraxis": "coloraxis",
          "colors": [
           1632,
           3602,
           3987,
           4093,
           3596,
           1447,
           6004,
           6240,
           4876,
           1525,
           1286,
           789,
           4331,
           1185,
           720,
           435,
           2842.4753846153844,
           5008,
           591,
           4553,
           6238,
           930,
           665,
           894.4222488038278,
           2054,
           1669,
           39,
           5749,
           2029,
           1421,
           3295,
           4097,
           2864,
           5376,
           899,
           3408,
           2351,
           3536,
           25,
           88.14942528735632,
           4696,
           3736,
           4641,
           4612,
           882,
           3981,
           2905,
           3616,
           3667,
           7490,
           3030,
           4835,
           3726,
           1548,
           2896,
           453,
           43.76543209876543,
           1,
           2164,
           180,
           3566,
           4560,
           3794,
           611,
           135,
           2161,
           3035,
           1,
           3596,
           6470,
           3312,
           1,
           587,
           63,
           5826,
           184,
           2690,
           254,
           223,
           311,
           31,
           1,
           18,
           1048.665641025641,
           5365,
           4440,
           1,
           4715,
           22,
           1879,
           26,
           5188,
           3821,
           2100,
           3687,
           5042,
           1,
           107,
           2209,
           1541,
           1,
           3,
           47,
           277,
           2753,
           1836,
           846,
           87,
           23,
           5168,
           1,
           261,
           5146,
           3483,
           215,
           365,
           12,
           156,
           3946,
           15,
           748,
           181.71386430678467,
           112,
           990,
           382,
           999,
           146,
           174,
           185.02762430939225,
           4722,
           74,
           160,
           1103.693896713615,
           533,
           321,
           2748,
           758,
           1211,
           114,
           260,
           67,
           1283,
           1173,
           447,
           6,
           1981,
           473,
           414,
           1,
           90,
           14,
           4050,
           1006,
           3690,
           533,
           612,
           478,
           35,
           837,
           790,
           182,
           3694,
           3059,
           1325,
           37.666666666666664,
           2858,
           2328,
           870,
           223,
           5530,
           135,
           153,
           161,
           93,
           1118,
           366,
           5451,
           422,
           983,
           663,
           396,
           1051,
           1,
           2309,
           21,
           34,
           219,
           22,
           37,
           2569,
           5528,
           3423,
           263,
           12,
           484,
           322,
           1,
           279,
           2197,
           98,
           39,
           177,
           237.5940170940171,
           2164,
           2103,
           8,
           70,
           2163,
           3463,
           24,
           1115,
           3958,
           194,
           363,
           120,
           944,
           1,
           553,
           742,
           31,
           138.44,
           271,
           2773,
           183,
           884,
           5291,
           724,
           120,
           54,
           362,
           4516,
           1216,
           328,
           1760,
           1,
           3913,
           48,
           1992,
           452,
           732,
           9,
           2706,
           2862,
           90,
           4931,
           5773,
           693,
           120,
           12,
           633,
           4050,
           4192,
           266,
           21,
           374,
           882,
           13,
           378,
           113,
           218,
           107,
           195,
           270,
           5,
           26,
           537,
           3787.5097877033363,
           3011,
           31,
           137,
           388,
           289,
           89,
           137,
           33,
           20,
           101,
           1157,
           32,
           3351,
           271,
           135,
           106,
           21,
           200,
           1951,
           378,
           1388,
           260,
           42,
           50,
           1645,
           1091,
           434,
           1967,
           2,
           1810,
           30,
           180,
           21,
           8,
           494,
           1,
           68,
           659,
           1619,
           2967,
           17,
           788,
           636,
           1,
           9,
           104,
           931,
           437,
           155,
           57,
           2018,
           1,
           153,
           2056,
           1050,
           56,
           58,
           12,
           72,
           1770,
           1,
           166,
           148,
           99,
           482,
           173,
           157,
           38,
           117,
           147,
           2343,
           42,
           54,
           311,
           126,
           63,
           437,
           304,
           393,
           170,
           32,
           350,
           471,
           83,
           383,
           220,
           1,
           9,
           10,
           1029,
           451,
           1287,
           229,
           313,
           215,
           28,
           323,
           403,
           70,
           777,
           604,
           395,
           16,
           1159,
           1201,
           326,
           3908,
           110,
           79,
           69,
           38,
           254,
           73,
           2714,
           89,
           491,
           303,
           250,
           1,
           692,
           7,
           18,
           93,
           7,
           24,
           924,
           2459,
           618,
           161,
           23,
           222,
           1,
           57,
           1248,
           27,
           78,
           720,
           1260,
           5,
           12,
           334,
           1349,
           15,
           497,
           1963,
           87,
           98,
           61,
           270,
           1,
           378,
           59,
           22,
           141,
           994,
           150,
           388,
           3328,
           39,
           13,
           82,
           2337,
           461,
           156,
           297,
           1,
           2239,
           7,
           512,
           196,
           153,
           5,
           1763,
           59,
           1670,
           3683,
           143,
           8,
           198,
           101,
           11,
           30,
           420,
           128,
           23,
           117,
           177,
           3,
           8,
           295,
           2521,
           1303,
           62,
           134,
           250,
           178,
           53,
           3,
           16,
           84,
           368,
           10,
           1797,
           46,
           43,
           64,
           9,
           11,
           1238,
           24,
           829,
           387,
           15,
           2,
           585,
           51,
           2391,
           1416,
           1856,
           1714,
           1769,
           368,
           2722,
           3221,
           2388,
           574,
           448,
           515,
           1968,
           610,
           258,
           191,
           1574,
           2805,
           400,
           2091,
           61,
           508,
           278,
           582,
           964,
           615,
           20,
           1989,
           634,
           1711,
           1587,
           1165,
           3192,
           198,
           1580,
           1001,
           809,
           9,
           37,
           2657,
           1893,
           1272,
           1335,
           33,
           1951,
           1400,
           1902,
           1840,
           4317,
           1535,
           2391,
           1825,
           869,
           1327,
           42,
           11,
           1,
           864,
           130,
           1507,
           630,
           1332,
           54,
           643,
           1782,
           1511,
           2182,
           1784,
           1,
           131,
           30,
           2518,
           53,
           1069,
           1,
           163,
           258,
           4,
           1,
           480,
           1,
           1464,
           2142,
           9,
           596,
           17,
           2296,
           1807,
           1830.238812349982,
           2177.8375694088923,
           3063.986636576317,
           4102.851359436283,
           3073.647949079747
          ]
         },
         "name": "",
         "parents": [
          "CATEGORY2/II",
          "CATEGORY2/II",
          "CATEGORY2/II",
          "CATEGORY2/III",
          "CATEGORY2/II",
          "CATEGORY2/III",
          "CATEGORY2/III",
          "CATEGORY2/III",
          "CATEGORY2/III",
          "CATEGORY2/III",
          "CATEGORY2/III",
          "CATEGORY2/III",
          "CATEGORY2/III",
          "CATEGORY2/III",
          "CATEGORY2/III",
          "CATEGORY2/III",
          "CATEGORY2/III",
          "CATEGORY2/III",
          "CATEGORY2/III",
          "CATEGORY2/II",
          "CATEGORY2/III",
          "CATEGORY2/III",
          "CATEGORY2/III",
          "CATEGORY2/III",
          "CATEGORY2/0",
          "CATEGORY2/I",
          "CATEGORY2/II",
          "CATEGORY2/II",
          "CATEGORY2/II",
          "CATEGORY2/0",
          "CATEGORY2/I",
          "CATEGORY2/II",
          "CATEGORY2/II",
          "CATEGORY2/II",
          "CATEGORY2/II",
          "CATEGORY2/II",
          "CATEGORY2/I",
          "CATEGORY2/I",
          "CATEGORY2/II",
          "CATEGORY2/I",
          "CATEGORY2/II",
          "CATEGORY2/I",
          "CATEGORY2/II",
          "CATEGORY2/II",
          "CATEGORY2/II",
          "CATEGORY2/I",
          "CATEGORY2/II",
          "CATEGORY2/II",
          "CATEGORY2/I",
          "CATEGORY2/III",
          "CATEGORY2/II",
          "CATEGORY2/II",
          "CATEGORY2/II",
          "CATEGORY2/I",
          "CATEGORY2/I",
          "CATEGORY2/III",
          "CATEGORY2/II",
          "CATEGORY2/II",
          "CATEGORY2/II",
          "CATEGORY2/0",
          "CATEGORY2/II",
          "CATEGORY2/III",
          "CATEGORY2/II",
          "CATEGORY2/II",
          "CATEGORY2/II",
          "CATEGORY2/I",
          "CATEGORY2/II",
          "CATEGORY2/0",
          "CATEGORY2/II",
          "CATEGORY2/III",
          "CATEGORY2/I",
          "CATEGORY2/II",
          "CATEGORY2/I",
          "CATEGORY2/I",
          "CATEGORY2/III",
          "CATEGORY2/II",
          "CATEGORY2/II",
          "CATEGORY2/II",
          "CATEGORY2/II",
          "CATEGORY2/II",
          "CATEGORY2/I",
          "CATEGORY2/0",
          "CATEGORY2/II",
          "CATEGORY2/II",
          "CATEGORY2/II",
          "CATEGORY2/II",
          "CATEGORY2/I",
          "CATEGORY2/III",
          "CATEGORY2/II",
          "CATEGORY2/I",
          "CATEGORY2/II",
          "CATEGORY2/II",
          "CATEGORY2/II",
          "CATEGORY2/II",
          "CATEGORY2/II",
          "CATEGORY2/II",
          "CATEGORY2/0",
          "CATEGORY2/I",
          "CATEGORY2/II",
          "CATEGORY2/I",
          "CATEGORY2/0",
          "CATEGORY2/II",
          "CATEGORY2/II",
          "CATEGORY2/II",
          "CATEGORY2/I",
          "CATEGORY2/I",
          "CATEGORY2/II",
          "CATEGORY2/0",
          "CATEGORY2/II",
          "CATEGORY2/II",
          "CATEGORY2/II",
          "CATEGORY2/II",
          "CATEGORY2/II",
          "CATEGORY2/III",
          "CATEGORY2/II",
          "CATEGORY2/II",
          "CATEGORY2/II",
          "CATEGORY2/II",
          "CATEGORY2/II",
          "CATEGORY2/II",
          "CATEGORY2/II",
          "CATEGORY2/II",
          "CATEGORY2/0",
          "CATEGORY2/I",
          "CATEGORY2/0",
          "CATEGORY2/II",
          "CATEGORY2/II",
          "CATEGORY2/II",
          "CATEGORY2/II",
          "CATEGORY2/II",
          "CATEGORY2/II",
          "CATEGORY2/II",
          "CATEGORY2/II",
          "CATEGORY2/II",
          "CATEGORY2/II",
          "CATEGORY2/I",
          "CATEGORY2/I",
          "CATEGORY2/II",
          "CATEGORY2/0",
          "CATEGORY2/II",
          "CATEGORY2/II",
          "CATEGORY2/II",
          "CATEGORY2/II",
          "CATEGORY2/II",
          "CATEGORY2/II",
          "CATEGORY2/II",
          "CATEGORY2/0",
          "CATEGORY2/I",
          "CATEGORY2/0",
          "CATEGORY2/II",
          "CATEGORY2/II",
          "CATEGORY2/II",
          "CATEGORY2/I",
          "CATEGORY2/II",
          "CATEGORY2/0",
          "CATEGORY2/I",
          "CATEGORY2/0",
          "CATEGORY2/I",
          "CATEGORY2/I",
          "CATEGORY2/0",
          "CATEGORY2/II",
          "CATEGORY2/II",
          "CATEGORY2/I",
          "CATEGORY2/II",
          "CATEGORY2/II",
          "CATEGORY2/I",
          "CATEGORY2/I",
          "CATEGORY2/II",
          "CATEGORY2/II",
          "CATEGORY2/III",
          "CATEGORY2/0",
          "CATEGORY2/0",
          "CATEGORY2/II",
          "CATEGORY2/II",
          "CATEGORY2/II",
          "CATEGORY2/II",
          "CATEGORY2/II",
          "CATEGORY2/II",
          "CATEGORY2/II",
          "CATEGORY2/0",
          "CATEGORY2/I",
          "CATEGORY2/II",
          "CATEGORY2/II",
          "CATEGORY2/II",
          "CATEGORY2/II",
          "CATEGORY2/II",
          "CATEGORY2/II",
          "CATEGORY2/II",
          "CATEGORY2/II",
          "CATEGORY2/0",
          "CATEGORY2/II",
          "CATEGORY2/II",
          "CATEGORY2/II",
          "CATEGORY2/II",
          "CATEGORY2/II",
          "CATEGORY2/II",
          "CATEGORY2/II",
          "CATEGORY2/II",
          "CATEGORY2/0",
          "CATEGORY2/II",
          "CATEGORY2/II",
          "CATEGORY2/II",
          "CATEGORY2/II",
          "CATEGORY2/II",
          "CATEGORY2/I",
          "CATEGORY2/II",
          "CATEGORY2/0",
          "CATEGORY2/II",
          "CATEGORY2/III",
          "CATEGORY2/I",
          "CATEGORY2/II",
          "CATEGORY2/III",
          "CATEGORY2/II",
          "CATEGORY2/II",
          "CATEGORY2/II",
          "CATEGORY2/I",
          "CATEGORY2/II",
          "CATEGORY2/I",
          "CATEGORY2/I",
          "CATEGORY2/I",
          "CATEGORY2/II",
          "CATEGORY2/II",
          "CATEGORY2/I",
          "CATEGORY2/II",
          "CATEGORY2/I",
          "CATEGORY2/II",
          "CATEGORY2/I",
          "CATEGORY2/II",
          "CATEGORY2/II",
          "CATEGORY2/II",
          "CATEGORY2/I",
          "CATEGORY2/I",
          "CATEGORY2/III",
          "CATEGORY2/I",
          "CATEGORY2/II",
          "CATEGORY2/II",
          "CATEGORY2/II",
          "CATEGORY2/II",
          "CATEGORY2/II",
          "CATEGORY2/I",
          "CATEGORY2/II",
          "CATEGORY2/0",
          "CATEGORY2/I",
          "CATEGORY2/0",
          "CATEGORY2/II",
          "CATEGORY2/III",
          "CATEGORY2/0",
          "CATEGORY2/0",
          "CATEGORY2/II",
          "CATEGORY2/II",
          "CATEGORY2/0",
          "CATEGORY2/II",
          "CATEGORY2/II",
          "CATEGORY2/II",
          "CATEGORY2/II",
          "CATEGORY2/I",
          "CATEGORY2/II",
          "CATEGORY2/0",
          "CATEGORY2/II",
          "CATEGORY2/II",
          "CATEGORY2/II",
          "CATEGORY2/0",
          "CATEGORY2/0",
          "CATEGORY2/II",
          "CATEGORY2/II",
          "CATEGORY2/II",
          "CATEGORY2/II",
          "CATEGORY2/I",
          "CATEGORY2/I",
          "CATEGORY2/II",
          "CATEGORY2/II",
          "CATEGORY2/II",
          "CATEGORY2/I",
          "CATEGORY2/II",
          "CATEGORY2/0",
          "CATEGORY2/II",
          "CATEGORY2/0",
          "CATEGORY2/I",
          "CATEGORY2/II",
          "CATEGORY2/I",
          "CATEGORY2/II",
          "CATEGORY2/II",
          "CATEGORY2/0",
          "CATEGORY2/0",
          "CATEGORY2/II",
          "CATEGORY2/0",
          "CATEGORY2/II",
          "CATEGORY2/I",
          "CATEGORY2/II",
          "CATEGORY2/II",
          "CATEGORY2/II",
          "CATEGORY2/I",
          "CATEGORY2/II",
          "CATEGORY2/I",
          "CATEGORY2/0",
          "CATEGORY2/II",
          "CATEGORY2/II",
          "CATEGORY2/I",
          "CATEGORY2/II",
          "CATEGORY2/III",
          "CATEGORY2/II",
          "CATEGORY2/II",
          "CATEGORY2/I",
          "CATEGORY2/II",
          "CATEGORY2/II",
          "CATEGORY2/II",
          "CATEGORY2/II",
          "CATEGORY2/I",
          "CATEGORY2/II",
          "CATEGORY2/I",
          "CATEGORY2/0",
          "CATEGORY2/II",
          "CATEGORY2/II",
          "CATEGORY2/I",
          "CATEGORY2/I",
          "CATEGORY2/II",
          "CATEGORY2/0",
          "CATEGORY2/II",
          "CATEGORY2/II",
          "CATEGORY2/II",
          "CATEGORY2/II",
          "CATEGORY2/III",
          "CATEGORY2/II",
          "CATEGORY2/II",
          "CATEGORY2/II",
          "CATEGORY2/II",
          "CATEGORY2/II",
          "CATEGORY2/II",
          "CATEGORY2/II",
          "CATEGORY2/II",
          "CATEGORY2/0",
          "CATEGORY2/I",
          "CATEGORY2/0",
          "CATEGORY2/II",
          "CATEGORY2/II",
          "CATEGORY2/II",
          "CATEGORY2/II",
          "CATEGORY2/II",
          "CATEGORY2/II",
          "CATEGORY2/II",
          "CATEGORY2/II",
          "CATEGORY2/II",
          "CATEGORY2/II",
          "CATEGORY2/I",
          "CATEGORY2/I",
          "CATEGORY2/II",
          "CATEGORY2/II",
          "CATEGORY2/II",
          "CATEGORY2/II",
          "CATEGORY2/II",
          "CATEGORY2/II",
          "CATEGORY2/II",
          "CATEGORY2/I",
          "CATEGORY2/0",
          "CATEGORY2/II",
          "CATEGORY2/II",
          "CATEGORY2/II",
          "CATEGORY2/I",
          "CATEGORY2/II",
          "CATEGORY2/0",
          "CATEGORY2/I",
          "CATEGORY2/0",
          "CATEGORY2/I",
          "CATEGORY2/I",
          "CATEGORY2/0",
          "CATEGORY2/II",
          "CATEGORY2/II",
          "CATEGORY2/I",
          "CATEGORY2/II",
          "CATEGORY2/II",
          "CATEGORY2/I",
          "CATEGORY2/I",
          "CATEGORY2/II",
          "CATEGORY2/III",
          "CATEGORY2/0",
          "CATEGORY2/0",
          "CATEGORY2/II",
          "CATEGORY2/II",
          "CATEGORY2/II",
          "CATEGORY2/II",
          "CATEGORY2/II",
          "CATEGORY2/II",
          "CATEGORY2/II",
          "CATEGORY2/I",
          "CATEGORY2/II",
          "CATEGORY2/II",
          "CATEGORY2/II",
          "CATEGORY2/II",
          "CATEGORY2/II",
          "CATEGORY2/II",
          "CATEGORY2/II",
          "CATEGORY2/II",
          "CATEGORY2/0",
          "CATEGORY2/II",
          "CATEGORY2/II",
          "CATEGORY2/II",
          "CATEGORY2/II",
          "CATEGORY2/II",
          "CATEGORY2/II",
          "CATEGORY2/II",
          "CATEGORY2/0",
          "CATEGORY2/II",
          "CATEGORY2/II",
          "CATEGORY2/II",
          "CATEGORY2/I",
          "CATEGORY2/II",
          "CATEGORY2/0",
          "CATEGORY2/II",
          "CATEGORY2/III",
          "CATEGORY2/I",
          "CATEGORY2/II",
          "CATEGORY2/III",
          "CATEGORY2/II",
          "CATEGORY2/II",
          "CATEGORY2/II",
          "CATEGORY2/I",
          "CATEGORY2/II",
          "CATEGORY2/I",
          "CATEGORY2/I",
          "CATEGORY2/II",
          "CATEGORY2/II",
          "CATEGORY2/I",
          "CATEGORY2/II",
          "CATEGORY2/I",
          "CATEGORY2/II",
          "CATEGORY2/II",
          "CATEGORY2/II",
          "CATEGORY2/II",
          "CATEGORY2/I",
          "CATEGORY2/I",
          "CATEGORY2/III",
          "CATEGORY2/I",
          "CATEGORY2/II",
          "CATEGORY2/II",
          "CATEGORY2/II",
          "CATEGORY2/II",
          "CATEGORY2/II",
          "CATEGORY2/I",
          "CATEGORY2/II",
          "CATEGORY2/I",
          "CATEGORY2/0",
          "CATEGORY2/II",
          "CATEGORY2/III",
          "CATEGORY2/0",
          "CATEGORY2/II",
          "CATEGORY2/II",
          "CATEGORY2/II",
          "CATEGORY2/II",
          "CATEGORY2/II",
          "CATEGORY2/I",
          "CATEGORY2/II",
          "CATEGORY2/II",
          "CATEGORY2/0",
          "CATEGORY2/0",
          "CATEGORY2/II",
          "CATEGORY2/II",
          "CATEGORY2/II",
          "CATEGORY2/II",
          "CATEGORY2/I",
          "CATEGORY2/I",
          "CATEGORY2/II",
          "CATEGORY2/II",
          "CATEGORY2/II",
          "CATEGORY2/II",
          "CATEGORY2/0",
          "CATEGORY2/II",
          "CATEGORY2/0",
          "CATEGORY2/I",
          "CATEGORY2/II",
          "CATEGORY2/I",
          "CATEGORY2/II",
          "CATEGORY2/II",
          "CATEGORY2/0",
          "CATEGORY2/0",
          "CATEGORY2/II",
          "CATEGORY2/I",
          "CATEGORY2/II",
          "CATEGORY2/I",
          "CATEGORY2/I",
          "CATEGORY2/0",
          "CATEGORY2/II",
          "CATEGORY2/II",
          "CATEGORY2/I",
          "CATEGORY2/II",
          "CATEGORY2/II",
          "CATEGORY2/II",
          "CATEGORY2/III",
          "CATEGORY2/II",
          "CATEGORY2/III",
          "CATEGORY2/III",
          "CATEGORY2/III",
          "CATEGORY2/III",
          "CATEGORY2/III",
          "CATEGORY2/III",
          "CATEGORY2/III",
          "CATEGORY2/III",
          "CATEGORY2/III",
          "CATEGORY2/III",
          "CATEGORY2/III",
          "CATEGORY2/III",
          "CATEGORY2/III",
          "CATEGORY2/III",
          "CATEGORY2/II",
          "CATEGORY2/III",
          "CATEGORY2/III",
          "CATEGORY2/III",
          "CATEGORY2/III",
          "CATEGORY2/0",
          "CATEGORY2/I",
          "CATEGORY2/II",
          "CATEGORY2/II",
          "CATEGORY2/II",
          "CATEGORY2/I",
          "CATEGORY2/II",
          "CATEGORY2/II",
          "CATEGORY2/II",
          "CATEGORY2/II",
          "CATEGORY2/II",
          "CATEGORY2/I",
          "CATEGORY2/I",
          "CATEGORY2/II",
          "CATEGORY2/I",
          "CATEGORY2/II",
          "CATEGORY2/I",
          "CATEGORY2/II",
          "CATEGORY2/II",
          "CATEGORY2/II",
          "CATEGORY2/I",
          "CATEGORY2/II",
          "CATEGORY2/II",
          "CATEGORY2/I",
          "CATEGORY2/III",
          "CATEGORY2/II",
          "CATEGORY2/II",
          "CATEGORY2/II",
          "CATEGORY2/I",
          "CATEGORY2/I",
          "CATEGORY2/III",
          "CATEGORY2/II",
          "CATEGORY2/II",
          "CATEGORY2/II",
          "CATEGORY2/0",
          "CATEGORY2/II",
          "CATEGORY2/III",
          "CATEGORY2/II",
          "CATEGORY2/II",
          "CATEGORY2/I",
          "CATEGORY2/II",
          "CATEGORY2/II",
          "CATEGORY2/III",
          "CATEGORY2/I",
          "CATEGORY2/II",
          "CATEGORY2/I",
          "CATEGORY2/I",
          "CATEGORY2/III",
          "CATEGORY2/II",
          "CATEGORY2/II",
          "CATEGORY2/II",
          "CATEGORY2/II",
          "CATEGORY2/II",
          "CATEGORY2/I",
          "CATEGORY2/II",
          "CATEGORY2/II",
          "CATEGORY2/II",
          "CATEGORY2/II",
          "CATEGORY2/III",
          "CATEGORY2/II",
          "CATEGORY2/I",
          "CATEGORY2/II",
          "CATEGORY2/II",
          "CATEGORY2/II",
          "CATEGORY2",
          "CATEGORY2",
          "CATEGORY2",
          "CATEGORY2",
          ""
         ],
         "type": "treemap",
         "values": [
          1632,
          3602,
          3987,
          4093,
          3596,
          1447,
          6004,
          6240,
          4876,
          1525,
          1286,
          789,
          4331,
          1185,
          720,
          435,
          5200,
          5008,
          591,
          4553,
          6238,
          930,
          665,
          1672,
          2054,
          1669,
          39,
          5749,
          2029,
          1421,
          3295,
          4097,
          2864,
          5376,
          899,
          3408,
          2351,
          3536,
          25,
          174,
          4696,
          3736,
          4641,
          4612,
          882,
          3981,
          2905,
          3616,
          3667,
          7490,
          3030,
          4835,
          3726,
          1548,
          2896,
          453,
          81,
          1,
          2164,
          180,
          3566,
          4560,
          3794,
          611,
          135,
          2161,
          3035,
          1,
          3596,
          6470,
          3312,
          2,
          587,
          63,
          5826,
          184,
          2690,
          254,
          223,
          311,
          31,
          1,
          18,
          1950,
          5365,
          4440,
          1,
          4715,
          22,
          1879,
          26,
          5188,
          3821,
          2100,
          3687,
          5042,
          1,
          107,
          2209,
          1541,
          1,
          3,
          47,
          277,
          2753,
          1836,
          846,
          87,
          23,
          5168,
          1,
          261,
          5146,
          3483,
          215,
          365,
          12,
          156,
          3946,
          15,
          748,
          339,
          112,
          990,
          382,
          999,
          146,
          174,
          362,
          4722,
          74,
          160,
          2130,
          533,
          321,
          2748,
          758,
          1211,
          114,
          260,
          67,
          1283,
          1173,
          447,
          6,
          1981,
          473,
          414,
          1,
          90,
          14,
          4050,
          1006,
          3690,
          533,
          612,
          478,
          35,
          837,
          790,
          182,
          3694,
          3059,
          1325,
          75,
          2858,
          2328,
          870,
          223,
          5530,
          135,
          153,
          161,
          93,
          1118,
          366,
          5451,
          422,
          983,
          663,
          396,
          1051,
          1,
          2309,
          21,
          34,
          219,
          22,
          37,
          2569,
          5528,
          3423,
          263,
          12,
          484,
          322,
          1,
          279,
          2197,
          98,
          39,
          177,
          468,
          2164,
          2103,
          8,
          70,
          2163,
          3463,
          24,
          1115,
          3958,
          194,
          363,
          120,
          944,
          1,
          553,
          742,
          31,
          200,
          271,
          2773,
          183,
          884,
          5291,
          724,
          120,
          54,
          362,
          4516,
          1216,
          328,
          1760,
          1,
          3913,
          48,
          1992,
          452,
          732,
          9,
          2706,
          2862,
          90,
          4931,
          5773,
          693,
          120,
          12,
          633,
          4050,
          4192,
          266,
          21,
          374,
          882,
          13,
          378,
          113,
          218,
          107,
          195,
          270,
          5,
          26,
          537,
          7254,
          3011,
          31,
          137,
          388,
          289,
          89,
          137,
          33,
          20,
          101,
          1157,
          32,
          3351,
          271,
          135,
          106,
          21,
          200,
          1951,
          378,
          1388,
          260,
          42,
          50,
          1645,
          1091,
          434,
          1967,
          2,
          1810,
          30,
          180,
          21,
          8,
          494,
          1,
          68,
          659,
          1619,
          2967,
          17,
          788,
          636,
          1,
          9,
          104,
          931,
          437,
          155,
          57,
          2018,
          1,
          153,
          2056,
          1050,
          56,
          58,
          12,
          72,
          1770,
          1,
          166,
          148,
          99,
          482,
          173,
          157,
          38,
          117,
          147,
          2343,
          42,
          54,
          311,
          126,
          63,
          437,
          304,
          393,
          170,
          32,
          350,
          471,
          83,
          383,
          220,
          1,
          9,
          10,
          1029,
          451,
          1287,
          229,
          313,
          215,
          28,
          323,
          403,
          70,
          777,
          604,
          395,
          16,
          1159,
          1201,
          326,
          3908,
          110,
          79,
          69,
          38,
          254,
          73,
          2714,
          89,
          491,
          303,
          250,
          1,
          692,
          7,
          18,
          93,
          7,
          24,
          924,
          2459,
          618,
          161,
          23,
          222,
          1,
          57,
          1248,
          27,
          78,
          720,
          1260,
          5,
          12,
          334,
          1349,
          15,
          497,
          1963,
          87,
          98,
          61,
          270,
          1,
          378,
          59,
          22,
          141,
          994,
          150,
          388,
          3328,
          39,
          13,
          82,
          2337,
          461,
          156,
          297,
          1,
          2239,
          7,
          512,
          196,
          153,
          5,
          1763,
          59,
          1670,
          3683,
          143,
          8,
          198,
          101,
          11,
          30,
          420,
          128,
          23,
          117,
          177,
          3,
          8,
          295,
          2521,
          1303,
          62,
          134,
          250,
          178,
          53,
          3,
          16,
          84,
          368,
          10,
          1797,
          46,
          43,
          64,
          9,
          11,
          1238,
          24,
          829,
          387,
          15,
          2,
          585,
          51,
          2391,
          1416,
          1856,
          1714,
          1769,
          368,
          2722,
          3221,
          2388,
          574,
          448,
          515,
          1968,
          610,
          258,
          191,
          1574,
          2805,
          400,
          2091,
          61,
          508,
          278,
          582,
          964,
          615,
          20,
          1989,
          634,
          1711,
          1587,
          1165,
          3192,
          198,
          1580,
          1001,
          809,
          9,
          37,
          2657,
          1893,
          1272,
          1335,
          33,
          1951,
          1400,
          1902,
          1840,
          4317,
          1535,
          2391,
          1825,
          869,
          1327,
          42,
          11,
          1,
          864,
          130,
          1507,
          630,
          1332,
          54,
          643,
          1782,
          1511,
          2182,
          1784,
          1,
          131,
          30,
          2518,
          53,
          1069,
          1,
          163,
          258,
          4,
          1,
          480,
          1,
          1464,
          2142,
          9,
          596,
          17,
          2296,
          1807,
          30413,
          126965,
          338536,
          150430,
          646344
         ]
        }
       ],
       "layout": {
        "coloraxis": {
         "colorbar": {
          "title": {
           "text": "DIAGNOSIS"
          }
         },
         "colorscale": [
          [
           0,
           "#0d0887"
          ],
          [
           0.1111111111111111,
           "#46039f"
          ],
          [
           0.2222222222222222,
           "#7201a8"
          ],
          [
           0.3333333333333333,
           "#9c179e"
          ],
          [
           0.4444444444444444,
           "#bd3786"
          ],
          [
           0.5555555555555556,
           "#d8576b"
          ],
          [
           0.6666666666666666,
           "#ed7953"
          ],
          [
           0.7777777777777778,
           "#fb9f3a"
          ],
          [
           0.8888888888888888,
           "#fdca26"
          ],
          [
           1,
           "#f0f921"
          ]
         ]
        },
        "legend": {
         "tracegroupgap": 0
        },
        "margin": {
         "t": 60
        },
        "template": {
         "data": {
          "bar": [
           {
            "error_x": {
             "color": "#2a3f5f"
            },
            "error_y": {
             "color": "#2a3f5f"
            },
            "marker": {
             "line": {
              "color": "#E5ECF6",
              "width": 0.5
             },
             "pattern": {
              "fillmode": "overlay",
              "size": 10,
              "solidity": 0.2
             }
            },
            "type": "bar"
           }
          ],
          "barpolar": [
           {
            "marker": {
             "line": {
              "color": "#E5ECF6",
              "width": 0.5
             },
             "pattern": {
              "fillmode": "overlay",
              "size": 10,
              "solidity": 0.2
             }
            },
            "type": "barpolar"
           }
          ],
          "carpet": [
           {
            "aaxis": {
             "endlinecolor": "#2a3f5f",
             "gridcolor": "white",
             "linecolor": "white",
             "minorgridcolor": "white",
             "startlinecolor": "#2a3f5f"
            },
            "baxis": {
             "endlinecolor": "#2a3f5f",
             "gridcolor": "white",
             "linecolor": "white",
             "minorgridcolor": "white",
             "startlinecolor": "#2a3f5f"
            },
            "type": "carpet"
           }
          ],
          "choropleth": [
           {
            "colorbar": {
             "outlinewidth": 0,
             "ticks": ""
            },
            "type": "choropleth"
           }
          ],
          "contour": [
           {
            "colorbar": {
             "outlinewidth": 0,
             "ticks": ""
            },
            "colorscale": [
             [
              0,
              "#0d0887"
             ],
             [
              0.1111111111111111,
              "#46039f"
             ],
             [
              0.2222222222222222,
              "#7201a8"
             ],
             [
              0.3333333333333333,
              "#9c179e"
             ],
             [
              0.4444444444444444,
              "#bd3786"
             ],
             [
              0.5555555555555556,
              "#d8576b"
             ],
             [
              0.6666666666666666,
              "#ed7953"
             ],
             [
              0.7777777777777778,
              "#fb9f3a"
             ],
             [
              0.8888888888888888,
              "#fdca26"
             ],
             [
              1,
              "#f0f921"
             ]
            ],
            "type": "contour"
           }
          ],
          "contourcarpet": [
           {
            "colorbar": {
             "outlinewidth": 0,
             "ticks": ""
            },
            "type": "contourcarpet"
           }
          ],
          "heatmap": [
           {
            "colorbar": {
             "outlinewidth": 0,
             "ticks": ""
            },
            "colorscale": [
             [
              0,
              "#0d0887"
             ],
             [
              0.1111111111111111,
              "#46039f"
             ],
             [
              0.2222222222222222,
              "#7201a8"
             ],
             [
              0.3333333333333333,
              "#9c179e"
             ],
             [
              0.4444444444444444,
              "#bd3786"
             ],
             [
              0.5555555555555556,
              "#d8576b"
             ],
             [
              0.6666666666666666,
              "#ed7953"
             ],
             [
              0.7777777777777778,
              "#fb9f3a"
             ],
             [
              0.8888888888888888,
              "#fdca26"
             ],
             [
              1,
              "#f0f921"
             ]
            ],
            "type": "heatmap"
           }
          ],
          "heatmapgl": [
           {
            "colorbar": {
             "outlinewidth": 0,
             "ticks": ""
            },
            "colorscale": [
             [
              0,
              "#0d0887"
             ],
             [
              0.1111111111111111,
              "#46039f"
             ],
             [
              0.2222222222222222,
              "#7201a8"
             ],
             [
              0.3333333333333333,
              "#9c179e"
             ],
             [
              0.4444444444444444,
              "#bd3786"
             ],
             [
              0.5555555555555556,
              "#d8576b"
             ],
             [
              0.6666666666666666,
              "#ed7953"
             ],
             [
              0.7777777777777778,
              "#fb9f3a"
             ],
             [
              0.8888888888888888,
              "#fdca26"
             ],
             [
              1,
              "#f0f921"
             ]
            ],
            "type": "heatmapgl"
           }
          ],
          "histogram": [
           {
            "marker": {
             "pattern": {
              "fillmode": "overlay",
              "size": 10,
              "solidity": 0.2
             }
            },
            "type": "histogram"
           }
          ],
          "histogram2d": [
           {
            "colorbar": {
             "outlinewidth": 0,
             "ticks": ""
            },
            "colorscale": [
             [
              0,
              "#0d0887"
             ],
             [
              0.1111111111111111,
              "#46039f"
             ],
             [
              0.2222222222222222,
              "#7201a8"
             ],
             [
              0.3333333333333333,
              "#9c179e"
             ],
             [
              0.4444444444444444,
              "#bd3786"
             ],
             [
              0.5555555555555556,
              "#d8576b"
             ],
             [
              0.6666666666666666,
              "#ed7953"
             ],
             [
              0.7777777777777778,
              "#fb9f3a"
             ],
             [
              0.8888888888888888,
              "#fdca26"
             ],
             [
              1,
              "#f0f921"
             ]
            ],
            "type": "histogram2d"
           }
          ],
          "histogram2dcontour": [
           {
            "colorbar": {
             "outlinewidth": 0,
             "ticks": ""
            },
            "colorscale": [
             [
              0,
              "#0d0887"
             ],
             [
              0.1111111111111111,
              "#46039f"
             ],
             [
              0.2222222222222222,
              "#7201a8"
             ],
             [
              0.3333333333333333,
              "#9c179e"
             ],
             [
              0.4444444444444444,
              "#bd3786"
             ],
             [
              0.5555555555555556,
              "#d8576b"
             ],
             [
              0.6666666666666666,
              "#ed7953"
             ],
             [
              0.7777777777777778,
              "#fb9f3a"
             ],
             [
              0.8888888888888888,
              "#fdca26"
             ],
             [
              1,
              "#f0f921"
             ]
            ],
            "type": "histogram2dcontour"
           }
          ],
          "mesh3d": [
           {
            "colorbar": {
             "outlinewidth": 0,
             "ticks": ""
            },
            "type": "mesh3d"
           }
          ],
          "parcoords": [
           {
            "line": {
             "colorbar": {
              "outlinewidth": 0,
              "ticks": ""
             }
            },
            "type": "parcoords"
           }
          ],
          "pie": [
           {
            "automargin": true,
            "type": "pie"
           }
          ],
          "scatter": [
           {
            "marker": {
             "colorbar": {
              "outlinewidth": 0,
              "ticks": ""
             }
            },
            "type": "scatter"
           }
          ],
          "scatter3d": [
           {
            "line": {
             "colorbar": {
              "outlinewidth": 0,
              "ticks": ""
             }
            },
            "marker": {
             "colorbar": {
              "outlinewidth": 0,
              "ticks": ""
             }
            },
            "type": "scatter3d"
           }
          ],
          "scattercarpet": [
           {
            "marker": {
             "colorbar": {
              "outlinewidth": 0,
              "ticks": ""
             }
            },
            "type": "scattercarpet"
           }
          ],
          "scattergeo": [
           {
            "marker": {
             "colorbar": {
              "outlinewidth": 0,
              "ticks": ""
             }
            },
            "type": "scattergeo"
           }
          ],
          "scattergl": [
           {
            "marker": {
             "colorbar": {
              "outlinewidth": 0,
              "ticks": ""
             }
            },
            "type": "scattergl"
           }
          ],
          "scattermapbox": [
           {
            "marker": {
             "colorbar": {
              "outlinewidth": 0,
              "ticks": ""
             }
            },
            "type": "scattermapbox"
           }
          ],
          "scatterpolar": [
           {
            "marker": {
             "colorbar": {
              "outlinewidth": 0,
              "ticks": ""
             }
            },
            "type": "scatterpolar"
           }
          ],
          "scatterpolargl": [
           {
            "marker": {
             "colorbar": {
              "outlinewidth": 0,
              "ticks": ""
             }
            },
            "type": "scatterpolargl"
           }
          ],
          "scatterternary": [
           {
            "marker": {
             "colorbar": {
              "outlinewidth": 0,
              "ticks": ""
             }
            },
            "type": "scatterternary"
           }
          ],
          "surface": [
           {
            "colorbar": {
             "outlinewidth": 0,
             "ticks": ""
            },
            "colorscale": [
             [
              0,
              "#0d0887"
             ],
             [
              0.1111111111111111,
              "#46039f"
             ],
             [
              0.2222222222222222,
              "#7201a8"
             ],
             [
              0.3333333333333333,
              "#9c179e"
             ],
             [
              0.4444444444444444,
              "#bd3786"
             ],
             [
              0.5555555555555556,
              "#d8576b"
             ],
             [
              0.6666666666666666,
              "#ed7953"
             ],
             [
              0.7777777777777778,
              "#fb9f3a"
             ],
             [
              0.8888888888888888,
              "#fdca26"
             ],
             [
              1,
              "#f0f921"
             ]
            ],
            "type": "surface"
           }
          ],
          "table": [
           {
            "cells": {
             "fill": {
              "color": "#EBF0F8"
             },
             "line": {
              "color": "white"
             }
            },
            "header": {
             "fill": {
              "color": "#C8D4E3"
             },
             "line": {
              "color": "white"
             }
            },
            "type": "table"
           }
          ]
         },
         "layout": {
          "annotationdefaults": {
           "arrowcolor": "#2a3f5f",
           "arrowhead": 0,
           "arrowwidth": 1
          },
          "autotypenumbers": "strict",
          "coloraxis": {
           "colorbar": {
            "outlinewidth": 0,
            "ticks": ""
           }
          },
          "colorscale": {
           "diverging": [
            [
             0,
             "#8e0152"
            ],
            [
             0.1,
             "#c51b7d"
            ],
            [
             0.2,
             "#de77ae"
            ],
            [
             0.3,
             "#f1b6da"
            ],
            [
             0.4,
             "#fde0ef"
            ],
            [
             0.5,
             "#f7f7f7"
            ],
            [
             0.6,
             "#e6f5d0"
            ],
            [
             0.7,
             "#b8e186"
            ],
            [
             0.8,
             "#7fbc41"
            ],
            [
             0.9,
             "#4d9221"
            ],
            [
             1,
             "#276419"
            ]
           ],
           "sequential": [
            [
             0,
             "#0d0887"
            ],
            [
             0.1111111111111111,
             "#46039f"
            ],
            [
             0.2222222222222222,
             "#7201a8"
            ],
            [
             0.3333333333333333,
             "#9c179e"
            ],
            [
             0.4444444444444444,
             "#bd3786"
            ],
            [
             0.5555555555555556,
             "#d8576b"
            ],
            [
             0.6666666666666666,
             "#ed7953"
            ],
            [
             0.7777777777777778,
             "#fb9f3a"
            ],
            [
             0.8888888888888888,
             "#fdca26"
            ],
            [
             1,
             "#f0f921"
            ]
           ],
           "sequentialminus": [
            [
             0,
             "#0d0887"
            ],
            [
             0.1111111111111111,
             "#46039f"
            ],
            [
             0.2222222222222222,
             "#7201a8"
            ],
            [
             0.3333333333333333,
             "#9c179e"
            ],
            [
             0.4444444444444444,
             "#bd3786"
            ],
            [
             0.5555555555555556,
             "#d8576b"
            ],
            [
             0.6666666666666666,
             "#ed7953"
            ],
            [
             0.7777777777777778,
             "#fb9f3a"
            ],
            [
             0.8888888888888888,
             "#fdca26"
            ],
            [
             1,
             "#f0f921"
            ]
           ]
          },
          "colorway": [
           "#636efa",
           "#EF553B",
           "#00cc96",
           "#ab63fa",
           "#FFA15A",
           "#19d3f3",
           "#FF6692",
           "#B6E880",
           "#FF97FF",
           "#FECB52"
          ],
          "font": {
           "color": "#2a3f5f"
          },
          "geo": {
           "bgcolor": "white",
           "lakecolor": "white",
           "landcolor": "#E5ECF6",
           "showlakes": true,
           "showland": true,
           "subunitcolor": "white"
          },
          "hoverlabel": {
           "align": "left"
          },
          "hovermode": "closest",
          "mapbox": {
           "style": "light"
          },
          "paper_bgcolor": "white",
          "plot_bgcolor": "#E5ECF6",
          "polar": {
           "angularaxis": {
            "gridcolor": "white",
            "linecolor": "white",
            "ticks": ""
           },
           "bgcolor": "#E5ECF6",
           "radialaxis": {
            "gridcolor": "white",
            "linecolor": "white",
            "ticks": ""
           }
          },
          "scene": {
           "xaxis": {
            "backgroundcolor": "#E5ECF6",
            "gridcolor": "white",
            "gridwidth": 2,
            "linecolor": "white",
            "showbackground": true,
            "ticks": "",
            "zerolinecolor": "white"
           },
           "yaxis": {
            "backgroundcolor": "#E5ECF6",
            "gridcolor": "white",
            "gridwidth": 2,
            "linecolor": "white",
            "showbackground": true,
            "ticks": "",
            "zerolinecolor": "white"
           },
           "zaxis": {
            "backgroundcolor": "#E5ECF6",
            "gridcolor": "white",
            "gridwidth": 2,
            "linecolor": "white",
            "showbackground": true,
            "ticks": "",
            "zerolinecolor": "white"
           }
          },
          "shapedefaults": {
           "line": {
            "color": "#2a3f5f"
           }
          },
          "ternary": {
           "aaxis": {
            "gridcolor": "white",
            "linecolor": "white",
            "ticks": ""
           },
           "baxis": {
            "gridcolor": "white",
            "linecolor": "white",
            "ticks": ""
           },
           "bgcolor": "#E5ECF6",
           "caxis": {
            "gridcolor": "white",
            "linecolor": "white",
            "ticks": ""
           }
          },
          "title": {
           "x": 0.05
          },
          "xaxis": {
           "automargin": true,
           "gridcolor": "white",
           "linecolor": "white",
           "ticks": "",
           "title": {
            "standoff": 15
           },
           "zerolinecolor": "white",
           "zerolinewidth": 2
          },
          "yaxis": {
           "automargin": true,
           "gridcolor": "white",
           "linecolor": "white",
           "ticks": "",
           "title": {
            "standoff": 15
           },
           "zerolinecolor": "white",
           "zerolinewidth": 2
          }
         }
        }
       }
      },
      "text/html": [
       "<div>                            <div id=\"569c381c-b3f3-44f9-b748-b40d2fa9bb64\" class=\"plotly-graph-div\" style=\"height:525px; width:100%;\"></div>            <script type=\"text/javascript\">                require([\"plotly\"], function(Plotly) {                    window.PLOTLYENV=window.PLOTLYENV || {};                                    if (document.getElementById(\"569c381c-b3f3-44f9-b748-b40d2fa9bb64\")) {                    Plotly.newPlot(                        \"569c381c-b3f3-44f9-b748-b40d2fa9bb64\",                        [{\"branchvalues\":\"total\",\"customdata\":[[1632.0,1632.0],[3602.0,3602.0],[3987.0,3987.0],[4093.0,4093.0],[3596.0,3596.0],[1447.0,1447.0],[6004.0,6004.0],[6240.0,6240.0],[4876.0,4876.0],[1525.0,1525.0],[1286.0,1286.0],[789.0,789.0],[4331.0,4331.0],[1185.0,1185.0],[720.0,720.0],[435.0,435.0],[2842.4753846153844,2842.4753846153844],[5008.0,5008.0],[591.0,591.0],[4553.0,4553.0],[6238.0,6238.0],[930.0,930.0],[665.0,665.0],[894.4222488038278,894.4222488038278],[2054.0,2054.0],[1669.0,1669.0],[39.0,39.0],[5749.0,5749.0],[2029.0,2029.0],[1421.0,1421.0],[3295.0,3295.0],[4097.0,4097.0],[2864.0,2864.0],[5376.0,5376.0],[899.0,899.0],[3408.0,3408.0],[2351.0,2351.0],[3536.0,3536.0],[25.0,25.0],[88.14942528735632,88.14942528735632],[4696.0,4696.0],[3736.0,3736.0],[4641.0,4641.0],[4612.0,4612.0],[882.0,882.0],[3981.0,3981.0],[2905.0,2905.0],[3616.0,3616.0],[3667.0,3667.0],[7490.0,7490.0],[3030.0,3030.0],[4835.0,4835.0],[3726.0,3726.0],[1548.0,1548.0],[2896.0,2896.0],[453.0,453.0],[43.76543209876543,43.76543209876543],[1.0,1.0],[2164.0,2164.0],[180.0,180.0],[3566.0,3566.0],[4560.0,4560.0],[3794.0,3794.0],[611.0,611.0],[135.0,135.0],[2161.0,2161.0],[3035.0,3035.0],[1.0,1.0],[3596.0,3596.0],[6470.0,6470.0],[3312.0,3312.0],[1.0,1.0],[587.0,587.0],[63.0,63.0],[5826.0,5826.0],[184.0,184.0],[2690.0,2690.0],[254.0,254.0],[223.0,223.0],[311.0,311.0],[31.0,31.0],[1.0,1.0],[18.0,18.0],[1048.665641025641,1048.665641025641],[5365.0,5365.0],[4440.0,4440.0],[1.0,1.0],[4715.0,4715.0],[22.0,22.0],[1879.0,1879.0],[26.0,26.0],[5188.0,5188.0],[3821.0,3821.0],[2100.0,2100.0],[3687.0,3687.0],[5042.0,5042.0],[1.0,1.0],[107.0,107.0],[2209.0,2209.0],[1541.0,1541.0],[1.0,1.0],[3.0,3.0],[47.0,47.0],[277.0,277.0],[2753.0,2753.0],[1836.0,1836.0],[846.0,846.0],[87.0,87.0],[23.0,23.0],[5168.0,5168.0],[1.0,1.0],[261.0,261.0],[5146.0,5146.0],[3483.0,3483.0],[215.0,215.0],[365.0,365.0],[12.0,12.0],[156.0,156.0],[3946.0,3946.0],[15.0,15.0],[748.0,748.0],[181.71386430678467,181.71386430678467],[112.0,112.0],[990.0,990.0],[382.0,382.0],[999.0,999.0],[146.0,146.0],[174.0,174.0],[185.02762430939225,185.02762430939225],[4722.0,4722.0],[74.0,74.0],[160.0,160.0],[1103.693896713615,1103.693896713615],[533.0,533.0],[321.0,321.0],[2748.0,2748.0],[758.0,758.0],[1211.0,1211.0],[114.0,114.0],[260.0,260.0],[67.0,67.0],[1283.0,1283.0],[1173.0,1173.0],[447.0,447.0],[6.0,6.0],[1981.0,1981.0],[473.0,473.0],[414.0,414.0],[1.0,1.0],[90.0,90.0],[14.0,14.0],[4050.0,4050.0],[1006.0,1006.0],[3690.0,3690.0],[533.0,533.0],[612.0,612.0],[478.0,478.0],[35.0,35.0],[837.0,837.0],[790.0,790.0],[182.0,182.0],[3694.0,3694.0],[3059.0,3059.0],[1325.0,1325.0],[37.666666666666664,37.666666666666664],[2858.0,2858.0],[2328.0,2328.0],[870.0,870.0],[223.0,223.0],[5530.0,5530.0],[135.0,135.0],[153.0,153.0],[161.0,161.0],[93.0,93.0],[1118.0,1118.0],[366.0,366.0],[5451.0,5451.0],[422.0,422.0],[983.0,983.0],[663.0,663.0],[396.0,396.0],[1051.0,1051.0],[1.0,1.0],[2309.0,2309.0],[21.0,21.0],[34.0,34.0],[219.0,219.0],[22.0,22.0],[37.0,37.0],[2569.0,2569.0],[5528.0,5528.0],[3423.0,3423.0],[263.0,263.0],[12.0,12.0],[484.0,484.0],[322.0,322.0],[1.0,1.0],[279.0,279.0],[2197.0,2197.0],[98.0,98.0],[39.0,39.0],[177.0,177.0],[237.5940170940171,237.5940170940171],[2164.0,2164.0],[2103.0,2103.0],[8.0,8.0],[70.0,70.0],[2163.0,2163.0],[3463.0,3463.0],[24.0,24.0],[1115.0,1115.0],[3958.0,3958.0],[194.0,194.0],[363.0,363.0],[120.0,120.0],[944.0,944.0],[1.0,1.0],[553.0,553.0],[742.0,742.0],[31.0,31.0],[138.44,138.44],[271.0,271.0],[2773.0,2773.0],[183.0,183.0],[884.0,884.0],[5291.0,5291.0],[724.0,724.0],[120.0,120.0],[54.0,54.0],[362.0,362.0],[4516.0,4516.0],[1216.0,1216.0],[328.0,328.0],[1760.0,1760.0],[1.0,1.0],[3913.0,3913.0],[48.0,48.0],[1992.0,1992.0],[452.0,452.0],[732.0,732.0],[9.0,9.0],[2706.0,2706.0],[2862.0,2862.0],[90.0,90.0],[4931.0,4931.0],[5773.0,5773.0],[693.0,693.0],[120.0,120.0],[12.0,12.0],[633.0,633.0],[4050.0,4050.0],[4192.0,4192.0],[266.0,266.0],[21.0,21.0],[374.0,374.0],[882.0,882.0],[13.0,13.0],[378.0,378.0],[113.0,113.0],[218.0,218.0],[107.0,107.0],[195.0,195.0],[270.0,270.0],[5.0,5.0],[26.0,26.0],[537.0,537.0],[3787.5097877033363,3787.5097877033363],[3011.0,3011.0],[31.0,31.0],[137.0,137.0],[388.0,388.0],[289.0,289.0],[89.0,89.0],[137.0,137.0],[33.0,33.0],[20.0,20.0],[101.0,101.0],[1157.0,1157.0],[32.0,32.0],[3351.0,3351.0],[271.0,271.0],[135.0,135.0],[106.0,106.0],[21.0,21.0],[200.0,200.0],[1951.0,1951.0],[378.0,378.0],[1388.0,1388.0],[260.0,260.0],[42.0,42.0],[50.0,50.0],[1645.0,1645.0],[1091.0,1091.0],[434.0,434.0],[1967.0,1967.0],[2.0,2.0],[1810.0,1810.0],[30.0,30.0],[180.0,180.0],[21.0,21.0],[8.0,8.0],[494.0,494.0],[1.0,1.0],[68.0,68.0],[659.0,659.0],[1619.0,1619.0],[2967.0,2967.0],[17.0,17.0],[788.0,788.0],[636.0,636.0],[1.0,1.0],[9.0,9.0],[104.0,104.0],[931.0,931.0],[437.0,437.0],[155.0,155.0],[57.0,57.0],[2018.0,2018.0],[1.0,1.0],[153.0,153.0],[2056.0,2056.0],[1050.0,1050.0],[56.0,56.0],[58.0,58.0],[12.0,12.0],[72.0,72.0],[1770.0,1770.0],[1.0,1.0],[166.0,166.0],[148.0,148.0],[99.0,99.0],[482.0,482.0],[173.0,173.0],[157.0,157.0],[38.0,38.0],[117.0,117.0],[147.0,147.0],[2343.0,2343.0],[42.0,42.0],[54.0,54.0],[311.0,311.0],[126.0,126.0],[63.0,63.0],[437.0,437.0],[304.0,304.0],[393.0,393.0],[170.0,170.0],[32.0,32.0],[350.0,350.0],[471.0,471.0],[83.0,83.0],[383.0,383.0],[220.0,220.0],[1.0,1.0],[9.0,9.0],[10.0,10.0],[1029.0,1029.0],[451.0,451.0],[1287.0,1287.0],[229.0,229.0],[313.0,313.0],[215.0,215.0],[28.0,28.0],[323.0,323.0],[403.0,403.0],[70.0,70.0],[777.0,777.0],[604.0,604.0],[395.0,395.0],[16.0,16.0],[1159.0,1159.0],[1201.0,1201.0],[326.0,326.0],[3908.0,3908.0],[110.0,110.0],[79.0,79.0],[69.0,69.0],[38.0,38.0],[254.0,254.0],[73.0,73.0],[2714.0,2714.0],[89.0,89.0],[491.0,491.0],[303.0,303.0],[250.0,250.0],[1.0,1.0],[692.0,692.0],[7.0,7.0],[18.0,18.0],[93.0,93.0],[7.0,7.0],[24.0,24.0],[924.0,924.0],[2459.0,2459.0],[618.0,618.0],[161.0,161.0],[23.0,23.0],[222.0,222.0],[1.0,1.0],[57.0,57.0],[1248.0,1248.0],[27.0,27.0],[78.0,78.0],[720.0,720.0],[1260.0,1260.0],[5.0,5.0],[12.0,12.0],[334.0,334.0],[1349.0,1349.0],[15.0,15.0],[497.0,497.0],[1963.0,1963.0],[87.0,87.0],[98.0,98.0],[61.0,61.0],[270.0,270.0],[1.0,1.0],[378.0,378.0],[59.0,59.0],[22.0,22.0],[141.0,141.0],[994.0,994.0],[150.0,150.0],[388.0,388.0],[3328.0,3328.0],[39.0,39.0],[13.0,13.0],[82.0,82.0],[2337.0,2337.0],[461.0,461.0],[156.0,156.0],[297.0,297.0],[1.0,1.0],[2239.0,2239.0],[7.0,7.0],[512.0,512.0],[196.0,196.0],[153.0,153.0],[5.0,5.0],[1763.0,1763.0],[59.0,59.0],[1670.0,1670.0],[3683.0,3683.0],[143.0,143.0],[8.0,8.0],[198.0,198.0],[101.0,101.0],[11.0,11.0],[30.0,30.0],[420.0,420.0],[128.0,128.0],[23.0,23.0],[117.0,117.0],[177.0,177.0],[3.0,3.0],[8.0,8.0],[295.0,295.0],[2521.0,2521.0],[1303.0,1303.0],[62.0,62.0],[134.0,134.0],[250.0,250.0],[178.0,178.0],[53.0,53.0],[3.0,3.0],[16.0,16.0],[84.0,84.0],[368.0,368.0],[10.0,10.0],[1797.0,1797.0],[46.0,46.0],[43.0,43.0],[64.0,64.0],[9.0,9.0],[11.0,11.0],[1238.0,1238.0],[24.0,24.0],[829.0,829.0],[387.0,387.0],[15.0,15.0],[2.0,2.0],[585.0,585.0],[51.0,51.0],[2391.0,2391.0],[1416.0,1416.0],[1856.0,1856.0],[1714.0,1714.0],[1769.0,1769.0],[368.0,368.0],[2722.0,2722.0],[3221.0,3221.0],[2388.0,2388.0],[574.0,574.0],[448.0,448.0],[515.0,515.0],[1968.0,1968.0],[610.0,610.0],[258.0,258.0],[191.0,191.0],[1574.0,1574.0],[2805.0,2805.0],[400.0,400.0],[2091.0,2091.0],[61.0,61.0],[508.0,508.0],[278.0,278.0],[582.0,582.0],[964.0,964.0],[615.0,615.0],[20.0,20.0],[1989.0,1989.0],[634.0,634.0],[1711.0,1711.0],[1587.0,1587.0],[1165.0,1165.0],[3192.0,3192.0],[198.0,198.0],[1580.0,1580.0],[1001.0,1001.0],[809.0,809.0],[9.0,9.0],[37.0,37.0],[2657.0,2657.0],[1893.0,1893.0],[1272.0,1272.0],[1335.0,1335.0],[33.0,33.0],[1951.0,1951.0],[1400.0,1400.0],[1902.0,1902.0],[1840.0,1840.0],[4317.0,4317.0],[1535.0,1535.0],[2391.0,2391.0],[1825.0,1825.0],[869.0,869.0],[1327.0,1327.0],[42.0,42.0],[11.0,11.0],[1.0,1.0],[864.0,864.0],[130.0,130.0],[1507.0,1507.0],[630.0,630.0],[1332.0,1332.0],[54.0,54.0],[643.0,643.0],[1782.0,1782.0],[1511.0,1511.0],[2182.0,2182.0],[1784.0,1784.0],[1.0,1.0],[131.0,131.0],[30.0,30.0],[2518.0,2518.0],[53.0,53.0],[1069.0,1069.0],[1.0,1.0],[163.0,163.0],[258.0,258.0],[4.0,4.0],[1.0,1.0],[480.0,480.0],[1.0,1.0],[1464.0,1464.0],[2142.0,2142.0],[9.0,9.0],[596.0,596.0],[17.0,17.0],[2296.0,2296.0],[1807.0,1807.0],[1830.238812349982,1830.238812349982],[2177.8375694088923,2177.8375694088923],[3063.986636576317,3063.986636576317],[4102.851359436283,4102.851359436283],[3073.647949079747,3073.647949079747]],\"domain\":{\"x\":[0.0,1.0],\"y\":[0.0,1.0]},\"hovertemplate\":\"labels=%{label}<br>DIAGNOSIS_sum=%{value}<br>parent=%{parent}<br>id=%{id}<br>DIAGNOSIS=%{color}<extra></extra>\",\"ids\":[\"CATEGORY2/II/00005617\",\"CATEGORY2/II/00005883\",\"CATEGORY2/II/00005945\",\"CATEGORY2/III/00005946\",\"CATEGORY2/II/00005947\",\"CATEGORY2/III/00005948\",\"CATEGORY2/III/00005987\",\"CATEGORY2/III/00006206\",\"CATEGORY2/III/00006207\",\"CATEGORY2/III/00006208\",\"CATEGORY2/III/00006209\",\"CATEGORY2/III/00006210\",\"CATEGORY2/III/00006211\",\"CATEGORY2/III/00006212\",\"CATEGORY2/III/00006213\",\"CATEGORY2/III/00006214\",\"CATEGORY2/III/00006215\",\"CATEGORY2/III/00006216\",\"CATEGORY2/III/00006217\",\"CATEGORY2/II/00007632\",\"CATEGORY2/III/00007633\",\"CATEGORY2/III/00007634\",\"CATEGORY2/III/00007733\",\"CATEGORY2/III/00007734\",\"CATEGORY2/0/00008215\",\"CATEGORY2/I/00008251\",\"CATEGORY2/II/00008258\",\"CATEGORY2/II/00008271\",\"CATEGORY2/II/00008281\",\"CATEGORY2/0/00008282\",\"CATEGORY2/I/00008289\",\"CATEGORY2/II/00008317\",\"CATEGORY2/II/00008318\",\"CATEGORY2/II/00008325\",\"CATEGORY2/II/00008351\",\"CATEGORY2/II/00008353\",\"CATEGORY2/I/00008370\",\"CATEGORY2/I/00008378\",\"CATEGORY2/II/00008388\",\"CATEGORY2/I/00008389\",\"CATEGORY2/II/00008398\",\"CATEGORY2/I/00008438\",\"CATEGORY2/II/00008489\",\"CATEGORY2/II/00008502\",\"CATEGORY2/II/00008519\",\"CATEGORY2/I/00008539\",\"CATEGORY2/II/00008564\",\"CATEGORY2/II/00008671\",\"CATEGORY2/I/00008711\",\"CATEGORY2/III/00008720\",\"CATEGORY2/II/00008741\",\"CATEGORY2/II/00008746\",\"CATEGORY2/II/00008786\",\"CATEGORY2/I/00008880\",\"CATEGORY2/I/00008881\",\"CATEGORY2/III/00008956\",\"CATEGORY2/II/00009010\",\"CATEGORY2/II/00009089\",\"CATEGORY2/II/00009090\",\"CATEGORY2/0/00009093\",\"CATEGORY2/II/00009104\",\"CATEGORY2/III/00009116\",\"CATEGORY2/II/00009123\",\"CATEGORY2/II/00009144\",\"CATEGORY2/II/00009145\",\"CATEGORY2/I/00009148\",\"CATEGORY2/II/00009153\",\"CATEGORY2/0/00009183\",\"CATEGORY2/II/00009188\",\"CATEGORY2/III/00009251\",\"CATEGORY2/I/00009274\",\"CATEGORY2/II/00009288\",\"CATEGORY2/I/00009298\",\"CATEGORY2/I/00009379\",\"CATEGORY2/III/00009409\",\"CATEGORY2/II/00009431\",\"CATEGORY2/II/00009437\",\"CATEGORY2/II/00009478\",\"CATEGORY2/II/00009483\",\"CATEGORY2/II/00009505\",\"CATEGORY2/I/00009562\",\"CATEGORY2/0/00009593\",\"CATEGORY2/II/00009620\",\"CATEGORY2/II/00009641\",\"CATEGORY2/II/00009682\",\"CATEGORY2/II/00009850\",\"CATEGORY2/I/00009867\",\"CATEGORY2/III/00009886\",\"CATEGORY2/II/00009888\",\"CATEGORY2/I/00009979\",\"CATEGORY2/II/00009982\",\"CATEGORY2/II/00009988\",\"CATEGORY2/II/00009989\",\"CATEGORY2/II/00010098\",\"CATEGORY2/II/00010135\",\"CATEGORY2/II/00010182\",\"CATEGORY2/0/00010214\",\"CATEGORY2/I/00010229\",\"CATEGORY2/II/00010251\",\"CATEGORY2/I/00010385\",\"CATEGORY2/0/00010401\",\"CATEGORY2/II/00010401\",\"CATEGORY2/II/00010402\",\"CATEGORY2/II/00010434\",\"CATEGORY2/I/00010439\",\"CATEGORY2/I/00010464\",\"CATEGORY2/II/00010467\",\"CATEGORY2/0/00010498\",\"CATEGORY2/II/00010515\",\"CATEGORY2/II/00010603\",\"CATEGORY2/II/00010669\",\"CATEGORY2/II/00010739\",\"CATEGORY2/II/00010743\",\"CATEGORY2/III/00010751\",\"CATEGORY2/II/00010776\",\"CATEGORY2/II/00010827\",\"CATEGORY2/II/00010831\",\"CATEGORY2/II/00011056\",\"CATEGORY2/II/00011087\",\"CATEGORY2/II/00011110\",\"CATEGORY2/II/00011113\",\"CATEGORY2/II/00011167\",\"CATEGORY2/0/00011177\",\"CATEGORY2/I/00011187\",\"CATEGORY2/0/00011227\",\"CATEGORY2/II/00011241\",\"CATEGORY2/II/00011346\",\"CATEGORY2/II/00011358\",\"CATEGORY2/II/00011372\",\"CATEGORY2/II/00011401\",\"CATEGORY2/II/00011547\",\"CATEGORY2/II/00011741\",\"CATEGORY2/II/00011750\",\"CATEGORY2/II/00011803\",\"CATEGORY2/II/00011849\",\"CATEGORY2/I/00011850\",\"CATEGORY2/I/00011876\",\"CATEGORY2/II/00011950\",\"CATEGORY2/0/00011958\",\"CATEGORY2/II/00012020\",\"CATEGORY2/II/00012106\",\"CATEGORY2/II/00012206\",\"CATEGORY2/II/00012219\",\"CATEGORY2/II/00012220\",\"CATEGORY2/II/00012263\",\"CATEGORY2/II/00012267\",\"CATEGORY2/0/00012275\",\"CATEGORY2/I/00012275\",\"CATEGORY2/0/00012366\",\"CATEGORY2/II/00012492\",\"CATEGORY2/II/00012572\",\"CATEGORY2/II/00012633\",\"CATEGORY2/I/00012664\",\"CATEGORY2/II/00012666\",\"CATEGORY2/0/00012739\",\"CATEGORY2/I/00012740\",\"CATEGORY2/0/00012741\",\"CATEGORY2/I/00012822\",\"CATEGORY2/I/00012885\",\"CATEGORY2/0/00012923\",\"CATEGORY2/II/00012947\",\"CATEGORY2/II/00012975\",\"CATEGORY2/I/00013012\",\"CATEGORY2/II/00013044\",\"CATEGORY2/II/00013064\",\"CATEGORY2/I/00013091\",\"CATEGORY2/I/00013215\",\"CATEGORY2/II/00013383\",\"CATEGORY2/II/00013586\",\"CATEGORY2/III/00013591\",\"CATEGORY2/0/00013687\",\"CATEGORY2/0/00013834\",\"CATEGORY2/II/00013900\",\"CATEGORY2/II/00013952\",\"CATEGORY2/II/00014181\",\"CATEGORY2/II/00014361\",\"CATEGORY2/II/00014501\",\"CATEGORY2/II/00014509\",\"CATEGORY2/II/00014718\",\"CATEGORY2/0/00014889\",\"CATEGORY2/I/00014889\",\"CATEGORY2/II/00015077\",\"CATEGORY2/II/00015078\",\"CATEGORY2/II/00015118\",\"CATEGORY2/II/00015143\",\"CATEGORY2/II/00015179\",\"CATEGORY2/II/00015182\",\"CATEGORY2/II/00015349\",\"CATEGORY2/II/00015461\",\"CATEGORY2/0/00015471\",\"CATEGORY2/II/00015610\",\"CATEGORY2/II/00015684\",\"CATEGORY2/II/00015716\",\"CATEGORY2/II/00015718\",\"CATEGORY2/II/00015904\",\"CATEGORY2/II/00015927\",\"CATEGORY2/II/00015934\",\"CATEGORY2/II/00016005\",\"CATEGORY2/0/00016094\",\"CATEGORY2/II/00016094\",\"CATEGORY2/II/00016113\",\"CATEGORY2/II/00016121\",\"CATEGORY2/II/00016291\",\"CATEGORY2/II/00016353\",\"CATEGORY2/I/00016357\",\"CATEGORY2/II/00016397\",\"CATEGORY2/0/00016488\",\"CATEGORY2/II/00016794\",\"CATEGORY2/III/00016918\",\"CATEGORY2/I/00016948\",\"CATEGORY2/II/00016951\",\"CATEGORY2/III/00017024\",\"CATEGORY2/II/00017099\",\"CATEGORY2/II/00017173\",\"CATEGORY2/II/00017385\",\"CATEGORY2/I/00017391\",\"CATEGORY2/II/00017392\",\"CATEGORY2/I/00017468\",\"CATEGORY2/I/00017519\",\"CATEGORY2/I/00017540\",\"CATEGORY2/II/00017634\",\"CATEGORY2/II/00017676\",\"CATEGORY2/I/00017695\",\"CATEGORY2/II/00017703\",\"CATEGORY2/I/00017726\",\"CATEGORY2/II/00017772\",\"CATEGORY2/I/00017820\",\"CATEGORY2/II/00017823\",\"CATEGORY2/II/00017824\",\"CATEGORY2/II/00017847\",\"CATEGORY2/I/00017909\",\"CATEGORY2/I/00017978\",\"CATEGORY2/III/00018011\",\"CATEGORY2/I/00018171\",\"CATEGORY2/II/00018307\",\"CATEGORY2/II/00018580\",\"CATEGORY2/II/00018581\",\"CATEGORY2/II/00018584\",\"CATEGORY2/II/00018626\",\"CATEGORY2/I/00018660\",\"CATEGORY2/II/00018667\",\"CATEGORY2/0/00018825\",\"CATEGORY2/I/00018825\",\"CATEGORY2/0/00018921\",\"CATEGORY2/II/00018985\",\"CATEGORY2/III/00019049\",\"CATEGORY2/0/00019390\",\"CATEGORY2/0/00019610\",\"CATEGORY2/II/00019671\",\"CATEGORY2/II/00019748\",\"CATEGORY2/0/00019787\",\"CATEGORY2/II/00019787\",\"CATEGORY2/II/00019839\",\"CATEGORY2/II/00020230\",\"CATEGORY2/II/00020346\",\"CATEGORY2/I/00020382\",\"CATEGORY2/II/00020674\",\"CATEGORY2/0/00020682\",\"CATEGORY2/II/00020715\",\"CATEGORY2/II/00020976\",\"CATEGORY2/II/00021096\",\"CATEGORY2/0/00021289\",\"CATEGORY2/0/00022016\",\"CATEGORY2/II/00022113\",\"CATEGORY2/II/00023022\",\"CATEGORY2/II/00023151\",\"CATEGORY2/II/00023159\",\"CATEGORY2/I/00023288\",\"CATEGORY2/I/00023509\",\"CATEGORY2/II/00023741\",\"CATEGORY2/II/00023833\",\"CATEGORY2/II/00023852\",\"CATEGORY2/I/00023853\",\"CATEGORY2/II/00023899\",\"CATEGORY2/0/00023901\",\"CATEGORY2/II/00023918\",\"CATEGORY2/0/00024049\",\"CATEGORY2/I/00024132\",\"CATEGORY2/II/00024178\",\"CATEGORY2/I/00024299\",\"CATEGORY2/II/00024304\",\"CATEGORY2/II/00024727\",\"CATEGORY2/0/00024750\",\"CATEGORY2/0/00024872\",\"CATEGORY2/II/00024924\",\"CATEGORY2/0/00025076\",\"CATEGORY2/II/00025573\",\"CATEGORY2/I/00025575\",\"CATEGORY2/II/00025598\",\"CATEGORY2/II/00025804\",\"CATEGORY2/II/00025930\",\"CATEGORY2/I/00026009\",\"CATEGORY2/II/00026473\",\"CATEGORY2/I/00026642\",\"CATEGORY2/0/00026777\",\"CATEGORY2/II/00026793\",\"CATEGORY2/II/00026936\",\"CATEGORY2/I/00027216\",\"CATEGORY2/II/00027320\",\"CATEGORY2/III/00027929\",\"CATEGORY2/II/00028189\",\"CATEGORY2/II/00028244\",\"CATEGORY2/I/00028466\",\"CATEGORY2/II/00030606\",\"CATEGORY2/II/10098\",\"CATEGORY2/II/10135\",\"CATEGORY2/II/10182\",\"CATEGORY2/I/10229\",\"CATEGORY2/II/10251\",\"CATEGORY2/I/10385\",\"CATEGORY2/0/10401\",\"CATEGORY2/II/10402\",\"CATEGORY2/II/10434\",\"CATEGORY2/I/10439\",\"CATEGORY2/I/10464\",\"CATEGORY2/II/10467\",\"CATEGORY2/0/10498\",\"CATEGORY2/II/10603\",\"CATEGORY2/II/10669\",\"CATEGORY2/II/10739\",\"CATEGORY2/II/10743\",\"CATEGORY2/III/10751\",\"CATEGORY2/II/10776\",\"CATEGORY2/II/10827\",\"CATEGORY2/II/10831\",\"CATEGORY2/II/11056\",\"CATEGORY2/II/11087\",\"CATEGORY2/II/11110\",\"CATEGORY2/II/11113\",\"CATEGORY2/II/11167\",\"CATEGORY2/0/11177\",\"CATEGORY2/I/11187\",\"CATEGORY2/0/11227\",\"CATEGORY2/II/11241\",\"CATEGORY2/II/11346\",\"CATEGORY2/II/11358\",\"CATEGORY2/II/11372\",\"CATEGORY2/II/11401\",\"CATEGORY2/II/11547\",\"CATEGORY2/II/11741\",\"CATEGORY2/II/11750\",\"CATEGORY2/II/11803\",\"CATEGORY2/II/11849\",\"CATEGORY2/I/11850\",\"CATEGORY2/I/11876\",\"CATEGORY2/II/11950\",\"CATEGORY2/II/12020\",\"CATEGORY2/II/12106\",\"CATEGORY2/II/12206\",\"CATEGORY2/II/12219\",\"CATEGORY2/II/12220\",\"CATEGORY2/II/12267\",\"CATEGORY2/I/12275\",\"CATEGORY2/0/12366\",\"CATEGORY2/II/12492\",\"CATEGORY2/II/12572\",\"CATEGORY2/II/12633\",\"CATEGORY2/I/12664\",\"CATEGORY2/II/12666\",\"CATEGORY2/0/12739\",\"CATEGORY2/I/12740\",\"CATEGORY2/0/12741\",\"CATEGORY2/I/12822\",\"CATEGORY2/I/12885\",\"CATEGORY2/0/12923\",\"CATEGORY2/II/12947\",\"CATEGORY2/II/12975\",\"CATEGORY2/I/13012\",\"CATEGORY2/II/13044\",\"CATEGORY2/II/13064\",\"CATEGORY2/I/13091\",\"CATEGORY2/I/13215\",\"CATEGORY2/II/13383\",\"CATEGORY2/III/13591\",\"CATEGORY2/0/13687\",\"CATEGORY2/0/13834\",\"CATEGORY2/II/13900\",\"CATEGORY2/II/13952\",\"CATEGORY2/II/14181\",\"CATEGORY2/II/14361\",\"CATEGORY2/II/14501\",\"CATEGORY2/II/14509\",\"CATEGORY2/II/14718\",\"CATEGORY2/I/14889\",\"CATEGORY2/II/15077\",\"CATEGORY2/II/15078\",\"CATEGORY2/II/15118\",\"CATEGORY2/II/15143\",\"CATEGORY2/II/15179\",\"CATEGORY2/II/15182\",\"CATEGORY2/II/15349\",\"CATEGORY2/II/15461\",\"CATEGORY2/0/15471\",\"CATEGORY2/II/15610\",\"CATEGORY2/II/15684\",\"CATEGORY2/II/15716\",\"CATEGORY2/II/15718\",\"CATEGORY2/II/15927\",\"CATEGORY2/II/15934\",\"CATEGORY2/II/16005\",\"CATEGORY2/0/16094\",\"CATEGORY2/II/16121\",\"CATEGORY2/II/16291\",\"CATEGORY2/II/16353\",\"CATEGORY2/I/16357\",\"CATEGORY2/II/16397\",\"CATEGORY2/0/16488\",\"CATEGORY2/II/16794\",\"CATEGORY2/III/16918\",\"CATEGORY2/I/16948\",\"CATEGORY2/II/16951\",\"CATEGORY2/III/17024\",\"CATEGORY2/II/17099\",\"CATEGORY2/II/17173\",\"CATEGORY2/II/17385\",\"CATEGORY2/I/17391\",\"CATEGORY2/II/17392\",\"CATEGORY2/I/17519\",\"CATEGORY2/I/17540\",\"CATEGORY2/II/17634\",\"CATEGORY2/II/17676\",\"CATEGORY2/I/17695\",\"CATEGORY2/II/17703\",\"CATEGORY2/I/17726\",\"CATEGORY2/II/17772\",\"CATEGORY2/II/17823\",\"CATEGORY2/II/17824\",\"CATEGORY2/II/17847\",\"CATEGORY2/I/17909\",\"CATEGORY2/I/17978\",\"CATEGORY2/III/18011\",\"CATEGORY2/I/18171\",\"CATEGORY2/II/18307\",\"CATEGORY2/II/18580\",\"CATEGORY2/II/18581\",\"CATEGORY2/II/18584\",\"CATEGORY2/II/18626\",\"CATEGORY2/I/18660\",\"CATEGORY2/II/18667\",\"CATEGORY2/I/18825\",\"CATEGORY2/0/18921\",\"CATEGORY2/II/18985\",\"CATEGORY2/III/19049\",\"CATEGORY2/0/19390\",\"CATEGORY2/II/19671\",\"CATEGORY2/II/19748\",\"CATEGORY2/II/19839\",\"CATEGORY2/II/20230\",\"CATEGORY2/II/20346\",\"CATEGORY2/I/20382\",\"CATEGORY2/II/20976\",\"CATEGORY2/II/21096\",\"CATEGORY2/0/21289\",\"CATEGORY2/0/22016\",\"CATEGORY2/II/22113\",\"CATEGORY2/II/23022\",\"CATEGORY2/II/23151\",\"CATEGORY2/II/23159\",\"CATEGORY2/I/23288\",\"CATEGORY2/I/23509\",\"CATEGORY2/II/23741\",\"CATEGORY2/II/23833\",\"CATEGORY2/II/23852\",\"CATEGORY2/II/23899\",\"CATEGORY2/0/23901\",\"CATEGORY2/II/23918\",\"CATEGORY2/0/24049\",\"CATEGORY2/I/24132\",\"CATEGORY2/II/24178\",\"CATEGORY2/I/24299\",\"CATEGORY2/II/24304\",\"CATEGORY2/II/24727\",\"CATEGORY2/0/24750\",\"CATEGORY2/0/24872\",\"CATEGORY2/II/24924\",\"CATEGORY2/I/25575\",\"CATEGORY2/II/25930\",\"CATEGORY2/I/26009\",\"CATEGORY2/I/26642\",\"CATEGORY2/0/26777\",\"CATEGORY2/II/26793\",\"CATEGORY2/II/26936\",\"CATEGORY2/I/27216\",\"CATEGORY2/II/5617\",\"CATEGORY2/II/5883\",\"CATEGORY2/II/5945\",\"CATEGORY2/III/5946\",\"CATEGORY2/II/5947\",\"CATEGORY2/III/5948\",\"CATEGORY2/III/5987\",\"CATEGORY2/III/6206\",\"CATEGORY2/III/6207\",\"CATEGORY2/III/6208\",\"CATEGORY2/III/6209\",\"CATEGORY2/III/6210\",\"CATEGORY2/III/6211\",\"CATEGORY2/III/6212\",\"CATEGORY2/III/6213\",\"CATEGORY2/III/6214\",\"CATEGORY2/III/6215\",\"CATEGORY2/III/6216\",\"CATEGORY2/III/6217\",\"CATEGORY2/II/7632\",\"CATEGORY2/III/7633\",\"CATEGORY2/III/7634\",\"CATEGORY2/III/7733\",\"CATEGORY2/III/7734\",\"CATEGORY2/0/8215\",\"CATEGORY2/I/8251\",\"CATEGORY2/II/8258\",\"CATEGORY2/II/8271\",\"CATEGORY2/II/8281\",\"CATEGORY2/I/8289\",\"CATEGORY2/II/8317\",\"CATEGORY2/II/8318\",\"CATEGORY2/II/8325\",\"CATEGORY2/II/8351\",\"CATEGORY2/II/8353\",\"CATEGORY2/I/8370\",\"CATEGORY2/I/8378\",\"CATEGORY2/II/8388\",\"CATEGORY2/I/8389\",\"CATEGORY2/II/8398\",\"CATEGORY2/I/8438\",\"CATEGORY2/II/8489\",\"CATEGORY2/II/8502\",\"CATEGORY2/II/8519\",\"CATEGORY2/I/8539\",\"CATEGORY2/II/8564\",\"CATEGORY2/II/8671\",\"CATEGORY2/I/8711\",\"CATEGORY2/III/8720\",\"CATEGORY2/II/8741\",\"CATEGORY2/II/8746\",\"CATEGORY2/II/8786\",\"CATEGORY2/I/8880\",\"CATEGORY2/I/8881\",\"CATEGORY2/III/8956\",\"CATEGORY2/II/9010\",\"CATEGORY2/II/9089\",\"CATEGORY2/II/9090\",\"CATEGORY2/0/9093\",\"CATEGORY2/II/9104\",\"CATEGORY2/III/9116\",\"CATEGORY2/II/9123\",\"CATEGORY2/II/9145\",\"CATEGORY2/I/9148\",\"CATEGORY2/II/9153\",\"CATEGORY2/II/9188\",\"CATEGORY2/III/9251\",\"CATEGORY2/I/9274\",\"CATEGORY2/II/9288\",\"CATEGORY2/I/9298\",\"CATEGORY2/I/9379\",\"CATEGORY2/III/9409\",\"CATEGORY2/II/9431\",\"CATEGORY2/II/9437\",\"CATEGORY2/II/9478\",\"CATEGORY2/II/9483\",\"CATEGORY2/II/9505\",\"CATEGORY2/I/9562\",\"CATEGORY2/II/9620\",\"CATEGORY2/II/9641\",\"CATEGORY2/II/9682\",\"CATEGORY2/II/9850\",\"CATEGORY2/III/9886\",\"CATEGORY2/II/9888\",\"CATEGORY2/I/9979\",\"CATEGORY2/II/9982\",\"CATEGORY2/II/9988\",\"CATEGORY2/II/9989\",\"CATEGORY2/0\",\"CATEGORY2/I\",\"CATEGORY2/II\",\"CATEGORY2/III\",\"CATEGORY2\"],\"labels\":[\"00005617\",\"00005883\",\"00005945\",\"00005946\",\"00005947\",\"00005948\",\"00005987\",\"00006206\",\"00006207\",\"00006208\",\"00006209\",\"00006210\",\"00006211\",\"00006212\",\"00006213\",\"00006214\",\"00006215\",\"00006216\",\"00006217\",\"00007632\",\"00007633\",\"00007634\",\"00007733\",\"00007734\",\"00008215\",\"00008251\",\"00008258\",\"00008271\",\"00008281\",\"00008282\",\"00008289\",\"00008317\",\"00008318\",\"00008325\",\"00008351\",\"00008353\",\"00008370\",\"00008378\",\"00008388\",\"00008389\",\"00008398\",\"00008438\",\"00008489\",\"00008502\",\"00008519\",\"00008539\",\"00008564\",\"00008671\",\"00008711\",\"00008720\",\"00008741\",\"00008746\",\"00008786\",\"00008880\",\"00008881\",\"00008956\",\"00009010\",\"00009089\",\"00009090\",\"00009093\",\"00009104\",\"00009116\",\"00009123\",\"00009144\",\"00009145\",\"00009148\",\"00009153\",\"00009183\",\"00009188\",\"00009251\",\"00009274\",\"00009288\",\"00009298\",\"00009379\",\"00009409\",\"00009431\",\"00009437\",\"00009478\",\"00009483\",\"00009505\",\"00009562\",\"00009593\",\"00009620\",\"00009641\",\"00009682\",\"00009850\",\"00009867\",\"00009886\",\"00009888\",\"00009979\",\"00009982\",\"00009988\",\"00009989\",\"00010098\",\"00010135\",\"00010182\",\"00010214\",\"00010229\",\"00010251\",\"00010385\",\"00010401\",\"00010401\",\"00010402\",\"00010434\",\"00010439\",\"00010464\",\"00010467\",\"00010498\",\"00010515\",\"00010603\",\"00010669\",\"00010739\",\"00010743\",\"00010751\",\"00010776\",\"00010827\",\"00010831\",\"00011056\",\"00011087\",\"00011110\",\"00011113\",\"00011167\",\"00011177\",\"00011187\",\"00011227\",\"00011241\",\"00011346\",\"00011358\",\"00011372\",\"00011401\",\"00011547\",\"00011741\",\"00011750\",\"00011803\",\"00011849\",\"00011850\",\"00011876\",\"00011950\",\"00011958\",\"00012020\",\"00012106\",\"00012206\",\"00012219\",\"00012220\",\"00012263\",\"00012267\",\"00012275\",\"00012275\",\"00012366\",\"00012492\",\"00012572\",\"00012633\",\"00012664\",\"00012666\",\"00012739\",\"00012740\",\"00012741\",\"00012822\",\"00012885\",\"00012923\",\"00012947\",\"00012975\",\"00013012\",\"00013044\",\"00013064\",\"00013091\",\"00013215\",\"00013383\",\"00013586\",\"00013591\",\"00013687\",\"00013834\",\"00013900\",\"00013952\",\"00014181\",\"00014361\",\"00014501\",\"00014509\",\"00014718\",\"00014889\",\"00014889\",\"00015077\",\"00015078\",\"00015118\",\"00015143\",\"00015179\",\"00015182\",\"00015349\",\"00015461\",\"00015471\",\"00015610\",\"00015684\",\"00015716\",\"00015718\",\"00015904\",\"00015927\",\"00015934\",\"00016005\",\"00016094\",\"00016094\",\"00016113\",\"00016121\",\"00016291\",\"00016353\",\"00016357\",\"00016397\",\"00016488\",\"00016794\",\"00016918\",\"00016948\",\"00016951\",\"00017024\",\"00017099\",\"00017173\",\"00017385\",\"00017391\",\"00017392\",\"00017468\",\"00017519\",\"00017540\",\"00017634\",\"00017676\",\"00017695\",\"00017703\",\"00017726\",\"00017772\",\"00017820\",\"00017823\",\"00017824\",\"00017847\",\"00017909\",\"00017978\",\"00018011\",\"00018171\",\"00018307\",\"00018580\",\"00018581\",\"00018584\",\"00018626\",\"00018660\",\"00018667\",\"00018825\",\"00018825\",\"00018921\",\"00018985\",\"00019049\",\"00019390\",\"00019610\",\"00019671\",\"00019748\",\"00019787\",\"00019787\",\"00019839\",\"00020230\",\"00020346\",\"00020382\",\"00020674\",\"00020682\",\"00020715\",\"00020976\",\"00021096\",\"00021289\",\"00022016\",\"00022113\",\"00023022\",\"00023151\",\"00023159\",\"00023288\",\"00023509\",\"00023741\",\"00023833\",\"00023852\",\"00023853\",\"00023899\",\"00023901\",\"00023918\",\"00024049\",\"00024132\",\"00024178\",\"00024299\",\"00024304\",\"00024727\",\"00024750\",\"00024872\",\"00024924\",\"00025076\",\"00025573\",\"00025575\",\"00025598\",\"00025804\",\"00025930\",\"00026009\",\"00026473\",\"00026642\",\"00026777\",\"00026793\",\"00026936\",\"00027216\",\"00027320\",\"00027929\",\"00028189\",\"00028244\",\"00028466\",\"00030606\",\"10098\",\"10135\",\"10182\",\"10229\",\"10251\",\"10385\",\"10401\",\"10402\",\"10434\",\"10439\",\"10464\",\"10467\",\"10498\",\"10603\",\"10669\",\"10739\",\"10743\",\"10751\",\"10776\",\"10827\",\"10831\",\"11056\",\"11087\",\"11110\",\"11113\",\"11167\",\"11177\",\"11187\",\"11227\",\"11241\",\"11346\",\"11358\",\"11372\",\"11401\",\"11547\",\"11741\",\"11750\",\"11803\",\"11849\",\"11850\",\"11876\",\"11950\",\"12020\",\"12106\",\"12206\",\"12219\",\"12220\",\"12267\",\"12275\",\"12366\",\"12492\",\"12572\",\"12633\",\"12664\",\"12666\",\"12739\",\"12740\",\"12741\",\"12822\",\"12885\",\"12923\",\"12947\",\"12975\",\"13012\",\"13044\",\"13064\",\"13091\",\"13215\",\"13383\",\"13591\",\"13687\",\"13834\",\"13900\",\"13952\",\"14181\",\"14361\",\"14501\",\"14509\",\"14718\",\"14889\",\"15077\",\"15078\",\"15118\",\"15143\",\"15179\",\"15182\",\"15349\",\"15461\",\"15471\",\"15610\",\"15684\",\"15716\",\"15718\",\"15927\",\"15934\",\"16005\",\"16094\",\"16121\",\"16291\",\"16353\",\"16357\",\"16397\",\"16488\",\"16794\",\"16918\",\"16948\",\"16951\",\"17024\",\"17099\",\"17173\",\"17385\",\"17391\",\"17392\",\"17519\",\"17540\",\"17634\",\"17676\",\"17695\",\"17703\",\"17726\",\"17772\",\"17823\",\"17824\",\"17847\",\"17909\",\"17978\",\"18011\",\"18171\",\"18307\",\"18580\",\"18581\",\"18584\",\"18626\",\"18660\",\"18667\",\"18825\",\"18921\",\"18985\",\"19049\",\"19390\",\"19671\",\"19748\",\"19839\",\"20230\",\"20346\",\"20382\",\"20976\",\"21096\",\"21289\",\"22016\",\"22113\",\"23022\",\"23151\",\"23159\",\"23288\",\"23509\",\"23741\",\"23833\",\"23852\",\"23899\",\"23901\",\"23918\",\"24049\",\"24132\",\"24178\",\"24299\",\"24304\",\"24727\",\"24750\",\"24872\",\"24924\",\"25575\",\"25930\",\"26009\",\"26642\",\"26777\",\"26793\",\"26936\",\"27216\",\"5617\",\"5883\",\"5945\",\"5946\",\"5947\",\"5948\",\"5987\",\"6206\",\"6207\",\"6208\",\"6209\",\"6210\",\"6211\",\"6212\",\"6213\",\"6214\",\"6215\",\"6216\",\"6217\",\"7632\",\"7633\",\"7634\",\"7733\",\"7734\",\"8215\",\"8251\",\"8258\",\"8271\",\"8281\",\"8289\",\"8317\",\"8318\",\"8325\",\"8351\",\"8353\",\"8370\",\"8378\",\"8388\",\"8389\",\"8398\",\"8438\",\"8489\",\"8502\",\"8519\",\"8539\",\"8564\",\"8671\",\"8711\",\"8720\",\"8741\",\"8746\",\"8786\",\"8880\",\"8881\",\"8956\",\"9010\",\"9089\",\"9090\",\"9093\",\"9104\",\"9116\",\"9123\",\"9145\",\"9148\",\"9153\",\"9188\",\"9251\",\"9274\",\"9288\",\"9298\",\"9379\",\"9409\",\"9431\",\"9437\",\"9478\",\"9483\",\"9505\",\"9562\",\"9620\",\"9641\",\"9682\",\"9850\",\"9886\",\"9888\",\"9979\",\"9982\",\"9988\",\"9989\",\"0\",\"I\",\"II\",\"III\",\"CATEGORY2\"],\"marker\":{\"coloraxis\":\"coloraxis\",\"colors\":[1632.0,3602.0,3987.0,4093.0,3596.0,1447.0,6004.0,6240.0,4876.0,1525.0,1286.0,789.0,4331.0,1185.0,720.0,435.0,2842.4753846153844,5008.0,591.0,4553.0,6238.0,930.0,665.0,894.4222488038278,2054.0,1669.0,39.0,5749.0,2029.0,1421.0,3295.0,4097.0,2864.0,5376.0,899.0,3408.0,2351.0,3536.0,25.0,88.14942528735632,4696.0,3736.0,4641.0,4612.0,882.0,3981.0,2905.0,3616.0,3667.0,7490.0,3030.0,4835.0,3726.0,1548.0,2896.0,453.0,43.76543209876543,1.0,2164.0,180.0,3566.0,4560.0,3794.0,611.0,135.0,2161.0,3035.0,1.0,3596.0,6470.0,3312.0,1.0,587.0,63.0,5826.0,184.0,2690.0,254.0,223.0,311.0,31.0,1.0,18.0,1048.665641025641,5365.0,4440.0,1.0,4715.0,22.0,1879.0,26.0,5188.0,3821.0,2100.0,3687.0,5042.0,1.0,107.0,2209.0,1541.0,1.0,3.0,47.0,277.0,2753.0,1836.0,846.0,87.0,23.0,5168.0,1.0,261.0,5146.0,3483.0,215.0,365.0,12.0,156.0,3946.0,15.0,748.0,181.71386430678467,112.0,990.0,382.0,999.0,146.0,174.0,185.02762430939225,4722.0,74.0,160.0,1103.693896713615,533.0,321.0,2748.0,758.0,1211.0,114.0,260.0,67.0,1283.0,1173.0,447.0,6.0,1981.0,473.0,414.0,1.0,90.0,14.0,4050.0,1006.0,3690.0,533.0,612.0,478.0,35.0,837.0,790.0,182.0,3694.0,3059.0,1325.0,37.666666666666664,2858.0,2328.0,870.0,223.0,5530.0,135.0,153.0,161.0,93.0,1118.0,366.0,5451.0,422.0,983.0,663.0,396.0,1051.0,1.0,2309.0,21.0,34.0,219.0,22.0,37.0,2569.0,5528.0,3423.0,263.0,12.0,484.0,322.0,1.0,279.0,2197.0,98.0,39.0,177.0,237.5940170940171,2164.0,2103.0,8.0,70.0,2163.0,3463.0,24.0,1115.0,3958.0,194.0,363.0,120.0,944.0,1.0,553.0,742.0,31.0,138.44,271.0,2773.0,183.0,884.0,5291.0,724.0,120.0,54.0,362.0,4516.0,1216.0,328.0,1760.0,1.0,3913.0,48.0,1992.0,452.0,732.0,9.0,2706.0,2862.0,90.0,4931.0,5773.0,693.0,120.0,12.0,633.0,4050.0,4192.0,266.0,21.0,374.0,882.0,13.0,378.0,113.0,218.0,107.0,195.0,270.0,5.0,26.0,537.0,3787.5097877033363,3011.0,31.0,137.0,388.0,289.0,89.0,137.0,33.0,20.0,101.0,1157.0,32.0,3351.0,271.0,135.0,106.0,21.0,200.0,1951.0,378.0,1388.0,260.0,42.0,50.0,1645.0,1091.0,434.0,1967.0,2.0,1810.0,30.0,180.0,21.0,8.0,494.0,1.0,68.0,659.0,1619.0,2967.0,17.0,788.0,636.0,1.0,9.0,104.0,931.0,437.0,155.0,57.0,2018.0,1.0,153.0,2056.0,1050.0,56.0,58.0,12.0,72.0,1770.0,1.0,166.0,148.0,99.0,482.0,173.0,157.0,38.0,117.0,147.0,2343.0,42.0,54.0,311.0,126.0,63.0,437.0,304.0,393.0,170.0,32.0,350.0,471.0,83.0,383.0,220.0,1.0,9.0,10.0,1029.0,451.0,1287.0,229.0,313.0,215.0,28.0,323.0,403.0,70.0,777.0,604.0,395.0,16.0,1159.0,1201.0,326.0,3908.0,110.0,79.0,69.0,38.0,254.0,73.0,2714.0,89.0,491.0,303.0,250.0,1.0,692.0,7.0,18.0,93.0,7.0,24.0,924.0,2459.0,618.0,161.0,23.0,222.0,1.0,57.0,1248.0,27.0,78.0,720.0,1260.0,5.0,12.0,334.0,1349.0,15.0,497.0,1963.0,87.0,98.0,61.0,270.0,1.0,378.0,59.0,22.0,141.0,994.0,150.0,388.0,3328.0,39.0,13.0,82.0,2337.0,461.0,156.0,297.0,1.0,2239.0,7.0,512.0,196.0,153.0,5.0,1763.0,59.0,1670.0,3683.0,143.0,8.0,198.0,101.0,11.0,30.0,420.0,128.0,23.0,117.0,177.0,3.0,8.0,295.0,2521.0,1303.0,62.0,134.0,250.0,178.0,53.0,3.0,16.0,84.0,368.0,10.0,1797.0,46.0,43.0,64.0,9.0,11.0,1238.0,24.0,829.0,387.0,15.0,2.0,585.0,51.0,2391.0,1416.0,1856.0,1714.0,1769.0,368.0,2722.0,3221.0,2388.0,574.0,448.0,515.0,1968.0,610.0,258.0,191.0,1574.0,2805.0,400.0,2091.0,61.0,508.0,278.0,582.0,964.0,615.0,20.0,1989.0,634.0,1711.0,1587.0,1165.0,3192.0,198.0,1580.0,1001.0,809.0,9.0,37.0,2657.0,1893.0,1272.0,1335.0,33.0,1951.0,1400.0,1902.0,1840.0,4317.0,1535.0,2391.0,1825.0,869.0,1327.0,42.0,11.0,1.0,864.0,130.0,1507.0,630.0,1332.0,54.0,643.0,1782.0,1511.0,2182.0,1784.0,1.0,131.0,30.0,2518.0,53.0,1069.0,1.0,163.0,258.0,4.0,1.0,480.0,1.0,1464.0,2142.0,9.0,596.0,17.0,2296.0,1807.0,1830.238812349982,2177.8375694088923,3063.986636576317,4102.851359436283,3073.647949079747]},\"name\":\"\",\"parents\":[\"CATEGORY2/II\",\"CATEGORY2/II\",\"CATEGORY2/II\",\"CATEGORY2/III\",\"CATEGORY2/II\",\"CATEGORY2/III\",\"CATEGORY2/III\",\"CATEGORY2/III\",\"CATEGORY2/III\",\"CATEGORY2/III\",\"CATEGORY2/III\",\"CATEGORY2/III\",\"CATEGORY2/III\",\"CATEGORY2/III\",\"CATEGORY2/III\",\"CATEGORY2/III\",\"CATEGORY2/III\",\"CATEGORY2/III\",\"CATEGORY2/III\",\"CATEGORY2/II\",\"CATEGORY2/III\",\"CATEGORY2/III\",\"CATEGORY2/III\",\"CATEGORY2/III\",\"CATEGORY2/0\",\"CATEGORY2/I\",\"CATEGORY2/II\",\"CATEGORY2/II\",\"CATEGORY2/II\",\"CATEGORY2/0\",\"CATEGORY2/I\",\"CATEGORY2/II\",\"CATEGORY2/II\",\"CATEGORY2/II\",\"CATEGORY2/II\",\"CATEGORY2/II\",\"CATEGORY2/I\",\"CATEGORY2/I\",\"CATEGORY2/II\",\"CATEGORY2/I\",\"CATEGORY2/II\",\"CATEGORY2/I\",\"CATEGORY2/II\",\"CATEGORY2/II\",\"CATEGORY2/II\",\"CATEGORY2/I\",\"CATEGORY2/II\",\"CATEGORY2/II\",\"CATEGORY2/I\",\"CATEGORY2/III\",\"CATEGORY2/II\",\"CATEGORY2/II\",\"CATEGORY2/II\",\"CATEGORY2/I\",\"CATEGORY2/I\",\"CATEGORY2/III\",\"CATEGORY2/II\",\"CATEGORY2/II\",\"CATEGORY2/II\",\"CATEGORY2/0\",\"CATEGORY2/II\",\"CATEGORY2/III\",\"CATEGORY2/II\",\"CATEGORY2/II\",\"CATEGORY2/II\",\"CATEGORY2/I\",\"CATEGORY2/II\",\"CATEGORY2/0\",\"CATEGORY2/II\",\"CATEGORY2/III\",\"CATEGORY2/I\",\"CATEGORY2/II\",\"CATEGORY2/I\",\"CATEGORY2/I\",\"CATEGORY2/III\",\"CATEGORY2/II\",\"CATEGORY2/II\",\"CATEGORY2/II\",\"CATEGORY2/II\",\"CATEGORY2/II\",\"CATEGORY2/I\",\"CATEGORY2/0\",\"CATEGORY2/II\",\"CATEGORY2/II\",\"CATEGORY2/II\",\"CATEGORY2/II\",\"CATEGORY2/I\",\"CATEGORY2/III\",\"CATEGORY2/II\",\"CATEGORY2/I\",\"CATEGORY2/II\",\"CATEGORY2/II\",\"CATEGORY2/II\",\"CATEGORY2/II\",\"CATEGORY2/II\",\"CATEGORY2/II\",\"CATEGORY2/0\",\"CATEGORY2/I\",\"CATEGORY2/II\",\"CATEGORY2/I\",\"CATEGORY2/0\",\"CATEGORY2/II\",\"CATEGORY2/II\",\"CATEGORY2/II\",\"CATEGORY2/I\",\"CATEGORY2/I\",\"CATEGORY2/II\",\"CATEGORY2/0\",\"CATEGORY2/II\",\"CATEGORY2/II\",\"CATEGORY2/II\",\"CATEGORY2/II\",\"CATEGORY2/II\",\"CATEGORY2/III\",\"CATEGORY2/II\",\"CATEGORY2/II\",\"CATEGORY2/II\",\"CATEGORY2/II\",\"CATEGORY2/II\",\"CATEGORY2/II\",\"CATEGORY2/II\",\"CATEGORY2/II\",\"CATEGORY2/0\",\"CATEGORY2/I\",\"CATEGORY2/0\",\"CATEGORY2/II\",\"CATEGORY2/II\",\"CATEGORY2/II\",\"CATEGORY2/II\",\"CATEGORY2/II\",\"CATEGORY2/II\",\"CATEGORY2/II\",\"CATEGORY2/II\",\"CATEGORY2/II\",\"CATEGORY2/II\",\"CATEGORY2/I\",\"CATEGORY2/I\",\"CATEGORY2/II\",\"CATEGORY2/0\",\"CATEGORY2/II\",\"CATEGORY2/II\",\"CATEGORY2/II\",\"CATEGORY2/II\",\"CATEGORY2/II\",\"CATEGORY2/II\",\"CATEGORY2/II\",\"CATEGORY2/0\",\"CATEGORY2/I\",\"CATEGORY2/0\",\"CATEGORY2/II\",\"CATEGORY2/II\",\"CATEGORY2/II\",\"CATEGORY2/I\",\"CATEGORY2/II\",\"CATEGORY2/0\",\"CATEGORY2/I\",\"CATEGORY2/0\",\"CATEGORY2/I\",\"CATEGORY2/I\",\"CATEGORY2/0\",\"CATEGORY2/II\",\"CATEGORY2/II\",\"CATEGORY2/I\",\"CATEGORY2/II\",\"CATEGORY2/II\",\"CATEGORY2/I\",\"CATEGORY2/I\",\"CATEGORY2/II\",\"CATEGORY2/II\",\"CATEGORY2/III\",\"CATEGORY2/0\",\"CATEGORY2/0\",\"CATEGORY2/II\",\"CATEGORY2/II\",\"CATEGORY2/II\",\"CATEGORY2/II\",\"CATEGORY2/II\",\"CATEGORY2/II\",\"CATEGORY2/II\",\"CATEGORY2/0\",\"CATEGORY2/I\",\"CATEGORY2/II\",\"CATEGORY2/II\",\"CATEGORY2/II\",\"CATEGORY2/II\",\"CATEGORY2/II\",\"CATEGORY2/II\",\"CATEGORY2/II\",\"CATEGORY2/II\",\"CATEGORY2/0\",\"CATEGORY2/II\",\"CATEGORY2/II\",\"CATEGORY2/II\",\"CATEGORY2/II\",\"CATEGORY2/II\",\"CATEGORY2/II\",\"CATEGORY2/II\",\"CATEGORY2/II\",\"CATEGORY2/0\",\"CATEGORY2/II\",\"CATEGORY2/II\",\"CATEGORY2/II\",\"CATEGORY2/II\",\"CATEGORY2/II\",\"CATEGORY2/I\",\"CATEGORY2/II\",\"CATEGORY2/0\",\"CATEGORY2/II\",\"CATEGORY2/III\",\"CATEGORY2/I\",\"CATEGORY2/II\",\"CATEGORY2/III\",\"CATEGORY2/II\",\"CATEGORY2/II\",\"CATEGORY2/II\",\"CATEGORY2/I\",\"CATEGORY2/II\",\"CATEGORY2/I\",\"CATEGORY2/I\",\"CATEGORY2/I\",\"CATEGORY2/II\",\"CATEGORY2/II\",\"CATEGORY2/I\",\"CATEGORY2/II\",\"CATEGORY2/I\",\"CATEGORY2/II\",\"CATEGORY2/I\",\"CATEGORY2/II\",\"CATEGORY2/II\",\"CATEGORY2/II\",\"CATEGORY2/I\",\"CATEGORY2/I\",\"CATEGORY2/III\",\"CATEGORY2/I\",\"CATEGORY2/II\",\"CATEGORY2/II\",\"CATEGORY2/II\",\"CATEGORY2/II\",\"CATEGORY2/II\",\"CATEGORY2/I\",\"CATEGORY2/II\",\"CATEGORY2/0\",\"CATEGORY2/I\",\"CATEGORY2/0\",\"CATEGORY2/II\",\"CATEGORY2/III\",\"CATEGORY2/0\",\"CATEGORY2/0\",\"CATEGORY2/II\",\"CATEGORY2/II\",\"CATEGORY2/0\",\"CATEGORY2/II\",\"CATEGORY2/II\",\"CATEGORY2/II\",\"CATEGORY2/II\",\"CATEGORY2/I\",\"CATEGORY2/II\",\"CATEGORY2/0\",\"CATEGORY2/II\",\"CATEGORY2/II\",\"CATEGORY2/II\",\"CATEGORY2/0\",\"CATEGORY2/0\",\"CATEGORY2/II\",\"CATEGORY2/II\",\"CATEGORY2/II\",\"CATEGORY2/II\",\"CATEGORY2/I\",\"CATEGORY2/I\",\"CATEGORY2/II\",\"CATEGORY2/II\",\"CATEGORY2/II\",\"CATEGORY2/I\",\"CATEGORY2/II\",\"CATEGORY2/0\",\"CATEGORY2/II\",\"CATEGORY2/0\",\"CATEGORY2/I\",\"CATEGORY2/II\",\"CATEGORY2/I\",\"CATEGORY2/II\",\"CATEGORY2/II\",\"CATEGORY2/0\",\"CATEGORY2/0\",\"CATEGORY2/II\",\"CATEGORY2/0\",\"CATEGORY2/II\",\"CATEGORY2/I\",\"CATEGORY2/II\",\"CATEGORY2/II\",\"CATEGORY2/II\",\"CATEGORY2/I\",\"CATEGORY2/II\",\"CATEGORY2/I\",\"CATEGORY2/0\",\"CATEGORY2/II\",\"CATEGORY2/II\",\"CATEGORY2/I\",\"CATEGORY2/II\",\"CATEGORY2/III\",\"CATEGORY2/II\",\"CATEGORY2/II\",\"CATEGORY2/I\",\"CATEGORY2/II\",\"CATEGORY2/II\",\"CATEGORY2/II\",\"CATEGORY2/II\",\"CATEGORY2/I\",\"CATEGORY2/II\",\"CATEGORY2/I\",\"CATEGORY2/0\",\"CATEGORY2/II\",\"CATEGORY2/II\",\"CATEGORY2/I\",\"CATEGORY2/I\",\"CATEGORY2/II\",\"CATEGORY2/0\",\"CATEGORY2/II\",\"CATEGORY2/II\",\"CATEGORY2/II\",\"CATEGORY2/II\",\"CATEGORY2/III\",\"CATEGORY2/II\",\"CATEGORY2/II\",\"CATEGORY2/II\",\"CATEGORY2/II\",\"CATEGORY2/II\",\"CATEGORY2/II\",\"CATEGORY2/II\",\"CATEGORY2/II\",\"CATEGORY2/0\",\"CATEGORY2/I\",\"CATEGORY2/0\",\"CATEGORY2/II\",\"CATEGORY2/II\",\"CATEGORY2/II\",\"CATEGORY2/II\",\"CATEGORY2/II\",\"CATEGORY2/II\",\"CATEGORY2/II\",\"CATEGORY2/II\",\"CATEGORY2/II\",\"CATEGORY2/II\",\"CATEGORY2/I\",\"CATEGORY2/I\",\"CATEGORY2/II\",\"CATEGORY2/II\",\"CATEGORY2/II\",\"CATEGORY2/II\",\"CATEGORY2/II\",\"CATEGORY2/II\",\"CATEGORY2/II\",\"CATEGORY2/I\",\"CATEGORY2/0\",\"CATEGORY2/II\",\"CATEGORY2/II\",\"CATEGORY2/II\",\"CATEGORY2/I\",\"CATEGORY2/II\",\"CATEGORY2/0\",\"CATEGORY2/I\",\"CATEGORY2/0\",\"CATEGORY2/I\",\"CATEGORY2/I\",\"CATEGORY2/0\",\"CATEGORY2/II\",\"CATEGORY2/II\",\"CATEGORY2/I\",\"CATEGORY2/II\",\"CATEGORY2/II\",\"CATEGORY2/I\",\"CATEGORY2/I\",\"CATEGORY2/II\",\"CATEGORY2/III\",\"CATEGORY2/0\",\"CATEGORY2/0\",\"CATEGORY2/II\",\"CATEGORY2/II\",\"CATEGORY2/II\",\"CATEGORY2/II\",\"CATEGORY2/II\",\"CATEGORY2/II\",\"CATEGORY2/II\",\"CATEGORY2/I\",\"CATEGORY2/II\",\"CATEGORY2/II\",\"CATEGORY2/II\",\"CATEGORY2/II\",\"CATEGORY2/II\",\"CATEGORY2/II\",\"CATEGORY2/II\",\"CATEGORY2/II\",\"CATEGORY2/0\",\"CATEGORY2/II\",\"CATEGORY2/II\",\"CATEGORY2/II\",\"CATEGORY2/II\",\"CATEGORY2/II\",\"CATEGORY2/II\",\"CATEGORY2/II\",\"CATEGORY2/0\",\"CATEGORY2/II\",\"CATEGORY2/II\",\"CATEGORY2/II\",\"CATEGORY2/I\",\"CATEGORY2/II\",\"CATEGORY2/0\",\"CATEGORY2/II\",\"CATEGORY2/III\",\"CATEGORY2/I\",\"CATEGORY2/II\",\"CATEGORY2/III\",\"CATEGORY2/II\",\"CATEGORY2/II\",\"CATEGORY2/II\",\"CATEGORY2/I\",\"CATEGORY2/II\",\"CATEGORY2/I\",\"CATEGORY2/I\",\"CATEGORY2/II\",\"CATEGORY2/II\",\"CATEGORY2/I\",\"CATEGORY2/II\",\"CATEGORY2/I\",\"CATEGORY2/II\",\"CATEGORY2/II\",\"CATEGORY2/II\",\"CATEGORY2/II\",\"CATEGORY2/I\",\"CATEGORY2/I\",\"CATEGORY2/III\",\"CATEGORY2/I\",\"CATEGORY2/II\",\"CATEGORY2/II\",\"CATEGORY2/II\",\"CATEGORY2/II\",\"CATEGORY2/II\",\"CATEGORY2/I\",\"CATEGORY2/II\",\"CATEGORY2/I\",\"CATEGORY2/0\",\"CATEGORY2/II\",\"CATEGORY2/III\",\"CATEGORY2/0\",\"CATEGORY2/II\",\"CATEGORY2/II\",\"CATEGORY2/II\",\"CATEGORY2/II\",\"CATEGORY2/II\",\"CATEGORY2/I\",\"CATEGORY2/II\",\"CATEGORY2/II\",\"CATEGORY2/0\",\"CATEGORY2/0\",\"CATEGORY2/II\",\"CATEGORY2/II\",\"CATEGORY2/II\",\"CATEGORY2/II\",\"CATEGORY2/I\",\"CATEGORY2/I\",\"CATEGORY2/II\",\"CATEGORY2/II\",\"CATEGORY2/II\",\"CATEGORY2/II\",\"CATEGORY2/0\",\"CATEGORY2/II\",\"CATEGORY2/0\",\"CATEGORY2/I\",\"CATEGORY2/II\",\"CATEGORY2/I\",\"CATEGORY2/II\",\"CATEGORY2/II\",\"CATEGORY2/0\",\"CATEGORY2/0\",\"CATEGORY2/II\",\"CATEGORY2/I\",\"CATEGORY2/II\",\"CATEGORY2/I\",\"CATEGORY2/I\",\"CATEGORY2/0\",\"CATEGORY2/II\",\"CATEGORY2/II\",\"CATEGORY2/I\",\"CATEGORY2/II\",\"CATEGORY2/II\",\"CATEGORY2/II\",\"CATEGORY2/III\",\"CATEGORY2/II\",\"CATEGORY2/III\",\"CATEGORY2/III\",\"CATEGORY2/III\",\"CATEGORY2/III\",\"CATEGORY2/III\",\"CATEGORY2/III\",\"CATEGORY2/III\",\"CATEGORY2/III\",\"CATEGORY2/III\",\"CATEGORY2/III\",\"CATEGORY2/III\",\"CATEGORY2/III\",\"CATEGORY2/III\",\"CATEGORY2/III\",\"CATEGORY2/II\",\"CATEGORY2/III\",\"CATEGORY2/III\",\"CATEGORY2/III\",\"CATEGORY2/III\",\"CATEGORY2/0\",\"CATEGORY2/I\",\"CATEGORY2/II\",\"CATEGORY2/II\",\"CATEGORY2/II\",\"CATEGORY2/I\",\"CATEGORY2/II\",\"CATEGORY2/II\",\"CATEGORY2/II\",\"CATEGORY2/II\",\"CATEGORY2/II\",\"CATEGORY2/I\",\"CATEGORY2/I\",\"CATEGORY2/II\",\"CATEGORY2/I\",\"CATEGORY2/II\",\"CATEGORY2/I\",\"CATEGORY2/II\",\"CATEGORY2/II\",\"CATEGORY2/II\",\"CATEGORY2/I\",\"CATEGORY2/II\",\"CATEGORY2/II\",\"CATEGORY2/I\",\"CATEGORY2/III\",\"CATEGORY2/II\",\"CATEGORY2/II\",\"CATEGORY2/II\",\"CATEGORY2/I\",\"CATEGORY2/I\",\"CATEGORY2/III\",\"CATEGORY2/II\",\"CATEGORY2/II\",\"CATEGORY2/II\",\"CATEGORY2/0\",\"CATEGORY2/II\",\"CATEGORY2/III\",\"CATEGORY2/II\",\"CATEGORY2/II\",\"CATEGORY2/I\",\"CATEGORY2/II\",\"CATEGORY2/II\",\"CATEGORY2/III\",\"CATEGORY2/I\",\"CATEGORY2/II\",\"CATEGORY2/I\",\"CATEGORY2/I\",\"CATEGORY2/III\",\"CATEGORY2/II\",\"CATEGORY2/II\",\"CATEGORY2/II\",\"CATEGORY2/II\",\"CATEGORY2/II\",\"CATEGORY2/I\",\"CATEGORY2/II\",\"CATEGORY2/II\",\"CATEGORY2/II\",\"CATEGORY2/II\",\"CATEGORY2/III\",\"CATEGORY2/II\",\"CATEGORY2/I\",\"CATEGORY2/II\",\"CATEGORY2/II\",\"CATEGORY2/II\",\"CATEGORY2\",\"CATEGORY2\",\"CATEGORY2\",\"CATEGORY2\",\"\"],\"values\":[1632,3602,3987,4093,3596,1447,6004,6240,4876,1525,1286,789,4331,1185,720,435,5200,5008,591,4553,6238,930,665,1672,2054,1669,39,5749,2029,1421,3295,4097,2864,5376,899,3408,2351,3536,25,174,4696,3736,4641,4612,882,3981,2905,3616,3667,7490,3030,4835,3726,1548,2896,453,81,1,2164,180,3566,4560,3794,611,135,2161,3035,1,3596,6470,3312,2,587,63,5826,184,2690,254,223,311,31,1,18,1950,5365,4440,1,4715,22,1879,26,5188,3821,2100,3687,5042,1,107,2209,1541,1,3,47,277,2753,1836,846,87,23,5168,1,261,5146,3483,215,365,12,156,3946,15,748,339,112,990,382,999,146,174,362,4722,74,160,2130,533,321,2748,758,1211,114,260,67,1283,1173,447,6,1981,473,414,1,90,14,4050,1006,3690,533,612,478,35,837,790,182,3694,3059,1325,75,2858,2328,870,223,5530,135,153,161,93,1118,366,5451,422,983,663,396,1051,1,2309,21,34,219,22,37,2569,5528,3423,263,12,484,322,1,279,2197,98,39,177,468,2164,2103,8,70,2163,3463,24,1115,3958,194,363,120,944,1,553,742,31,200,271,2773,183,884,5291,724,120,54,362,4516,1216,328,1760,1,3913,48,1992,452,732,9,2706,2862,90,4931,5773,693,120,12,633,4050,4192,266,21,374,882,13,378,113,218,107,195,270,5,26,537,7254,3011,31,137,388,289,89,137,33,20,101,1157,32,3351,271,135,106,21,200,1951,378,1388,260,42,50,1645,1091,434,1967,2,1810,30,180,21,8,494,1,68,659,1619,2967,17,788,636,1,9,104,931,437,155,57,2018,1,153,2056,1050,56,58,12,72,1770,1,166,148,99,482,173,157,38,117,147,2343,42,54,311,126,63,437,304,393,170,32,350,471,83,383,220,1,9,10,1029,451,1287,229,313,215,28,323,403,70,777,604,395,16,1159,1201,326,3908,110,79,69,38,254,73,2714,89,491,303,250,1,692,7,18,93,7,24,924,2459,618,161,23,222,1,57,1248,27,78,720,1260,5,12,334,1349,15,497,1963,87,98,61,270,1,378,59,22,141,994,150,388,3328,39,13,82,2337,461,156,297,1,2239,7,512,196,153,5,1763,59,1670,3683,143,8,198,101,11,30,420,128,23,117,177,3,8,295,2521,1303,62,134,250,178,53,3,16,84,368,10,1797,46,43,64,9,11,1238,24,829,387,15,2,585,51,2391,1416,1856,1714,1769,368,2722,3221,2388,574,448,515,1968,610,258,191,1574,2805,400,2091,61,508,278,582,964,615,20,1989,634,1711,1587,1165,3192,198,1580,1001,809,9,37,2657,1893,1272,1335,33,1951,1400,1902,1840,4317,1535,2391,1825,869,1327,42,11,1,864,130,1507,630,1332,54,643,1782,1511,2182,1784,1,131,30,2518,53,1069,1,163,258,4,1,480,1,1464,2142,9,596,17,2296,1807,30413,126965,338536,150430,646344],\"type\":\"treemap\"}],                        {\"template\":{\"data\":{\"bar\":[{\"error_x\":{\"color\":\"#2a3f5f\"},\"error_y\":{\"color\":\"#2a3f5f\"},\"marker\":{\"line\":{\"color\":\"#E5ECF6\",\"width\":0.5},\"pattern\":{\"fillmode\":\"overlay\",\"size\":10,\"solidity\":0.2}},\"type\":\"bar\"}],\"barpolar\":[{\"marker\":{\"line\":{\"color\":\"#E5ECF6\",\"width\":0.5},\"pattern\":{\"fillmode\":\"overlay\",\"size\":10,\"solidity\":0.2}},\"type\":\"barpolar\"}],\"carpet\":[{\"aaxis\":{\"endlinecolor\":\"#2a3f5f\",\"gridcolor\":\"white\",\"linecolor\":\"white\",\"minorgridcolor\":\"white\",\"startlinecolor\":\"#2a3f5f\"},\"baxis\":{\"endlinecolor\":\"#2a3f5f\",\"gridcolor\":\"white\",\"linecolor\":\"white\",\"minorgridcolor\":\"white\",\"startlinecolor\":\"#2a3f5f\"},\"type\":\"carpet\"}],\"choropleth\":[{\"colorbar\":{\"outlinewidth\":0,\"ticks\":\"\"},\"type\":\"choropleth\"}],\"contour\":[{\"colorbar\":{\"outlinewidth\":0,\"ticks\":\"\"},\"colorscale\":[[0.0,\"#0d0887\"],[0.1111111111111111,\"#46039f\"],[0.2222222222222222,\"#7201a8\"],[0.3333333333333333,\"#9c179e\"],[0.4444444444444444,\"#bd3786\"],[0.5555555555555556,\"#d8576b\"],[0.6666666666666666,\"#ed7953\"],[0.7777777777777778,\"#fb9f3a\"],[0.8888888888888888,\"#fdca26\"],[1.0,\"#f0f921\"]],\"type\":\"contour\"}],\"contourcarpet\":[{\"colorbar\":{\"outlinewidth\":0,\"ticks\":\"\"},\"type\":\"contourcarpet\"}],\"heatmap\":[{\"colorbar\":{\"outlinewidth\":0,\"ticks\":\"\"},\"colorscale\":[[0.0,\"#0d0887\"],[0.1111111111111111,\"#46039f\"],[0.2222222222222222,\"#7201a8\"],[0.3333333333333333,\"#9c179e\"],[0.4444444444444444,\"#bd3786\"],[0.5555555555555556,\"#d8576b\"],[0.6666666666666666,\"#ed7953\"],[0.7777777777777778,\"#fb9f3a\"],[0.8888888888888888,\"#fdca26\"],[1.0,\"#f0f921\"]],\"type\":\"heatmap\"}],\"heatmapgl\":[{\"colorbar\":{\"outlinewidth\":0,\"ticks\":\"\"},\"colorscale\":[[0.0,\"#0d0887\"],[0.1111111111111111,\"#46039f\"],[0.2222222222222222,\"#7201a8\"],[0.3333333333333333,\"#9c179e\"],[0.4444444444444444,\"#bd3786\"],[0.5555555555555556,\"#d8576b\"],[0.6666666666666666,\"#ed7953\"],[0.7777777777777778,\"#fb9f3a\"],[0.8888888888888888,\"#fdca26\"],[1.0,\"#f0f921\"]],\"type\":\"heatmapgl\"}],\"histogram\":[{\"marker\":{\"pattern\":{\"fillmode\":\"overlay\",\"size\":10,\"solidity\":0.2}},\"type\":\"histogram\"}],\"histogram2d\":[{\"colorbar\":{\"outlinewidth\":0,\"ticks\":\"\"},\"colorscale\":[[0.0,\"#0d0887\"],[0.1111111111111111,\"#46039f\"],[0.2222222222222222,\"#7201a8\"],[0.3333333333333333,\"#9c179e\"],[0.4444444444444444,\"#bd3786\"],[0.5555555555555556,\"#d8576b\"],[0.6666666666666666,\"#ed7953\"],[0.7777777777777778,\"#fb9f3a\"],[0.8888888888888888,\"#fdca26\"],[1.0,\"#f0f921\"]],\"type\":\"histogram2d\"}],\"histogram2dcontour\":[{\"colorbar\":{\"outlinewidth\":0,\"ticks\":\"\"},\"colorscale\":[[0.0,\"#0d0887\"],[0.1111111111111111,\"#46039f\"],[0.2222222222222222,\"#7201a8\"],[0.3333333333333333,\"#9c179e\"],[0.4444444444444444,\"#bd3786\"],[0.5555555555555556,\"#d8576b\"],[0.6666666666666666,\"#ed7953\"],[0.7777777777777778,\"#fb9f3a\"],[0.8888888888888888,\"#fdca26\"],[1.0,\"#f0f921\"]],\"type\":\"histogram2dcontour\"}],\"mesh3d\":[{\"colorbar\":{\"outlinewidth\":0,\"ticks\":\"\"},\"type\":\"mesh3d\"}],\"parcoords\":[{\"line\":{\"colorbar\":{\"outlinewidth\":0,\"ticks\":\"\"}},\"type\":\"parcoords\"}],\"pie\":[{\"automargin\":true,\"type\":\"pie\"}],\"scatter\":[{\"marker\":{\"colorbar\":{\"outlinewidth\":0,\"ticks\":\"\"}},\"type\":\"scatter\"}],\"scatter3d\":[{\"line\":{\"colorbar\":{\"outlinewidth\":0,\"ticks\":\"\"}},\"marker\":{\"colorbar\":{\"outlinewidth\":0,\"ticks\":\"\"}},\"type\":\"scatter3d\"}],\"scattercarpet\":[{\"marker\":{\"colorbar\":{\"outlinewidth\":0,\"ticks\":\"\"}},\"type\":\"scattercarpet\"}],\"scattergeo\":[{\"marker\":{\"colorbar\":{\"outlinewidth\":0,\"ticks\":\"\"}},\"type\":\"scattergeo\"}],\"scattergl\":[{\"marker\":{\"colorbar\":{\"outlinewidth\":0,\"ticks\":\"\"}},\"type\":\"scattergl\"}],\"scattermapbox\":[{\"marker\":{\"colorbar\":{\"outlinewidth\":0,\"ticks\":\"\"}},\"type\":\"scattermapbox\"}],\"scatterpolar\":[{\"marker\":{\"colorbar\":{\"outlinewidth\":0,\"ticks\":\"\"}},\"type\":\"scatterpolar\"}],\"scatterpolargl\":[{\"marker\":{\"colorbar\":{\"outlinewidth\":0,\"ticks\":\"\"}},\"type\":\"scatterpolargl\"}],\"scatterternary\":[{\"marker\":{\"colorbar\":{\"outlinewidth\":0,\"ticks\":\"\"}},\"type\":\"scatterternary\"}],\"surface\":[{\"colorbar\":{\"outlinewidth\":0,\"ticks\":\"\"},\"colorscale\":[[0.0,\"#0d0887\"],[0.1111111111111111,\"#46039f\"],[0.2222222222222222,\"#7201a8\"],[0.3333333333333333,\"#9c179e\"],[0.4444444444444444,\"#bd3786\"],[0.5555555555555556,\"#d8576b\"],[0.6666666666666666,\"#ed7953\"],[0.7777777777777778,\"#fb9f3a\"],[0.8888888888888888,\"#fdca26\"],[1.0,\"#f0f921\"]],\"type\":\"surface\"}],\"table\":[{\"cells\":{\"fill\":{\"color\":\"#EBF0F8\"},\"line\":{\"color\":\"white\"}},\"header\":{\"fill\":{\"color\":\"#C8D4E3\"},\"line\":{\"color\":\"white\"}},\"type\":\"table\"}]},\"layout\":{\"annotationdefaults\":{\"arrowcolor\":\"#2a3f5f\",\"arrowhead\":0,\"arrowwidth\":1},\"autotypenumbers\":\"strict\",\"coloraxis\":{\"colorbar\":{\"outlinewidth\":0,\"ticks\":\"\"}},\"colorscale\":{\"diverging\":[[0,\"#8e0152\"],[0.1,\"#c51b7d\"],[0.2,\"#de77ae\"],[0.3,\"#f1b6da\"],[0.4,\"#fde0ef\"],[0.5,\"#f7f7f7\"],[0.6,\"#e6f5d0\"],[0.7,\"#b8e186\"],[0.8,\"#7fbc41\"],[0.9,\"#4d9221\"],[1,\"#276419\"]],\"sequential\":[[0.0,\"#0d0887\"],[0.1111111111111111,\"#46039f\"],[0.2222222222222222,\"#7201a8\"],[0.3333333333333333,\"#9c179e\"],[0.4444444444444444,\"#bd3786\"],[0.5555555555555556,\"#d8576b\"],[0.6666666666666666,\"#ed7953\"],[0.7777777777777778,\"#fb9f3a\"],[0.8888888888888888,\"#fdca26\"],[1.0,\"#f0f921\"]],\"sequentialminus\":[[0.0,\"#0d0887\"],[0.1111111111111111,\"#46039f\"],[0.2222222222222222,\"#7201a8\"],[0.3333333333333333,\"#9c179e\"],[0.4444444444444444,\"#bd3786\"],[0.5555555555555556,\"#d8576b\"],[0.6666666666666666,\"#ed7953\"],[0.7777777777777778,\"#fb9f3a\"],[0.8888888888888888,\"#fdca26\"],[1.0,\"#f0f921\"]]},\"colorway\":[\"#636efa\",\"#EF553B\",\"#00cc96\",\"#ab63fa\",\"#FFA15A\",\"#19d3f3\",\"#FF6692\",\"#B6E880\",\"#FF97FF\",\"#FECB52\"],\"font\":{\"color\":\"#2a3f5f\"},\"geo\":{\"bgcolor\":\"white\",\"lakecolor\":\"white\",\"landcolor\":\"#E5ECF6\",\"showlakes\":true,\"showland\":true,\"subunitcolor\":\"white\"},\"hoverlabel\":{\"align\":\"left\"},\"hovermode\":\"closest\",\"mapbox\":{\"style\":\"light\"},\"paper_bgcolor\":\"white\",\"plot_bgcolor\":\"#E5ECF6\",\"polar\":{\"angularaxis\":{\"gridcolor\":\"white\",\"linecolor\":\"white\",\"ticks\":\"\"},\"bgcolor\":\"#E5ECF6\",\"radialaxis\":{\"gridcolor\":\"white\",\"linecolor\":\"white\",\"ticks\":\"\"}},\"scene\":{\"xaxis\":{\"backgroundcolor\":\"#E5ECF6\",\"gridcolor\":\"white\",\"gridwidth\":2,\"linecolor\":\"white\",\"showbackground\":true,\"ticks\":\"\",\"zerolinecolor\":\"white\"},\"yaxis\":{\"backgroundcolor\":\"#E5ECF6\",\"gridcolor\":\"white\",\"gridwidth\":2,\"linecolor\":\"white\",\"showbackground\":true,\"ticks\":\"\",\"zerolinecolor\":\"white\"},\"zaxis\":{\"backgroundcolor\":\"#E5ECF6\",\"gridcolor\":\"white\",\"gridwidth\":2,\"linecolor\":\"white\",\"showbackground\":true,\"ticks\":\"\",\"zerolinecolor\":\"white\"}},\"shapedefaults\":{\"line\":{\"color\":\"#2a3f5f\"}},\"ternary\":{\"aaxis\":{\"gridcolor\":\"white\",\"linecolor\":\"white\",\"ticks\":\"\"},\"baxis\":{\"gridcolor\":\"white\",\"linecolor\":\"white\",\"ticks\":\"\"},\"bgcolor\":\"#E5ECF6\",\"caxis\":{\"gridcolor\":\"white\",\"linecolor\":\"white\",\"ticks\":\"\"}},\"title\":{\"x\":0.05},\"xaxis\":{\"automargin\":true,\"gridcolor\":\"white\",\"linecolor\":\"white\",\"ticks\":\"\",\"title\":{\"standoff\":15},\"zerolinecolor\":\"white\",\"zerolinewidth\":2},\"yaxis\":{\"automargin\":true,\"gridcolor\":\"white\",\"linecolor\":\"white\",\"ticks\":\"\",\"title\":{\"standoff\":15},\"zerolinecolor\":\"white\",\"zerolinewidth\":2}}},\"coloraxis\":{\"colorbar\":{\"title\":{\"text\":\"DIAGNOSIS\"}},\"colorscale\":[[0.0,\"#0d0887\"],[0.1111111111111111,\"#46039f\"],[0.2222222222222222,\"#7201a8\"],[0.3333333333333333,\"#9c179e\"],[0.4444444444444444,\"#bd3786\"],[0.5555555555555556,\"#d8576b\"],[0.6666666666666666,\"#ed7953\"],[0.7777777777777778,\"#fb9f3a\"],[0.8888888888888888,\"#fdca26\"],[1.0,\"#f0f921\"]]},\"legend\":{\"tracegroupgap\":0},\"margin\":{\"t\":60}},                        {\"responsive\": true}                    ).then(function(){\n",
       "                            \n",
       "var gd = document.getElementById('569c381c-b3f3-44f9-b748-b40d2fa9bb64');\n",
       "var x = new MutationObserver(function (mutations, observer) {{\n",
       "        var display = window.getComputedStyle(gd).display;\n",
       "        if (!display || display === 'none') {{\n",
       "            console.log([gd, 'removed!']);\n",
       "            Plotly.purge(gd);\n",
       "            observer.disconnect();\n",
       "        }}\n",
       "}});\n",
       "\n",
       "// Listen for the removal of the full notebook cells\n",
       "var notebookContainer = gd.closest('#notebook-container');\n",
       "if (notebookContainer) {{\n",
       "    x.observe(notebookContainer, {childList: true});\n",
       "}}\n",
       "\n",
       "// Listen for the clearing of the current output cell\n",
       "var outputEl = gd.closest('.output');\n",
       "if (outputEl) {{\n",
       "    x.observe(outputEl, {childList: true});\n",
       "}}\n",
       "\n",
       "                        })                };                });            </script>        </div>"
      ]
     },
     "metadata": {},
     "output_type": "display_data"
    }
   ],
   "source": []
  },
  {
   "cell_type": "code",
   "execution_count": null,
   "id": "006251e3",
   "metadata": {},
   "outputs": [],
   "source": []
  },
  {
   "cell_type": "code",
   "execution_count": 63,
   "id": "7f6a83ea",
   "metadata": {},
   "outputs": [],
   "source": [
    "# numero de diacnosticos unicos por distrito\n",
    "# numero de hospitales y clinicas por distrito\n",
    "# evolucion del top 10 de diagnosticos a traves del tiempo por años\n",
    "# numero dediagnosticos distintos por hospitales, un grafico por categoria\n",
    "# cateforia I-3, I-4\n",
    "# categira II y categoria II\n",
    "# c*III\n",
    "\n",
    "\n",
    "# Razon social y códigos"
   ]
  },
  {
   "cell_type": "code",
   "execution_count": null,
   "id": "d80c0e0f",
   "metadata": {},
   "outputs": [],
   "source": []
  },
  {
   "cell_type": "code",
   "execution_count": null,
   "id": "e8e8f52c",
   "metadata": {},
   "outputs": [],
   "source": []
  },
  {
   "cell_type": "code",
   "execution_count": null,
   "id": "29a70a5b",
   "metadata": {},
   "outputs": [],
   "source": []
  }
 ],
 "metadata": {
  "kernelspec": {
   "display_name": "Python 3",
   "language": "python",
   "name": "python3"
  },
  "language_info": {
   "codemirror_mode": {
    "name": "ipython",
    "version": 3
   },
   "file_extension": ".py",
   "mimetype": "text/x-python",
   "name": "python",
   "nbconvert_exporter": "python",
   "pygments_lexer": "ipython3",
   "version": "3.8.8"
  }
 },
 "nbformat": 4,
 "nbformat_minor": 5
}

{
 "cells": [
  {
   "cell_type": "code",
   "execution_count": 1,
   "id": "1cbee083",
   "metadata": {},
   "outputs": [],
   "source": [
    "# !pip install plotly\n",
    "# !pip install matplotlib==3.5.0"
   ]
  },
  {
   "cell_type": "code",
   "execution_count": 2,
   "id": "7ad83372",
   "metadata": {},
   "outputs": [],
   "source": [
    "import pandas as pd\n",
    "import numpy as np\n",
    "import glob\n",
    "from tqdm import tqdm, trange\n",
    "\n",
    "import matplotlib.pyplot as plt\n",
    "from matplotlib.pyplot import cm\n",
    "import plotly.express as px\n",
    "from difflib import SequenceMatcher\n",
    "import seaborn as sns"
   ]
  },
  {
   "cell_type": "code",
   "execution_count": 3,
   "id": "3b9067e3",
   "metadata": {},
   "outputs": [],
   "source": [
    "def millions(x, pos):\n",
    "    \"\"\"The two args are the value and tick position.\"\"\"\n",
    "    return '{:1.1f}M'.format(x*1e-6)\n"
   ]
  },
  {
   "cell_type": "code",
   "execution_count": 4,
   "id": "579edbe1",
   "metadata": {},
   "outputs": [],
   "source": [
    "# def save_new_agg(data, name):\n",
    "#     data_temp = data[((data['PROVINCE']=='LIMA') & (data['STATE']=='LIMA')) |\n",
    "#                      (data['STATE']=='CALLAO')]\n",
    "#     data_temp = data_temp[data_temp['YEAR']==2020].reset_index(drop=True)\n",
    "#     data_temp['SECTOR'] = data_temp['SECTOR'].apply(lambda x: x if x == 'PRIVADO' else 'PUBLICO')\n",
    "#     columns_ = data_temp['SECTOR'].unique()\n",
    "#     data_temp = data_temp.groupby(['UBIGEO', 'DISTRICT','SECTOR','CO_IPRESS']).agg({ 'QTY_PEOPLE_SERVED': \"sum\"}).reset_index()\n",
    "#     data_temp = data_temp.groupby(['UBIGEO', 'DISTRICT','SECTOR']).agg({ 'CO_IPRESS': \"count\"}).reset_index()\n",
    "#     data_temp = data_temp.pivot(index =['UBIGEO', 'DISTRICT'], columns ='SECTOR')\n",
    "#     data_temp.columns = data_temp.columns.droplevel()\n",
    "#     data_temp = data_temp.reset_index()\n",
    "#     data_temp.fillna(0, inplace = True)\n",
    "\n",
    "#     data_temp['TOTAL'] = data_temp[columns_].sum(axis=1)\n",
    "#     data_temp.to_csv(name, index = False)\n",
    "#     return data_temp"
   ]
  },
  {
   "cell_type": "code",
   "execution_count": null,
   "id": "feb4400d",
   "metadata": {},
   "outputs": [],
   "source": []
  },
  {
   "cell_type": "code",
   "execution_count": 5,
   "id": "a36d4aa0",
   "metadata": {},
   "outputs": [],
   "source": [
    "all_data = pd.read_pickle('data/morbilidad_global.csv')\n",
    "all_data['IS_LIMA'] = all_data['PROVINCE'].apply(lambda x : True if x=='LIMA' else False)"
   ]
  },
  {
   "cell_type": "code",
   "execution_count": 6,
   "id": "4fbd728a",
   "metadata": {},
   "outputs": [
    {
     "data": {
      "text/html": [
       "<div>\n",
       "<style scoped>\n",
       "    .dataframe tbody tr th:only-of-type {\n",
       "        vertical-align: middle;\n",
       "    }\n",
       "\n",
       "    .dataframe tbody tr th {\n",
       "        vertical-align: top;\n",
       "    }\n",
       "\n",
       "    .dataframe thead th {\n",
       "        text-align: right;\n",
       "    }\n",
       "</style>\n",
       "<table border=\"1\" class=\"dataframe\">\n",
       "  <thead>\n",
       "    <tr style=\"text-align: right;\">\n",
       "      <th></th>\n",
       "      <th>YEAR</th>\n",
       "      <th>MONTH</th>\n",
       "      <th>UBIGEO</th>\n",
       "      <th>STATE</th>\n",
       "      <th>PROVINCE</th>\n",
       "      <th>DISTRICT</th>\n",
       "      <th>SECTOR</th>\n",
       "      <th>CATEGORY</th>\n",
       "      <th>CO_IPRESS</th>\n",
       "      <th>NAME</th>\n",
       "      <th>...</th>\n",
       "      <th>AGE</th>\n",
       "      <th>DIAGNOSIS_ID</th>\n",
       "      <th>QTY_PEOPLE_SERVED</th>\n",
       "      <th>DISEASE</th>\n",
       "      <th>CATEGORY2</th>\n",
       "      <th>DISEASE_GROUP</th>\n",
       "      <th>DATE</th>\n",
       "      <th>TYPE</th>\n",
       "      <th>DIGNOSTICO</th>\n",
       "      <th>IS_LIMA</th>\n",
       "    </tr>\n",
       "  </thead>\n",
       "  <tbody>\n",
       "    <tr>\n",
       "      <th>0</th>\n",
       "      <td>2018</td>\n",
       "      <td>1</td>\n",
       "      <td>150101</td>\n",
       "      <td>LIMA</td>\n",
       "      <td>LIMA</td>\n",
       "      <td>LIMA</td>\n",
       "      <td>PRIVADO</td>\n",
       "      <td>II-2</td>\n",
       "      <td>00015610</td>\n",
       "      <td>CLÍNICA INTERNACIONAL</td>\n",
       "      <td>...</td>\n",
       "      <td>7</td>\n",
       "      <td>R10.2</td>\n",
       "      <td>10</td>\n",
       "      <td>PELVIC AND PERINEAL PAIN</td>\n",
       "      <td>II</td>\n",
       "      <td>Abnormal clinical and laboratory symptoms, sig...</td>\n",
       "      <td>2018-01-01</td>\n",
       "      <td>Outpatient Consultation</td>\n",
       "      <td>NaN</td>\n",
       "      <td>True</td>\n",
       "    </tr>\n",
       "    <tr>\n",
       "      <th>1</th>\n",
       "      <td>2018</td>\n",
       "      <td>1</td>\n",
       "      <td>150101</td>\n",
       "      <td>LIMA</td>\n",
       "      <td>LIMA</td>\n",
       "      <td>LIMA</td>\n",
       "      <td>PRIVADO</td>\n",
       "      <td>II-2</td>\n",
       "      <td>00015610</td>\n",
       "      <td>CLÍNICA INTERNACIONAL</td>\n",
       "      <td>...</td>\n",
       "      <td>7</td>\n",
       "      <td>R10.4</td>\n",
       "      <td>11</td>\n",
       "      <td>UNIDENTIFIED</td>\n",
       "      <td>II</td>\n",
       "      <td>Abnormal clinical and laboratory symptoms, sig...</td>\n",
       "      <td>2018-01-01</td>\n",
       "      <td>Outpatient Consultation</td>\n",
       "      <td>NaN</td>\n",
       "      <td>True</td>\n",
       "    </tr>\n",
       "    <tr>\n",
       "      <th>2</th>\n",
       "      <td>2018</td>\n",
       "      <td>1</td>\n",
       "      <td>150101</td>\n",
       "      <td>LIMA</td>\n",
       "      <td>LIMA</td>\n",
       "      <td>LIMA</td>\n",
       "      <td>PRIVADO</td>\n",
       "      <td>II-2</td>\n",
       "      <td>00015610</td>\n",
       "      <td>CLÍNICA INTERNACIONAL</td>\n",
       "      <td>...</td>\n",
       "      <td>7</td>\n",
       "      <td>R11.X</td>\n",
       "      <td>3</td>\n",
       "      <td>UNIDENTIFIED</td>\n",
       "      <td>II</td>\n",
       "      <td>Abnormal clinical and laboratory symptoms, sig...</td>\n",
       "      <td>2018-01-01</td>\n",
       "      <td>Outpatient Consultation</td>\n",
       "      <td>NaN</td>\n",
       "      <td>True</td>\n",
       "    </tr>\n",
       "    <tr>\n",
       "      <th>3</th>\n",
       "      <td>2018</td>\n",
       "      <td>1</td>\n",
       "      <td>150101</td>\n",
       "      <td>LIMA</td>\n",
       "      <td>LIMA</td>\n",
       "      <td>LIMA</td>\n",
       "      <td>PRIVADO</td>\n",
       "      <td>II-2</td>\n",
       "      <td>00015610</td>\n",
       "      <td>CLÍNICA INTERNACIONAL</td>\n",
       "      <td>...</td>\n",
       "      <td>7</td>\n",
       "      <td>R16.0</td>\n",
       "      <td>1</td>\n",
       "      <td>HEPATOMEGALY, NOT ELSEWHERE CLASSIFIED</td>\n",
       "      <td>II</td>\n",
       "      <td>Abnormal clinical and laboratory symptoms, sig...</td>\n",
       "      <td>2018-01-01</td>\n",
       "      <td>Outpatient Consultation</td>\n",
       "      <td>NaN</td>\n",
       "      <td>True</td>\n",
       "    </tr>\n",
       "    <tr>\n",
       "      <th>4</th>\n",
       "      <td>2018</td>\n",
       "      <td>1</td>\n",
       "      <td>150101</td>\n",
       "      <td>LIMA</td>\n",
       "      <td>LIMA</td>\n",
       "      <td>LIMA</td>\n",
       "      <td>PRIVADO</td>\n",
       "      <td>II-2</td>\n",
       "      <td>00015610</td>\n",
       "      <td>CLÍNICA INTERNACIONAL</td>\n",
       "      <td>...</td>\n",
       "      <td>7</td>\n",
       "      <td>R42.X</td>\n",
       "      <td>1</td>\n",
       "      <td>UNIDENTIFIED</td>\n",
       "      <td>II</td>\n",
       "      <td>Abnormal clinical and laboratory symptoms, sig...</td>\n",
       "      <td>2018-01-01</td>\n",
       "      <td>Outpatient Consultation</td>\n",
       "      <td>NaN</td>\n",
       "      <td>True</td>\n",
       "    </tr>\n",
       "  </tbody>\n",
       "</table>\n",
       "<p>5 rows × 21 columns</p>\n",
       "</div>"
      ],
      "text/plain": [
       "   YEAR  MONTH  UBIGEO STATE PROVINCE DISTRICT   SECTOR CATEGORY CO_IPRESS  \\\n",
       "0  2018      1  150101  LIMA     LIMA     LIMA  PRIVADO     II-2  00015610   \n",
       "1  2018      1  150101  LIMA     LIMA     LIMA  PRIVADO     II-2  00015610   \n",
       "2  2018      1  150101  LIMA     LIMA     LIMA  PRIVADO     II-2  00015610   \n",
       "3  2018      1  150101  LIMA     LIMA     LIMA  PRIVADO     II-2  00015610   \n",
       "4  2018      1  150101  LIMA     LIMA     LIMA  PRIVADO     II-2  00015610   \n",
       "\n",
       "                    NAME  ... AGE DIAGNOSIS_ID QTY_PEOPLE_SERVED  \\\n",
       "0  CLÍNICA INTERNACIONAL  ...   7        R10.2                10   \n",
       "1  CLÍNICA INTERNACIONAL  ...   7        R10.4                11   \n",
       "2  CLÍNICA INTERNACIONAL  ...   7        R11.X                 3   \n",
       "3  CLÍNICA INTERNACIONAL  ...   7        R16.0                 1   \n",
       "4  CLÍNICA INTERNACIONAL  ...   7        R42.X                 1   \n",
       "\n",
       "                                  DISEASE CATEGORY2  \\\n",
       "0                PELVIC AND PERINEAL PAIN        II   \n",
       "1                            UNIDENTIFIED        II   \n",
       "2                            UNIDENTIFIED        II   \n",
       "3  HEPATOMEGALY, NOT ELSEWHERE CLASSIFIED        II   \n",
       "4                            UNIDENTIFIED        II   \n",
       "\n",
       "                                       DISEASE_GROUP       DATE  \\\n",
       "0  Abnormal clinical and laboratory symptoms, sig... 2018-01-01   \n",
       "1  Abnormal clinical and laboratory symptoms, sig... 2018-01-01   \n",
       "2  Abnormal clinical and laboratory symptoms, sig... 2018-01-01   \n",
       "3  Abnormal clinical and laboratory symptoms, sig... 2018-01-01   \n",
       "4  Abnormal clinical and laboratory symptoms, sig... 2018-01-01   \n",
       "\n",
       "                      TYPE DIGNOSTICO IS_LIMA  \n",
       "0  Outpatient Consultation        NaN    True  \n",
       "1  Outpatient Consultation        NaN    True  \n",
       "2  Outpatient Consultation        NaN    True  \n",
       "3  Outpatient Consultation        NaN    True  \n",
       "4  Outpatient Consultation        NaN    True  \n",
       "\n",
       "[5 rows x 21 columns]"
      ]
     },
     "execution_count": 6,
     "metadata": {},
     "output_type": "execute_result"
    }
   ],
   "source": [
    "all_data.head()"
   ]
  },
  {
   "cell_type": "code",
   "execution_count": 7,
   "id": "2f9033a3",
   "metadata": {},
   "outputs": [
    {
     "data": {
      "text/html": [
       "<div>\n",
       "<style scoped>\n",
       "    .dataframe tbody tr th:only-of-type {\n",
       "        vertical-align: middle;\n",
       "    }\n",
       "\n",
       "    .dataframe tbody tr th {\n",
       "        vertical-align: top;\n",
       "    }\n",
       "\n",
       "    .dataframe thead th {\n",
       "        text-align: right;\n",
       "    }\n",
       "</style>\n",
       "<table border=\"1\" class=\"dataframe\">\n",
       "  <thead>\n",
       "    <tr style=\"text-align: right;\">\n",
       "      <th></th>\n",
       "      <th>DATE</th>\n",
       "      <th>sum</th>\n",
       "      <th>count</th>\n",
       "    </tr>\n",
       "  </thead>\n",
       "  <tbody>\n",
       "    <tr>\n",
       "      <th>0</th>\n",
       "      <td>2015-01-01</td>\n",
       "      <td>6370</td>\n",
       "      <td>1010</td>\n",
       "    </tr>\n",
       "    <tr>\n",
       "      <th>1</th>\n",
       "      <td>2015-02-01</td>\n",
       "      <td>4303</td>\n",
       "      <td>837</td>\n",
       "    </tr>\n",
       "    <tr>\n",
       "      <th>2</th>\n",
       "      <td>2015-03-01</td>\n",
       "      <td>12568</td>\n",
       "      <td>917</td>\n",
       "    </tr>\n",
       "    <tr>\n",
       "      <th>3</th>\n",
       "      <td>2015-04-01</td>\n",
       "      <td>14378</td>\n",
       "      <td>1178</td>\n",
       "    </tr>\n",
       "    <tr>\n",
       "      <th>4</th>\n",
       "      <td>2015-05-01</td>\n",
       "      <td>16432</td>\n",
       "      <td>1284</td>\n",
       "    </tr>\n",
       "  </tbody>\n",
       "</table>\n",
       "</div>"
      ],
      "text/plain": [
       "        DATE    sum  count\n",
       "0 2015-01-01   6370   1010\n",
       "1 2015-02-01   4303    837\n",
       "2 2015-03-01  12568    917\n",
       "3 2015-04-01  14378   1178\n",
       "4 2015-05-01  16432   1284"
      ]
     },
     "execution_count": 7,
     "metadata": {},
     "output_type": "execute_result"
    }
   ],
   "source": [
    "data_temp = all_data.groupby(['DATE','DISEASE']).agg({ 'QTY_PEOPLE_SERVED': \"sum\"})\n",
    "data_temp = data_temp.reset_index()\n",
    "data_temp = data_temp.groupby(['DATE']).agg({ 'QTY_PEOPLE_SERVED': ['sum', 'count']})\n",
    "data_temp.columns = data_temp.columns.droplevel()\n",
    "data_temp = data_temp.reset_index()\n",
    "data_temp.head()"
   ]
  },
  {
   "cell_type": "code",
   "execution_count": 8,
   "id": "731a6683",
   "metadata": {},
   "outputs": [
    {
     "name": "stderr",
     "output_type": "stream",
     "text": [
      "C:\\Users\\johnk\\AppData\\Local\\Temp/ipykernel_40836/72860916.py:22: UserWarning: Matplotlib is currently using module://matplotlib_inline.backend_inline, which is a non-GUI backend, so cannot show the figure.\n",
      "  fig.show()\n"
     ]
    },
    {
     "data": {
      "image/png": "[encoded data removed]",
      "text/plain": [
       "<Figure size 1224x720 with 2 Axes>"
      ]
     },
     "metadata": {
      "needs_background": "light"
     },
     "output_type": "display_data"
    }
   ],
   "source": [
    "#fig, ax = plt.subplots(2, 1, figsize=(10,7))\n",
    "fig, ax = plt.subplots(2, 1, figsize=(17,10))\n",
    "fig.tight_layout(pad=5.0)\n",
    "\n",
    "x = [str(item)[:7] for item in np.unique(data_temp['DATE'])]\n",
    "\n",
    "y = list(data_temp['sum'])\n",
    "ax[0].bar(x, y, color='red')\n",
    "ax[0].set_ylabel('People served qty')\n",
    "ax[0].set_title('Total people served - Peru')\n",
    "ax[0].set_xticks(x)\n",
    "ax[0].set_xticklabels(x, rotation=90)\n",
    "ax[0].yaxis.set_major_formatter(millions)\n",
    "\n",
    "y = list(data_temp['count'])\n",
    "ax[1].bar(x, y, color='blue')\n",
    "ax[1].set_ylabel('Unique diagnosis qty')\n",
    "ax[1].set_title('Unique diagnosis - Peru')\n",
    "ax[1].set_xticks(x)\n",
    "ax[1].set_xticklabels(x, rotation=90)\n",
    "\n",
    "fig.show()"
   ]
  },
  {
   "cell_type": "code",
   "execution_count": 9,
   "id": "e5393fcf",
   "metadata": {},
   "outputs": [],
   "source": [
    "all_data = all_data[all_data['YEAR']>=2018]"
   ]
  },
  {
   "cell_type": "markdown",
   "id": "7c324bfc",
   "metadata": {},
   "source": [
    "### Top 5 diagnosis "
   ]
  },
  {
   "cell_type": "markdown",
   "id": "659eba6d",
   "metadata": {},
   "source": [
    "#### ALL PERU"
   ]
  },
  {
   "cell_type": "code",
   "execution_count": 10,
   "id": "bcf772b7",
   "metadata": {},
   "outputs": [],
   "source": [
    "PARAMETER = 'DISEASE_GROUP'\n",
    "\n",
    "data_temp = all_data.groupby(['DATE', PARAMETER]).agg({ 'QTY_PEOPLE_SERVED': \"sum\"})\n",
    "data_temp = data_temp.reset_index()\n",
    "\n",
    "top_df = pd.DataFrame()\n",
    "date_uniques = np.sort(data_temp['DATE'].unique())\n",
    "\n",
    "for date in date_uniques:\n",
    "    temp_df = data_temp[data_temp['DATE']==date]\n",
    "    temp_df = temp_df.sort_values(by=['QTY_PEOPLE_SERVED'], ascending=False)\n",
    "    temp_df = temp_df.head(5).reset_index(drop=True)\n",
    "    top_df = pd.concat([top_df, temp_df])\n",
    "    \n",
    "diagnosis = top_df[PARAMETER].unique()\n",
    "\n",
    "# For ausent dates\n",
    "for date in date_uniques:\n",
    "    temp_df = top_df[top_df['DATE']==date]\n",
    "    diagnosis_temp = list(set(diagnosis) - set(temp_df[PARAMETER].values))\n",
    "    temp_df = pd.DataFrame(diagnosis_temp, columns =[PARAMETER])\n",
    "    temp_df['DATE']=date\n",
    "    temp_df['QTY_PEOPLE_SERVED']=0\n",
    "    top_df = pd.concat([top_df, temp_df])\n",
    "\n",
    "top_df = top_df.sort_values(by=['DATE', PARAMETER], ascending=True)"
   ]
  },
  {
   "cell_type": "code",
   "execution_count": 11,
   "id": "c2a9576e",
   "metadata": {
    "scrolled": false
   },
   "outputs": [
    {
     "data": {
      "image/png": "[encoded data removed]",
      "text/plain": [
       "<Figure size 864x504 with 1 Axes>"
      ]
     },
     "metadata": {
      "needs_background": "light"
     },
     "output_type": "display_data"
    }
   ],
   "source": [
    "x_element = [str(item)[:7] for item in np.unique(top_df['DATE'])]\n",
    "n = len(x_element)\n",
    "ind = np.arange(n) \n",
    "width = 0.40\n",
    "\n",
    "name = \"gist_rainbow\"\n",
    "cmap = cm.get_cmap(name, 256)  # type: matplotlib.colors.ListedColormap\n",
    "colors = cmap(np.linspace(0, 1, len(diagnosis)))\n",
    "\n",
    "fig = plt.figure(figsize=(12,7))\n",
    "ax = fig.add_axes([0,0,1,1])\n",
    "\n",
    "values_temp = 0\n",
    "i = 0\n",
    "for diag in diagnosis:\n",
    "    temp_df = top_df[top_df[PARAMETER]==diag]\n",
    "    values = temp_df['QTY_PEOPLE_SERVED'].values\n",
    "    ax.bar(ind, values, width, bottom=values_temp, color=colors[i])\n",
    "    values_temp = values_temp + values\n",
    "    i+=1\n",
    "\n",
    "ax.set_ylabel('People served')\n",
    "ax.set_title('People served by diagnosis')\n",
    "ax.set_xticks(ind)\n",
    "ax.set_xticklabels(x_element, rotation=45)\n",
    "ax.yaxis.set_major_formatter(millions)\n",
    "\n",
    "ax.legend(labels=diagnosis, bbox_to_anchor = (1.15, 1))\n",
    "plt.show()"
   ]
  },
  {
   "cell_type": "markdown",
   "id": "8b6adf54",
   "metadata": {},
   "source": [
    "### Lima and Peru"
   ]
  },
  {
   "cell_type": "code",
   "execution_count": 12,
   "id": "e2b53db3",
   "metadata": {},
   "outputs": [],
   "source": [
    "PARAMETER = 'IS_LIMA'\n",
    "\n",
    "data_temp = all_data.groupby(['DATE', PARAMETER]).agg({ 'QTY_PEOPLE_SERVED': \"sum\"})\n",
    "data_temp = data_temp.reset_index()\n",
    "\n",
    "top_df = pd.DataFrame()\n",
    "date_uniques = np.sort(data_temp['DATE'].unique())\n",
    "\n",
    "for date in date_uniques:\n",
    "    temp_df = data_temp[data_temp['DATE']==date]\n",
    "    temp_df = temp_df.sort_values(by=['QTY_PEOPLE_SERVED'], ascending=False)\n",
    "    temp_df = temp_df.head(5).reset_index(drop=True)\n",
    "    top_df = pd.concat([top_df, temp_df])\n",
    "    \n",
    "diagnosis = top_df[PARAMETER].unique()\n",
    "\n",
    "# For ausent dates\n",
    "for date in date_uniques:\n",
    "    temp_df = top_df[top_df['DATE']==date]\n",
    "    diagnosis_temp = list(set(diagnosis) - set(temp_df[PARAMETER].values))\n",
    "    temp_df = pd.DataFrame(diagnosis_temp, columns =[PARAMETER])\n",
    "    temp_df['DATE']=date\n",
    "    temp_df['QTY_PEOPLE_SERVED']=0\n",
    "    top_df = pd.concat([top_df, temp_df])\n",
    "\n",
    "top_df = top_df.sort_values(by=['DATE', PARAMETER], ascending=True)"
   ]
  },
  {
   "cell_type": "code",
   "execution_count": 13,
   "id": "87ce88f9",
   "metadata": {},
   "outputs": [
    {
     "data": {
      "image/png": "[encoded data removed]",
      "text/plain": [
       "<Figure size 864x504 with 1 Axes>"
      ]
     },
     "metadata": {
      "needs_background": "light"
     },
     "output_type": "display_data"
    }
   ],
   "source": [
    "x_element = [str(item)[:7] for item in np.unique(top_df['DATE'])]\n",
    "n = len(x_element)\n",
    "ind = np.arange(n) \n",
    "width = 0.40\n",
    "\n",
    "name = \"winter\"\n",
    "cmap = cm.get_cmap(name, 256)  # type: matplotlib.colors.ListedColormap\n",
    "colors = cmap(np.linspace(0, 1, len(diagnosis)))\n",
    "\n",
    "fig = plt.figure(figsize=(12,7))\n",
    "ax = fig.add_axes([0,0,1,1])\n",
    "\n",
    "values_temp = 0\n",
    "i = 0\n",
    "for diag in diagnosis:\n",
    "    temp_df = top_df[top_df[PARAMETER]==diag]\n",
    "    values = temp_df['QTY_PEOPLE_SERVED'].values\n",
    "    ax.bar(ind, values, width, bottom=values_temp, color=colors[i])\n",
    "    values_temp = values_temp + values\n",
    "    i+=1\n",
    "\n",
    "ax.set_ylabel('People served')\n",
    "ax.set_title('People served by Lima location')\n",
    "ax.set_xticks(ind)\n",
    "ax.set_xticklabels(x_element, rotation=45)\n",
    "ax.yaxis.set_major_formatter(millions)\n",
    "\n",
    "ax.legend(labels=diagnosis, bbox_to_anchor = (1.15, 1), title = \"It's Lima?\")\n",
    "plt.show()"
   ]
  },
  {
   "cell_type": "code",
   "execution_count": 14,
   "id": "98b33c92",
   "metadata": {},
   "outputs": [],
   "source": [
    "# ABC: verificar si HAY DUPLICADOS EN PROVIONCIAS EN ENERO 20"
   ]
  },
  {
   "cell_type": "markdown",
   "id": "6094e38c",
   "metadata": {},
   "source": [
    "#### Lima vs Provinces (by year)"
   ]
  },
  {
   "cell_type": "code",
   "execution_count": 15,
   "id": "e1847209",
   "metadata": {},
   "outputs": [
    {
     "data": {
      "text/html": [
       "<div>\n",
       "<style scoped>\n",
       "    .dataframe tbody tr th:only-of-type {\n",
       "        vertical-align: middle;\n",
       "    }\n",
       "\n",
       "    .dataframe tbody tr th {\n",
       "        vertical-align: top;\n",
       "    }\n",
       "\n",
       "    .dataframe thead th {\n",
       "        text-align: right;\n",
       "    }\n",
       "</style>\n",
       "<table border=\"1\" class=\"dataframe\">\n",
       "  <thead>\n",
       "    <tr style=\"text-align: right;\">\n",
       "      <th>IS_LIMA</th>\n",
       "      <th>False</th>\n",
       "      <th>True</th>\n",
       "    </tr>\n",
       "    <tr>\n",
       "      <th>YEAR</th>\n",
       "      <th></th>\n",
       "      <th></th>\n",
       "    </tr>\n",
       "  </thead>\n",
       "  <tbody>\n",
       "    <tr>\n",
       "      <th>2018</th>\n",
       "      <td>40902183</td>\n",
       "      <td>24674247</td>\n",
       "    </tr>\n",
       "    <tr>\n",
       "      <th>2019</th>\n",
       "      <td>41352886</td>\n",
       "      <td>22395161</td>\n",
       "    </tr>\n",
       "    <tr>\n",
       "      <th>2020</th>\n",
       "      <td>82131111</td>\n",
       "      <td>8923410</td>\n",
       "    </tr>\n",
       "    <tr>\n",
       "      <th>2021</th>\n",
       "      <td>26539140</td>\n",
       "      <td>14856818</td>\n",
       "    </tr>\n",
       "    <tr>\n",
       "      <th>2022</th>\n",
       "      <td>288467</td>\n",
       "      <td>250119</td>\n",
       "    </tr>\n",
       "  </tbody>\n",
       "</table>\n",
       "</div>"
      ],
      "text/plain": [
       "IS_LIMA     False      True\n",
       "YEAR                       \n",
       "2018     40902183  24674247\n",
       "2019     41352886  22395161\n",
       "2020     82131111   8923410\n",
       "2021     26539140  14856818\n",
       "2022       288467    250119"
      ]
     },
     "execution_count": 15,
     "metadata": {},
     "output_type": "execute_result"
    }
   ],
   "source": [
    "PARAMETER = 'IS_LIMA'\n",
    "\n",
    "data_temp = all_data.groupby(['YEAR', PARAMETER]).agg({ 'QTY_PEOPLE_SERVED': 'sum'})\n",
    "data_temp = data_temp.sort_values(by=['YEAR', PARAMETER]).reset_index()\n",
    "data_temp = data_temp.pivot(index =['YEAR'], columns = PARAMETER)\n",
    "data_temp.columns = data_temp.columns.droplevel()\n",
    "data_temp.fillna(0, inplace = True)\n",
    "\n",
    "data_temp.head()"
   ]
  },
  {
   "cell_type": "code",
   "execution_count": 16,
   "id": "bc3e6f0e",
   "metadata": {},
   "outputs": [
    {
     "data": {
      "text/plain": [
       "<AxesSubplot:xlabel='YEAR'>"
      ]
     },
     "execution_count": 16,
     "metadata": {},
     "output_type": "execute_result"
    },
    {
     "data": {
      "image/png": "[encoded data removed]",
      "text/plain": [
       "<Figure size 432x288 with 1 Axes>"
      ]
     },
     "metadata": {
      "needs_background": "light"
     },
     "output_type": "display_data"
    }
   ],
   "source": [
    "\n",
    "data_temp.plot(kind=\"bar\", stacked=True)"
   ]
  },
  {
   "cell_type": "markdown",
   "id": "752de62e",
   "metadata": {},
   "source": [
    "### Births in Peru (by month)"
   ]
  },
  {
   "cell_type": "code",
   "execution_count": 17,
   "id": "32106f52",
   "metadata": {},
   "outputs": [
    {
     "ename": "MemoryError",
     "evalue": "Unable to allocate 590. MiB for an array with shape (77318282,) and data type uint64",
     "output_type": "error",
     "traceback": [
      "\u001b[1;31m---------------------------------------------------------------------------\u001b[0m",
      "\u001b[1;31mMemoryError\u001b[0m                               Traceback (most recent call last)",
      "\u001b[1;32m~\\AppData\\Local\\Temp/ipykernel_40836/3491610040.py\u001b[0m in \u001b[0;36m<module>\u001b[1;34m\u001b[0m\n\u001b[0;32m      2\u001b[0m \u001b[1;33m\u001b[0m\u001b[0m\n\u001b[0;32m      3\u001b[0m \u001b[0mdata_temp\u001b[0m \u001b[1;33m=\u001b[0m \u001b[0mall_data\u001b[0m\u001b[1;33m.\u001b[0m\u001b[0mcopy\u001b[0m\u001b[1;33m(\u001b[0m\u001b[1;33m)\u001b[0m\u001b[1;33m\u001b[0m\u001b[1;33m\u001b[0m\u001b[0m\n\u001b[1;32m----> 4\u001b[1;33m \u001b[0mdata_temp\u001b[0m\u001b[1;33m[\u001b[0m\u001b[1;34m'BIRTHS'\u001b[0m\u001b[1;33m]\u001b[0m \u001b[1;33m=\u001b[0m \u001b[0mdata_temp\u001b[0m\u001b[1;33m[\u001b[0m\u001b[1;34m'DISEASE_GROUP'\u001b[0m\u001b[1;33m]\u001b[0m\u001b[1;33m.\u001b[0m\u001b[0mapply\u001b[0m\u001b[1;33m(\u001b[0m\u001b[1;32mlambda\u001b[0m \u001b[0mx\u001b[0m \u001b[1;33m:\u001b[0m \u001b[1;32mTrue\u001b[0m \u001b[1;32mif\u001b[0m \u001b[1;34m'Pregnancy, childbirth and puerperium'\u001b[0m \u001b[1;33m==\u001b[0m \u001b[0mstr\u001b[0m\u001b[1;33m(\u001b[0m\u001b[0mx\u001b[0m\u001b[1;33m)\u001b[0m \u001b[1;32melse\u001b[0m \u001b[1;32mFalse\u001b[0m\u001b[1;33m)\u001b[0m\u001b[1;33m\u001b[0m\u001b[1;33m\u001b[0m\u001b[0m\n\u001b[0m\u001b[0;32m      5\u001b[0m \u001b[1;33m\u001b[0m\u001b[0m\n\u001b[0;32m      6\u001b[0m \u001b[0mdata_temp\u001b[0m \u001b[1;33m=\u001b[0m \u001b[0mdata_temp\u001b[0m\u001b[1;33m.\u001b[0m\u001b[0mgroupby\u001b[0m\u001b[1;33m(\u001b[0m\u001b[1;33m[\u001b[0m\u001b[1;34m'DATE'\u001b[0m\u001b[1;33m,\u001b[0m \u001b[0mPARAMETER\u001b[0m\u001b[1;33m]\u001b[0m\u001b[1;33m)\u001b[0m\u001b[1;33m.\u001b[0m\u001b[0magg\u001b[0m\u001b[1;33m(\u001b[0m\u001b[1;33m{\u001b[0m \u001b[1;34m'QTY_PEOPLE_SERVED'\u001b[0m\u001b[1;33m:\u001b[0m \u001b[1;34m\"sum\"\u001b[0m\u001b[1;33m}\u001b[0m\u001b[1;33m)\u001b[0m\u001b[1;33m\u001b[0m\u001b[1;33m\u001b[0m\u001b[0m\n",
      "\u001b[1;32m~\\AppData\\Roaming\\Python\\Python39\\site-packages\\pandas\\core\\series.py\u001b[0m in \u001b[0;36mapply\u001b[1;34m(self, func, convert_dtype, args, **kwargs)\u001b[0m\n\u001b[0;32m   4355\u001b[0m         \u001b[0mdtype\u001b[0m\u001b[1;33m:\u001b[0m \u001b[0mfloat64\u001b[0m\u001b[1;33m\u001b[0m\u001b[1;33m\u001b[0m\u001b[0m\n\u001b[0;32m   4356\u001b[0m         \"\"\"\n\u001b[1;32m-> 4357\u001b[1;33m         \u001b[1;32mreturn\u001b[0m \u001b[0mSeriesApply\u001b[0m\u001b[1;33m(\u001b[0m\u001b[0mself\u001b[0m\u001b[1;33m,\u001b[0m \u001b[0mfunc\u001b[0m\u001b[1;33m,\u001b[0m \u001b[0mconvert_dtype\u001b[0m\u001b[1;33m,\u001b[0m \u001b[0margs\u001b[0m\u001b[1;33m,\u001b[0m \u001b[0mkwargs\u001b[0m\u001b[1;33m)\u001b[0m\u001b[1;33m.\u001b[0m\u001b[0mapply\u001b[0m\u001b[1;33m(\u001b[0m\u001b[1;33m)\u001b[0m\u001b[1;33m\u001b[0m\u001b[1;33m\u001b[0m\u001b[0m\n\u001b[0m\u001b[0;32m   4358\u001b[0m \u001b[1;33m\u001b[0m\u001b[0m\n\u001b[0;32m   4359\u001b[0m     def _reduce(\n",
      "\u001b[1;32m~\\AppData\\Roaming\\Python\\Python39\\site-packages\\pandas\\core\\apply.py\u001b[0m in \u001b[0;36mapply\u001b[1;34m(self)\u001b[0m\n\u001b[0;32m   1041\u001b[0m             \u001b[1;32mreturn\u001b[0m \u001b[0mself\u001b[0m\u001b[1;33m.\u001b[0m\u001b[0mapply_str\u001b[0m\u001b[1;33m(\u001b[0m\u001b[1;33m)\u001b[0m\u001b[1;33m\u001b[0m\u001b[1;33m\u001b[0m\u001b[0m\n\u001b[0;32m   1042\u001b[0m \u001b[1;33m\u001b[0m\u001b[0m\n\u001b[1;32m-> 1043\u001b[1;33m         \u001b[1;32mreturn\u001b[0m \u001b[0mself\u001b[0m\u001b[1;33m.\u001b[0m\u001b[0mapply_standard\u001b[0m\u001b[1;33m(\u001b[0m\u001b[1;33m)\u001b[0m\u001b[1;33m\u001b[0m\u001b[1;33m\u001b[0m\u001b[0m\n\u001b[0m\u001b[0;32m   1044\u001b[0m \u001b[1;33m\u001b[0m\u001b[0m\n\u001b[0;32m   1045\u001b[0m     \u001b[1;32mdef\u001b[0m \u001b[0magg\u001b[0m\u001b[1;33m(\u001b[0m\u001b[0mself\u001b[0m\u001b[1;33m)\u001b[0m\u001b[1;33m:\u001b[0m\u001b[1;33m\u001b[0m\u001b[1;33m\u001b[0m\u001b[0m\n",
      "\u001b[1;32m~\\AppData\\Roaming\\Python\\Python39\\site-packages\\pandas\\core\\apply.py\u001b[0m in \u001b[0;36mapply_standard\u001b[1;34m(self)\u001b[0m\n\u001b[0;32m   1097\u001b[0m                 \u001b[1;31m# List[Union[Callable[..., Any], str]]]]]\"; expected\u001b[0m\u001b[1;33m\u001b[0m\u001b[1;33m\u001b[0m\u001b[0m\n\u001b[0;32m   1098\u001b[0m                 \u001b[1;31m# \"Callable[[Any], Any]\"\u001b[0m\u001b[1;33m\u001b[0m\u001b[1;33m\u001b[0m\u001b[0m\n\u001b[1;32m-> 1099\u001b[1;33m                 mapped = lib.map_infer(\n\u001b[0m\u001b[0;32m   1100\u001b[0m                     \u001b[0mvalues\u001b[0m\u001b[1;33m,\u001b[0m\u001b[1;33m\u001b[0m\u001b[1;33m\u001b[0m\u001b[0m\n\u001b[0;32m   1101\u001b[0m                     \u001b[0mf\u001b[0m\u001b[1;33m,\u001b[0m  \u001b[1;31m# type: ignore[arg-type]\u001b[0m\u001b[1;33m\u001b[0m\u001b[1;33m\u001b[0m\u001b[0m\n",
      "\u001b[1;32m~\\AppData\\Roaming\\Python\\Python39\\site-packages\\pandas\\_libs\\lib.pyx\u001b[0m in \u001b[0;36mpandas._libs.lib.map_infer\u001b[1;34m()\u001b[0m\n",
      "\u001b[1;32m~\\AppData\\Roaming\\Python\\Python39\\site-packages\\pandas\\_libs\\lib.pyx\u001b[0m in \u001b[0;36mpandas._libs.lib.maybe_convert_objects\u001b[1;34m()\u001b[0m\n",
      "\u001b[1;31mMemoryError\u001b[0m: Unable to allocate 590. MiB for an array with shape (77318282,) and data type uint64"
     ]
    }
   ],
   "source": [
    "PARAMETER = 'BIRTHS'\n",
    "\n",
    "data_temp = all_data.copy()\n",
    "data_temp['BIRTHS'] = data_temp['DISEASE_GROUP'].apply(lambda x : True if 'Pregnancy, childbirth and puerperium' == str(x) else False)\n",
    "\n",
    "data_temp = data_temp.groupby(['DATE', PARAMETER]).agg({ 'QTY_PEOPLE_SERVED': \"sum\"})\n",
    "data_temp = data_temp.reset_index()\n",
    "\n",
    "top_df = pd.DataFrame()\n",
    "date_uniques = np.sort(data_temp['DATE'].unique())\n",
    "\n",
    "for date in date_uniques:\n",
    "    temp_df = data_temp[data_temp['DATE']==date]\n",
    "    temp_df = temp_df.sort_values(by=['QTY_PEOPLE_SERVED'], ascending=False)\n",
    "    temp_df = temp_df.head(5).reset_index(drop=True)\n",
    "    top_df = pd.concat([top_df, temp_df])\n",
    "    \n",
    "diagnosis = top_df[PARAMETER].unique()\n",
    "\n",
    "# For ausent dates\n",
    "for date in date_uniques:\n",
    "    temp_df = top_df[top_df['DATE']==date]\n",
    "    diagnosis_temp = list(set(diagnosis) - set(temp_df[PARAMETER].values))\n",
    "    temp_df = pd.DataFrame(diagnosis_temp, columns =[PARAMETER])\n",
    "    temp_df['DATE']=date\n",
    "    temp_df['QTY_PEOPLE_SERVED']=0\n",
    "    top_df = pd.concat([top_df, temp_df])\n",
    "\n",
    "top_df = top_df.sort_values(by=['DATE', PARAMETER], ascending=True)"
   ]
  },
  {
   "cell_type": "code",
   "execution_count": null,
   "id": "dd0f0158",
   "metadata": {},
   "outputs": [],
   "source": [
    "x_element = [str(item)[:7] for item in np.unique(top_df['DATE'])]\n",
    "n = len(x_element)\n",
    "ind = np.arange(n) \n",
    "width = 0.40\n",
    "\n",
    "name = \"winter\"\n",
    "cmap = cm.get_cmap(name, 256)  # type: matplotlib.colors.ListedColormap\n",
    "colors = cmap(np.linspace(0, 1, len(diagnosis)))\n",
    "\n",
    "fig = plt.figure(figsize=(12,7))\n",
    "ax = fig.add_axes([0,0,1,1])\n",
    "\n",
    "values_temp = 0\n",
    "i = 0\n",
    "for diag in diagnosis:\n",
    "    temp_df = top_df[top_df[PARAMETER]==diag]\n",
    "    values = temp_df['QTY_PEOPLE_SERVED'].values\n",
    "    ax.bar(ind, values, width, bottom=values_temp, color=colors[i])\n",
    "    values_temp = values_temp + values\n",
    "    i+=1\n",
    "\n",
    "ax.set_ylabel('People served')\n",
    "ax.set_title('People served (Births)')\n",
    "ax.set_xticks(ind)\n",
    "ax.set_xticklabels(x_element, rotation=45)\n",
    "ax.yaxis.set_major_formatter(millions)\n",
    "\n",
    "ax.legend(labels=diagnosis, bbox_to_anchor = (1.15, 1))\n",
    "plt.show()"
   ]
  },
  {
   "cell_type": "markdown",
   "id": "706798ad",
   "metadata": {},
   "source": [
    "# Only Lima"
   ]
  },
  {
   "cell_type": "code",
   "execution_count": null,
   "id": "6558d80b",
   "metadata": {},
   "outputs": [],
   "source": [
    "all_data = all_data[all_data['IS_LIMA']==True]"
   ]
  },
  {
   "cell_type": "code",
   "execution_count": null,
   "id": "351ade0a",
   "metadata": {},
   "outputs": [],
   "source": [
    "data_temp = all_data.groupby(['DATE','DISEASE']).agg({ 'QTY_PEOPLE_SERVED': \"sum\"})\n",
    "data_temp = data_temp.reset_index()\n",
    "data_temp = data_temp.groupby(['DATE']).agg({ 'QTY_PEOPLE_SERVED': ['sum', 'count']})\n",
    "data_temp.columns = data_temp.columns.droplevel()\n",
    "data_temp = data_temp.reset_index()\n",
    "\n",
    "data_temp = data_temp.rename(columns={'sum': 'People_served', 'count': 'Unique_diagnosis'})"
   ]
  },
  {
   "cell_type": "code",
   "execution_count": null,
   "id": "4d40a336",
   "metadata": {},
   "outputs": [],
   "source": [
    "#fig, ax = plt.subplots(2, 1, figsize=(10,7))\n",
    "fig, ax = plt.subplots(2, 1, figsize=(17,10))\n",
    "fig.tight_layout(pad=5.0)\n",
    "\n",
    "x = [str(item)[:7] for item in np.unique(data_temp['DATE'])]\n",
    "\n",
    "y = list(data_temp['People_served'])\n",
    "ax[0].bar(x, y, color='red')\n",
    "ax[0].set_ylabel('People served qty')\n",
    "ax[0].set_title('Total people served - Peru')\n",
    "ax[0].set_xticks(x)\n",
    "ax[0].set_xticklabels(x, rotation=90)\n",
    "ax[0].yaxis.set_major_formatter(millions)\n",
    "\n",
    "y = list(data_temp['Unique_diagnosis'])\n",
    "ax[1].bar(x, y, color='blue')\n",
    "ax[1].set_ylabel('Unique diagnosis qty')\n",
    "ax[1].set_title('Unique diagnosis - Peru')\n",
    "ax[1].set_xticks(x)\n",
    "ax[1].set_xticklabels(x, rotation=90)\n",
    "\n",
    "fig.show()"
   ]
  },
  {
   "cell_type": "markdown",
   "id": "ef1ac7a2",
   "metadata": {},
   "source": [
    "### Outlayers"
   ]
  },
  {
   "cell_type": "code",
   "execution_count": null,
   "id": "4f5bd5ff",
   "metadata": {},
   "outputs": [],
   "source": [
    "plt.figure(figsize=(7,10))\n",
    "plt.subplot(2,1,1)\n",
    "sns.distplot(data_temp['People_served'])\n",
    "plt.subplot(2,1,2)\n",
    "sns.distplot(data_temp['Unique_diagnosis'])\n",
    "plt.show()"
   ]
  },
  {
   "cell_type": "code",
   "execution_count": null,
   "id": "c75802a6",
   "metadata": {},
   "outputs": [],
   "source": [
    "print(' People served')\n",
    "people_served_max = data_temp['People_served'].mean() + 1*data_temp['People_served'].std()\n",
    "people_served_min = data_temp['People_served'].mean() - 1*data_temp['People_served'].std()\n",
    "print(\"   Highest allowed\", people_served_max)\n",
    "print(\"   Lowest allowed\", people_served_min)\n",
    "print()\n",
    "print(' Unique diagnosis')\n",
    "unique_diagnosis_max = data_temp['Unique_diagnosis'].mean() + 1*data_temp['Unique_diagnosis'].std()\n",
    "unique_diagnosis_min = data_temp['Unique_diagnosis'].mean() - 1*data_temp['Unique_diagnosis'].std()\n",
    "print(\"   Highest allowed\", unique_diagnosis_max)\n",
    "print(\"   Lowest allowed\", unique_diagnosis_min)\n",
    "\n",
    "data_temp['ps_out'] = data_temp['People_served'].apply(lambda x : \n",
    "                                                       0 if (people_served_min>x or\n",
    "                                                                people_served_max<x)  \n",
    "                                                       else x)\n",
    "data_temp['ud_out'] = data_temp['Unique_diagnosis'].apply(lambda x : \n",
    "                                                       0 if (unique_diagnosis_min>x or\n",
    "                                                                unique_diagnosis_max<x)  \n",
    "                                                       else x )\n"
   ]
  },
  {
   "cell_type": "code",
   "execution_count": null,
   "id": "2022016c",
   "metadata": {},
   "outputs": [],
   "source": [
    "fig, ax = plt.subplots(2, 1, figsize=(17,10))\n",
    "fig.tight_layout(pad=5.0)\n",
    "\n",
    "x = [str(item)[:7] for item in np.unique(data_temp['DATE'])]\n",
    "\n",
    "y = list(data_temp['People_served'])\n",
    "ax[0].bar(x, y, color='red')\n",
    "y = list(data_temp['ps_out'])\n",
    "ax[0].bar(x, y, color='salmon')\n",
    "ax[0].set_ylabel('People served qty')\n",
    "ax[0].set_title('Total people served - Peru')\n",
    "ax[0].set_xticks(x)\n",
    "ax[0].set_xticklabels(x, rotation=90)\n",
    "ax[0].yaxis.set_major_formatter(millions)\n",
    "\n",
    "y = list(data_temp['Unique_diagnosis'])\n",
    "ax[1].bar(x, y, color='blue')\n",
    "y = list(data_temp['ud_out'])\n",
    "ax[1].bar(x, y, color='skyblue')\n",
    "ax[1].set_ylabel('Unique diagnosis qty')\n",
    "ax[1].set_title('Unique diagnosis - Peru')\n",
    "ax[1].set_xticks(x)\n",
    "ax[1].set_xticklabels(x, rotation=90)\n",
    "\n",
    "fig.show()"
   ]
  },
  {
   "cell_type": "markdown",
   "id": "81b17106",
   "metadata": {},
   "source": [
    "### Forecast"
   ]
  },
  {
   "cell_type": "code",
   "execution_count": null,
   "id": "5253b3ea",
   "metadata": {},
   "outputs": [],
   "source": []
  },
  {
   "cell_type": "code",
   "execution_count": null,
   "id": "0578d15a",
   "metadata": {},
   "outputs": [],
   "source": []
  },
  {
   "cell_type": "code",
   "execution_count": null,
   "id": "dac43d74",
   "metadata": {},
   "outputs": [],
   "source": []
  },
  {
   "cell_type": "code",
   "execution_count": null,
   "id": "34f432c4",
   "metadata": {},
   "outputs": [],
   "source": []
  },
  {
   "cell_type": "markdown",
   "id": "edc357be",
   "metadata": {},
   "source": [
    "### Top 10 diagnosis "
   ]
  },
  {
   "cell_type": "code",
   "execution_count": null,
   "id": "20c09aca",
   "metadata": {},
   "outputs": [],
   "source": [
    "PARAMETER = 'DISEASE_GROUP'\n",
    "\n",
    "data_temp = all_data.groupby(['DATE', PARAMETER]).agg({ 'QTY_PEOPLE_SERVED': \"sum\"})\n",
    "data_temp = data_temp.reset_index()\n",
    "\n",
    "top_df = pd.DataFrame()\n",
    "date_uniques = np.sort(data_temp['DATE'].unique())\n",
    "\n",
    "for date in date_uniques:\n",
    "    temp_df = data_temp[data_temp['DATE']==date]\n",
    "    temp_df = temp_df.sort_values(by=['QTY_PEOPLE_SERVED'], ascending=False)\n",
    "    temp_df = temp_df.head(10).reset_index(drop=True)\n",
    "    #temp_df = temp_df.reset_index(drop=True)\n",
    "    total = sum(temp_df['QTY_PEOPLE_SERVED'])\n",
    "    temp_df['PER'] = temp_df['QTY_PEOPLE_SERVED']/total*100\n",
    "    top_df = pd.concat([top_df, temp_df])\n",
    "    \n",
    "diagnosis = top_df[PARAMETER].unique()\n",
    "\n",
    "# For ausent dates\n",
    "for date in date_uniques:\n",
    "    temp_df = top_df[top_df['DATE']==date]\n",
    "    diagnosis_temp = list(set(diagnosis) - set(temp_df[PARAMETER].values))\n",
    "    temp_df = pd.DataFrame(diagnosis_temp, columns =[PARAMETER])\n",
    "    temp_df['DATE']=date\n",
    "    temp_df['QTY_PEOPLE_SERVED']=0\n",
    "    temp_df['PER']=0\n",
    "    top_df = pd.concat([top_df, temp_df])\n",
    "\n",
    "top_df = top_df.sort_values(by=['DATE', PARAMETER], ascending=True)"
   ]
  },
  {
   "cell_type": "markdown",
   "id": "c53941cb",
   "metadata": {},
   "source": [
    "Sanity check for IHM using respiratory deseases. In IHM profile respiratory desease is 8% for Peru while in our Lima dataset we have arronf 9%\n"
   ]
  },
  {
   "cell_type": "code",
   "execution_count": null,
   "id": "226fa459",
   "metadata": {},
   "outputs": [],
   "source": [
    "# solo enfermedades respiratorias\n",
    "\n",
    "#top_df = top_df[top_df['DISEASE_GROUP']=='Respiratory system diseases']\n",
    "#print(np.mean(top_df['PER']))\n",
    "\n",
    "# ABC: Referencia - https://www.healthdata.org/peru\n"
   ]
  },
  {
   "cell_type": "code",
   "execution_count": null,
   "id": "8b8b4564",
   "metadata": {
    "scrolled": false
   },
   "outputs": [],
   "source": [
    "x_element = [str(item)[:7] for item in np.unique(top_df['DATE'])]\n",
    "n = len(x_element)\n",
    "ind = np.arange(n) \n",
    "width = 0.40\n",
    "\n",
    "name = \"gist_rainbow\"\n",
    "cmap = cm.get_cmap(name, 256)  # type: matplotlib.colors.ListedColormap\n",
    "colors = cmap(np.linspace(0, 1, len(diagnosis)))\n",
    "\n",
    "fig = plt.figure(figsize=(12,7))\n",
    "ax = fig.add_axes([0,0,1,1])\n",
    "\n",
    "values_temp = 0\n",
    "i = 0\n",
    "for diag in diagnosis:\n",
    "    temp_df = top_df[top_df[PARAMETER]==diag]\n",
    "    values = temp_df['QTY_PEOPLE_SERVED'].values\n",
    "    ax.bar(ind, values, width, bottom=values_temp, color=colors[i])\n",
    "    values_temp = values_temp + values\n",
    "    i+=1\n",
    "\n",
    "ax.set_ylabel('People served')\n",
    "ax.set_title('People served by diagnosis')\n",
    "ax.set_xticks(ind)\n",
    "ax.set_xticklabels(x_element, rotation=45)\n",
    "ax.yaxis.set_major_formatter(millions)\n",
    "\n",
    "ax.legend(labels=diagnosis, bbox_to_anchor = (1.15, 1))\n",
    "plt.show()"
   ]
  },
  {
   "cell_type": "code",
   "execution_count": null,
   "id": "e1af9449",
   "metadata": {
    "scrolled": false
   },
   "outputs": [],
   "source": [
    "x_element = [str(item)[:7] for item in np.unique(top_df['DATE'])]\n",
    "n = len(x_element)\n",
    "ind = np.arange(n) \n",
    "width = 0.40\n",
    "\n",
    "name = \"gist_rainbow\"\n",
    "cmap = cm.get_cmap(name, 256)  # type: matplotlib.colors.ListedColormap\n",
    "colors = cmap(np.linspace(0, 1, len(diagnosis)))\n",
    "\n",
    "fig = plt.figure(figsize=(12,7))\n",
    "ax = fig.add_axes([0,0,1,1])\n",
    "\n",
    "values_temp = 0\n",
    "i = 0\n",
    "for diag in diagnosis:\n",
    "    temp_df = top_df[top_df[PARAMETER]==diag]\n",
    "    values = temp_df['PER'].values\n",
    "    ax.bar(ind, values, width, bottom=values_temp, color=colors[i])\n",
    "    values_temp = values_temp + values\n",
    "    i+=1\n",
    "\n",
    "ax.set_ylabel('People served')\n",
    "ax.set_title('People served by diagnosis')\n",
    "ax.set_xticks(ind)\n",
    "ax.set_xticklabels(x_element, rotation=45)\n",
    "ax.yaxis.set_major_formatter(millions)\n",
    "\n",
    "ax.legend(labels=diagnosis, bbox_to_anchor = (1.15, 1))\n",
    "plt.show()"
   ]
  },
  {
   "cell_type": "markdown",
   "id": "45a3e95f",
   "metadata": {},
   "source": [
    "### Births in Lima (by month)\n",
    "\n",
    "Revisar datos de natalidad"
   ]
  },
  {
   "cell_type": "code",
   "execution_count": null,
   "id": "2993661c",
   "metadata": {},
   "outputs": [],
   "source": []
  },
  {
   "cell_type": "code",
   "execution_count": null,
   "id": "06d4c874",
   "metadata": {},
   "outputs": [],
   "source": [
    "PARAMETER = 'BIRTHS'\n",
    "\n",
    "data_temp = all_data.copy()\n",
    "data_temp['BIRTHS'] = data_temp['DISEASE_GROUP'].apply(lambda x : True if 'Pregnancy, childbirth and puerperium' == str(x) else False)\n",
    "\n",
    "data_temp = data_temp.groupby(['DATE', PARAMETER]).agg({ 'QTY_PEOPLE_SERVED': \"sum\"})\n",
    "data_temp = data_temp.reset_index()\n",
    "\n",
    "top_df = pd.DataFrame()\n",
    "date_uniques = np.sort(data_temp['DATE'].unique())\n",
    "\n",
    "for date in date_uniques:\n",
    "    temp_df = data_temp[data_temp['DATE']==date]\n",
    "    temp_df = temp_df.sort_values(by=['QTY_PEOPLE_SERVED'], ascending=False)\n",
    "    temp_df = temp_df.head(5).reset_index(drop=True)\n",
    "    top_df = pd.concat([top_df, temp_df])\n",
    "    \n",
    "diagnosis = top_df[PARAMETER].unique()\n",
    "\n",
    "# For ausent dates\n",
    "for date in date_uniques:\n",
    "    temp_df = top_df[top_df['DATE']==date]\n",
    "    diagnosis_temp = list(set(diagnosis) - set(temp_df[PARAMETER].values))\n",
    "    temp_df = pd.DataFrame(diagnosis_temp, columns =[PARAMETER])\n",
    "    temp_df['DATE']=date\n",
    "    temp_df['QTY_PEOPLE_SERVED']=0\n",
    "    top_df = pd.concat([top_df, temp_df])\n",
    "\n",
    "top_df = top_df.sort_values(by=['DATE', PARAMETER], ascending=True)"
   ]
  },
  {
   "cell_type": "code",
   "execution_count": null,
   "id": "40d3503e",
   "metadata": {},
   "outputs": [],
   "source": [
    "x_element = [str(item)[:7] for item in np.unique(top_df['DATE'])]\n",
    "n = len(x_element)\n",
    "ind = np.arange(n) \n",
    "width = 0.40\n",
    "\n",
    "name = \"winter\"\n",
    "cmap = cm.get_cmap(name, 256)  # type: matplotlib.colors.ListedColormap\n",
    "colors = cmap(np.linspace(0, 1, len(diagnosis)))\n",
    "\n",
    "fig = plt.figure(figsize=(12,7))\n",
    "ax = fig.add_axes([0,0,1,1])\n",
    "\n",
    "values_temp = 0\n",
    "i = 0\n",
    "for diag in diagnosis:\n",
    "    temp_df = top_df[top_df[PARAMETER]==diag]\n",
    "    values = temp_df['QTY_PEOPLE_SERVED'].values\n",
    "    ax.bar(ind, values, width, bottom=values_temp, color=colors[i])\n",
    "    values_temp = values_temp + values\n",
    "    i+=1\n",
    "\n",
    "ax.set_ylabel('People served')\n",
    "ax.set_title('People served by Lima location')\n",
    "ax.set_xticks(ind)\n",
    "ax.set_xticklabels(x_element, rotation=45)\n",
    "ax.yaxis.set_major_formatter(millions)\n",
    "\n",
    "ax.legend(labels=diagnosis, bbox_to_anchor = (1.15, 1), title = \"It's Lima?\")\n",
    "plt.show()"
   ]
  },
  {
   "cell_type": "markdown",
   "id": "b78780dd",
   "metadata": {},
   "source": [
    "### Morbidity type"
   ]
  },
  {
   "cell_type": "code",
   "execution_count": null,
   "id": "d0e79f2f",
   "metadata": {},
   "outputs": [],
   "source": [
    "PARAMETER = 'TYPE'\n",
    "\n",
    "data_temp = all_data.groupby(['DATE', PARAMETER]).agg({ 'QTY_PEOPLE_SERVED': \"sum\"})\n",
    "data_temp = data_temp.reset_index()\n",
    "\n",
    "top_df = pd.DataFrame()\n",
    "date_uniques = np.sort(data_temp['DATE'].unique())\n",
    "\n",
    "for date in date_uniques:\n",
    "    temp_df = data_temp[data_temp['DATE']==date]\n",
    "    temp_df = temp_df.sort_values(by=['QTY_PEOPLE_SERVED'], ascending=False)\n",
    "    temp_df = temp_df.head(5).reset_index(drop=True)\n",
    "    top_df = pd.concat([top_df, temp_df])\n",
    "    \n",
    "diagnosis = top_df[PARAMETER].unique()\n",
    "\n",
    "# For ausent dates\n",
    "for date in date_uniques:\n",
    "    temp_df = top_df[top_df['DATE']==date]\n",
    "    diagnosis_temp = list(set(diagnosis) - set(temp_df[PARAMETER].values))\n",
    "    temp_df = pd.DataFrame(diagnosis_temp, columns =[PARAMETER])\n",
    "    temp_df['DATE']=date\n",
    "    temp_df['QTY_PEOPLE_SERVED']=0\n",
    "    top_df = pd.concat([top_df, temp_df])\n",
    "\n",
    "top_df = top_df.sort_values(by=['DATE', PARAMETER], ascending=True)"
   ]
  },
  {
   "cell_type": "code",
   "execution_count": null,
   "id": "72bc6163",
   "metadata": {
    "scrolled": false
   },
   "outputs": [],
   "source": [
    "x_element = [str(item)[:7] for item in np.unique(top_df['DATE'])]\n",
    "n = len(x_element)\n",
    "ind = np.arange(n) \n",
    "width = 0.40\n",
    "\n",
    "name = \"winter\"\n",
    "cmap = cm.get_cmap(name, 256)  # type: matplotlib.colors.ListedColormap\n",
    "colors = cmap(np.linspace(0, 1, len(diagnosis)))\n",
    "\n",
    "fig = plt.figure(figsize=(12,7))\n",
    "ax = fig.add_axes([0,0,1,1])\n",
    "\n",
    "values_temp = 0\n",
    "i = 0\n",
    "for diag in diagnosis:\n",
    "    temp_df = top_df[top_df[PARAMETER]==diag]\n",
    "    values = temp_df['QTY_PEOPLE_SERVED'].values\n",
    "    ax.bar(ind, values, width, bottom=values_temp, color=colors[i])\n",
    "    values_temp = values_temp + values\n",
    "    i+=1\n",
    "\n",
    "ax.set_ylabel('People served')\n",
    "ax.set_title('People served by Type services')\n",
    "ax.set_xticks(ind)\n",
    "ax.set_xticklabels(x_element, rotation=45)\n",
    "ax.yaxis.set_major_formatter(millions)\n",
    "\n",
    "ax.legend(labels=diagnosis, bbox_to_anchor = (1., 1), title = \"Morbidity\")\n",
    "plt.show()"
   ]
  },
  {
   "cell_type": "markdown",
   "id": "d145dbeb",
   "metadata": {},
   "source": [
    "### Diagnoses qty by hospitals and hospital category"
   ]
  },
  {
   "cell_type": "code",
   "execution_count": null,
   "id": "73657d5e",
   "metadata": {},
   "outputs": [],
   "source": [
    "data_temp = all_data[all_data['CATEGORY2']!='ABC']\n",
    "data_temp = data_temp.groupby(['DATE','CATEGORY2','DIAGNOSIS_ID']).agg({ 'QTY_PEOPLE_SERVED': \"sum\"})\n",
    "data_temp = data_temp.reset_index()\n",
    "data_temp = data_temp.groupby(['DATE','CATEGORY2']).agg({ 'QTY_PEOPLE_SERVED': \"count\"})\n",
    "data_temp = data_temp.reset_index()\n",
    "\n",
    "date_uniques = data_temp['DATE'].unique()\n",
    "category2 = data_temp['CATEGORY2'].unique()\n",
    "\n",
    "for date in date_uniques:\n",
    "    temp_df = data_temp[data_temp['DATE']==date]\n",
    "    category2_temp = list(set(category2) - set(temp_df['CATEGORY2'].values))\n",
    "    temp_df = pd.DataFrame(category2_temp, columns =['CATEGORY2'])\n",
    "    temp_df['DATE']=date\n",
    "    temp_df['QTY_PEOPLE_SERVED']=0\n",
    "    data_temp = pd.concat([data_temp, temp_df])\n",
    "\n",
    "data_temp = data_temp.sort_values(by=['DATE','CATEGORY2'], ascending=True)"
   ]
  },
  {
   "cell_type": "code",
   "execution_count": null,
   "id": "4d766ffb",
   "metadata": {
    "scrolled": false
   },
   "outputs": [],
   "source": [
    "PARAMETER_COL = 'CATEGORY2'\n",
    "\n",
    "category2 = data_temp[PARAMETER_COL].unique()\n",
    "x_element = [str(item)[:7] for item in np.unique(data_temp['DATE'])]\n",
    "N = len(x_element)\n",
    "ind = np.arange(N) \n",
    "width = 0.40\n",
    "\n",
    "name = \"rainbow\"\n",
    "cmap = cm.get_cmap(name, 256)  # type: matplotlib.colors.ListedColormap\n",
    "colors = cmap(np.linspace(0, 1, len(category2)))\n",
    "\n",
    "fig = plt.figure(figsize=(12,7))\n",
    "ax = fig.add_axes([0,0,1,1])\n",
    "\n",
    "values_temp = 0\n",
    "i = 0\n",
    "for p in category2:\n",
    "    temp_df = data_temp[data_temp[PARAMETER_COL]==p]\n",
    "    values = temp_df['QTY_PEOPLE_SERVED'].values\n",
    "    ax.bar(ind, values, width, bottom=values_temp, color=colors[i])\n",
    "    values_temp = values_temp + values\n",
    "    i+=1\n",
    "\n",
    "ax.set_ylabel('Diagnosis qty')\n",
    "ax.set_title('Unique qty diagnosis by category hospital')\n",
    "ax.set_xticks(ind)\n",
    "ax.set_xticklabels(x_element, rotation=45)\n",
    "#ax.yaxis.set_major_formatter(millions)\n",
    "\n",
    "ax.legend(labels=category2, bbox_to_anchor = (1.15, 1), title = \"Hospital Category\")\n",
    "plt.show()"
   ]
  },
  {
   "cell_type": "markdown",
   "id": "e3c6dd73",
   "metadata": {},
   "source": [
    "### Diagnoses qty per hospital category (by year)"
   ]
  },
  {
   "cell_type": "code",
   "execution_count": null,
   "id": "dbb147e6",
   "metadata": {},
   "outputs": [],
   "source": [
    "data_temp = all_data[all_data['CATEGORY2']!='ABC']\n",
    "data_temp = data_temp.groupby(['YEAR','CATEGORY2','DIAGNOSIS_ID']).agg({ 'QTY_PEOPLE_SERVED': \"sum\"})\n",
    "data_temp = data_temp.reset_index()\n",
    "data_temp = data_temp.groupby(['YEAR','CATEGORY2']).agg({ 'QTY_PEOPLE_SERVED': \"count\"})\n",
    "data_temp = data_temp.reset_index()\n",
    "\n",
    "date_uniques = data_temp['YEAR'].unique()\n",
    "category2 = data_temp['CATEGORY2'].unique()\n",
    "\n",
    "for date in date_uniques:\n",
    "    temp_df = data_temp[data_temp['YEAR']==date]\n",
    "    category2_temp = list(set(category2) - set(temp_df['CATEGORY2'].values))\n",
    "    temp_df = pd.DataFrame(category2_temp, columns =['CATEGORY2'])\n",
    "    temp_df['YEAR']=date\n",
    "    temp_df['QTY_PEOPLE_SERVED']=0\n",
    "    data_temp = pd.concat([data_temp, temp_df])\n",
    "\n",
    "data_temp = data_temp.sort_values(by=['YEAR','CATEGORY2'], ascending=True)"
   ]
  },
  {
   "cell_type": "code",
   "execution_count": null,
   "id": "8e8e5fc4",
   "metadata": {
    "scrolled": false
   },
   "outputs": [],
   "source": [
    "PARAMETER_COL = 'CATEGORY2'\n",
    "\n",
    "category2 = data_temp[PARAMETER_COL].unique()\n",
    "x_element = [str(item)[:7] for item in np.unique(data_temp['YEAR'])]\n",
    "N = len(x_element)\n",
    "ind = np.arange(N) \n",
    "width = 0.40\n",
    "\n",
    "name = \"rainbow\"\n",
    "cmap = cm.get_cmap(name, 256)  # type: matplotlib.colors.ListedColormap\n",
    "colors = cmap(np.linspace(0, 1, len(category2)))\n",
    "\n",
    "fig = plt.figure(figsize=(12,7))\n",
    "ax = fig.add_axes([0,0,1,1])\n",
    "\n",
    "values_temp = 0\n",
    "i = 0\n",
    "for p in category2:\n",
    "    temp_df = data_temp[data_temp[PARAMETER_COL]==p]\n",
    "    values = temp_df['QTY_PEOPLE_SERVED'].values\n",
    "    ax.bar(ind, values, width, bottom=values_temp, color=colors[i])\n",
    "    values_temp = values_temp + values\n",
    "    i+=1\n",
    "\n",
    "ax.set_ylabel('Diagnosis qty')\n",
    "ax.set_title('Unique qty diagnosis by category hospital')\n",
    "ax.set_xticks(ind)\n",
    "ax.set_xticklabels(x_element, rotation=45)\n",
    "#ax.yaxis.set_major_formatter(millions)\n",
    "\n",
    "ax.legend(labels=category2, bbox_to_anchor = (1.15, 1), title = \"Hospital Category\")\n",
    "plt.show()"
   ]
  },
  {
   "cell_type": "markdown",
   "id": "c24a4ede",
   "metadata": {},
   "source": [
    "### People qty by hospitals and hospital category"
   ]
  },
  {
   "cell_type": "code",
   "execution_count": null,
   "id": "e881591b",
   "metadata": {},
   "outputs": [],
   "source": [
    "data_temp = all_data[all_data['CATEGORY2']!='ABC']\n",
    "# data_temp = data_temp.groupby(['DATE','CATEGORY2','DIAGNOSIS_ID']).agg({ 'QTY_PEOPLE_SERVED': \"sum\"})\n",
    "# data_temp = data_temp.reset_index()\n",
    "data_temp = data_temp.groupby(['DATE','CATEGORY2']).agg({ 'QTY_PEOPLE_SERVED': \"sum\"})\n",
    "data_temp = data_temp.reset_index()\n",
    "\n",
    "date_uniques = data_temp['DATE'].unique()\n",
    "category2 = data_temp['CATEGORY2'].unique()\n",
    "\n",
    "for date in date_uniques:\n",
    "    temp_df = data_temp[data_temp['DATE']==date]\n",
    "    category2_temp = list(set(category2) - set(temp_df['CATEGORY2'].values))\n",
    "    temp_df = pd.DataFrame(category2_temp, columns =['CATEGORY2'])\n",
    "    temp_df['DATE']=date\n",
    "    temp_df['QTY_PEOPLE_SERVED']=0\n",
    "    data_temp = pd.concat([data_temp, temp_df])\n",
    "\n",
    "data_temp = data_temp.sort_values(by=['DATE','CATEGORY2'], ascending=True)"
   ]
  },
  {
   "cell_type": "code",
   "execution_count": null,
   "id": "5eff9490",
   "metadata": {
    "scrolled": false
   },
   "outputs": [],
   "source": [
    "PARAMETER_COL = 'CATEGORY2'\n",
    "\n",
    "category2 = data_temp[PARAMETER_COL].unique()\n",
    "x_element = [str(item)[:7] for item in np.unique(data_temp['DATE'])]\n",
    "N = len(x_element)\n",
    "ind = np.arange(N) \n",
    "width = 0.40\n",
    "\n",
    "name = \"rainbow\"\n",
    "cmap = cm.get_cmap(name, 256)  # type: matplotlib.colors.ListedColormap\n",
    "colors = cmap(np.linspace(0, 1, len(category2)))\n",
    "\n",
    "fig = plt.figure(figsize=(12,7))\n",
    "ax = fig.add_axes([0,0,1,1])\n",
    "\n",
    "values_temp = 0\n",
    "i = 0\n",
    "for p in category2:\n",
    "    temp_df = data_temp[data_temp[PARAMETER_COL]==p]\n",
    "    values = temp_df['QTY_PEOPLE_SERVED'].values\n",
    "    ax.bar(ind, values, width, bottom=values_temp, color=colors[i])\n",
    "    values_temp = values_temp + values\n",
    "    i+=1\n",
    "\n",
    "ax.set_ylabel('People qty')\n",
    "ax.set_title('People served by hospital category')\n",
    "ax.set_xticks(ind)\n",
    "ax.set_xticklabels(x_element, rotation=45)\n",
    "ax.yaxis.set_major_formatter(millions)\n",
    "\n",
    "ax.legend(labels=category2, bbox_to_anchor = (1.15, 1), title = \"Hospital Category\")\n",
    "plt.show()"
   ]
  },
  {
   "cell_type": "code",
   "execution_count": null,
   "id": "0144098f",
   "metadata": {},
   "outputs": [],
   "source": []
  },
  {
   "cell_type": "code",
   "execution_count": null,
   "id": "2668b840",
   "metadata": {},
   "outputs": [],
   "source": [
    "data_temp = all_data[all_data['CATEGORY2']!='ABC']\n",
    "data_temp = data_temp.groupby(['DATE','CATEGORY2','DIAGNOSIS_ID']).agg({ 'QTY_PEOPLE_SERVED': \"sum\"})\n",
    "data_temp = data_temp.reset_index()\n",
    "data_temp = data_temp.groupby(['DATE','CATEGORY2']).agg({ 'QTY_PEOPLE_SERVED': \"count\"})\n",
    "data_temp = data_temp.reset_index()\n",
    "\n",
    "date_uniques = data_temp['DATE'].unique()\n",
    "category2 = data_temp['CATEGORY2'].unique()\n",
    "\n",
    "for date in date_uniques:\n",
    "    temp_df = data_temp[data_temp['DATE']==date]\n",
    "    category2_temp = list(set(category2) - set(temp_df['CATEGORY2'].values))\n",
    "    temp_df = pd.DataFrame(category2_temp, columns =['CATEGORY2'])\n",
    "    temp_df['DATE']=date\n",
    "    temp_df['QTY_PEOPLE_SERVED']=0\n",
    "    data_temp = pd.concat([data_temp, temp_df])\n",
    "\n",
    "data_temp_dq = data_temp.sort_values(by=['DATE','CATEGORY2'], ascending=True)\n",
    "data_temp_dq = data_temp_dq.rename(columns={\"QTY_PEOPLE_SERVED\": \"Diagnosis qty\"})\n",
    "\n",
    "data_temp = all_data[all_data['CATEGORY2']!='ABC']\n",
    "# data_temp = data_temp.groupby(['DATE','CATEGORY2','DIAGNOSIS_ID']).agg({ 'QTY_PEOPLE_SERVED': \"sum\"})\n",
    "# data_temp = data_temp.reset_index()\n",
    "data_temp = data_temp.groupby(['DATE','CATEGORY2']).agg({ 'QTY_PEOPLE_SERVED': \"sum\"})\n",
    "data_temp = data_temp.reset_index()\n",
    "\n",
    "date_uniques = data_temp['DATE'].unique()\n",
    "category2 = data_temp['CATEGORY2'].unique()\n",
    "\n",
    "for date in date_uniques:\n",
    "    temp_df = data_temp[data_temp['DATE']==date]\n",
    "    category2_temp = list(set(category2) - set(temp_df['CATEGORY2'].values))\n",
    "    temp_df = pd.DataFrame(category2_temp, columns =['CATEGORY2'])\n",
    "    temp_df['DATE']=date\n",
    "    temp_df['QTY_PEOPLE_SERVED']=0\n",
    "    data_temp = pd.concat([data_temp, temp_df])\n",
    "\n",
    "data_temp_ps = data_temp.sort_values(by=['DATE','CATEGORY2'], ascending=True)\n",
    "data_temp_ps = data_temp_ps.rename(columns={\"QTY_PEOPLE_SERVED\": \"People served\"})"
   ]
  },
  {
   "cell_type": "code",
   "execution_count": null,
   "id": "8c9370de",
   "metadata": {},
   "outputs": [],
   "source": [
    "#### Categoria 0\n",
    "\n",
    "Ctgy_std = '0'\n",
    "data_temp_p = data_temp_ps[data_temp_ps['CATEGORY2']==Ctgy_std]\n",
    "data_temp_d = data_temp_dq[data_temp_dq['CATEGORY2']==Ctgy_std]\n",
    "\n",
    "\n",
    "people_served_max = data_temp_p['People served'].mean() + 1*data_temp_p['People served'].std()\n",
    "people_served_min = data_temp_p['People served'].mean() - 1*data_temp_p['People served'].std()\n",
    "unique_diagnosis_max = data_temp_d['Diagnosis qty'].mean() + 1*data_temp_d['Diagnosis qty'].std()\n",
    "unique_diagnosis_min = data_temp_d['Diagnosis qty'].mean() - 1*data_temp_d['Diagnosis qty'].std()\n",
    "\n",
    "data_temp_p['out'] = data_temp_p['People served'].apply(lambda x : \n",
    "                                                           0 if (people_served_min>x or\n",
    "                                                                 people_served_max<x)\n",
    "                                                           else x)\n",
    "\n",
    "data_temp_d['out'] = data_temp_d['Diagnosis qty'].apply(lambda x : \n",
    "                                                           0 if (unique_diagnosis_min>x or\n",
    "                                                                 unique_diagnosis_max<x)\n",
    "                                                           else x)\n",
    "\n",
    "plt.figure(figsize=(7,10))\n",
    "\n",
    "plt.subplot(2,1,1)\n",
    "sns.distplot(data_temp_p['People served'])\n",
    "plt.subplot(2,1,2)\n",
    "sns.distplot(data_temp_d['Diagnosis qty'])"
   ]
  },
  {
   "cell_type": "code",
   "execution_count": null,
   "id": "32c3ecf2",
   "metadata": {
    "scrolled": false
   },
   "outputs": [],
   "source": [
    "fig, ax = plt.subplots(2, 1, figsize=(17,10))\n",
    "fig.tight_layout(pad=5.0)\n",
    "\n",
    "x = [str(item)[:7] for item in np.unique(data_temp_p['DATE'])]\n",
    "\n",
    "y = list(data_temp_p['People served'])\n",
    "ax[0].bar(x, y, color='red')\n",
    "y = list(data_temp_p['out'])\n",
    "ax[0].bar(x, y, color='salmon')\n",
    "ax[0].set_ylabel('People served qty')\n",
    "ax[0].set_title('Total people served - Category:'+Ctgy_std)\n",
    "ax[0].set_xticks(x)\n",
    "ax[0].set_xticklabels(x, rotation=90)\n",
    "ax[0].yaxis.set_major_formatter(millions)\n",
    "\n",
    "y = list(data_temp_d['Diagnosis qty'])\n",
    "ax[1].bar(x, y, color='blue')\n",
    "y = list(data_temp_d['out'])\n",
    "ax[1].bar(x, y, color='skyblue')\n",
    "ax[1].set_ylabel('Unique diagnosis qty')\n",
    "ax[1].set_title('Unique diagnosis - Peru')\n",
    "ax[1].set_xticks(x)\n",
    "ax[1].set_xticklabels(x, rotation=90)\n",
    "\n",
    "fig.show()"
   ]
  },
  {
   "cell_type": "code",
   "execution_count": null,
   "id": "ee7d5e8c",
   "metadata": {},
   "outputs": [],
   "source": [
    "#### Categoria 1\n",
    "\n",
    "Ctgy_std = 'I'\n",
    "data_temp_p = data_temp_ps[data_temp_ps['CATEGORY2']==Ctgy_std]\n",
    "data_temp_d = data_temp_dq[data_temp_dq['CATEGORY2']==Ctgy_std]\n",
    "\n",
    "\n",
    "people_served_max = data_temp_p['People served'].mean() + 1*data_temp_p['People served'].std()\n",
    "people_served_min = data_temp_p['People served'].mean() - 1*data_temp_p['People served'].std()\n",
    "unique_diagnosis_max = data_temp_d['Diagnosis qty'].mean() + 1*data_temp_d['Diagnosis qty'].std()\n",
    "unique_diagnosis_min = data_temp_d['Diagnosis qty'].mean() - 1*data_temp_d['Diagnosis qty'].std()\n",
    "\n",
    "data_temp_p['out'] = data_temp_p['People served'].apply(lambda x : \n",
    "                                                           0 if (people_served_min>x or\n",
    "                                                                 people_served_max<x)\n",
    "                                                           else x)\n",
    "\n",
    "data_temp_d['out'] = data_temp_d['Diagnosis qty'].apply(lambda x : \n",
    "                                                           0 if (unique_diagnosis_min>x or\n",
    "                                                                 unique_diagnosis_max<x)\n",
    "                                                           else x)\n",
    "\n",
    "plt.figure(figsize=(7,10))\n",
    "\n",
    "plt.subplot(2,1,1)\n",
    "sns.distplot(data_temp_p['People served'])\n",
    "plt.subplot(2,1,2)\n",
    "sns.distplot(data_temp_d['Diagnosis qty'])"
   ]
  },
  {
   "cell_type": "code",
   "execution_count": null,
   "id": "735d0485",
   "metadata": {
    "scrolled": false
   },
   "outputs": [],
   "source": [
    "fig, ax = plt.subplots(2, 1, figsize=(17,10))\n",
    "fig.tight_layout(pad=5.0)\n",
    "\n",
    "x = [str(item)[:7] for item in np.unique(data_temp_p['DATE'])]\n",
    "\n",
    "y = list(data_temp_p['People served'])\n",
    "ax[0].bar(x, y, color='red')\n",
    "y = list(data_temp_p['out'])\n",
    "ax[0].bar(x, y, color='salmon')\n",
    "ax[0].set_ylabel('People served qty')\n",
    "ax[0].set_title('Total people served - Category:'+Ctgy_std)\n",
    "ax[0].set_xticks(x)\n",
    "ax[0].set_xticklabels(x, rotation=90)\n",
    "ax[0].yaxis.set_major_formatter(millions)\n",
    "\n",
    "y = list(data_temp_d['Diagnosis qty'])\n",
    "ax[1].bar(x, y, color='blue')\n",
    "y = list(data_temp_d['out'])\n",
    "ax[1].bar(x, y, color='skyblue')\n",
    "ax[1].set_ylabel('Unique diagnosis qty')\n",
    "ax[1].set_title('Unique diagnosis - Peru')\n",
    "ax[1].set_xticks(x)\n",
    "ax[1].set_xticklabels(x, rotation=90)\n",
    "\n",
    "fig.show()"
   ]
  },
  {
   "cell_type": "code",
   "execution_count": null,
   "id": "eb06a082",
   "metadata": {},
   "outputs": [],
   "source": [
    "#### Categoria 2\n",
    "\n",
    "Ctgy_std = 'II'\n",
    "data_temp_p = data_temp_ps[data_temp_ps['CATEGORY2']==Ctgy_std]\n",
    "data_temp_d = data_temp_dq[data_temp_dq['CATEGORY2']==Ctgy_std]\n",
    "\n",
    "\n",
    "people_served_max = data_temp_p['People served'].mean() + 1*data_temp_p['People served'].std()\n",
    "people_served_min = data_temp_p['People served'].mean() - 1*data_temp_p['People served'].std()\n",
    "unique_diagnosis_max = data_temp_d['Diagnosis qty'].mean() + 1*data_temp_d['Diagnosis qty'].std()\n",
    "unique_diagnosis_min = data_temp_d['Diagnosis qty'].mean() - 1*data_temp_d['Diagnosis qty'].std()\n",
    "\n",
    "data_temp_p['out'] = data_temp_p['People served'].apply(lambda x : \n",
    "                                                           0 if (people_served_min>x or\n",
    "                                                                 people_served_max<x)\n",
    "                                                           else x)\n",
    "\n",
    "data_temp_d['out'] = data_temp_d['Diagnosis qty'].apply(lambda x : \n",
    "                                                           0 if (unique_diagnosis_min>x or\n",
    "                                                                 unique_diagnosis_max<x)\n",
    "                                                           else x)\n",
    "\n",
    "plt.figure(figsize=(7,10))\n",
    "\n",
    "plt.subplot(2,1,1)\n",
    "sns.distplot(data_temp_p['People served'])\n",
    "plt.subplot(2,1,2)\n",
    "sns.distplot(data_temp_d['Diagnosis qty'])"
   ]
  },
  {
   "cell_type": "code",
   "execution_count": null,
   "id": "528df0ff",
   "metadata": {
    "scrolled": false
   },
   "outputs": [],
   "source": [
    "fig, ax = plt.subplots(2, 1, figsize=(17,10))\n",
    "fig.tight_layout(pad=5.0)\n",
    "\n",
    "x = [str(item)[:7] for item in np.unique(data_temp_p['DATE'])]\n",
    "\n",
    "y = list(data_temp_p['People served'])\n",
    "ax[0].bar(x, y, color='red')\n",
    "y = list(data_temp_p['out'])\n",
    "ax[0].bar(x, y, color='salmon')\n",
    "ax[0].set_ylabel('People served qty')\n",
    "ax[0].set_title('Total people served - Category:'+Ctgy_std)\n",
    "ax[0].set_xticks(x)\n",
    "ax[0].set_xticklabels(x, rotation=90)\n",
    "ax[0].yaxis.set_major_formatter(millions)\n",
    "\n",
    "y = list(data_temp_d['Diagnosis qty'])\n",
    "ax[1].bar(x, y, color='blue')\n",
    "y = list(data_temp_d['out'])\n",
    "ax[1].bar(x, y, color='skyblue')\n",
    "ax[1].set_ylabel('Unique diagnosis qty')\n",
    "ax[1].set_title('Unique diagnosis - Peru')\n",
    "ax[1].set_xticks(x)\n",
    "ax[1].set_xticklabels(x, rotation=90)\n",
    "\n",
    "fig.show()"
   ]
  },
  {
   "cell_type": "code",
   "execution_count": null,
   "id": "f6a36746",
   "metadata": {},
   "outputs": [],
   "source": [
    "#### Categoria 3\n",
    "\n",
    "Ctgy_std = 'III'\n",
    "data_temp_p = data_temp_ps[data_temp_ps['CATEGORY2']==Ctgy_std]\n",
    "data_temp_d = data_temp_dq[data_temp_dq['CATEGORY2']==Ctgy_std]\n",
    "\n",
    "\n",
    "people_served_max = data_temp_p['People served'].mean() + 1*data_temp_p['People served'].std()\n",
    "people_served_min = data_temp_p['People served'].mean() - 1*data_temp_p['People served'].std()\n",
    "unique_diagnosis_max = data_temp_d['Diagnosis qty'].mean() + 1*data_temp_d['Diagnosis qty'].std()\n",
    "unique_diagnosis_min = data_temp_d['Diagnosis qty'].mean() - 1*data_temp_d['Diagnosis qty'].std()\n",
    "\n",
    "data_temp_p['out'] = data_temp_p['People served'].apply(lambda x : \n",
    "                                                           0 if (people_served_min>x or\n",
    "                                                                 people_served_max<x)\n",
    "                                                           else x)\n",
    "\n",
    "data_temp_d['out'] = data_temp_d['Diagnosis qty'].apply(lambda x : \n",
    "                                                           0 if (unique_diagnosis_min>x or\n",
    "                                                                 unique_diagnosis_max<x)\n",
    "                                                           else x)\n",
    "\n",
    "plt.figure(figsize=(7,10))\n",
    "\n",
    "plt.subplot(2,1,1)\n",
    "sns.distplot(data_temp_p['People served'])\n",
    "plt.subplot(2,1,2)\n",
    "sns.distplot(data_temp_d['Diagnosis qty'])"
   ]
  },
  {
   "cell_type": "code",
   "execution_count": null,
   "id": "ea49cbc0",
   "metadata": {
    "scrolled": false
   },
   "outputs": [],
   "source": [
    "fig, ax = plt.subplots(2, 1, figsize=(17,10))\n",
    "fig.tight_layout(pad=5.0)\n",
    "\n",
    "x = [str(item)[:7] for item in np.unique(data_temp_p['DATE'])]\n",
    "\n",
    "y = list(data_temp_p['People served'])\n",
    "ax[0].bar(x, y, color='red')\n",
    "y = list(data_temp_p['out'])\n",
    "ax[0].bar(x, y, color='salmon')\n",
    "ax[0].set_ylabel('People served qty')\n",
    "ax[0].set_title('Total people served - Category:'+Ctgy_std)\n",
    "ax[0].set_xticks(x)\n",
    "ax[0].set_xticklabels(x, rotation=90)\n",
    "ax[0].yaxis.set_major_formatter(millions)\n",
    "\n",
    "y = list(data_temp_d['Diagnosis qty'])\n",
    "ax[1].bar(x, y, color='blue')\n",
    "y = list(data_temp_d['out'])\n",
    "ax[1].bar(x, y, color='skyblue')\n",
    "ax[1].set_ylabel('Unique diagnosis qty')\n",
    "ax[1].set_title('Unique diagnosis - Peru')\n",
    "ax[1].set_xticks(x)\n",
    "ax[1].set_xticklabels(x, rotation=90)\n",
    "\n",
    "fig.show()"
   ]
  },
  {
   "cell_type": "code",
   "execution_count": null,
   "id": "0bb54373",
   "metadata": {},
   "outputs": [],
   "source": []
  },
  {
   "cell_type": "markdown",
   "id": "92d362b4",
   "metadata": {},
   "source": [
    "### People qty by hospitals and hospital category (YEAR)"
   ]
  },
  {
   "cell_type": "code",
   "execution_count": null,
   "id": "034b0e05",
   "metadata": {},
   "outputs": [],
   "source": [
    "data_temp = all_data[all_data['CATEGORY2']!='ABC']\n",
    "# data_temp = data_temp.groupby(['DATE','CATEGORY2','DIAGNOSIS_ID']).agg({ 'QTY_PEOPLE_SERVED': \"sum\"})\n",
    "# data_temp = data_temp.reset_index()\n",
    "data_temp = data_temp.groupby(['YEAR','CATEGORY2']).agg({ 'QTY_PEOPLE_SERVED': \"sum\"})\n",
    "data_temp = data_temp.reset_index()\n",
    "\n",
    "date_uniques = data_temp['YEAR'].unique()\n",
    "category2 = data_temp['CATEGORY2'].unique()\n",
    "\n",
    "for date in date_uniques:\n",
    "    temp_df = data_temp[data_temp['YEAR']==date]\n",
    "    category2_temp = list(set(category2) - set(temp_df['CATEGORY2'].values))\n",
    "    temp_df = pd.DataFrame(category2_temp, columns =['CATEGORY2'])\n",
    "    temp_df['YEAR']=date\n",
    "    temp_df['QTY_PEOPLE_SERVED']=0\n",
    "    data_temp = pd.concat([data_temp, temp_df])\n",
    "\n",
    "data_temp = data_temp.sort_values(by=['YEAR','CATEGORY2'], ascending=True)"
   ]
  },
  {
   "cell_type": "code",
   "execution_count": null,
   "id": "7fe468f3",
   "metadata": {
    "scrolled": false
   },
   "outputs": [],
   "source": [
    "PARAMETER_COL = 'CATEGORY2'\n",
    "\n",
    "category2 = data_temp[PARAMETER_COL].unique()\n",
    "x_element = [str(item)[:7] for item in np.unique(data_temp['YEAR'])]\n",
    "N = len(x_element)\n",
    "ind = np.arange(N) \n",
    "width = 0.40\n",
    "\n",
    "name = \"rainbow\"\n",
    "cmap = cm.get_cmap(name, 256)  # type: matplotlib.colors.ListedColormap\n",
    "colors = cmap(np.linspace(0, 1, len(category2)))\n",
    "\n",
    "fig = plt.figure(figsize=(12,7))\n",
    "ax = fig.add_axes([0,0,1,1])\n",
    "\n",
    "values_temp = 0\n",
    "i = 0\n",
    "for p in category2:\n",
    "    temp_df = data_temp[data_temp[PARAMETER_COL]==p]\n",
    "    values = temp_df['QTY_PEOPLE_SERVED'].values\n",
    "    ax.bar(ind, values, width, bottom=values_temp, color=colors[i])\n",
    "    values_temp = values_temp + values\n",
    "    i+=1\n",
    "\n",
    "ax.set_ylabel('People qty')\n",
    "ax.set_title('People served by hospital category')\n",
    "ax.set_xticks(ind)\n",
    "ax.set_xticklabels(x_element, rotation=45)\n",
    "ax.yaxis.set_major_formatter(millions)\n",
    "\n",
    "ax.legend(labels=category2, bbox_to_anchor = (1.15, 1), title = \"Hospital Category\")\n",
    "plt.show()"
   ]
  },
  {
   "cell_type": "markdown",
   "id": "0b74f317",
   "metadata": {},
   "source": [
    "### Graph by gender and hospital category"
   ]
  },
  {
   "cell_type": "code",
   "execution_count": null,
   "id": "5de6af5c",
   "metadata": {},
   "outputs": [],
   "source": [
    "data_temp = all_data[all_data['CATEGORY2']!='ABC']\n",
    "data_temp = data_temp.groupby(['DATE','SEX','CATEGORY2','DIAGNOSIS_ID']).agg({ 'QTY_PEOPLE_SERVED': \"sum\"})\n",
    "data_temp = data_temp.reset_index()\n",
    "data_temp = data_temp.groupby(['DATE','SEX','CATEGORY2']).agg({ 'QTY_PEOPLE_SERVED': \"sum\"})\n",
    "data_temp = data_temp.reset_index()\n",
    "\n",
    "date_uniques = data_temp['DATE'].unique()\n",
    "category = data_temp['CATEGORY2'].unique()\n",
    "\n",
    "data_temp_m = data_temp[data_temp['SEX']=='M']\n",
    "data_temp_f = data_temp[data_temp['SEX']=='F']\n",
    "\n",
    "for date in date_uniques:\n",
    "    temp_df = data_temp_m[data_temp_m['DATE']==date]\n",
    "    category_temp = list(set(category) - set(temp_df['CATEGORY2'].values))\n",
    "    temp_df = pd.DataFrame(category_temp, columns =['CATEGORY2'])\n",
    "    temp_df['DATE']=date\n",
    "    temp_df['QTY_PEOPLE_SERVED']=0\n",
    "    data_temp_m = pd.concat([data_temp_m, temp_df])\n",
    "\n",
    "for date in date_uniques:\n",
    "    temp_df = data_temp_f[data_temp_f['DATE']==date]\n",
    "    category_temp = list(set(category) - set(temp_df['CATEGORY2'].values))\n",
    "    temp_df = pd.DataFrame(category_temp, columns =['CATEGORY2'])\n",
    "    temp_df['DATE']=date\n",
    "    temp_df['QTY_PEOPLE_SERVED']=0\n",
    "    data_temp_f = pd.concat([data_temp_f, temp_df])\n",
    "\n",
    "data_temp_m = data_temp_m.sort_values(by=['DATE','CATEGORY2'], ascending=True)\n",
    "data_temp_f = data_temp_f.sort_values(by=['DATE','CATEGORY2'], ascending=True)"
   ]
  },
  {
   "cell_type": "code",
   "execution_count": null,
   "id": "f7ac7050",
   "metadata": {
    "scrolled": false
   },
   "outputs": [],
   "source": [
    "PARAMETER_COL = 'CATEGORY2'\n",
    "\n",
    "category_m = data_temp_m[PARAMETER_COL].unique()\n",
    "category_f = data_temp_f[PARAMETER_COL].unique()\n",
    "x_element = [str(item)[:7] for item in np.unique(data_temp_m['DATE'])]\n",
    "N = len(x_element)\n",
    "ind = np.arange(N) \n",
    "width = 0.5*0.8\n",
    "\n",
    "name = \"Blues\"\n",
    "cmap = cm.get_cmap(name, 256)  # type: matplotlib.colors.ListedColormap\n",
    "colors_m = cmap(list(reversed(np.linspace(0, 1, len(category_m)+2))))\n",
    "\n",
    "name = \"Oranges\"\n",
    "cmap = cm.get_cmap(name, 256)  # type: matplotlib.colors.ListedColormap\n",
    "colors_f = cmap(list(reversed(np.linspace(0, 1, len(category_f)+2))))\n",
    "\n",
    "fig = plt.figure(figsize=(12,7))\n",
    "ax = fig.add_axes([0,0,1,1])\n",
    "\n",
    "tags =[]\n",
    "values_temp_m = 0\n",
    "i = 0\n",
    "for p in category_m:\n",
    "    tag = 'm - '+p\n",
    "    temp_df = data_temp_m[data_temp_m[PARAMETER_COL]==p]\n",
    "    values = temp_df['QTY_PEOPLE_SERVED'].values\n",
    "    ax.bar(ind - width, values, width, bottom=values_temp_m, color=colors_m[i])\n",
    "    values_temp_m = values_temp_m + values\n",
    "    i+=1\n",
    "    tags.append(tag)\n",
    "    \n",
    "values_temp_f = 0\n",
    "i = 0\n",
    "for p in category_f:\n",
    "    tag = 'f - '+p\n",
    "    temp_df = data_temp_f[data_temp_f[PARAMETER_COL]==p]\n",
    "    values = temp_df['QTY_PEOPLE_SERVED'].values\n",
    "    ax.bar(ind + 0, values, width, bottom=values_temp_f, color=colors_f[i])\n",
    "    values_temp_f = values_temp_f + values\n",
    "    i+=1\n",
    "    tags.append(tag)\n",
    "\n",
    "ax.set_ylabel('People qty')\n",
    "ax.set_title('People served by hospital category')\n",
    "ax.set_xticks(ind)\n",
    "ax.set_xticklabels(x_element, rotation=45)\n",
    "ax.yaxis.set_major_formatter(millions)\n",
    "\n",
    "\n",
    "\n",
    "# legend1 = plt.legend([lines[i] for i in include],[lines[i].get_label() for i in include], loc=1)\n",
    "# legend2 = plt.legend([lines[i] for i in [2,3]],['manual label 3','manual label 4'], loc=4)\n",
    "# plt.gca().add_artist(legend1)\n",
    "\n",
    "# legend1 = ax.legend(labels=category_m, color = colors_f, bbox_to_anchor = (1.0, 1), title = \"Hospital Category - male  \")\n",
    "# legend2 = ax.legend(labels=category_f, bbox_to_anchor = (1, 0.8), title = \"Hospital Category - female\")\n",
    "# ax.add_artist(legend1)\n",
    "# ax.add_artist(legend2)\n",
    "\n",
    "legend1 = ax.legend(labels=tags, bbox_to_anchor = (1.0, 1), title = \"Gender - Hospital Category\")\n",
    "ax.add_artist(legend1)\n",
    "\n",
    "plt.show()"
   ]
  },
  {
   "cell_type": "markdown",
   "id": "e31ae13b",
   "metadata": {},
   "source": [
    "### Proyeccion del sistemas por genero"
   ]
  },
  {
   "cell_type": "code",
   "execution_count": null,
   "id": "85ad3006",
   "metadata": {},
   "outputs": [],
   "source": [
    "data_temp = all_data[all_data['CATEGORY2']!='ABC']\n",
    "data_temp = data_temp.groupby(['DATE','SEX']).agg({ 'QTY_PEOPLE_SERVED': \"sum\"})\n",
    "data_temp = data_temp.reset_index()\n",
    "\n",
    "date_uniques = data_temp['DATE'].unique()\n",
    "data_temp_m = data_temp[data_temp['SEX']=='M']\n",
    "data_temp_f = data_temp[data_temp['SEX']=='F']\n",
    "\n",
    "\n",
    "dimension = data_temp_m['SEX'].unique()\n",
    "for date in date_uniques:\n",
    "    temp_df = data_temp_m[data_temp_m['DATE']==date]\n",
    "    dimension_temp = list(set(dimension) - set(temp_df['SEX'].values))\n",
    "    temp_df = pd.DataFrame(dimension_temp, columns =['SEX'])\n",
    "    temp_df['DATE']=date\n",
    "    temp_df['QTY_PEOPLE_SERVED']=0\n",
    "    data_temp_m = pd.concat([data_temp_m, temp_df])\n",
    "\n",
    "    \n",
    "dimension = data_temp_f['SEX'].unique()\n",
    "for date in date_uniques:\n",
    "    temp_df = data_temp_f[data_temp_f['DATE']==date]\n",
    "    dimension_temp = list(set(dimension) - set(temp_df['SEX'].values))\n",
    "    temp_df = pd.DataFrame(dimension_temp, columns =['SEX'])\n",
    "    temp_df['DATE']=date\n",
    "    temp_df['QTY_PEOPLE_SERVED']=0\n",
    "    data_temp_f = pd.concat([data_temp_f, temp_df])\n",
    "\n",
    "data_temp_m = data_temp_m.sort_values(by=['DATE','SEX'], ascending=True)\n",
    "data_temp_f = data_temp_f.sort_values(by=['DATE','SEX'], ascending=True)"
   ]
  },
  {
   "cell_type": "code",
   "execution_count": null,
   "id": "e8a64131",
   "metadata": {},
   "outputs": [],
   "source": [
    "labels = [str(x)[:7] for x in date_uniques]\n",
    "men_means = list(data_temp_m['QTY_PEOPLE_SERVED'])\n",
    "women_means = list(data_temp_f['QTY_PEOPLE_SERVED'])"
   ]
  },
  {
   "cell_type": "code",
   "execution_count": null,
   "id": "39b3aa5a",
   "metadata": {
    "scrolled": true
   },
   "outputs": [],
   "source": [
    "x = np.arange(len(labels))  # the label locations\n",
    "width = 0.35  # the width of the bars\n",
    "\n",
    "#fig, ax = plt.subplots()\n",
    "fig, ax = plt.subplots(1, 1, figsize=(17,10))\n",
    "rects1 = ax.bar(x - width/2, men_means, width, label='Men')\n",
    "rects2 = ax.bar(x + width/2, women_means, width, label='Women')\n",
    "\n",
    "# Add some text for labels, title and custom x-axis tick labels, etc.\n",
    "ax.set_ylabel('People served')\n",
    "ax.set_title('Scores by gender')\n",
    "ax.set_xticks(x)\n",
    "ax.set_xticklabels(labels, rotation=45)\n",
    "ax.legend()\n",
    "\n",
    "# ax.bar_label(rects1, padding=3)\n",
    "# ax.bar_label(rects2, padding=3)\n",
    "\n",
    "fig.tight_layout()\n",
    "\n",
    "ax.yaxis.set_major_formatter(millions)\n",
    "\n",
    "plt.show()"
   ]
  },
  {
   "cell_type": "markdown",
   "id": "35aeed80",
   "metadata": {},
   "source": [
    "### Dental diagnosis"
   ]
  },
  {
   "cell_type": "code",
   "execution_count": null,
   "id": "3388b13c",
   "metadata": {},
   "outputs": [],
   "source": [
    "data_temp = all_data\n",
    "data_temp['DENTAL_DISEASE'] = data_temp['DIAGNOSIS_ID'].str.contains('^K')\n",
    "\n",
    "data_temp = data_temp.groupby(['YEAR','DENTAL_DISEASE']).agg({ 'QTY_PEOPLE_SERVED': \"sum\"})\n",
    "data_temp = data_temp.sort_values(by=['YEAR', 'DENTAL_DISEASE']).reset_index()\n",
    "data_temp = data_temp.pivot(index =['YEAR'], columns = 'DENTAL_DISEASE')\n",
    "data_temp.columns = data_temp.columns.droplevel()\n",
    "data_temp.fillna(0, inplace = True)\n",
    "data_temp.head()"
   ]
  },
  {
   "cell_type": "code",
   "execution_count": null,
   "id": "31be69f4",
   "metadata": {},
   "outputs": [],
   "source": [
    "abc = data_temp.plot(kind=\"bar\", stacked=True)\n",
    "abc.yaxis.set_major_formatter(millions)\n",
    "abc.set_title('Qty of dental diseases by year')"
   ]
  },
  {
   "cell_type": "code",
   "execution_count": null,
   "id": "273df871",
   "metadata": {},
   "outputs": [],
   "source": [
    "data_temp = data_temp.reset_index()\n",
    "data_temp['total'] = data_temp[False] + data_temp[True]\n",
    "data_temp[False] = data_temp[False]/data_temp['total']\n",
    "data_temp[True] = data_temp[True]/data_temp['total']\n",
    "del data_temp['total']\n",
    "\n",
    "data_temp = data_temp.set_index('YEAR')"
   ]
  },
  {
   "cell_type": "code",
   "execution_count": null,
   "id": "749cc260",
   "metadata": {},
   "outputs": [],
   "source": [
    "abc = data_temp.plot(kind=\"bar\", stacked=True)\n",
    "#abc.yaxis.set_major_formatter(millions)\n",
    "abc.set_title('Dental diseases by year (percentage)')\n",
    "\n",
    "abc.legend(bbox_to_anchor = (1.0, 1))"
   ]
  },
  {
   "cell_type": "markdown",
   "id": "300fa2de",
   "metadata": {},
   "source": [
    "### Conteo de diagnosticos por mes jensenshannon_dis"
   ]
  },
  {
   "cell_type": "code",
   "execution_count": null,
   "id": "3516aaae",
   "metadata": {},
   "outputs": [],
   "source": [
    "\n",
    "# DISEASE_GROUP, DIAGNOSIS_ID\n",
    "\n",
    "data_temp = all_data[all_data['CATEGORY2']!='ABC']\n",
    "data_temp = data_temp.groupby(['DATE','DISEASE_GROUP']).agg({ 'QTY_PEOPLE_SERVED': \"sum\"})\n",
    "data_temp = data_temp.reset_index()\n",
    "\n",
    "date_uniques = data_temp['DATE'].unique()\n",
    "dimension = data_temp['DISEASE_GROUP'].unique()\n",
    "\n",
    "for date in date_uniques:\n",
    "    temp_df = data_temp[data_temp['DATE']==date]\n",
    "    dimension_temp = list(set(dimension) - set(temp_df['DISEASE_GROUP'].values))\n",
    "    temp_df = pd.DataFrame(dimension_temp, columns =['DISEASE_GROUP'])\n",
    "    temp_df['DATE']=date\n",
    "    temp_df['QTY_PEOPLE_SERVED']=0\n",
    "    data_temp = pd.concat([data_temp, temp_df])\n",
    "    \n",
    "data_temp = data_temp.sort_values(by=['DATE','DISEASE_GROUP'], ascending=True)"
   ]
  },
  {
   "cell_type": "code",
   "execution_count": null,
   "id": "067163dd",
   "metadata": {},
   "outputs": [],
   "source": [
    "data_temp.head()"
   ]
  },
  {
   "cell_type": "code",
   "execution_count": null,
   "id": "e5ec1d92",
   "metadata": {},
   "outputs": [],
   "source": [
    "diseases_dim = []\n",
    "diseases_name = []\n",
    "for date in date_uniques:\n",
    "    temp_df = data_temp[data_temp['DATE']==date]\n",
    "    diseases_name.append(list(temp_df['DISEASE_GROUP']))\n",
    "    diseases_dim.append(list(temp_df['QTY_PEOPLE_SERVED']))"
   ]
  },
  {
   "cell_type": "code",
   "execution_count": null,
   "id": "e7829afc",
   "metadata": {},
   "outputs": [],
   "source": [
    "from scipy.spatial import distance\n",
    "\n",
    "jensenshannon_dis = []\n",
    "for i in range(len(date_uniques)-1):\n",
    "    i_date = str(date_uniques[i])[:7]\n",
    "    f_date = str(date_uniques[i+1])[:7]\n",
    "    dis = distance.jensenshannon(diseases_dim[i], diseases_dim[i+1])\n",
    "    jensenshannon_dis.append([i_date, f_date, dis])\n",
    "    \n",
    "jensenshannon_dis = pd.DataFrame(jensenshannon_dis,\n",
    "                                 columns =['date_i', 'date_f', 'jensenshannon'])"
   ]
  },
  {
   "cell_type": "code",
   "execution_count": null,
   "id": "85b094c0",
   "metadata": {},
   "outputs": [],
   "source": [
    "jensenshannon_dis.head()"
   ]
  },
  {
   "cell_type": "code",
   "execution_count": null,
   "id": "275a1a01",
   "metadata": {},
   "outputs": [],
   "source": [
    "fig = plt.figure(figsize=(12,7))\n",
    "ax = fig.add_axes([0,0,1,1])\n",
    "\n",
    "ax.plot(jensenshannon_dis['date_i'], jensenshannon_dis['jensenshannon'], 'ro')\n",
    "ax.plot(jensenshannon_dis['date_i'], jensenshannon_dis['jensenshannon'], '-')\n",
    "#ax.bar(jensenshannon_dis['date_i'], jensenshannon_dis['jensenshannon'])\n",
    "ax.set_xticklabels(jensenshannon_dis['date_f'], rotation=45)\n",
    "plt.show()"
   ]
  },
  {
   "cell_type": "markdown",
   "id": "e5999447",
   "metadata": {},
   "source": [
    "### Cholera, skin damage chicunguya, malaria, sika"
   ]
  },
  {
   "cell_type": "code",
   "execution_count": null,
   "id": "ea1ec52b",
   "metadata": {},
   "outputs": [],
   "source": [
    "def temp_funct(x):\n",
    "    x = x[0:3]\n",
    "    if x in ['P35']:\n",
    "        return 'Zika'\n",
    "    elif x in ['P37', 'B50', 'B51', 'B52', 'B53', 'B54']:\n",
    "        return 'Malaria'\n",
    "    elif x in ['A00']:\n",
    "        return 'Cholera'\n",
    "    elif x in ['A92']:\n",
    "        return 'Chikungunya '\n",
    "    else:\n",
    "        return 'Other'\n",
    "    return 'Other'"
   ]
  },
  {
   "cell_type": "code",
   "execution_count": null,
   "id": "d8c25c76",
   "metadata": {},
   "outputs": [],
   "source": [
    "data_temp = all_data\n",
    "data_temp['SKIN_DISEASE'] = data_temp['DIAGNOSIS_ID'].apply(lambda x:temp_funct(x))\n",
    "data_temp = data_temp[data_temp['SKIN_DISEASE']!='Other']\n",
    "\n",
    "data_temp = data_temp.groupby(['YEAR','SKIN_DISEASE']).agg({ 'QTY_PEOPLE_SERVED': \"sum\"})\n",
    "data_temp = data_temp.sort_values(by=['YEAR', 'SKIN_DISEASE']).reset_index()\n",
    "data_temp = data_temp.pivot(index =['YEAR'], columns = 'SKIN_DISEASE')\n",
    "data_temp.columns = data_temp.columns.droplevel()\n",
    "data_temp.fillna(0, inplace = True)\n",
    "data_temp.head()"
   ]
  },
  {
   "cell_type": "code",
   "execution_count": null,
   "id": "3b78ca41",
   "metadata": {},
   "outputs": [],
   "source": [
    "abc = data_temp.plot(kind=\"bar\", stacked=False)\n",
    "#abc.yaxis.set_major_formatter(millions)\n",
    "abc.set_title('Qty of diseases by year')"
   ]
  },
  {
   "cell_type": "code",
   "execution_count": null,
   "id": "c94599f1",
   "metadata": {},
   "outputs": [],
   "source": []
  },
  {
   "cell_type": "code",
   "execution_count": null,
   "id": "550b3aca",
   "metadata": {},
   "outputs": [],
   "source": []
  },
  {
   "cell_type": "markdown",
   "id": "7b483a00",
   "metadata": {},
   "source": [
    "### Ask the codes neumonia, influenza.\n",
    "    - ICD-10-CM Code for Pneumonia, unspecified organism J18.9\n",
    "    - Influenza and pneumonia (J09-J18)\n",
    "    - https://icd.who.int/browse10/2019/en#/J09-J18"
   ]
  },
  {
   "cell_type": "code",
   "execution_count": null,
   "id": "b7f79f8b",
   "metadata": {},
   "outputs": [],
   "source": []
  },
  {
   "cell_type": "code",
   "execution_count": null,
   "id": "a0b76d94",
   "metadata": {},
   "outputs": [],
   "source": []
  },
  {
   "cell_type": "markdown",
   "id": "5f5b836d",
   "metadata": {},
   "source": [
    "### como la demanda ha cambiado por el covid"
   ]
  },
  {
   "cell_type": "code",
   "execution_count": null,
   "id": "ccf0e204",
   "metadata": {},
   "outputs": [],
   "source": [
    "data_temp.columns"
   ]
  },
  {
   "cell_type": "code",
   "execution_count": null,
   "id": "d1ca1942",
   "metadata": {
    "scrolled": true
   },
   "outputs": [],
   "source": [
    "plt.hist(data_temp['CATEGORY'])"
   ]
  },
  {
   "cell_type": "code",
   "execution_count": null,
   "id": "8302a743",
   "metadata": {},
   "outputs": [],
   "source": [
    "PARAMETER = 'CATEGORY'\n",
    "data_temp = data_temp[data_temp['IS_LIMA']==True]\n",
    "\n",
    "data_temp = data_temp.groupby(['DATE', PARAMETER]).agg({ 'QTY_PEOPLE_SERVED': \"sum\"})\n",
    "data_temp = data_temp.reset_index()\n",
    "\n",
    "top_df = pd.DataFrame()\n",
    "date_uniques = np.sort(data_temp['DATE'].unique())\n",
    "\n",
    "for date in date_uniques:\n",
    "    temp_df = data_temp[data_temp['DATE']==date]\n",
    "    temp_df = temp_df.sort_values(by=['QTY_PEOPLE_SERVED'], ascending=False)\n",
    "    temp_df = temp_df.head(5).reset_index(drop=True)\n",
    "    top_df = pd.concat([top_df, temp_df])\n",
    "    \n",
    "diagnosis = top_df[PARAMETER].unique()\n",
    "\n",
    "# For ausent dates\n",
    "for date in date_uniques:\n",
    "    temp_df = top_df[top_df['DATE']==date]\n",
    "    diagnosis_temp = list(set(diagnosis) - set(temp_df[PARAMETER].values))\n",
    "    temp_df = pd.DataFrame(diagnosis_temp, columns =[PARAMETER])\n",
    "    temp_df['DATE']=date\n",
    "    temp_df['QTY_PEOPLE_SERVED']=0\n",
    "    top_df = pd.concat([top_df, temp_df])\n",
    "\n",
    "top_df = top_df.sort_values(by=['DATE', PARAMETER], ascending=True)"
   ]
  },
  {
   "cell_type": "code",
   "execution_count": null,
   "id": "028487dd",
   "metadata": {},
   "outputs": [],
   "source": [
    "all_data.head()"
   ]
  },
  {
   "cell_type": "code",
   "execution_count": null,
   "id": "d1abc96b",
   "metadata": {},
   "outputs": [],
   "source": [
    "### Hospital by category"
   ]
  },
  {
   "cell_type": "code",
   "execution_count": null,
   "id": "6b48d1f3",
   "metadata": {},
   "outputs": [],
   "source": [
    "data_temp = data_temp[data_temp['IS_LIMA']==True]\n",
    "\n",
    "data_temp = data_temp.groupby(['DATE', 'CATEGORY', 'NAME']).agg({ 'QTY_PEOPLE_SERVED': \"count\"})\n",
    "data_temp = data_temp.reset_index()\n",
    "data_temp = data_temp.groupby(['DATE', 'CATEGORY']).agg({ 'NAME': \"count\"})\n",
    "data_temp = data_temp.reset_index()"
   ]
  },
  {
   "cell_type": "code",
   "execution_count": null,
   "id": "4d925fcb",
   "metadata": {},
   "outputs": [],
   "source": [
    "data_temp.head()"
   ]
  },
  {
   "cell_type": "code",
   "execution_count": null,
   "id": "0ea9d217",
   "metadata": {},
   "outputs": [],
   "source": [
    "# TODO \n",
    "# - Check outliers systematically (for each variable mean and std dev to mark points outside the the std dev) For unique giasnosis and served people\n",
    "# - Hospital  per category type\n",
    "# - Cholera, skin damage chicunguya, malaria, sika (look for)\n",
    "# - Understand what have changed in data\n",
    "# - Predict when the Peruvian health system will recover using  individuals served by month \n",
    "# - Croos by gender recovery health system using  individuals served by month \n",
    "# - Check dental diagnosis over years\n",
    "# - Unique diagnosis per category type per year\n",
    "# - How demand patterns change during covid-19\n"
   ]
  },
  {
   "cell_type": "code",
   "execution_count": null,
   "id": "cdece51d",
   "metadata": {},
   "outputs": [],
   "source": [
    "all_data.head()"
   ]
  },
  {
   "cell_type": "code",
   "execution_count": null,
   "id": "fcdd17af",
   "metadata": {},
   "outputs": [],
   "source": [
    "abc  = all_data['DISEASE_GROUP'].unique()\n",
    "abc"
   ]
  },
  {
   "cell_type": "code",
   "execution_count": null,
   "id": "f5090cb0",
   "metadata": {},
   "outputs": [],
   "source": [
    "len(abc)"
   ]
  },
  {
   "cell_type": "code",
   "execution_count": null,
   "id": "180e840f",
   "metadata": {},
   "outputs": [],
   "source": [
    "\n",
    "\n",
    "#https://docs.scipy.org/doc/scipy/reference/generated/scipy.spatial.distance.jensenshannon.html"
   ]
  },
  {
   "cell_type": "code",
   "execution_count": null,
   "id": "30f4d0bc",
   "metadata": {},
   "outputs": [],
   "source": []
  }
 ],
 "metadata": {
  "kernelspec": {
   "display_name": "Python 3 (ipykernel)",
   "language": "python",
   "name": "python3"
  },
  "language_info": {
   "codemirror_mode": {
    "name": "ipython",
    "version": 3
   },
   "file_extension": ".py",
   "mimetype": "text/x-python",
   "name": "python",
   "nbconvert_exporter": "python",
   "pygments_lexer": "ipython3",
   "version": "3.9.7"
  }
 },
 "nbformat": 4,
 "nbformat_minor": 5
}
